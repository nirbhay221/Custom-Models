{
  "nbformat": 4,
  "nbformat_minor": 0,
  "metadata": {
    "colab": {
      "name": "Untitled129.ipynb",
      "provenance": [],
      "collapsed_sections": []
    },
    "kernelspec": {
      "name": "python3",
      "display_name": "Python 3"
    }
  },
  "cells": [
    {
      "cell_type": "code",
      "metadata": {
        "id": "lj3taj2GS212"
      },
      "source": [
        "import tensorflow as tf\r\n",
        "from tensorflow.python.keras.utils.vis_utils import plot_model\r\n",
        "import pydot\r\n",
        "from tensorflow.keras.models import Model"
      ],
      "execution_count": null,
      "outputs": []
    },
    {
      "cell_type": "code",
      "metadata": {
        "id": "pm2QujpAezcJ"
      },
      "source": [
        "def build_model_with_sequential():\r\n",
        "  model = tf.keras.models.Sequential([\r\n",
        "                                      tf.keras.layers.Flatten(input_shape=(28,28)),\r\n",
        "                                      tf.keras.layers.Dense(128,activation=tf.nn.relu),\r\n",
        "                                      tf.keras.layers.Dense(10,activation = tf.nn.softmax)\r\n",
        "  ])\r\n",
        "  return model"
      ],
      "execution_count": null,
      "outputs": []
    },
    {
      "cell_type": "code",
      "metadata": {
        "id": "mw3H6YeigJSF"
      },
      "source": [
        "def build_with_functional():\r\n",
        "  input_layer = tf.keras.layers.Input(shape=(28,28))\r\n",
        "  flatten_layer = tf.keras.layers.Flatten()(input_layer)\r\n",
        "  dense_layer = tf.keras.layers.Dense(128,activation=tf.nn.relu)(flatten_layer)\r\n",
        "  output_layer = tf.keras.layers.Dense(10,activation = tf.nn.softmax)(dense_layer)\r\n",
        "  model = Model(inputs= input_layer,outputs=output_layer)\r\n",
        "  return model"
      ],
      "execution_count": null,
      "outputs": []
    },
    {
      "cell_type": "code",
      "metadata": {
        "colab": {
          "base_uri": "https://localhost:8080/",
          "height": 422
        },
        "id": "jQ2lqUcFhJN5",
        "outputId": "83724318-ad47-4210-ed70-9dad89e2aa70"
      },
      "source": [
        "model = build_with_functional()\r\n",
        "plot_model(model,show_shapes=True,show_layer_names=True,to_file='model.png')"
      ],
      "execution_count": null,
      "outputs": [
        {
          "output_type": "execute_result",
          "data": {
            "image/png": "[encoded data removed]",
            "text/plain": [
              "<IPython.core.display.Image object>"
            ]
          },
          "metadata": {
            "tags": []
          },
          "execution_count": 5
        }
      ]
    },
    {
      "cell_type": "code",
      "metadata": {
        "colab": {
          "base_uri": "https://localhost:8080/"
        },
        "id": "L1KveE_Thlxq",
        "outputId": "eba2ce30-a2d0-4983-fd3f-f98069ed6c2e"
      },
      "source": [
        "mnist = tf.keras.datasets.fashion_mnist\r\n",
        "(x_train,y_train),(x_test,y_test)= mnist.load_data()\r\n",
        "x_train = x_train/255.0\r\n",
        "x_test = x_test/255.0\r\n",
        "model.compile(optimizer= tf.keras.optimizers.Adam(),loss='sparse_categorical_crossentropy',metrics=['accuracy'])\r\n",
        "model.fit(x_train,y_train,epochs=5)\r\n",
        "model.evaluate(x_test,y_test)"
      ],
      "execution_count": null,
      "outputs": [
        {
          "output_type": "stream",
          "text": [
            "Epoch 1/5\n",
            "1875/1875 [==============================] - 4s 2ms/step - loss: 0.6169 - accuracy: 0.7841\n",
            "Epoch 2/5\n",
            "1875/1875 [==============================] - 3s 2ms/step - loss: 0.3812 - accuracy: 0.8635\n",
            "Epoch 3/5\n",
            "1875/1875 [==============================] - 3s 2ms/step - loss: 0.3389 - accuracy: 0.8760\n",
            "Epoch 4/5\n",
            "1875/1875 [==============================] - 3s 2ms/step - loss: 0.3163 - accuracy: 0.8853\n",
            "Epoch 5/5\n",
            "1875/1875 [==============================] - 3s 2ms/step - loss: 0.2940 - accuracy: 0.8912\n",
            "313/313 [==============================] - 0s 1ms/step - loss: 0.3606 - accuracy: 0.8730\n"
          ],
          "name": "stdout"
        },
        {
          "output_type": "execute_result",
          "data": {
            "text/plain": [
              "[0.36059629917144775, 0.8730000257492065]"
            ]
          },
          "metadata": {
            "tags": []
          },
          "execution_count": 6
        }
      ]
    },
    {
      "cell_type": "code",
      "metadata": {
        "id": "_C9lPycQi0O2"
      },
      "source": [
        "import tensorflow as tf\r\n",
        "import numpy as np\r\n",
        "import pandas as pd\r\n",
        "from tensorflow.keras.models import Model\r\n",
        "from tensorflow.keras.layers import Dense,Input\r\n",
        "from sklearn.model_selection import train_test_split"
      ],
      "execution_count": null,
      "outputs": []
    },
    {
      "cell_type": "code",
      "metadata": {
        "id": "35EkchfVk-f8"
      },
      "source": [
        "def format_output(data):\r\n",
        "  y1 = data.pop('Y1')\r\n",
        "  y1 = np.array(y1)\r\n",
        "  y2 = data.pop('Y2')\r\n",
        "  y2= np.array(y2)\r\n",
        "  return y1,y2"
      ],
      "execution_count": null,
      "outputs": []
    },
    {
      "cell_type": "code",
      "metadata": {
        "id": "5xKoZWKvlPRK"
      },
      "source": [
        "def norm(x):\r\n",
        "  return (x-train_stats['mean'])/train_stats['std']"
      ],
      "execution_count": null,
      "outputs": []
    },
    {
      "cell_type": "code",
      "metadata": {
        "id": "f-5L-3Q2leX7"
      },
      "source": [
        "def plot_diff(y_true,y_pred,title=''):\r\n",
        "  plt.scatter(y_true,y_pred)\r\n",
        "  plt.title(title)\r\n",
        "  plt.xlabel('True Values')\r\n",
        "  plt.ylabel('Predictions')\r\n",
        "  plt.axis('equal')\r\n",
        "  plt.axis('square')\r\n",
        "  plt.xlim(plt.xlim())\r\n",
        "  plt.ylim(plt.ylim())\r\n",
        "  plt.plot([-100,100],[-100,100])\r\n",
        "  plt.show()"
      ],
      "execution_count": null,
      "outputs": []
    },
    {
      "cell_type": "code",
      "metadata": {
        "id": "C2kUZjMnndhy"
      },
      "source": [
        "def plot_metrics(metrics_name,title,ylim=5):\r\n",
        "  plt.plot(history.history[metrics_name],color='blue',label = metrics_name)\r\n",
        "  plt.plot(history.history['val_'+metrics_name],color='red',label='val_'+metrics_name)\r\n",
        "  plt.show()"
      ],
      "execution_count": null,
      "outputs": []
    },
    {
      "cell_type": "code",
      "metadata": {
        "colab": {
          "base_uri": "https://localhost:8080/",
          "height": 204
        },
        "id": "aQeJLNGMtHzm",
        "outputId": "fd1f9b80-ccd8-4bd4-d2ba-f6f6c0737522"
      },
      "source": [
        "url ='https://archive.ics.uci.edu/ml/machine-learning-databases/00242/ENB2012_data.xlsx'\r\n",
        "df = pd.read_excel(url)\r\n",
        "df.head()"
      ],
      "execution_count": null,
      "outputs": [
        {
          "output_type": "execute_result",
          "data": {
            "text/html": [
              "<div>\n",
              "<style scoped>\n",
              "    .dataframe tbody tr th:only-of-type {\n",
              "        vertical-align: middle;\n",
              "    }\n",
              "\n",
              "    .dataframe tbody tr th {\n",
              "        vertical-align: top;\n",
              "    }\n",
              "\n",
              "    .dataframe thead th {\n",
              "        text-align: right;\n",
              "    }\n",
              "</style>\n",
              "<table border=\"1\" class=\"dataframe\">\n",
              "  <thead>\n",
              "    <tr style=\"text-align: right;\">\n",
              "      <th></th>\n",
              "      <th>X1</th>\n",
              "      <th>X2</th>\n",
              "      <th>X3</th>\n",
              "      <th>X4</th>\n",
              "      <th>X5</th>\n",
              "      <th>X6</th>\n",
              "      <th>X7</th>\n",
              "      <th>X8</th>\n",
              "      <th>Y1</th>\n",
              "      <th>Y2</th>\n",
              "    </tr>\n",
              "  </thead>\n",
              "  <tbody>\n",
              "    <tr>\n",
              "      <th>0</th>\n",
              "      <td>0.98</td>\n",
              "      <td>514.5</td>\n",
              "      <td>294.0</td>\n",
              "      <td>110.25</td>\n",
              "      <td>7.0</td>\n",
              "      <td>2</td>\n",
              "      <td>0.0</td>\n",
              "      <td>0</td>\n",
              "      <td>15.55</td>\n",
              "      <td>21.33</td>\n",
              "    </tr>\n",
              "    <tr>\n",
              "      <th>1</th>\n",
              "      <td>0.98</td>\n",
              "      <td>514.5</td>\n",
              "      <td>294.0</td>\n",
              "      <td>110.25</td>\n",
              "      <td>7.0</td>\n",
              "      <td>3</td>\n",
              "      <td>0.0</td>\n",
              "      <td>0</td>\n",
              "      <td>15.55</td>\n",
              "      <td>21.33</td>\n",
              "    </tr>\n",
              "    <tr>\n",
              "      <th>2</th>\n",
              "      <td>0.98</td>\n",
              "      <td>514.5</td>\n",
              "      <td>294.0</td>\n",
              "      <td>110.25</td>\n",
              "      <td>7.0</td>\n",
              "      <td>4</td>\n",
              "      <td>0.0</td>\n",
              "      <td>0</td>\n",
              "      <td>15.55</td>\n",
              "      <td>21.33</td>\n",
              "    </tr>\n",
              "    <tr>\n",
              "      <th>3</th>\n",
              "      <td>0.98</td>\n",
              "      <td>514.5</td>\n",
              "      <td>294.0</td>\n",
              "      <td>110.25</td>\n",
              "      <td>7.0</td>\n",
              "      <td>5</td>\n",
              "      <td>0.0</td>\n",
              "      <td>0</td>\n",
              "      <td>15.55</td>\n",
              "      <td>21.33</td>\n",
              "    </tr>\n",
              "    <tr>\n",
              "      <th>4</th>\n",
              "      <td>0.90</td>\n",
              "      <td>563.5</td>\n",
              "      <td>318.5</td>\n",
              "      <td>122.50</td>\n",
              "      <td>7.0</td>\n",
              "      <td>2</td>\n",
              "      <td>0.0</td>\n",
              "      <td>0</td>\n",
              "      <td>20.84</td>\n",
              "      <td>28.28</td>\n",
              "    </tr>\n",
              "  </tbody>\n",
              "</table>\n",
              "</div>"
            ],
            "text/plain": [
              "     X1     X2     X3      X4   X5  X6   X7  X8     Y1     Y2\n",
              "0  0.98  514.5  294.0  110.25  7.0   2  0.0   0  15.55  21.33\n",
              "1  0.98  514.5  294.0  110.25  7.0   3  0.0   0  15.55  21.33\n",
              "2  0.98  514.5  294.0  110.25  7.0   4  0.0   0  15.55  21.33\n",
              "3  0.98  514.5  294.0  110.25  7.0   5  0.0   0  15.55  21.33\n",
              "4  0.90  563.5  318.5  122.50  7.0   2  0.0   0  20.84  28.28"
            ]
          },
          "metadata": {
            "tags": []
          },
          "execution_count": 12
        }
      ]
    },
    {
      "cell_type": "code",
      "metadata": {
        "id": "7UmCDwCxtP0w"
      },
      "source": [
        "df =df.sample(frac=1).reset_index(drop=True)\r\n",
        "train,test = train_test_split(df,test_size=0.2)\r\n",
        "train_stats = train.describe()\r\n",
        "train_stats.pop('Y1')\r\n",
        "train_stats.pop('Y2')\r\n",
        "train_stats = train_stats.transpose()\r\n",
        "train_y= format_output(train)\r\n",
        "test_y = format_output(test)\r\n",
        "norm_train_x = norm(train)\r\n",
        "norm_test_x =norm(test)"
      ],
      "execution_count": null,
      "outputs": []
    },
    {
      "cell_type": "code",
      "metadata": {
        "id": "ZS0pqJRUuKHf"
      },
      "source": [
        "input_layer = Input(shape=(len(train.columns),))\r\n",
        "dense_layer= Dense(units='128',activation='relu')(input_layer)\r\n",
        "dense2_layer =Dense(units='128',activation='relu')(dense_layer)\r\n",
        "y1_output = Dense(units='1',name='y1_output')(dense2_layer)\r\n",
        "dense3_layer = Dense(units='64',activation='relu')(dense2_layer)\r\n",
        "y2_output = Dense(units='1',name='y2_output')(dense3_layer)\r\n",
        "model =Model(inputs=input_layer,outputs=[y1_output,y2_output])"
      ],
      "execution_count": null,
      "outputs": []
    },
    {
      "cell_type": "code",
      "metadata": {
        "colab": {
          "base_uri": "https://localhost:8080/"
        },
        "id": "9042se4jwpSa",
        "outputId": "2b3ab3c0-8ea0-4111-c999-d3693094db05"
      },
      "source": [
        "model.summary()"
      ],
      "execution_count": null,
      "outputs": [
        {
          "output_type": "stream",
          "text": [
            "Model: \"model_1\"\n",
            "__________________________________________________________________________________________________\n",
            "Layer (type)                    Output Shape         Param #     Connected to                     \n",
            "==================================================================================================\n",
            "input_2 (InputLayer)            [(None, 8)]          0                                            \n",
            "__________________________________________________________________________________________________\n",
            "dense_2 (Dense)                 (None, 128)          1152        input_2[0][0]                    \n",
            "__________________________________________________________________________________________________\n",
            "dense_3 (Dense)                 (None, 128)          16512       dense_2[0][0]                    \n",
            "__________________________________________________________________________________________________\n",
            "dense_4 (Dense)                 (None, 64)           8256        dense_3[0][0]                    \n",
            "__________________________________________________________________________________________________\n",
            "y1_output (Dense)               (None, 1)            129         dense_3[0][0]                    \n",
            "__________________________________________________________________________________________________\n",
            "y2_output (Dense)               (None, 1)            65          dense_4[0][0]                    \n",
            "==================================================================================================\n",
            "Total params: 26,114\n",
            "Trainable params: 26,114\n",
            "Non-trainable params: 0\n",
            "__________________________________________________________________________________________________\n"
          ],
          "name": "stdout"
        }
      ]
    },
    {
      "cell_type": "code",
      "metadata": {
        "id": "UqjCref8wr9a"
      },
      "source": [
        "optimizer= tf.keras.optimizers.SGD(lr=0.001)\r\n",
        "model.compile(optimizer=optimizer,loss={'y1_output':'mse','y2_output':'mse'},metrics={'y1_output':tf.keras.metrics.RootMeanSquaredError(),'y2_output':tf.keras.metrics.RootMeanSquaredError()})"
      ],
      "execution_count": null,
      "outputs": []
    },
    {
      "cell_type": "code",
      "metadata": {
        "colab": {
          "base_uri": "https://localhost:8080/"
        },
        "id": "AgXe0TYaxRjY",
        "outputId": "cc23d041-40b4-4b77-c473-b35bc416407a"
      },
      "source": [
        "history = model.fit(norm_train_x,train_y,epochs=500,batch_size=10,validation_data=(norm_test_x,test_y))"
      ],
      "execution_count": null,
      "outputs": [
        {
          "output_type": "stream",
          "text": [
            "Epoch 1/500\n",
            "62/62 [==============================] - 1s 8ms/step - loss: 498.2244 - y1_output_loss: 243.1326 - y2_output_loss: 255.0918 - y1_output_root_mean_squared_error: 15.0509 - y2_output_root_mean_squared_error: 15.3792 - val_loss: 32.7091 - val_y1_output_loss: 12.6582 - val_y2_output_loss: 20.0510 - val_y1_output_root_mean_squared_error: 3.5578 - val_y2_output_root_mean_squared_error: 4.4778\n",
            "Epoch 2/500\n",
            "62/62 [==============================] - 0s 2ms/step - loss: 36.9436 - y1_output_loss: 14.8373 - y2_output_loss: 22.1063 - y1_output_root_mean_squared_error: 3.8446 - y2_output_root_mean_squared_error: 4.6867 - val_loss: 25.5304 - val_y1_output_loss: 10.0666 - val_y2_output_loss: 15.4639 - val_y1_output_root_mean_squared_error: 3.1728 - val_y2_output_root_mean_squared_error: 3.9324\n",
            "Epoch 3/500\n",
            "62/62 [==============================] - 0s 2ms/step - loss: 27.8220 - y1_output_loss: 10.8665 - y2_output_loss: 16.9555 - y1_output_root_mean_squared_error: 3.2934 - y2_output_root_mean_squared_error: 4.1081 - val_loss: 26.2320 - val_y1_output_loss: 10.9495 - val_y2_output_loss: 15.2825 - val_y1_output_root_mean_squared_error: 3.3090 - val_y2_output_root_mean_squared_error: 3.9093\n",
            "Epoch 4/500\n",
            "62/62 [==============================] - 0s 2ms/step - loss: 22.3025 - y1_output_loss: 9.1267 - y2_output_loss: 13.1757 - y1_output_root_mean_squared_error: 3.0115 - y2_output_root_mean_squared_error: 3.6193 - val_loss: 23.6770 - val_y1_output_loss: 7.1222 - val_y2_output_loss: 16.5548 - val_y1_output_root_mean_squared_error: 2.6688 - val_y2_output_root_mean_squared_error: 4.0688\n",
            "Epoch 5/500\n",
            "62/62 [==============================] - 0s 2ms/step - loss: 25.2212 - y1_output_loss: 9.4752 - y2_output_loss: 15.7460 - y1_output_root_mean_squared_error: 3.0755 - y2_output_root_mean_squared_error: 3.9546 - val_loss: 20.7287 - val_y1_output_loss: 8.6831 - val_y2_output_loss: 12.0456 - val_y1_output_root_mean_squared_error: 2.9467 - val_y2_output_root_mean_squared_error: 3.4707\n",
            "Epoch 6/500\n",
            "62/62 [==============================] - 0s 2ms/step - loss: 23.2374 - y1_output_loss: 9.3487 - y2_output_loss: 13.8886 - y1_output_root_mean_squared_error: 3.0459 - y2_output_root_mean_squared_error: 3.7217 - val_loss: 22.2082 - val_y1_output_loss: 7.3822 - val_y2_output_loss: 14.8261 - val_y1_output_root_mean_squared_error: 2.7170 - val_y2_output_root_mean_squared_error: 3.8505\n",
            "Epoch 7/500\n",
            "62/62 [==============================] - 0s 2ms/step - loss: 21.9224 - y1_output_loss: 9.0002 - y2_output_loss: 12.9222 - y1_output_root_mean_squared_error: 2.9963 - y2_output_root_mean_squared_error: 3.5857 - val_loss: 33.2536 - val_y1_output_loss: 9.8311 - val_y2_output_loss: 23.4226 - val_y1_output_root_mean_squared_error: 3.1355 - val_y2_output_root_mean_squared_error: 4.8397\n",
            "Epoch 8/500\n",
            "62/62 [==============================] - 0s 4ms/step - loss: 26.1663 - y1_output_loss: 9.5740 - y2_output_loss: 16.5923 - y1_output_root_mean_squared_error: 3.0879 - y2_output_root_mean_squared_error: 4.0513 - val_loss: 17.2801 - val_y1_output_loss: 7.7621 - val_y2_output_loss: 9.5179 - val_y1_output_root_mean_squared_error: 2.7861 - val_y2_output_root_mean_squared_error: 3.0851\n",
            "Epoch 9/500\n",
            "62/62 [==============================] - 0s 2ms/step - loss: 20.9697 - y1_output_loss: 7.8697 - y2_output_loss: 13.1001 - y1_output_root_mean_squared_error: 2.8035 - y2_output_root_mean_squared_error: 3.6055 - val_loss: 51.2044 - val_y1_output_loss: 10.8047 - val_y2_output_loss: 40.3997 - val_y1_output_root_mean_squared_error: 3.2871 - val_y2_output_root_mean_squared_error: 6.3561\n",
            "Epoch 10/500\n",
            "62/62 [==============================] - 0s 2ms/step - loss: 30.9656 - y1_output_loss: 9.6353 - y2_output_loss: 21.3302 - y1_output_root_mean_squared_error: 3.0827 - y2_output_root_mean_squared_error: 4.4712 - val_loss: 48.7988 - val_y1_output_loss: 9.5085 - val_y2_output_loss: 39.2902 - val_y1_output_root_mean_squared_error: 3.0836 - val_y2_output_root_mean_squared_error: 6.2682\n",
            "Epoch 11/500\n",
            "62/62 [==============================] - 0s 2ms/step - loss: 25.0762 - y1_output_loss: 9.5862 - y2_output_loss: 15.4900 - y1_output_root_mean_squared_error: 3.0887 - y2_output_root_mean_squared_error: 3.9280 - val_loss: 17.1250 - val_y1_output_loss: 7.0686 - val_y2_output_loss: 10.0564 - val_y1_output_root_mean_squared_error: 2.6587 - val_y2_output_root_mean_squared_error: 3.1712\n",
            "Epoch 12/500\n",
            "62/62 [==============================] - 0s 2ms/step - loss: 19.9877 - y1_output_loss: 7.5553 - y2_output_loss: 12.4324 - y1_output_root_mean_squared_error: 2.7271 - y2_output_root_mean_squared_error: 3.4952 - val_loss: 16.9422 - val_y1_output_loss: 7.3029 - val_y2_output_loss: 9.6393 - val_y1_output_root_mean_squared_error: 2.7024 - val_y2_output_root_mean_squared_error: 3.1047\n",
            "Epoch 13/500\n",
            "62/62 [==============================] - 0s 2ms/step - loss: 20.8767 - y1_output_loss: 7.9600 - y2_output_loss: 12.9167 - y1_output_root_mean_squared_error: 2.8194 - y2_output_root_mean_squared_error: 3.5900 - val_loss: 43.4078 - val_y1_output_loss: 9.7937 - val_y2_output_loss: 33.6141 - val_y1_output_root_mean_squared_error: 3.1295 - val_y2_output_root_mean_squared_error: 5.7978\n",
            "Epoch 14/500\n",
            "62/62 [==============================] - 0s 2ms/step - loss: 28.8446 - y1_output_loss: 8.6810 - y2_output_loss: 20.1636 - y1_output_root_mean_squared_error: 2.9447 - y2_output_root_mean_squared_error: 4.4713 - val_loss: 26.9700 - val_y1_output_loss: 10.1845 - val_y2_output_loss: 16.7856 - val_y1_output_root_mean_squared_error: 3.1913 - val_y2_output_root_mean_squared_error: 4.0970\n",
            "Epoch 15/500\n",
            "62/62 [==============================] - 0s 2ms/step - loss: 17.6536 - y1_output_loss: 7.2201 - y2_output_loss: 10.4335 - y1_output_root_mean_squared_error: 2.6826 - y2_output_root_mean_squared_error: 3.2225 - val_loss: 17.3802 - val_y1_output_loss: 5.7263 - val_y2_output_loss: 11.6539 - val_y1_output_root_mean_squared_error: 2.3930 - val_y2_output_root_mean_squared_error: 3.4138\n",
            "Epoch 16/500\n",
            "62/62 [==============================] - 0s 2ms/step - loss: 18.3258 - y1_output_loss: 6.8708 - y2_output_loss: 11.4550 - y1_output_root_mean_squared_error: 2.6170 - y2_output_root_mean_squared_error: 3.3780 - val_loss: 32.9264 - val_y1_output_loss: 8.7429 - val_y2_output_loss: 24.1835 - val_y1_output_root_mean_squared_error: 2.9568 - val_y2_output_root_mean_squared_error: 4.9177\n",
            "Epoch 17/500\n",
            "62/62 [==============================] - 0s 2ms/step - loss: 15.3533 - y1_output_loss: 6.5925 - y2_output_loss: 8.7609 - y1_output_root_mean_squared_error: 2.5661 - y2_output_root_mean_squared_error: 2.9521 - val_loss: 12.5857 - val_y1_output_loss: 4.9846 - val_y2_output_loss: 7.6011 - val_y1_output_root_mean_squared_error: 2.2326 - val_y2_output_root_mean_squared_error: 2.7570\n",
            "Epoch 18/500\n",
            "62/62 [==============================] - 0s 2ms/step - loss: 13.4398 - y1_output_loss: 5.3966 - y2_output_loss: 8.0432 - y1_output_root_mean_squared_error: 2.3092 - y2_output_root_mean_squared_error: 2.8129 - val_loss: 26.7854 - val_y1_output_loss: 7.5324 - val_y2_output_loss: 19.2531 - val_y1_output_root_mean_squared_error: 2.7445 - val_y2_output_root_mean_squared_error: 4.3878\n",
            "Epoch 19/500\n",
            "62/62 [==============================] - 0s 2ms/step - loss: 14.7721 - y1_output_loss: 6.3311 - y2_output_loss: 8.4410 - y1_output_root_mean_squared_error: 2.5128 - y2_output_root_mean_squared_error: 2.8938 - val_loss: 13.0643 - val_y1_output_loss: 5.7726 - val_y2_output_loss: 7.2917 - val_y1_output_root_mean_squared_error: 2.4026 - val_y2_output_root_mean_squared_error: 2.7003\n",
            "Epoch 20/500\n",
            "62/62 [==============================] - 0s 2ms/step - loss: 13.5119 - y1_output_loss: 5.4154 - y2_output_loss: 8.0964 - y1_output_root_mean_squared_error: 2.3261 - y2_output_root_mean_squared_error: 2.8419 - val_loss: 11.1621 - val_y1_output_loss: 4.3691 - val_y2_output_loss: 6.7930 - val_y1_output_root_mean_squared_error: 2.0902 - val_y2_output_root_mean_squared_error: 2.6063\n",
            "Epoch 21/500\n",
            "62/62 [==============================] - 0s 2ms/step - loss: 20.3990 - y1_output_loss: 7.0752 - y2_output_loss: 13.3239 - y1_output_root_mean_squared_error: 2.6530 - y2_output_root_mean_squared_error: 3.6018 - val_loss: 21.4246 - val_y1_output_loss: 5.7562 - val_y2_output_loss: 15.6683 - val_y1_output_root_mean_squared_error: 2.3992 - val_y2_output_root_mean_squared_error: 3.9583\n",
            "Epoch 22/500\n",
            "62/62 [==============================] - 0s 2ms/step - loss: 13.3306 - y1_output_loss: 5.1233 - y2_output_loss: 8.2073 - y1_output_root_mean_squared_error: 2.2608 - y2_output_root_mean_squared_error: 2.8607 - val_loss: 17.1302 - val_y1_output_loss: 5.8155 - val_y2_output_loss: 11.3148 - val_y1_output_root_mean_squared_error: 2.4115 - val_y2_output_root_mean_squared_error: 3.3637\n",
            "Epoch 23/500\n",
            "62/62 [==============================] - 0s 2ms/step - loss: 15.5831 - y1_output_loss: 6.3201 - y2_output_loss: 9.2630 - y1_output_root_mean_squared_error: 2.5030 - y2_output_root_mean_squared_error: 3.0370 - val_loss: 22.9026 - val_y1_output_loss: 5.4289 - val_y2_output_loss: 17.4736 - val_y1_output_root_mean_squared_error: 2.3300 - val_y2_output_root_mean_squared_error: 4.1801\n",
            "Epoch 24/500\n",
            "62/62 [==============================] - 0s 2ms/step - loss: 14.7202 - y1_output_loss: 5.1218 - y2_output_loss: 9.5984 - y1_output_root_mean_squared_error: 2.2606 - y2_output_root_mean_squared_error: 3.0886 - val_loss: 9.9709 - val_y1_output_loss: 3.9767 - val_y2_output_loss: 5.9942 - val_y1_output_root_mean_squared_error: 1.9942 - val_y2_output_root_mean_squared_error: 2.4483\n",
            "Epoch 25/500\n",
            "62/62 [==============================] - 0s 2ms/step - loss: 11.1515 - y1_output_loss: 4.1316 - y2_output_loss: 7.0199 - y1_output_root_mean_squared_error: 2.0293 - y2_output_root_mean_squared_error: 2.6398 - val_loss: 10.3655 - val_y1_output_loss: 3.6337 - val_y2_output_loss: 6.7318 - val_y1_output_root_mean_squared_error: 1.9062 - val_y2_output_root_mean_squared_error: 2.5946\n",
            "Epoch 26/500\n",
            "62/62 [==============================] - 0s 2ms/step - loss: 10.9960 - y1_output_loss: 4.2537 - y2_output_loss: 6.7424 - y1_output_root_mean_squared_error: 2.0614 - y2_output_root_mean_squared_error: 2.5916 - val_loss: 10.1477 - val_y1_output_loss: 3.4752 - val_y2_output_loss: 6.6726 - val_y1_output_root_mean_squared_error: 1.8642 - val_y2_output_root_mean_squared_error: 2.5831\n",
            "Epoch 27/500\n",
            "62/62 [==============================] - 0s 2ms/step - loss: 12.3668 - y1_output_loss: 4.2694 - y2_output_loss: 8.0974 - y1_output_root_mean_squared_error: 2.0496 - y2_output_root_mean_squared_error: 2.8236 - val_loss: 13.1542 - val_y1_output_loss: 4.0120 - val_y2_output_loss: 9.1421 - val_y1_output_root_mean_squared_error: 2.0030 - val_y2_output_root_mean_squared_error: 3.0236\n",
            "Epoch 28/500\n",
            "62/62 [==============================] - 0s 2ms/step - loss: 13.9001 - y1_output_loss: 4.5451 - y2_output_loss: 9.3549 - y1_output_root_mean_squared_error: 2.1253 - y2_output_root_mean_squared_error: 3.0462 - val_loss: 15.4053 - val_y1_output_loss: 4.3056 - val_y2_output_loss: 11.0997 - val_y1_output_root_mean_squared_error: 2.0750 - val_y2_output_root_mean_squared_error: 3.3316\n",
            "Epoch 29/500\n",
            "62/62 [==============================] - 0s 2ms/step - loss: 10.9052 - y1_output_loss: 3.9442 - y2_output_loss: 6.9610 - y1_output_root_mean_squared_error: 1.9842 - y2_output_root_mean_squared_error: 2.6332 - val_loss: 8.3385 - val_y1_output_loss: 3.3321 - val_y2_output_loss: 5.0064 - val_y1_output_root_mean_squared_error: 1.8254 - val_y2_output_root_mean_squared_error: 2.2375\n",
            "Epoch 30/500\n",
            "62/62 [==============================] - 0s 2ms/step - loss: 10.9222 - y1_output_loss: 4.2510 - y2_output_loss: 6.6711 - y1_output_root_mean_squared_error: 2.0576 - y2_output_root_mean_squared_error: 2.5796 - val_loss: 9.0258 - val_y1_output_loss: 3.2361 - val_y2_output_loss: 5.7898 - val_y1_output_root_mean_squared_error: 1.7989 - val_y2_output_root_mean_squared_error: 2.4062\n",
            "Epoch 31/500\n",
            "62/62 [==============================] - 0s 2ms/step - loss: 9.7044 - y1_output_loss: 3.6097 - y2_output_loss: 6.0947 - y1_output_root_mean_squared_error: 1.8952 - y2_output_root_mean_squared_error: 2.4564 - val_loss: 7.6778 - val_y1_output_loss: 2.9738 - val_y2_output_loss: 4.7040 - val_y1_output_root_mean_squared_error: 1.7245 - val_y2_output_root_mean_squared_error: 2.1689\n",
            "Epoch 32/500\n",
            "62/62 [==============================] - 0s 2ms/step - loss: 11.1684 - y1_output_loss: 3.7197 - y2_output_loss: 7.4487 - y1_output_root_mean_squared_error: 1.9255 - y2_output_root_mean_squared_error: 2.7237 - val_loss: 8.3702 - val_y1_output_loss: 3.1706 - val_y2_output_loss: 5.1997 - val_y1_output_root_mean_squared_error: 1.7806 - val_y2_output_root_mean_squared_error: 2.2803\n",
            "Epoch 33/500\n",
            "62/62 [==============================] - 0s 2ms/step - loss: 8.3543 - y1_output_loss: 3.3451 - y2_output_loss: 5.0092 - y1_output_root_mean_squared_error: 1.8284 - y2_output_root_mean_squared_error: 2.2243 - val_loss: 7.6167 - val_y1_output_loss: 2.8944 - val_y2_output_loss: 4.7223 - val_y1_output_root_mean_squared_error: 1.7013 - val_y2_output_root_mean_squared_error: 2.1731\n",
            "Epoch 34/500\n",
            "62/62 [==============================] - 0s 2ms/step - loss: 10.7973 - y1_output_loss: 3.3129 - y2_output_loss: 7.4844 - y1_output_root_mean_squared_error: 1.8116 - y2_output_root_mean_squared_error: 2.7302 - val_loss: 10.6177 - val_y1_output_loss: 3.0234 - val_y2_output_loss: 7.5944 - val_y1_output_root_mean_squared_error: 1.7388 - val_y2_output_root_mean_squared_error: 2.7558\n",
            "Epoch 35/500\n",
            "62/62 [==============================] - 0s 2ms/step - loss: 8.0652 - y1_output_loss: 2.9599 - y2_output_loss: 5.1053 - y1_output_root_mean_squared_error: 1.7181 - y2_output_root_mean_squared_error: 2.2575 - val_loss: 7.6639 - val_y1_output_loss: 2.3824 - val_y2_output_loss: 5.2815 - val_y1_output_root_mean_squared_error: 1.5435 - val_y2_output_root_mean_squared_error: 2.2982\n",
            "Epoch 36/500\n",
            "62/62 [==============================] - 0s 2ms/step - loss: 9.6694 - y1_output_loss: 3.2741 - y2_output_loss: 6.3952 - y1_output_root_mean_squared_error: 1.8077 - y2_output_root_mean_squared_error: 2.5237 - val_loss: 29.1781 - val_y1_output_loss: 5.8659 - val_y2_output_loss: 23.3121 - val_y1_output_root_mean_squared_error: 2.4220 - val_y2_output_root_mean_squared_error: 4.8283\n",
            "Epoch 37/500\n",
            "62/62 [==============================] - 0s 2ms/step - loss: 9.1672 - y1_output_loss: 3.5785 - y2_output_loss: 5.5887 - y1_output_root_mean_squared_error: 1.8620 - y2_output_root_mean_squared_error: 2.3566 - val_loss: 6.3029 - val_y1_output_loss: 2.5103 - val_y2_output_loss: 3.7925 - val_y1_output_root_mean_squared_error: 1.5844 - val_y2_output_root_mean_squared_error: 1.9474\n",
            "Epoch 38/500\n",
            "62/62 [==============================] - 0s 2ms/step - loss: 8.9679 - y1_output_loss: 3.3988 - y2_output_loss: 5.5691 - y1_output_root_mean_squared_error: 1.8416 - y2_output_root_mean_squared_error: 2.3569 - val_loss: 6.9972 - val_y1_output_loss: 2.4399 - val_y2_output_loss: 4.5573 - val_y1_output_root_mean_squared_error: 1.5620 - val_y2_output_root_mean_squared_error: 2.1348\n",
            "Epoch 39/500\n",
            "62/62 [==============================] - 0s 2ms/step - loss: 10.0396 - y1_output_loss: 3.5166 - y2_output_loss: 6.5230 - y1_output_root_mean_squared_error: 1.8720 - y2_output_root_mean_squared_error: 2.5453 - val_loss: 19.5639 - val_y1_output_loss: 5.1283 - val_y2_output_loss: 14.4356 - val_y1_output_root_mean_squared_error: 2.2646 - val_y2_output_root_mean_squared_error: 3.7994\n",
            "Epoch 40/500\n",
            "62/62 [==============================] - 0s 2ms/step - loss: 11.0831 - y1_output_loss: 3.1402 - y2_output_loss: 7.9429 - y1_output_root_mean_squared_error: 1.7636 - y2_output_root_mean_squared_error: 2.7709 - val_loss: 7.0340 - val_y1_output_loss: 3.1079 - val_y2_output_loss: 3.9260 - val_y1_output_root_mean_squared_error: 1.7629 - val_y2_output_root_mean_squared_error: 1.9814\n",
            "Epoch 41/500\n",
            "62/62 [==============================] - 0s 2ms/step - loss: 8.1898 - y1_output_loss: 2.9470 - y2_output_loss: 5.2428 - y1_output_root_mean_squared_error: 1.7139 - y2_output_root_mean_squared_error: 2.2843 - val_loss: 6.2983 - val_y1_output_loss: 2.0997 - val_y2_output_loss: 4.1987 - val_y1_output_root_mean_squared_error: 1.4490 - val_y2_output_root_mean_squared_error: 2.0491\n",
            "Epoch 42/500\n",
            "62/62 [==============================] - 0s 2ms/step - loss: 6.1252 - y1_output_loss: 2.1215 - y2_output_loss: 4.0036 - y1_output_root_mean_squared_error: 1.4507 - y2_output_root_mean_squared_error: 1.9876 - val_loss: 10.1299 - val_y1_output_loss: 3.1276 - val_y2_output_loss: 7.0023 - val_y1_output_root_mean_squared_error: 1.7685 - val_y2_output_root_mean_squared_error: 2.6462\n",
            "Epoch 43/500\n",
            "62/62 [==============================] - 0s 2ms/step - loss: 7.9122 - y1_output_loss: 2.5398 - y2_output_loss: 5.3724 - y1_output_root_mean_squared_error: 1.5900 - y2_output_root_mean_squared_error: 2.3161 - val_loss: 11.3026 - val_y1_output_loss: 3.1705 - val_y2_output_loss: 8.1321 - val_y1_output_root_mean_squared_error: 1.7806 - val_y2_output_root_mean_squared_error: 2.8517\n",
            "Epoch 44/500\n",
            "62/62 [==============================] - 0s 2ms/step - loss: 6.3918 - y1_output_loss: 2.0205 - y2_output_loss: 4.3713 - y1_output_root_mean_squared_error: 1.4175 - y2_output_root_mean_squared_error: 2.0881 - val_loss: 5.3198 - val_y1_output_loss: 1.8818 - val_y2_output_loss: 3.4380 - val_y1_output_root_mean_squared_error: 1.3718 - val_y2_output_root_mean_squared_error: 1.8542\n",
            "Epoch 45/500\n",
            "62/62 [==============================] - 0s 2ms/step - loss: 10.8808 - y1_output_loss: 3.5439 - y2_output_loss: 7.3370 - y1_output_root_mean_squared_error: 1.8732 - y2_output_root_mean_squared_error: 2.7013 - val_loss: 9.7044 - val_y1_output_loss: 3.5158 - val_y2_output_loss: 6.1886 - val_y1_output_root_mean_squared_error: 1.8750 - val_y2_output_root_mean_squared_error: 2.4877\n",
            "Epoch 46/500\n",
            "62/62 [==============================] - 0s 2ms/step - loss: 7.9209 - y1_output_loss: 2.3842 - y2_output_loss: 5.5367 - y1_output_root_mean_squared_error: 1.5410 - y2_output_root_mean_squared_error: 2.3486 - val_loss: 6.1590 - val_y1_output_loss: 2.2873 - val_y2_output_loss: 3.8718 - val_y1_output_root_mean_squared_error: 1.5124 - val_y2_output_root_mean_squared_error: 1.9677\n",
            "Epoch 47/500\n",
            "62/62 [==============================] - 0s 2ms/step - loss: 7.3464 - y1_output_loss: 2.3517 - y2_output_loss: 4.9947 - y1_output_root_mean_squared_error: 1.5309 - y2_output_root_mean_squared_error: 2.2289 - val_loss: 17.2873 - val_y1_output_loss: 4.3684 - val_y2_output_loss: 12.9189 - val_y1_output_root_mean_squared_error: 2.0901 - val_y2_output_root_mean_squared_error: 3.5943\n",
            "Epoch 48/500\n",
            "62/62 [==============================] - 0s 2ms/step - loss: 8.7556 - y1_output_loss: 2.9516 - y2_output_loss: 5.8040 - y1_output_root_mean_squared_error: 1.6898 - y2_output_root_mean_squared_error: 2.3889 - val_loss: 6.2858 - val_y1_output_loss: 2.0710 - val_y2_output_loss: 4.2148 - val_y1_output_root_mean_squared_error: 1.4391 - val_y2_output_root_mean_squared_error: 2.0530\n",
            "Epoch 49/500\n",
            "62/62 [==============================] - 0s 2ms/step - loss: 6.5023 - y1_output_loss: 2.2307 - y2_output_loss: 4.2716 - y1_output_root_mean_squared_error: 1.4893 - y2_output_root_mean_squared_error: 2.0588 - val_loss: 5.4677 - val_y1_output_loss: 1.7092 - val_y2_output_loss: 3.7585 - val_y1_output_root_mean_squared_error: 1.3074 - val_y2_output_root_mean_squared_error: 1.9387\n",
            "Epoch 50/500\n",
            "62/62 [==============================] - 0s 2ms/step - loss: 5.8885 - y1_output_loss: 2.0656 - y2_output_loss: 3.8229 - y1_output_root_mean_squared_error: 1.4297 - y2_output_root_mean_squared_error: 1.9379 - val_loss: 6.9110 - val_y1_output_loss: 2.6522 - val_y2_output_loss: 4.2588 - val_y1_output_root_mean_squared_error: 1.6286 - val_y2_output_root_mean_squared_error: 2.0637\n",
            "Epoch 51/500\n",
            "62/62 [==============================] - 0s 2ms/step - loss: 10.7791 - y1_output_loss: 2.7920 - y2_output_loss: 7.9871 - y1_output_root_mean_squared_error: 1.6596 - y2_output_root_mean_squared_error: 2.7789 - val_loss: 5.6136 - val_y1_output_loss: 1.9425 - val_y2_output_loss: 3.6710 - val_y1_output_root_mean_squared_error: 1.3938 - val_y2_output_root_mean_squared_error: 1.9160\n",
            "Epoch 52/500\n",
            "62/62 [==============================] - 0s 4ms/step - loss: 5.5881 - y1_output_loss: 1.8206 - y2_output_loss: 3.7675 - y1_output_root_mean_squared_error: 1.3469 - y2_output_root_mean_squared_error: 1.9262 - val_loss: 5.7632 - val_y1_output_loss: 2.1393 - val_y2_output_loss: 3.6239 - val_y1_output_root_mean_squared_error: 1.4626 - val_y2_output_root_mean_squared_error: 1.9036\n",
            "Epoch 53/500\n",
            "62/62 [==============================] - 0s 2ms/step - loss: 7.4178 - y1_output_loss: 2.6020 - y2_output_loss: 4.8158 - y1_output_root_mean_squared_error: 1.6018 - y2_output_root_mean_squared_error: 2.1660 - val_loss: 6.4227 - val_y1_output_loss: 1.7480 - val_y2_output_loss: 4.6747 - val_y1_output_root_mean_squared_error: 1.3221 - val_y2_output_root_mean_squared_error: 2.1621\n",
            "Epoch 54/500\n",
            "62/62 [==============================] - 0s 2ms/step - loss: 5.7501 - y1_output_loss: 1.9942 - y2_output_loss: 3.7560 - y1_output_root_mean_squared_error: 1.4085 - y2_output_root_mean_squared_error: 1.9367 - val_loss: 5.0795 - val_y1_output_loss: 1.7332 - val_y2_output_loss: 3.3463 - val_y1_output_root_mean_squared_error: 1.3165 - val_y2_output_root_mean_squared_error: 1.8293\n",
            "Epoch 55/500\n",
            "62/62 [==============================] - 0s 2ms/step - loss: 7.7332 - y1_output_loss: 2.3894 - y2_output_loss: 5.3437 - y1_output_root_mean_squared_error: 1.5394 - y2_output_root_mean_squared_error: 2.2981 - val_loss: 5.4773 - val_y1_output_loss: 1.4608 - val_y2_output_loss: 4.0164 - val_y1_output_root_mean_squared_error: 1.2086 - val_y2_output_root_mean_squared_error: 2.0041\n",
            "Epoch 56/500\n",
            "62/62 [==============================] - 0s 2ms/step - loss: 6.2774 - y1_output_loss: 2.0336 - y2_output_loss: 4.2437 - y1_output_root_mean_squared_error: 1.4245 - y2_output_root_mean_squared_error: 2.0445 - val_loss: 10.1588 - val_y1_output_loss: 4.3204 - val_y2_output_loss: 5.8384 - val_y1_output_root_mean_squared_error: 2.0786 - val_y2_output_root_mean_squared_error: 2.4163\n",
            "Epoch 57/500\n",
            "62/62 [==============================] - 0s 2ms/step - loss: 6.3887 - y1_output_loss: 2.0341 - y2_output_loss: 4.3546 - y1_output_root_mean_squared_error: 1.4206 - y2_output_root_mean_squared_error: 2.0826 - val_loss: 6.2459 - val_y1_output_loss: 2.3980 - val_y2_output_loss: 3.8479 - val_y1_output_root_mean_squared_error: 1.5485 - val_y2_output_root_mean_squared_error: 1.9616\n",
            "Epoch 58/500\n",
            "62/62 [==============================] - 0s 2ms/step - loss: 6.5588 - y1_output_loss: 2.1983 - y2_output_loss: 4.3605 - y1_output_root_mean_squared_error: 1.4768 - y2_output_root_mean_squared_error: 2.0748 - val_loss: 10.3945 - val_y1_output_loss: 3.9086 - val_y2_output_loss: 6.4859 - val_y1_output_root_mean_squared_error: 1.9770 - val_y2_output_root_mean_squared_error: 2.5467\n",
            "Epoch 59/500\n",
            "62/62 [==============================] - 0s 2ms/step - loss: 5.9925 - y1_output_loss: 1.9821 - y2_output_loss: 4.0104 - y1_output_root_mean_squared_error: 1.3990 - y2_output_root_mean_squared_error: 1.9958 - val_loss: 4.7874 - val_y1_output_loss: 1.4745 - val_y2_output_loss: 3.3129 - val_y1_output_root_mean_squared_error: 1.2143 - val_y2_output_root_mean_squared_error: 1.8201\n",
            "Epoch 60/500\n",
            "62/62 [==============================] - 0s 2ms/step - loss: 5.2697 - y1_output_loss: 1.6985 - y2_output_loss: 3.5712 - y1_output_root_mean_squared_error: 1.3013 - y2_output_root_mean_squared_error: 1.8835 - val_loss: 5.5234 - val_y1_output_loss: 1.2926 - val_y2_output_loss: 4.2308 - val_y1_output_root_mean_squared_error: 1.1369 - val_y2_output_root_mean_squared_error: 2.0569\n",
            "Epoch 61/500\n",
            "62/62 [==============================] - 0s 2ms/step - loss: 4.2541 - y1_output_loss: 1.4046 - y2_output_loss: 2.8494 - y1_output_root_mean_squared_error: 1.1830 - y2_output_root_mean_squared_error: 1.6756 - val_loss: 12.2274 - val_y1_output_loss: 2.5103 - val_y2_output_loss: 9.7171 - val_y1_output_root_mean_squared_error: 1.5844 - val_y2_output_root_mean_squared_error: 3.1172\n",
            "Epoch 62/500\n",
            "62/62 [==============================] - 0s 2ms/step - loss: 5.9944 - y1_output_loss: 1.6556 - y2_output_loss: 4.3389 - y1_output_root_mean_squared_error: 1.2845 - y2_output_root_mean_squared_error: 2.0790 - val_loss: 6.1438 - val_y1_output_loss: 1.2331 - val_y2_output_loss: 4.9107 - val_y1_output_root_mean_squared_error: 1.1104 - val_y2_output_root_mean_squared_error: 2.2160\n",
            "Epoch 63/500\n",
            "62/62 [==============================] - 0s 2ms/step - loss: 4.6886 - y1_output_loss: 1.4307 - y2_output_loss: 3.2579 - y1_output_root_mean_squared_error: 1.1940 - y2_output_root_mean_squared_error: 1.7967 - val_loss: 23.1422 - val_y1_output_loss: 7.6708 - val_y2_output_loss: 15.4715 - val_y1_output_root_mean_squared_error: 2.7696 - val_y2_output_root_mean_squared_error: 3.9334\n",
            "Epoch 64/500\n",
            "62/62 [==============================] - 0s 3ms/step - loss: 7.2788 - y1_output_loss: 2.4486 - y2_output_loss: 4.8302 - y1_output_root_mean_squared_error: 1.5143 - y2_output_root_mean_squared_error: 2.1519 - val_loss: 4.8834 - val_y1_output_loss: 1.3684 - val_y2_output_loss: 3.5150 - val_y1_output_root_mean_squared_error: 1.1698 - val_y2_output_root_mean_squared_error: 1.8748\n",
            "Epoch 65/500\n",
            "62/62 [==============================] - 0s 2ms/step - loss: 6.6320 - y1_output_loss: 1.7059 - y2_output_loss: 4.9261 - y1_output_root_mean_squared_error: 1.2993 - y2_output_root_mean_squared_error: 2.2075 - val_loss: 4.4054 - val_y1_output_loss: 1.0710 - val_y2_output_loss: 3.3344 - val_y1_output_root_mean_squared_error: 1.0349 - val_y2_output_root_mean_squared_error: 1.8260\n",
            "Epoch 66/500\n",
            "62/62 [==============================] - 0s 2ms/step - loss: 4.5119 - y1_output_loss: 1.3128 - y2_output_loss: 3.1991 - y1_output_root_mean_squared_error: 1.1448 - y2_output_root_mean_squared_error: 1.7826 - val_loss: 4.2350 - val_y1_output_loss: 1.1189 - val_y2_output_loss: 3.1161 - val_y1_output_root_mean_squared_error: 1.0578 - val_y2_output_root_mean_squared_error: 1.7652\n",
            "Epoch 67/500\n",
            "62/62 [==============================] - 0s 2ms/step - loss: 4.2174 - y1_output_loss: 1.2488 - y2_output_loss: 2.9685 - y1_output_root_mean_squared_error: 1.1159 - y2_output_root_mean_squared_error: 1.7191 - val_loss: 3.3876 - val_y1_output_loss: 1.0467 - val_y2_output_loss: 2.3409 - val_y1_output_root_mean_squared_error: 1.0231 - val_y2_output_root_mean_squared_error: 1.5300\n",
            "Epoch 68/500\n",
            "62/62 [==============================] - 0s 2ms/step - loss: 5.9252 - y1_output_loss: 1.4908 - y2_output_loss: 4.4344 - y1_output_root_mean_squared_error: 1.2164 - y2_output_root_mean_squared_error: 2.0948 - val_loss: 5.4369 - val_y1_output_loss: 1.3878 - val_y2_output_loss: 4.0492 - val_y1_output_root_mean_squared_error: 1.1780 - val_y2_output_root_mean_squared_error: 2.0123\n",
            "Epoch 69/500\n",
            "62/62 [==============================] - 0s 2ms/step - loss: 3.7503 - y1_output_loss: 1.0159 - y2_output_loss: 2.7344 - y1_output_root_mean_squared_error: 1.0071 - y2_output_root_mean_squared_error: 1.6491 - val_loss: 3.5478 - val_y1_output_loss: 0.9992 - val_y2_output_loss: 2.5487 - val_y1_output_root_mean_squared_error: 0.9996 - val_y2_output_root_mean_squared_error: 1.5965\n",
            "Epoch 70/500\n",
            "62/62 [==============================] - 0s 2ms/step - loss: 8.9279 - y1_output_loss: 2.8855 - y2_output_loss: 6.0424 - y1_output_root_mean_squared_error: 1.6597 - y2_output_root_mean_squared_error: 2.4296 - val_loss: 6.6431 - val_y1_output_loss: 1.6973 - val_y2_output_loss: 4.9458 - val_y1_output_root_mean_squared_error: 1.3028 - val_y2_output_root_mean_squared_error: 2.2239\n",
            "Epoch 71/500\n",
            "62/62 [==============================] - 0s 2ms/step - loss: 4.6279 - y1_output_loss: 1.1135 - y2_output_loss: 3.5144 - y1_output_root_mean_squared_error: 1.0483 - y2_output_root_mean_squared_error: 1.8571 - val_loss: 5.6256 - val_y1_output_loss: 1.4035 - val_y2_output_loss: 4.2221 - val_y1_output_root_mean_squared_error: 1.1847 - val_y2_output_root_mean_squared_error: 2.0548\n",
            "Epoch 72/500\n",
            "62/62 [==============================] - 0s 2ms/step - loss: 3.9168 - y1_output_loss: 1.0479 - y2_output_loss: 2.8689 - y1_output_root_mean_squared_error: 1.0215 - y2_output_root_mean_squared_error: 1.6911 - val_loss: 3.2661 - val_y1_output_loss: 0.7109 - val_y2_output_loss: 2.5552 - val_y1_output_root_mean_squared_error: 0.8431 - val_y2_output_root_mean_squared_error: 1.5985\n",
            "Epoch 73/500\n",
            "62/62 [==============================] - 0s 2ms/step - loss: 5.9979 - y1_output_loss: 1.8145 - y2_output_loss: 4.1834 - y1_output_root_mean_squared_error: 1.3213 - y2_output_root_mean_squared_error: 2.0345 - val_loss: 6.6002 - val_y1_output_loss: 1.8256 - val_y2_output_loss: 4.7746 - val_y1_output_root_mean_squared_error: 1.3511 - val_y2_output_root_mean_squared_error: 2.1851\n",
            "Epoch 74/500\n",
            "62/62 [==============================] - 0s 3ms/step - loss: 3.5355 - y1_output_loss: 0.8916 - y2_output_loss: 2.6439 - y1_output_root_mean_squared_error: 0.9377 - y2_output_root_mean_squared_error: 1.6188 - val_loss: 3.3876 - val_y1_output_loss: 0.8802 - val_y2_output_loss: 2.5075 - val_y1_output_root_mean_squared_error: 0.9382 - val_y2_output_root_mean_squared_error: 1.5835\n",
            "Epoch 75/500\n",
            "62/62 [==============================] - 0s 2ms/step - loss: 4.0806 - y1_output_loss: 1.0233 - y2_output_loss: 3.0573 - y1_output_root_mean_squared_error: 1.0081 - y2_output_root_mean_squared_error: 1.7399 - val_loss: 3.4744 - val_y1_output_loss: 0.9827 - val_y2_output_loss: 2.4917 - val_y1_output_root_mean_squared_error: 0.9913 - val_y2_output_root_mean_squared_error: 1.5785\n",
            "Epoch 76/500\n",
            "62/62 [==============================] - 0s 2ms/step - loss: 4.1822 - y1_output_loss: 1.0458 - y2_output_loss: 3.1364 - y1_output_root_mean_squared_error: 1.0082 - y2_output_root_mean_squared_error: 1.7523 - val_loss: 3.7211 - val_y1_output_loss: 1.2589 - val_y2_output_loss: 2.4622 - val_y1_output_root_mean_squared_error: 1.1220 - val_y2_output_root_mean_squared_error: 1.5691\n",
            "Epoch 77/500\n",
            "62/62 [==============================] - 0s 2ms/step - loss: 3.4650 - y1_output_loss: 0.9197 - y2_output_loss: 2.5454 - y1_output_root_mean_squared_error: 0.9516 - y2_output_root_mean_squared_error: 1.5921 - val_loss: 3.7443 - val_y1_output_loss: 0.8716 - val_y2_output_loss: 2.8727 - val_y1_output_root_mean_squared_error: 0.9336 - val_y2_output_root_mean_squared_error: 1.6949\n",
            "Epoch 78/500\n",
            "62/62 [==============================] - 0s 2ms/step - loss: 3.8360 - y1_output_loss: 0.9958 - y2_output_loss: 2.8402 - y1_output_root_mean_squared_error: 0.9963 - y2_output_root_mean_squared_error: 1.6825 - val_loss: 3.7576 - val_y1_output_loss: 1.0859 - val_y2_output_loss: 2.6717 - val_y1_output_root_mean_squared_error: 1.0421 - val_y2_output_root_mean_squared_error: 1.6345\n",
            "Epoch 79/500\n",
            "62/62 [==============================] - 0s 2ms/step - loss: 3.6312 - y1_output_loss: 0.9810 - y2_output_loss: 2.6502 - y1_output_root_mean_squared_error: 0.9832 - y2_output_root_mean_squared_error: 1.6237 - val_loss: 2.7331 - val_y1_output_loss: 0.6011 - val_y2_output_loss: 2.1321 - val_y1_output_root_mean_squared_error: 0.7753 - val_y2_output_root_mean_squared_error: 1.4602\n",
            "Epoch 80/500\n",
            "62/62 [==============================] - 0s 2ms/step - loss: 2.2812 - y1_output_loss: 0.6092 - y2_output_loss: 1.6720 - y1_output_root_mean_squared_error: 0.7791 - y2_output_root_mean_squared_error: 1.2906 - val_loss: 25.9476 - val_y1_output_loss: 5.6429 - val_y2_output_loss: 20.3047 - val_y1_output_root_mean_squared_error: 2.3755 - val_y2_output_root_mean_squared_error: 4.5061\n",
            "Epoch 81/500\n",
            "62/62 [==============================] - 0s 3ms/step - loss: 4.5087 - y1_output_loss: 1.3295 - y2_output_loss: 3.1792 - y1_output_root_mean_squared_error: 1.1379 - y2_output_root_mean_squared_error: 1.7738 - val_loss: 2.9275 - val_y1_output_loss: 0.8594 - val_y2_output_loss: 2.0680 - val_y1_output_root_mean_squared_error: 0.9271 - val_y2_output_root_mean_squared_error: 1.4381\n",
            "Epoch 82/500\n",
            "62/62 [==============================] - 0s 2ms/step - loss: 3.8539 - y1_output_loss: 1.1289 - y2_output_loss: 2.7249 - y1_output_root_mean_squared_error: 1.0559 - y2_output_root_mean_squared_error: 1.6436 - val_loss: 3.0587 - val_y1_output_loss: 0.7964 - val_y2_output_loss: 2.2623 - val_y1_output_root_mean_squared_error: 0.8924 - val_y2_output_root_mean_squared_error: 1.5041\n",
            "Epoch 83/500\n",
            "62/62 [==============================] - 0s 2ms/step - loss: 2.2765 - y1_output_loss: 0.6873 - y2_output_loss: 1.5892 - y1_output_root_mean_squared_error: 0.8269 - y2_output_root_mean_squared_error: 1.2528 - val_loss: 8.0412 - val_y1_output_loss: 2.7780 - val_y2_output_loss: 5.2632 - val_y1_output_root_mean_squared_error: 1.6667 - val_y2_output_root_mean_squared_error: 2.2942\n",
            "Epoch 84/500\n",
            "62/62 [==============================] - 0s 3ms/step - loss: 5.0486 - y1_output_loss: 1.3756 - y2_output_loss: 3.6730 - y1_output_root_mean_squared_error: 1.1620 - y2_output_root_mean_squared_error: 1.8946 - val_loss: 3.7015 - val_y1_output_loss: 0.7904 - val_y2_output_loss: 2.9111 - val_y1_output_root_mean_squared_error: 0.8890 - val_y2_output_root_mean_squared_error: 1.7062\n",
            "Epoch 85/500\n",
            "62/62 [==============================] - 0s 2ms/step - loss: 3.3914 - y1_output_loss: 0.7217 - y2_output_loss: 2.6697 - y1_output_root_mean_squared_error: 0.8440 - y2_output_root_mean_squared_error: 1.6261 - val_loss: 3.1264 - val_y1_output_loss: 0.6253 - val_y2_output_loss: 2.5011 - val_y1_output_root_mean_squared_error: 0.7908 - val_y2_output_root_mean_squared_error: 1.5815\n",
            "Epoch 86/500\n",
            "62/62 [==============================] - 0s 2ms/step - loss: 3.2873 - y1_output_loss: 0.8634 - y2_output_loss: 2.4239 - y1_output_root_mean_squared_error: 0.9251 - y2_output_root_mean_squared_error: 1.5476 - val_loss: 4.3993 - val_y1_output_loss: 0.6913 - val_y2_output_loss: 3.7080 - val_y1_output_root_mean_squared_error: 0.8314 - val_y2_output_root_mean_squared_error: 1.9256\n",
            "Epoch 87/500\n",
            "62/62 [==============================] - 0s 2ms/step - loss: 4.6605 - y1_output_loss: 1.0639 - y2_output_loss: 3.5966 - y1_output_root_mean_squared_error: 1.0249 - y2_output_root_mean_squared_error: 1.8786 - val_loss: 196.9037 - val_y1_output_loss: 59.0276 - val_y2_output_loss: 137.8761 - val_y1_output_root_mean_squared_error: 7.6829 - val_y2_output_root_mean_squared_error: 11.7421\n",
            "Epoch 88/500\n",
            "62/62 [==============================] - 0s 2ms/step - loss: 16.7168 - y1_output_loss: 5.4392 - y2_output_loss: 11.2775 - y1_output_root_mean_squared_error: 2.1783 - y2_output_root_mean_squared_error: 3.1426 - val_loss: 3.9856 - val_y1_output_loss: 1.3513 - val_y2_output_loss: 2.6343 - val_y1_output_root_mean_squared_error: 1.1624 - val_y2_output_root_mean_squared_error: 1.6231\n",
            "Epoch 89/500\n",
            "62/62 [==============================] - 0s 2ms/step - loss: 2.7037 - y1_output_loss: 0.6765 - y2_output_loss: 2.0273 - y1_output_root_mean_squared_error: 0.8207 - y2_output_root_mean_squared_error: 1.4203 - val_loss: 14.0701 - val_y1_output_loss: 2.0535 - val_y2_output_loss: 12.0167 - val_y1_output_root_mean_squared_error: 1.4330 - val_y2_output_root_mean_squared_error: 3.4665\n",
            "Epoch 90/500\n",
            "62/62 [==============================] - 0s 2ms/step - loss: 3.2891 - y1_output_loss: 0.7047 - y2_output_loss: 2.5844 - y1_output_root_mean_squared_error: 0.8376 - y2_output_root_mean_squared_error: 1.6032 - val_loss: 3.0839 - val_y1_output_loss: 0.8065 - val_y2_output_loss: 2.2774 - val_y1_output_root_mean_squared_error: 0.8980 - val_y2_output_root_mean_squared_error: 1.5091\n",
            "Epoch 91/500\n",
            "62/62 [==============================] - 0s 3ms/step - loss: 5.4153 - y1_output_loss: 1.2382 - y2_output_loss: 4.1771 - y1_output_root_mean_squared_error: 1.0994 - y2_output_root_mean_squared_error: 2.0143 - val_loss: 10.2915 - val_y1_output_loss: 1.2025 - val_y2_output_loss: 9.0890 - val_y1_output_root_mean_squared_error: 1.0966 - val_y2_output_root_mean_squared_error: 3.0148\n",
            "Epoch 92/500\n",
            "62/62 [==============================] - 0s 2ms/step - loss: 4.5361 - y1_output_loss: 0.9491 - y2_output_loss: 3.5870 - y1_output_root_mean_squared_error: 0.9670 - y2_output_root_mean_squared_error: 1.8361 - val_loss: 3.2484 - val_y1_output_loss: 0.6322 - val_y2_output_loss: 2.6162 - val_y1_output_root_mean_squared_error: 0.7951 - val_y2_output_root_mean_squared_error: 1.6175\n",
            "Epoch 93/500\n",
            "62/62 [==============================] - 0s 2ms/step - loss: 2.2935 - y1_output_loss: 0.5596 - y2_output_loss: 1.7339 - y1_output_root_mean_squared_error: 0.7451 - y2_output_root_mean_squared_error: 1.3109 - val_loss: 2.7849 - val_y1_output_loss: 0.6826 - val_y2_output_loss: 2.1022 - val_y1_output_root_mean_squared_error: 0.8262 - val_y2_output_root_mean_squared_error: 1.4499\n",
            "Epoch 94/500\n",
            "62/62 [==============================] - 0s 2ms/step - loss: 2.2237 - y1_output_loss: 0.5429 - y2_output_loss: 1.6809 - y1_output_root_mean_squared_error: 0.7357 - y2_output_root_mean_squared_error: 1.2953 - val_loss: 3.4185 - val_y1_output_loss: 0.7165 - val_y2_output_loss: 2.7019 - val_y1_output_root_mean_squared_error: 0.8465 - val_y2_output_root_mean_squared_error: 1.6438\n",
            "Epoch 95/500\n",
            "62/62 [==============================] - 0s 3ms/step - loss: 2.4537 - y1_output_loss: 0.6209 - y2_output_loss: 1.8328 - y1_output_root_mean_squared_error: 0.7866 - y2_output_root_mean_squared_error: 1.3517 - val_loss: 3.1716 - val_y1_output_loss: 0.5899 - val_y2_output_loss: 2.5817 - val_y1_output_root_mean_squared_error: 0.7681 - val_y2_output_root_mean_squared_error: 1.6068\n",
            "Epoch 96/500\n",
            "62/62 [==============================] - 0s 4ms/step - loss: 3.4679 - y1_output_loss: 0.8161 - y2_output_loss: 2.6518 - y1_output_root_mean_squared_error: 0.8918 - y2_output_root_mean_squared_error: 1.6159 - val_loss: 2.9026 - val_y1_output_loss: 0.5559 - val_y2_output_loss: 2.3467 - val_y1_output_root_mean_squared_error: 0.7456 - val_y2_output_root_mean_squared_error: 1.5319\n",
            "Epoch 97/500\n",
            "62/62 [==============================] - 0s 3ms/step - loss: 2.4050 - y1_output_loss: 0.6447 - y2_output_loss: 1.7603 - y1_output_root_mean_squared_error: 0.8012 - y2_output_root_mean_squared_error: 1.3082 - val_loss: 2.4360 - val_y1_output_loss: 0.5420 - val_y2_output_loss: 1.8940 - val_y1_output_root_mean_squared_error: 0.7362 - val_y2_output_root_mean_squared_error: 1.3762\n",
            "Epoch 98/500\n",
            "62/62 [==============================] - 0s 2ms/step - loss: 3.1824 - y1_output_loss: 0.7499 - y2_output_loss: 2.4325 - y1_output_root_mean_squared_error: 0.8613 - y2_output_root_mean_squared_error: 1.5524 - val_loss: 2.3927 - val_y1_output_loss: 0.5663 - val_y2_output_loss: 1.8265 - val_y1_output_root_mean_squared_error: 0.7525 - val_y2_output_root_mean_squared_error: 1.3515\n",
            "Epoch 99/500\n",
            "62/62 [==============================] - 0s 2ms/step - loss: 2.6379 - y1_output_loss: 0.6221 - y2_output_loss: 2.0158 - y1_output_root_mean_squared_error: 0.7865 - y2_output_root_mean_squared_error: 1.4150 - val_loss: 3.0297 - val_y1_output_loss: 0.5662 - val_y2_output_loss: 2.4635 - val_y1_output_root_mean_squared_error: 0.7525 - val_y2_output_root_mean_squared_error: 1.5696\n",
            "Epoch 100/500\n",
            "62/62 [==============================] - 0s 3ms/step - loss: 1.9383 - y1_output_loss: 0.4635 - y2_output_loss: 1.4748 - y1_output_root_mean_squared_error: 0.6804 - y2_output_root_mean_squared_error: 1.2136 - val_loss: 3.8355 - val_y1_output_loss: 0.7117 - val_y2_output_loss: 3.1238 - val_y1_output_root_mean_squared_error: 0.8437 - val_y2_output_root_mean_squared_error: 1.7674\n",
            "Epoch 101/500\n",
            "62/62 [==============================] - 0s 2ms/step - loss: 2.0930 - y1_output_loss: 0.5034 - y2_output_loss: 1.5895 - y1_output_root_mean_squared_error: 0.7091 - y2_output_root_mean_squared_error: 1.2572 - val_loss: 2.4187 - val_y1_output_loss: 0.6319 - val_y2_output_loss: 1.7868 - val_y1_output_root_mean_squared_error: 0.7949 - val_y2_output_root_mean_squared_error: 1.3367\n",
            "Epoch 102/500\n",
            "62/62 [==============================] - 0s 3ms/step - loss: 2.2837 - y1_output_loss: 0.5629 - y2_output_loss: 1.7208 - y1_output_root_mean_squared_error: 0.7490 - y2_output_root_mean_squared_error: 1.3024 - val_loss: 2.2876 - val_y1_output_loss: 0.4404 - val_y2_output_loss: 1.8472 - val_y1_output_root_mean_squared_error: 0.6636 - val_y2_output_root_mean_squared_error: 1.3591\n",
            "Epoch 103/500\n",
            "62/62 [==============================] - 0s 2ms/step - loss: 3.6309 - y1_output_loss: 0.8768 - y2_output_loss: 2.7540 - y1_output_root_mean_squared_error: 0.9320 - y2_output_root_mean_squared_error: 1.6393 - val_loss: 2.9162 - val_y1_output_loss: 0.6872 - val_y2_output_loss: 2.2290 - val_y1_output_root_mean_squared_error: 0.8290 - val_y2_output_root_mean_squared_error: 1.4930\n",
            "Epoch 104/500\n",
            "62/62 [==============================] - 0s 2ms/step - loss: 3.2096 - y1_output_loss: 0.6133 - y2_output_loss: 2.5963 - y1_output_root_mean_squared_error: 0.7798 - y2_output_root_mean_squared_error: 1.5901 - val_loss: 3.5809 - val_y1_output_loss: 0.7381 - val_y2_output_loss: 2.8428 - val_y1_output_root_mean_squared_error: 0.8591 - val_y2_output_root_mean_squared_error: 1.6861\n",
            "Epoch 105/500\n",
            "62/62 [==============================] - 0s 2ms/step - loss: 1.8046 - y1_output_loss: 0.4532 - y2_output_loss: 1.3513 - y1_output_root_mean_squared_error: 0.6710 - y2_output_root_mean_squared_error: 1.1604 - val_loss: 4.6346 - val_y1_output_loss: 1.5683 - val_y2_output_loss: 3.0663 - val_y1_output_root_mean_squared_error: 1.2523 - val_y2_output_root_mean_squared_error: 1.7511\n",
            "Epoch 106/500\n",
            "62/62 [==============================] - 0s 2ms/step - loss: 1.8660 - y1_output_loss: 0.4524 - y2_output_loss: 1.4135 - y1_output_root_mean_squared_error: 0.6719 - y2_output_root_mean_squared_error: 1.1847 - val_loss: 2.1781 - val_y1_output_loss: 0.4463 - val_y2_output_loss: 1.7318 - val_y1_output_root_mean_squared_error: 0.6681 - val_y2_output_root_mean_squared_error: 1.3160\n",
            "Epoch 107/500\n",
            "62/62 [==============================] - 0s 2ms/step - loss: 1.9397 - y1_output_loss: 0.5159 - y2_output_loss: 1.4238 - y1_output_root_mean_squared_error: 0.7176 - y2_output_root_mean_squared_error: 1.1887 - val_loss: 2.0535 - val_y1_output_loss: 0.3976 - val_y2_output_loss: 1.6559 - val_y1_output_root_mean_squared_error: 0.6305 - val_y2_output_root_mean_squared_error: 1.2868\n",
            "Epoch 108/500\n",
            "62/62 [==============================] - 0s 3ms/step - loss: 2.0245 - y1_output_loss: 0.4557 - y2_output_loss: 1.5688 - y1_output_root_mean_squared_error: 0.6732 - y2_output_root_mean_squared_error: 1.2503 - val_loss: 4.1338 - val_y1_output_loss: 0.7351 - val_y2_output_loss: 3.3987 - val_y1_output_root_mean_squared_error: 0.8574 - val_y2_output_root_mean_squared_error: 1.8436\n",
            "Epoch 109/500\n",
            "62/62 [==============================] - 0s 2ms/step - loss: 2.0347 - y1_output_loss: 0.4490 - y2_output_loss: 1.5857 - y1_output_root_mean_squared_error: 0.6694 - y2_output_root_mean_squared_error: 1.2554 - val_loss: 4.1876 - val_y1_output_loss: 0.5185 - val_y2_output_loss: 3.6691 - val_y1_output_root_mean_squared_error: 0.7201 - val_y2_output_root_mean_squared_error: 1.9155\n",
            "Epoch 110/500\n",
            "62/62 [==============================] - 0s 2ms/step - loss: 2.0364 - y1_output_loss: 0.5215 - y2_output_loss: 1.5149 - y1_output_root_mean_squared_error: 0.7210 - y2_output_root_mean_squared_error: 1.2277 - val_loss: 2.8052 - val_y1_output_loss: 0.5415 - val_y2_output_loss: 2.2637 - val_y1_output_root_mean_squared_error: 0.7358 - val_y2_output_root_mean_squared_error: 1.5046\n",
            "Epoch 111/500\n",
            "62/62 [==============================] - 0s 2ms/step - loss: 1.7059 - y1_output_loss: 0.4317 - y2_output_loss: 1.2742 - y1_output_root_mean_squared_error: 0.6555 - y2_output_root_mean_squared_error: 1.1261 - val_loss: 3.9827 - val_y1_output_loss: 0.6566 - val_y2_output_loss: 3.3261 - val_y1_output_root_mean_squared_error: 0.8103 - val_y2_output_root_mean_squared_error: 1.8238\n",
            "Epoch 112/500\n",
            "62/62 [==============================] - 0s 2ms/step - loss: 2.1028 - y1_output_loss: 0.4907 - y2_output_loss: 1.6122 - y1_output_root_mean_squared_error: 0.6991 - y2_output_root_mean_squared_error: 1.2656 - val_loss: 7.6615 - val_y1_output_loss: 1.2661 - val_y2_output_loss: 6.3954 - val_y1_output_root_mean_squared_error: 1.1252 - val_y2_output_root_mean_squared_error: 2.5289\n",
            "Epoch 113/500\n",
            "62/62 [==============================] - 0s 2ms/step - loss: 2.9744 - y1_output_loss: 0.6748 - y2_output_loss: 2.2996 - y1_output_root_mean_squared_error: 0.8170 - y2_output_root_mean_squared_error: 1.4890 - val_loss: 2.1745 - val_y1_output_loss: 0.4830 - val_y2_output_loss: 1.6915 - val_y1_output_root_mean_squared_error: 0.6950 - val_y2_output_root_mean_squared_error: 1.3006\n",
            "Epoch 114/500\n",
            "62/62 [==============================] - 0s 3ms/step - loss: 1.6083 - y1_output_loss: 0.4300 - y2_output_loss: 1.1784 - y1_output_root_mean_squared_error: 0.6543 - y2_output_root_mean_squared_error: 1.0783 - val_loss: 26.2908 - val_y1_output_loss: 2.4033 - val_y2_output_loss: 23.8875 - val_y1_output_root_mean_squared_error: 1.5503 - val_y2_output_root_mean_squared_error: 4.8875\n",
            "Epoch 115/500\n",
            "62/62 [==============================] - 0s 3ms/step - loss: 4.1930 - y1_output_loss: 0.5585 - y2_output_loss: 3.6346 - y1_output_root_mean_squared_error: 0.7437 - y2_output_root_mean_squared_error: 1.8107 - val_loss: 2.8610 - val_y1_output_loss: 0.4927 - val_y2_output_loss: 2.3683 - val_y1_output_root_mean_squared_error: 0.7019 - val_y2_output_root_mean_squared_error: 1.5389\n",
            "Epoch 116/500\n",
            "62/62 [==============================] - 0s 2ms/step - loss: 1.6782 - y1_output_loss: 0.4861 - y2_output_loss: 1.1921 - y1_output_root_mean_squared_error: 0.6963 - y2_output_root_mean_squared_error: 1.0894 - val_loss: 2.7840 - val_y1_output_loss: 0.4315 - val_y2_output_loss: 2.3525 - val_y1_output_root_mean_squared_error: 0.6569 - val_y2_output_root_mean_squared_error: 1.5338\n",
            "Epoch 117/500\n",
            "62/62 [==============================] - 0s 2ms/step - loss: 1.7260 - y1_output_loss: 0.3891 - y2_output_loss: 1.3369 - y1_output_root_mean_squared_error: 0.6233 - y2_output_root_mean_squared_error: 1.1481 - val_loss: 2.4175 - val_y1_output_loss: 0.4336 - val_y2_output_loss: 1.9840 - val_y1_output_root_mean_squared_error: 0.6585 - val_y2_output_root_mean_squared_error: 1.4085\n",
            "Epoch 118/500\n",
            "62/62 [==============================] - 0s 2ms/step - loss: 2.1520 - y1_output_loss: 0.5023 - y2_output_loss: 1.6497 - y1_output_root_mean_squared_error: 0.7069 - y2_output_root_mean_squared_error: 1.2807 - val_loss: 2.4425 - val_y1_output_loss: 0.3985 - val_y2_output_loss: 2.0441 - val_y1_output_root_mean_squared_error: 0.6312 - val_y2_output_root_mean_squared_error: 1.4297\n",
            "Epoch 119/500\n",
            "62/62 [==============================] - 0s 3ms/step - loss: 1.6137 - y1_output_loss: 0.4437 - y2_output_loss: 1.1701 - y1_output_root_mean_squared_error: 0.6645 - y2_output_root_mean_squared_error: 1.0799 - val_loss: 4.4783 - val_y1_output_loss: 0.4247 - val_y2_output_loss: 4.0535 - val_y1_output_root_mean_squared_error: 0.6517 - val_y2_output_root_mean_squared_error: 2.0133\n",
            "Epoch 120/500\n",
            "62/62 [==============================] - 0s 2ms/step - loss: 1.9101 - y1_output_loss: 0.5004 - y2_output_loss: 1.4097 - y1_output_root_mean_squared_error: 0.7046 - y2_output_root_mean_squared_error: 1.1795 - val_loss: 14.3772 - val_y1_output_loss: 3.4284 - val_y2_output_loss: 10.9488 - val_y1_output_root_mean_squared_error: 1.8516 - val_y2_output_root_mean_squared_error: 3.3089\n",
            "Epoch 121/500\n",
            "62/62 [==============================] - 0s 2ms/step - loss: 10.4787 - y1_output_loss: 2.7781 - y2_output_loss: 7.7007 - y1_output_root_mean_squared_error: 1.5944 - y2_output_root_mean_squared_error: 2.6359 - val_loss: 3.3883 - val_y1_output_loss: 0.3567 - val_y2_output_loss: 3.0317 - val_y1_output_root_mean_squared_error: 0.5972 - val_y2_output_root_mean_squared_error: 1.7412\n",
            "Epoch 122/500\n",
            "62/62 [==============================] - 0s 3ms/step - loss: 2.4637 - y1_output_loss: 0.5969 - y2_output_loss: 1.8668 - y1_output_root_mean_squared_error: 0.7686 - y2_output_root_mean_squared_error: 1.3614 - val_loss: 2.0190 - val_y1_output_loss: 0.3830 - val_y2_output_loss: 1.6360 - val_y1_output_root_mean_squared_error: 0.6189 - val_y2_output_root_mean_squared_error: 1.2791\n",
            "Epoch 123/500\n",
            "62/62 [==============================] - 0s 2ms/step - loss: 1.7188 - y1_output_loss: 0.3975 - y2_output_loss: 1.3213 - y1_output_root_mean_squared_error: 0.6239 - y2_output_root_mean_squared_error: 1.1476 - val_loss: 2.6089 - val_y1_output_loss: 0.7585 - val_y2_output_loss: 1.8504 - val_y1_output_root_mean_squared_error: 0.8709 - val_y2_output_root_mean_squared_error: 1.3603\n",
            "Epoch 124/500\n",
            "62/62 [==============================] - 0s 2ms/step - loss: 1.4153 - y1_output_loss: 0.3761 - y2_output_loss: 1.0392 - y1_output_root_mean_squared_error: 0.6115 - y2_output_root_mean_squared_error: 1.0172 - val_loss: 5.4847 - val_y1_output_loss: 1.7835 - val_y2_output_loss: 3.7013 - val_y1_output_root_mean_squared_error: 1.3355 - val_y2_output_root_mean_squared_error: 1.9239\n",
            "Epoch 125/500\n",
            "62/62 [==============================] - 0s 2ms/step - loss: 2.3852 - y1_output_loss: 0.5032 - y2_output_loss: 1.8820 - y1_output_root_mean_squared_error: 0.7053 - y2_output_root_mean_squared_error: 1.3626 - val_loss: 2.7904 - val_y1_output_loss: 0.4429 - val_y2_output_loss: 2.3475 - val_y1_output_root_mean_squared_error: 0.6655 - val_y2_output_root_mean_squared_error: 1.5322\n",
            "Epoch 126/500\n",
            "62/62 [==============================] - 0s 2ms/step - loss: 2.2527 - y1_output_loss: 0.5931 - y2_output_loss: 1.6595 - y1_output_root_mean_squared_error: 0.7676 - y2_output_root_mean_squared_error: 1.2749 - val_loss: 2.6625 - val_y1_output_loss: 0.4925 - val_y2_output_loss: 2.1699 - val_y1_output_root_mean_squared_error: 0.7018 - val_y2_output_root_mean_squared_error: 1.4731\n",
            "Epoch 127/500\n",
            "62/62 [==============================] - 0s 2ms/step - loss: 4.3001 - y1_output_loss: 1.2780 - y2_output_loss: 3.0221 - y1_output_root_mean_squared_error: 1.1008 - y2_output_root_mean_squared_error: 1.7065 - val_loss: 2.6392 - val_y1_output_loss: 0.5706 - val_y2_output_loss: 2.0686 - val_y1_output_root_mean_squared_error: 0.7553 - val_y2_output_root_mean_squared_error: 1.4383\n",
            "Epoch 128/500\n",
            "62/62 [==============================] - 0s 3ms/step - loss: 2.0158 - y1_output_loss: 0.4344 - y2_output_loss: 1.5814 - y1_output_root_mean_squared_error: 0.6581 - y2_output_root_mean_squared_error: 1.2532 - val_loss: 2.4928 - val_y1_output_loss: 0.4434 - val_y2_output_loss: 2.0494 - val_y1_output_root_mean_squared_error: 0.6659 - val_y2_output_root_mean_squared_error: 1.4316\n",
            "Epoch 129/500\n",
            "62/62 [==============================] - 0s 3ms/step - loss: 1.4921 - y1_output_loss: 0.3274 - y2_output_loss: 1.1648 - y1_output_root_mean_squared_error: 0.5715 - y2_output_root_mean_squared_error: 1.0771 - val_loss: 8.0172 - val_y1_output_loss: 1.5024 - val_y2_output_loss: 6.5147 - val_y1_output_root_mean_squared_error: 1.2257 - val_y2_output_root_mean_squared_error: 2.5524\n",
            "Epoch 130/500\n",
            "62/62 [==============================] - 0s 2ms/step - loss: 2.4633 - y1_output_loss: 0.5660 - y2_output_loss: 1.8973 - y1_output_root_mean_squared_error: 0.7429 - y2_output_root_mean_squared_error: 1.3614 - val_loss: 2.3899 - val_y1_output_loss: 0.6220 - val_y2_output_loss: 1.7680 - val_y1_output_root_mean_squared_error: 0.7886 - val_y2_output_root_mean_squared_error: 1.3296\n",
            "Epoch 131/500\n",
            "62/62 [==============================] - 0s 2ms/step - loss: 2.2766 - y1_output_loss: 0.4824 - y2_output_loss: 1.7942 - y1_output_root_mean_squared_error: 0.6919 - y2_output_root_mean_squared_error: 1.3323 - val_loss: 3.0405 - val_y1_output_loss: 0.7141 - val_y2_output_loss: 2.3264 - val_y1_output_root_mean_squared_error: 0.8450 - val_y2_output_root_mean_squared_error: 1.5253\n",
            "Epoch 132/500\n",
            "62/62 [==============================] - 0s 3ms/step - loss: 1.5720 - y1_output_loss: 0.4285 - y2_output_loss: 1.1435 - y1_output_root_mean_squared_error: 0.6532 - y2_output_root_mean_squared_error: 1.0642 - val_loss: 2.2519 - val_y1_output_loss: 0.3080 - val_y2_output_loss: 1.9439 - val_y1_output_root_mean_squared_error: 0.5550 - val_y2_output_root_mean_squared_error: 1.3942\n",
            "Epoch 133/500\n",
            "62/62 [==============================] - 0s 2ms/step - loss: 1.7041 - y1_output_loss: 0.4367 - y2_output_loss: 1.2674 - y1_output_root_mean_squared_error: 0.6588 - y2_output_root_mean_squared_error: 1.1077 - val_loss: 7.0286 - val_y1_output_loss: 0.9724 - val_y2_output_loss: 6.0562 - val_y1_output_root_mean_squared_error: 0.9861 - val_y2_output_root_mean_squared_error: 2.4609\n",
            "Epoch 134/500\n",
            "62/62 [==============================] - 0s 3ms/step - loss: 18.4582 - y1_output_loss: 6.0748 - y2_output_loss: 12.3835 - y1_output_root_mean_squared_error: 2.3546 - y2_output_root_mean_squared_error: 3.4302 - val_loss: 2.5926 - val_y1_output_loss: 0.3377 - val_y2_output_loss: 2.2549 - val_y1_output_root_mean_squared_error: 0.5811 - val_y2_output_root_mean_squared_error: 1.5016\n",
            "Epoch 135/500\n",
            "62/62 [==============================] - 0s 2ms/step - loss: 1.5284 - y1_output_loss: 0.3610 - y2_output_loss: 1.1674 - y1_output_root_mean_squared_error: 0.6001 - y2_output_root_mean_squared_error: 1.0781 - val_loss: 2.9594 - val_y1_output_loss: 0.8860 - val_y2_output_loss: 2.0734 - val_y1_output_root_mean_squared_error: 0.9413 - val_y2_output_root_mean_squared_error: 1.4399\n",
            "Epoch 136/500\n",
            "62/62 [==============================] - 0s 2ms/step - loss: 1.6428 - y1_output_loss: 0.5165 - y2_output_loss: 1.1263 - y1_output_root_mean_squared_error: 0.7156 - y2_output_root_mean_squared_error: 1.0584 - val_loss: 2.9578 - val_y1_output_loss: 0.4263 - val_y2_output_loss: 2.5315 - val_y1_output_root_mean_squared_error: 0.6529 - val_y2_output_root_mean_squared_error: 1.5911\n",
            "Epoch 137/500\n",
            "62/62 [==============================] - 0s 3ms/step - loss: 1.5385 - y1_output_loss: 0.3683 - y2_output_loss: 1.1702 - y1_output_root_mean_squared_error: 0.6053 - y2_output_root_mean_squared_error: 1.0769 - val_loss: 1.8889 - val_y1_output_loss: 0.3568 - val_y2_output_loss: 1.5321 - val_y1_output_root_mean_squared_error: 0.5973 - val_y2_output_root_mean_squared_error: 1.2378\n",
            "Epoch 138/500\n",
            "62/62 [==============================] - 0s 3ms/step - loss: 1.4052 - y1_output_loss: 0.3265 - y2_output_loss: 1.0788 - y1_output_root_mean_squared_error: 0.5685 - y2_output_root_mean_squared_error: 1.0372 - val_loss: 4.5454 - val_y1_output_loss: 1.0976 - val_y2_output_loss: 3.4478 - val_y1_output_root_mean_squared_error: 1.0477 - val_y2_output_root_mean_squared_error: 1.8568\n",
            "Epoch 139/500\n",
            "62/62 [==============================] - 0s 2ms/step - loss: 1.4443 - y1_output_loss: 0.3589 - y2_output_loss: 1.0854 - y1_output_root_mean_squared_error: 0.5978 - y2_output_root_mean_squared_error: 1.0381 - val_loss: 2.7157 - val_y1_output_loss: 0.4114 - val_y2_output_loss: 2.3043 - val_y1_output_root_mean_squared_error: 0.6414 - val_y2_output_root_mean_squared_error: 1.5180\n",
            "Epoch 140/500\n",
            "62/62 [==============================] - 0s 5ms/step - loss: 1.2931 - y1_output_loss: 0.2606 - y2_output_loss: 1.0325 - y1_output_root_mean_squared_error: 0.5079 - y2_output_root_mean_squared_error: 1.0132 - val_loss: 1.8288 - val_y1_output_loss: 0.2735 - val_y2_output_loss: 1.5553 - val_y1_output_root_mean_squared_error: 0.5230 - val_y2_output_root_mean_squared_error: 1.2471\n",
            "Epoch 141/500\n",
            "62/62 [==============================] - 0s 2ms/step - loss: 1.1464 - y1_output_loss: 0.2862 - y2_output_loss: 0.8601 - y1_output_root_mean_squared_error: 0.5304 - y2_output_root_mean_squared_error: 0.9202 - val_loss: 2.0463 - val_y1_output_loss: 0.5572 - val_y2_output_loss: 1.4892 - val_y1_output_root_mean_squared_error: 0.7464 - val_y2_output_root_mean_squared_error: 1.2203\n",
            "Epoch 142/500\n",
            "62/62 [==============================] - 0s 2ms/step - loss: 1.5896 - y1_output_loss: 0.3464 - y2_output_loss: 1.2432 - y1_output_root_mean_squared_error: 0.5860 - y2_output_root_mean_squared_error: 1.1122 - val_loss: 3.9157 - val_y1_output_loss: 1.2376 - val_y2_output_loss: 2.6780 - val_y1_output_root_mean_squared_error: 1.1125 - val_y2_output_root_mean_squared_error: 1.6365\n",
            "Epoch 143/500\n",
            "62/62 [==============================] - 0s 3ms/step - loss: 2.2486 - y1_output_loss: 0.7409 - y2_output_loss: 1.5077 - y1_output_root_mean_squared_error: 0.8307 - y2_output_root_mean_squared_error: 1.2219 - val_loss: 2.6757 - val_y1_output_loss: 0.5288 - val_y2_output_loss: 2.1469 - val_y1_output_root_mean_squared_error: 0.7272 - val_y2_output_root_mean_squared_error: 1.4652\n",
            "Epoch 144/500\n",
            "62/62 [==============================] - 0s 2ms/step - loss: 1.9451 - y1_output_loss: 0.4305 - y2_output_loss: 1.5146 - y1_output_root_mean_squared_error: 0.6534 - y2_output_root_mean_squared_error: 1.2220 - val_loss: 3.3554 - val_y1_output_loss: 0.4357 - val_y2_output_loss: 2.9197 - val_y1_output_root_mean_squared_error: 0.6601 - val_y2_output_root_mean_squared_error: 1.7087\n",
            "Epoch 145/500\n",
            "62/62 [==============================] - 0s 2ms/step - loss: 2.1943 - y1_output_loss: 0.4417 - y2_output_loss: 1.7526 - y1_output_root_mean_squared_error: 0.6594 - y2_output_root_mean_squared_error: 1.2896 - val_loss: 3.2610 - val_y1_output_loss: 0.5070 - val_y2_output_loss: 2.7540 - val_y1_output_root_mean_squared_error: 0.7121 - val_y2_output_root_mean_squared_error: 1.6595\n",
            "Epoch 146/500\n",
            "62/62 [==============================] - 0s 3ms/step - loss: 1.5400 - y1_output_loss: 0.4022 - y2_output_loss: 1.1378 - y1_output_root_mean_squared_error: 0.6326 - y2_output_root_mean_squared_error: 1.0637 - val_loss: 2.8252 - val_y1_output_loss: 0.5276 - val_y2_output_loss: 2.2976 - val_y1_output_root_mean_squared_error: 0.7263 - val_y2_output_root_mean_squared_error: 1.5158\n",
            "Epoch 147/500\n",
            "62/62 [==============================] - 0s 2ms/step - loss: 1.6038 - y1_output_loss: 0.3078 - y2_output_loss: 1.2960 - y1_output_root_mean_squared_error: 0.5546 - y2_output_root_mean_squared_error: 1.1357 - val_loss: 2.4266 - val_y1_output_loss: 0.3562 - val_y2_output_loss: 2.0704 - val_y1_output_root_mean_squared_error: 0.5968 - val_y2_output_root_mean_squared_error: 1.4389\n",
            "Epoch 148/500\n",
            "62/62 [==============================] - 0s 2ms/step - loss: 2.0842 - y1_output_loss: 0.5440 - y2_output_loss: 1.5402 - y1_output_root_mean_squared_error: 0.7153 - y2_output_root_mean_squared_error: 1.2267 - val_loss: 2.3424 - val_y1_output_loss: 0.3482 - val_y2_output_loss: 1.9942 - val_y1_output_root_mean_squared_error: 0.5901 - val_y2_output_root_mean_squared_error: 1.4122\n",
            "Epoch 149/500\n",
            "62/62 [==============================] - 0s 3ms/step - loss: 2.2536 - y1_output_loss: 0.4994 - y2_output_loss: 1.7542 - y1_output_root_mean_squared_error: 0.6977 - y2_output_root_mean_squared_error: 1.3086 - val_loss: 2.3309 - val_y1_output_loss: 0.5830 - val_y2_output_loss: 1.7479 - val_y1_output_root_mean_squared_error: 0.7635 - val_y2_output_root_mean_squared_error: 1.3221\n",
            "Epoch 150/500\n",
            "62/62 [==============================] - 0s 2ms/step - loss: 1.6109 - y1_output_loss: 0.3539 - y2_output_loss: 1.2570 - y1_output_root_mean_squared_error: 0.5931 - y2_output_root_mean_squared_error: 1.1129 - val_loss: 3.6822 - val_y1_output_loss: 0.6204 - val_y2_output_loss: 3.0618 - val_y1_output_root_mean_squared_error: 0.7877 - val_y2_output_root_mean_squared_error: 1.7498\n",
            "Epoch 151/500\n",
            "62/62 [==============================] - 0s 3ms/step - loss: 1.8136 - y1_output_loss: 0.4282 - y2_output_loss: 1.3854 - y1_output_root_mean_squared_error: 0.6530 - y2_output_root_mean_squared_error: 1.1681 - val_loss: 2.2703 - val_y1_output_loss: 0.3837 - val_y2_output_loss: 1.8866 - val_y1_output_root_mean_squared_error: 0.6195 - val_y2_output_root_mean_squared_error: 1.3735\n",
            "Epoch 152/500\n",
            "62/62 [==============================] - 0s 3ms/step - loss: 1.3969 - y1_output_loss: 0.3649 - y2_output_loss: 1.0320 - y1_output_root_mean_squared_error: 0.6038 - y2_output_root_mean_squared_error: 1.0141 - val_loss: 2.8292 - val_y1_output_loss: 0.8402 - val_y2_output_loss: 1.9890 - val_y1_output_root_mean_squared_error: 0.9166 - val_y2_output_root_mean_squared_error: 1.4103\n",
            "Epoch 153/500\n",
            "62/62 [==============================] - 0s 3ms/step - loss: 1.3882 - y1_output_loss: 0.3288 - y2_output_loss: 1.0594 - y1_output_root_mean_squared_error: 0.5673 - y2_output_root_mean_squared_error: 1.0285 - val_loss: 2.2643 - val_y1_output_loss: 0.2964 - val_y2_output_loss: 1.9679 - val_y1_output_root_mean_squared_error: 0.5444 - val_y2_output_root_mean_squared_error: 1.4028\n",
            "Epoch 154/500\n",
            "62/62 [==============================] - 0s 3ms/step - loss: 5.4461 - y1_output_loss: 1.5058 - y2_output_loss: 3.9403 - y1_output_root_mean_squared_error: 1.1772 - y2_output_root_mean_squared_error: 1.9195 - val_loss: 2.1052 - val_y1_output_loss: 0.3522 - val_y2_output_loss: 1.7530 - val_y1_output_root_mean_squared_error: 0.5934 - val_y2_output_root_mean_squared_error: 1.3240\n",
            "Epoch 155/500\n",
            "62/62 [==============================] - 0s 3ms/step - loss: 1.1656 - y1_output_loss: 0.2619 - y2_output_loss: 0.9037 - y1_output_root_mean_squared_error: 0.5113 - y2_output_root_mean_squared_error: 0.9452 - val_loss: 2.0324 - val_y1_output_loss: 0.4632 - val_y2_output_loss: 1.5692 - val_y1_output_root_mean_squared_error: 0.6806 - val_y2_output_root_mean_squared_error: 1.2527\n",
            "Epoch 156/500\n",
            "62/62 [==============================] - 0s 3ms/step - loss: 1.3650 - y1_output_loss: 0.2965 - y2_output_loss: 1.0685 - y1_output_root_mean_squared_error: 0.5439 - y2_output_root_mean_squared_error: 1.0257 - val_loss: 2.0305 - val_y1_output_loss: 0.2965 - val_y2_output_loss: 1.7340 - val_y1_output_root_mean_squared_error: 0.5445 - val_y2_output_root_mean_squared_error: 1.3168\n",
            "Epoch 157/500\n",
            "62/62 [==============================] - 0s 3ms/step - loss: 1.4360 - y1_output_loss: 0.3307 - y2_output_loss: 1.1052 - y1_output_root_mean_squared_error: 0.5690 - y2_output_root_mean_squared_error: 1.0452 - val_loss: 1.9614 - val_y1_output_loss: 0.2977 - val_y2_output_loss: 1.6637 - val_y1_output_root_mean_squared_error: 0.5456 - val_y2_output_root_mean_squared_error: 1.2898\n",
            "Epoch 158/500\n",
            "62/62 [==============================] - 0s 3ms/step - loss: 1.8653 - y1_output_loss: 0.4361 - y2_output_loss: 1.4292 - y1_output_root_mean_squared_error: 0.6587 - y2_output_root_mean_squared_error: 1.1900 - val_loss: 2.5384 - val_y1_output_loss: 0.2624 - val_y2_output_loss: 2.2760 - val_y1_output_root_mean_squared_error: 0.5122 - val_y2_output_root_mean_squared_error: 1.5086\n",
            "Epoch 159/500\n",
            "62/62 [==============================] - 0s 2ms/step - loss: 1.4439 - y1_output_loss: 0.2762 - y2_output_loss: 1.1676 - y1_output_root_mean_squared_error: 0.5241 - y2_output_root_mean_squared_error: 1.0786 - val_loss: 3.1226 - val_y1_output_loss: 0.5536 - val_y2_output_loss: 2.5689 - val_y1_output_root_mean_squared_error: 0.7441 - val_y2_output_root_mean_squared_error: 1.6028\n",
            "Epoch 160/500\n",
            "62/62 [==============================] - 0s 2ms/step - loss: 1.3686 - y1_output_loss: 0.3566 - y2_output_loss: 1.0120 - y1_output_root_mean_squared_error: 0.5953 - y2_output_root_mean_squared_error: 1.0042 - val_loss: 2.8654 - val_y1_output_loss: 0.3766 - val_y2_output_loss: 2.4888 - val_y1_output_root_mean_squared_error: 0.6137 - val_y2_output_root_mean_squared_error: 1.5776\n",
            "Epoch 161/500\n",
            "62/62 [==============================] - 0s 3ms/step - loss: 1.5034 - y1_output_loss: 0.3911 - y2_output_loss: 1.1122 - y1_output_root_mean_squared_error: 0.6176 - y2_output_root_mean_squared_error: 1.0377 - val_loss: 2.3036 - val_y1_output_loss: 0.3858 - val_y2_output_loss: 1.9178 - val_y1_output_root_mean_squared_error: 0.6211 - val_y2_output_root_mean_squared_error: 1.3848\n",
            "Epoch 162/500\n",
            "62/62 [==============================] - 0s 2ms/step - loss: 1.3671 - y1_output_loss: 0.2965 - y2_output_loss: 1.0706 - y1_output_root_mean_squared_error: 0.5436 - y2_output_root_mean_squared_error: 1.0324 - val_loss: 1.7837 - val_y1_output_loss: 0.2664 - val_y2_output_loss: 1.5173 - val_y1_output_root_mean_squared_error: 0.5161 - val_y2_output_root_mean_squared_error: 1.2318\n",
            "Epoch 163/500\n",
            "62/62 [==============================] - 0s 3ms/step - loss: 0.9755 - y1_output_loss: 0.2694 - y2_output_loss: 0.7061 - y1_output_root_mean_squared_error: 0.5179 - y2_output_root_mean_squared_error: 0.8389 - val_loss: 2.1038 - val_y1_output_loss: 0.3803 - val_y2_output_loss: 1.7235 - val_y1_output_root_mean_squared_error: 0.6167 - val_y2_output_root_mean_squared_error: 1.3128\n",
            "Epoch 164/500\n",
            "62/62 [==============================] - 0s 3ms/step - loss: 1.5556 - y1_output_loss: 0.3430 - y2_output_loss: 1.2126 - y1_output_root_mean_squared_error: 0.5812 - y2_output_root_mean_squared_error: 1.0830 - val_loss: 1.7775 - val_y1_output_loss: 0.2914 - val_y2_output_loss: 1.4861 - val_y1_output_root_mean_squared_error: 0.5398 - val_y2_output_root_mean_squared_error: 1.2191\n",
            "Epoch 165/500\n",
            "62/62 [==============================] - 0s 2ms/step - loss: 1.1789 - y1_output_loss: 0.2195 - y2_output_loss: 0.9594 - y1_output_root_mean_squared_error: 0.4667 - y2_output_root_mean_squared_error: 0.9710 - val_loss: 1.7077 - val_y1_output_loss: 0.2719 - val_y2_output_loss: 1.4358 - val_y1_output_root_mean_squared_error: 0.5214 - val_y2_output_root_mean_squared_error: 1.1983\n",
            "Epoch 166/500\n",
            "62/62 [==============================] - 0s 2ms/step - loss: 1.2051 - y1_output_loss: 0.2063 - y2_output_loss: 0.9988 - y1_output_root_mean_squared_error: 0.4529 - y2_output_root_mean_squared_error: 0.9960 - val_loss: 1.7991 - val_y1_output_loss: 0.3050 - val_y2_output_loss: 1.4941 - val_y1_output_root_mean_squared_error: 0.5523 - val_y2_output_root_mean_squared_error: 1.2223\n",
            "Epoch 167/500\n",
            "62/62 [==============================] - 0s 2ms/step - loss: 1.3864 - y1_output_loss: 0.3477 - y2_output_loss: 1.0387 - y1_output_root_mean_squared_error: 0.5864 - y2_output_root_mean_squared_error: 1.0171 - val_loss: 3.4943 - val_y1_output_loss: 0.4979 - val_y2_output_loss: 2.9964 - val_y1_output_root_mean_squared_error: 0.7056 - val_y2_output_root_mean_squared_error: 1.7310\n",
            "Epoch 168/500\n",
            "62/62 [==============================] - 0s 2ms/step - loss: 1.1971 - y1_output_loss: 0.2992 - y2_output_loss: 0.8980 - y1_output_root_mean_squared_error: 0.5436 - y2_output_root_mean_squared_error: 0.9449 - val_loss: 2.0631 - val_y1_output_loss: 0.3181 - val_y2_output_loss: 1.7450 - val_y1_output_root_mean_squared_error: 0.5640 - val_y2_output_root_mean_squared_error: 1.3210\n",
            "Epoch 169/500\n",
            "62/62 [==============================] - 0s 2ms/step - loss: 1.4049 - y1_output_loss: 0.3639 - y2_output_loss: 1.0410 - y1_output_root_mean_squared_error: 0.6005 - y2_output_root_mean_squared_error: 1.0159 - val_loss: 2.1849 - val_y1_output_loss: 0.2930 - val_y2_output_loss: 1.8919 - val_y1_output_root_mean_squared_error: 0.5413 - val_y2_output_root_mean_squared_error: 1.3755\n",
            "Epoch 170/500\n",
            "62/62 [==============================] - 0s 3ms/step - loss: 0.9532 - y1_output_loss: 0.2184 - y2_output_loss: 0.7348 - y1_output_root_mean_squared_error: 0.4658 - y2_output_root_mean_squared_error: 0.8439 - val_loss: 1.8203 - val_y1_output_loss: 0.2546 - val_y2_output_loss: 1.5658 - val_y1_output_root_mean_squared_error: 0.5045 - val_y2_output_root_mean_squared_error: 1.2513\n",
            "Epoch 171/500\n",
            "62/62 [==============================] - 0s 2ms/step - loss: 0.8532 - y1_output_loss: 0.2007 - y2_output_loss: 0.6525 - y1_output_root_mean_squared_error: 0.4466 - y2_output_root_mean_squared_error: 0.8032 - val_loss: 1.9335 - val_y1_output_loss: 0.3002 - val_y2_output_loss: 1.6334 - val_y1_output_root_mean_squared_error: 0.5479 - val_y2_output_root_mean_squared_error: 1.2780\n",
            "Epoch 172/500\n",
            "62/62 [==============================] - 0s 2ms/step - loss: 1.1947 - y1_output_loss: 0.2162 - y2_output_loss: 0.9785 - y1_output_root_mean_squared_error: 0.4639 - y2_output_root_mean_squared_error: 0.9862 - val_loss: 2.2249 - val_y1_output_loss: 0.2666 - val_y2_output_loss: 1.9582 - val_y1_output_root_mean_squared_error: 0.5164 - val_y2_output_root_mean_squared_error: 1.3994\n",
            "Epoch 173/500\n",
            "62/62 [==============================] - 0s 3ms/step - loss: 0.9989 - y1_output_loss: 0.2260 - y2_output_loss: 0.7730 - y1_output_root_mean_squared_error: 0.4748 - y2_output_root_mean_squared_error: 0.8724 - val_loss: 1.9029 - val_y1_output_loss: 0.2778 - val_y2_output_loss: 1.6251 - val_y1_output_root_mean_squared_error: 0.5270 - val_y2_output_root_mean_squared_error: 1.2748\n",
            "Epoch 174/500\n",
            "62/62 [==============================] - 0s 2ms/step - loss: 1.1160 - y1_output_loss: 0.2263 - y2_output_loss: 0.8897 - y1_output_root_mean_squared_error: 0.4750 - y2_output_root_mean_squared_error: 0.9418 - val_loss: 1.6012 - val_y1_output_loss: 0.2790 - val_y2_output_loss: 1.3222 - val_y1_output_root_mean_squared_error: 0.5282 - val_y2_output_root_mean_squared_error: 1.1499\n",
            "Epoch 175/500\n",
            "62/62 [==============================] - 0s 2ms/step - loss: 1.2075 - y1_output_loss: 0.2834 - y2_output_loss: 0.9241 - y1_output_root_mean_squared_error: 0.5298 - y2_output_root_mean_squared_error: 0.9457 - val_loss: 2.0079 - val_y1_output_loss: 0.3292 - val_y2_output_loss: 1.6787 - val_y1_output_root_mean_squared_error: 0.5737 - val_y2_output_root_mean_squared_error: 1.2957\n",
            "Epoch 176/500\n",
            "62/62 [==============================] - 0s 3ms/step - loss: 1.0476 - y1_output_loss: 0.2622 - y2_output_loss: 0.7854 - y1_output_root_mean_squared_error: 0.5110 - y2_output_root_mean_squared_error: 0.8808 - val_loss: 1.8216 - val_y1_output_loss: 0.2775 - val_y2_output_loss: 1.5441 - val_y1_output_root_mean_squared_error: 0.5268 - val_y2_output_root_mean_squared_error: 1.2426\n",
            "Epoch 177/500\n",
            "62/62 [==============================] - 0s 2ms/step - loss: 1.0251 - y1_output_loss: 0.1996 - y2_output_loss: 0.8254 - y1_output_root_mean_squared_error: 0.4440 - y2_output_root_mean_squared_error: 0.9068 - val_loss: 1.7436 - val_y1_output_loss: 0.2784 - val_y2_output_loss: 1.4652 - val_y1_output_root_mean_squared_error: 0.5277 - val_y2_output_root_mean_squared_error: 1.2105\n",
            "Epoch 178/500\n",
            "62/62 [==============================] - 0s 2ms/step - loss: 1.3161 - y1_output_loss: 0.2661 - y2_output_loss: 1.0499 - y1_output_root_mean_squared_error: 0.5150 - y2_output_root_mean_squared_error: 1.0171 - val_loss: 2.1326 - val_y1_output_loss: 0.3979 - val_y2_output_loss: 1.7348 - val_y1_output_root_mean_squared_error: 0.6308 - val_y2_output_root_mean_squared_error: 1.3171\n",
            "Epoch 179/500\n",
            "62/62 [==============================] - 0s 2ms/step - loss: 1.1328 - y1_output_loss: 0.2621 - y2_output_loss: 0.8707 - y1_output_root_mean_squared_error: 0.5107 - y2_output_root_mean_squared_error: 0.9312 - val_loss: 1.8350 - val_y1_output_loss: 0.3331 - val_y2_output_loss: 1.5019 - val_y1_output_root_mean_squared_error: 0.5771 - val_y2_output_root_mean_squared_error: 1.2255\n",
            "Epoch 180/500\n",
            "62/62 [==============================] - 0s 3ms/step - loss: 1.2775 - y1_output_loss: 0.2754 - y2_output_loss: 1.0021 - y1_output_root_mean_squared_error: 0.5177 - y2_output_root_mean_squared_error: 0.9914 - val_loss: 1.9318 - val_y1_output_loss: 0.3855 - val_y2_output_loss: 1.5463 - val_y1_output_root_mean_squared_error: 0.6209 - val_y2_output_root_mean_squared_error: 1.2435\n",
            "Epoch 181/500\n",
            "62/62 [==============================] - 0s 2ms/step - loss: 1.2867 - y1_output_loss: 0.2862 - y2_output_loss: 1.0005 - y1_output_root_mean_squared_error: 0.5336 - y2_output_root_mean_squared_error: 0.9933 - val_loss: 3.5760 - val_y1_output_loss: 0.4849 - val_y2_output_loss: 3.0911 - val_y1_output_root_mean_squared_error: 0.6963 - val_y2_output_root_mean_squared_error: 1.7582\n",
            "Epoch 182/500\n",
            "62/62 [==============================] - 0s 3ms/step - loss: 1.4487 - y1_output_loss: 0.2342 - y2_output_loss: 1.2145 - y1_output_root_mean_squared_error: 0.4830 - y2_output_root_mean_squared_error: 1.0980 - val_loss: 2.0296 - val_y1_output_loss: 0.2984 - val_y2_output_loss: 1.7312 - val_y1_output_root_mean_squared_error: 0.5462 - val_y2_output_root_mean_squared_error: 1.3157\n",
            "Epoch 183/500\n",
            "62/62 [==============================] - 0s 2ms/step - loss: 1.0019 - y1_output_loss: 0.2217 - y2_output_loss: 0.7802 - y1_output_root_mean_squared_error: 0.4697 - y2_output_root_mean_squared_error: 0.8761 - val_loss: 2.0465 - val_y1_output_loss: 0.2916 - val_y2_output_loss: 1.7549 - val_y1_output_root_mean_squared_error: 0.5400 - val_y2_output_root_mean_squared_error: 1.3247\n",
            "Epoch 184/500\n",
            "62/62 [==============================] - 0s 5ms/step - loss: 1.2808 - y1_output_loss: 0.2556 - y2_output_loss: 1.0251 - y1_output_root_mean_squared_error: 0.5025 - y2_output_root_mean_squared_error: 1.0013 - val_loss: 2.2285 - val_y1_output_loss: 0.4226 - val_y2_output_loss: 1.8059 - val_y1_output_root_mean_squared_error: 0.6501 - val_y2_output_root_mean_squared_error: 1.3439\n",
            "Epoch 185/500\n",
            "62/62 [==============================] - 0s 3ms/step - loss: 0.9644 - y1_output_loss: 0.2263 - y2_output_loss: 0.7382 - y1_output_root_mean_squared_error: 0.4746 - y2_output_root_mean_squared_error: 0.8581 - val_loss: 2.6174 - val_y1_output_loss: 0.3785 - val_y2_output_loss: 2.2390 - val_y1_output_root_mean_squared_error: 0.6152 - val_y2_output_root_mean_squared_error: 1.4963\n",
            "Epoch 186/500\n",
            "62/62 [==============================] - 0s 3ms/step - loss: 1.1180 - y1_output_loss: 0.2779 - y2_output_loss: 0.8401 - y1_output_root_mean_squared_error: 0.5264 - y2_output_root_mean_squared_error: 0.9143 - val_loss: 2.1095 - val_y1_output_loss: 0.2830 - val_y2_output_loss: 1.8264 - val_y1_output_root_mean_squared_error: 0.5320 - val_y2_output_root_mean_squared_error: 1.3515\n",
            "Epoch 187/500\n",
            "62/62 [==============================] - 0s 2ms/step - loss: 1.0296 - y1_output_loss: 0.2555 - y2_output_loss: 0.7741 - y1_output_root_mean_squared_error: 0.5051 - y2_output_root_mean_squared_error: 0.8747 - val_loss: 3.9935 - val_y1_output_loss: 0.4062 - val_y2_output_loss: 3.5873 - val_y1_output_root_mean_squared_error: 0.6374 - val_y2_output_root_mean_squared_error: 1.8940\n",
            "Epoch 188/500\n",
            "62/62 [==============================] - 0s 3ms/step - loss: 1.3159 - y1_output_loss: 0.3602 - y2_output_loss: 0.9557 - y1_output_root_mean_squared_error: 0.5977 - y2_output_root_mean_squared_error: 0.9752 - val_loss: 2.6817 - val_y1_output_loss: 0.4934 - val_y2_output_loss: 2.1883 - val_y1_output_root_mean_squared_error: 0.7024 - val_y2_output_root_mean_squared_error: 1.4793\n",
            "Epoch 189/500\n",
            "62/62 [==============================] - 0s 2ms/step - loss: 0.8660 - y1_output_loss: 0.2502 - y2_output_loss: 0.6159 - y1_output_root_mean_squared_error: 0.4983 - y2_output_root_mean_squared_error: 0.7825 - val_loss: 6.9159 - val_y1_output_loss: 0.4636 - val_y2_output_loss: 6.4523 - val_y1_output_root_mean_squared_error: 0.6809 - val_y2_output_root_mean_squared_error: 2.5401\n",
            "Epoch 190/500\n",
            "62/62 [==============================] - 0s 2ms/step - loss: 3.4306 - y1_output_loss: 0.5715 - y2_output_loss: 2.8591 - y1_output_root_mean_squared_error: 0.7379 - y2_output_root_mean_squared_error: 1.6411 - val_loss: 3.0624 - val_y1_output_loss: 0.6902 - val_y2_output_loss: 2.3722 - val_y1_output_root_mean_squared_error: 0.8308 - val_y2_output_root_mean_squared_error: 1.5402\n",
            "Epoch 191/500\n",
            "62/62 [==============================] - 0s 3ms/step - loss: 1.1275 - y1_output_loss: 0.2980 - y2_output_loss: 0.8295 - y1_output_root_mean_squared_error: 0.5415 - y2_output_root_mean_squared_error: 0.9038 - val_loss: 2.0480 - val_y1_output_loss: 0.2898 - val_y2_output_loss: 1.7581 - val_y1_output_root_mean_squared_error: 0.5384 - val_y2_output_root_mean_squared_error: 1.3259\n",
            "Epoch 192/500\n",
            "62/62 [==============================] - 0s 2ms/step - loss: 0.9033 - y1_output_loss: 0.2035 - y2_output_loss: 0.6999 - y1_output_root_mean_squared_error: 0.4502 - y2_output_root_mean_squared_error: 0.8348 - val_loss: 2.4475 - val_y1_output_loss: 0.2910 - val_y2_output_loss: 2.1565 - val_y1_output_root_mean_squared_error: 0.5394 - val_y2_output_root_mean_squared_error: 1.4685\n",
            "Epoch 193/500\n",
            "62/62 [==============================] - 0s 3ms/step - loss: 1.2778 - y1_output_loss: 0.2769 - y2_output_loss: 1.0009 - y1_output_root_mean_squared_error: 0.5251 - y2_output_root_mean_squared_error: 0.9966 - val_loss: 4.0949 - val_y1_output_loss: 1.2161 - val_y2_output_loss: 2.8787 - val_y1_output_root_mean_squared_error: 1.1028 - val_y2_output_root_mean_squared_error: 1.6967\n",
            "Epoch 194/500\n",
            "62/62 [==============================] - 0s 2ms/step - loss: 1.6827 - y1_output_loss: 0.3654 - y2_output_loss: 1.3174 - y1_output_root_mean_squared_error: 0.6007 - y2_output_root_mean_squared_error: 1.1424 - val_loss: 2.7318 - val_y1_output_loss: 0.7384 - val_y2_output_loss: 1.9934 - val_y1_output_root_mean_squared_error: 0.8593 - val_y2_output_root_mean_squared_error: 1.4119\n",
            "Epoch 195/500\n",
            "62/62 [==============================] - 0s 2ms/step - loss: 1.1292 - y1_output_loss: 0.2806 - y2_output_loss: 0.8485 - y1_output_root_mean_squared_error: 0.5237 - y2_output_root_mean_squared_error: 0.9178 - val_loss: 2.3681 - val_y1_output_loss: 0.3093 - val_y2_output_loss: 2.0588 - val_y1_output_root_mean_squared_error: 0.5562 - val_y2_output_root_mean_squared_error: 1.4348\n",
            "Epoch 196/500\n",
            "62/62 [==============================] - 0s 2ms/step - loss: 0.9818 - y1_output_loss: 0.2720 - y2_output_loss: 0.7098 - y1_output_root_mean_squared_error: 0.5205 - y2_output_root_mean_squared_error: 0.8388 - val_loss: 1.6042 - val_y1_output_loss: 0.2428 - val_y2_output_loss: 1.3614 - val_y1_output_root_mean_squared_error: 0.4928 - val_y2_output_root_mean_squared_error: 1.1668\n",
            "Epoch 197/500\n",
            "62/62 [==============================] - 0s 2ms/step - loss: 1.0716 - y1_output_loss: 0.2499 - y2_output_loss: 0.8217 - y1_output_root_mean_squared_error: 0.4981 - y2_output_root_mean_squared_error: 0.9026 - val_loss: 1.9668 - val_y1_output_loss: 0.2801 - val_y2_output_loss: 1.6867 - val_y1_output_root_mean_squared_error: 0.5292 - val_y2_output_root_mean_squared_error: 1.2987\n",
            "Epoch 198/500\n",
            "62/62 [==============================] - 0s 3ms/step - loss: 0.9577 - y1_output_loss: 0.2314 - y2_output_loss: 0.7263 - y1_output_root_mean_squared_error: 0.4804 - y2_output_root_mean_squared_error: 0.8509 - val_loss: 1.7966 - val_y1_output_loss: 0.2809 - val_y2_output_loss: 1.5157 - val_y1_output_root_mean_squared_error: 0.5300 - val_y2_output_root_mean_squared_error: 1.2311\n",
            "Epoch 199/500\n",
            "62/62 [==============================] - 0s 2ms/step - loss: 0.8522 - y1_output_loss: 0.1723 - y2_output_loss: 0.6799 - y1_output_root_mean_squared_error: 0.4137 - y2_output_root_mean_squared_error: 0.8229 - val_loss: 1.6986 - val_y1_output_loss: 0.2615 - val_y2_output_loss: 1.4372 - val_y1_output_root_mean_squared_error: 0.5113 - val_y2_output_root_mean_squared_error: 1.1988\n",
            "Epoch 200/500\n",
            "62/62 [==============================] - 0s 3ms/step - loss: 0.8136 - y1_output_loss: 0.1783 - y2_output_loss: 0.6352 - y1_output_root_mean_squared_error: 0.4210 - y2_output_root_mean_squared_error: 0.7946 - val_loss: 2.5360 - val_y1_output_loss: 0.3773 - val_y2_output_loss: 2.1587 - val_y1_output_root_mean_squared_error: 0.6142 - val_y2_output_root_mean_squared_error: 1.4693\n",
            "Epoch 201/500\n",
            "62/62 [==============================] - 0s 3ms/step - loss: 1.1561 - y1_output_loss: 0.2998 - y2_output_loss: 0.8563 - y1_output_root_mean_squared_error: 0.5445 - y2_output_root_mean_squared_error: 0.9228 - val_loss: 1.7742 - val_y1_output_loss: 0.3512 - val_y2_output_loss: 1.4230 - val_y1_output_root_mean_squared_error: 0.5926 - val_y2_output_root_mean_squared_error: 1.1929\n",
            "Epoch 202/500\n",
            "62/62 [==============================] - 0s 3ms/step - loss: 1.4089 - y1_output_loss: 0.3187 - y2_output_loss: 1.0902 - y1_output_root_mean_squared_error: 0.5545 - y2_output_root_mean_squared_error: 1.0280 - val_loss: 4.7086 - val_y1_output_loss: 1.0736 - val_y2_output_loss: 3.6350 - val_y1_output_root_mean_squared_error: 1.0361 - val_y2_output_root_mean_squared_error: 1.9066\n",
            "Epoch 203/500\n",
            "62/62 [==============================] - 0s 3ms/step - loss: 1.7742 - y1_output_loss: 0.4776 - y2_output_loss: 1.2966 - y1_output_root_mean_squared_error: 0.6832 - y2_output_root_mean_squared_error: 1.1261 - val_loss: 1.7736 - val_y1_output_loss: 0.2454 - val_y2_output_loss: 1.5282 - val_y1_output_root_mean_squared_error: 0.4954 - val_y2_output_root_mean_squared_error: 1.2362\n",
            "Epoch 204/500\n",
            "62/62 [==============================] - 0s 2ms/step - loss: 0.8822 - y1_output_loss: 0.2011 - y2_output_loss: 0.6810 - y1_output_root_mean_squared_error: 0.4473 - y2_output_root_mean_squared_error: 0.8191 - val_loss: 1.8008 - val_y1_output_loss: 0.3679 - val_y2_output_loss: 1.4329 - val_y1_output_root_mean_squared_error: 0.6066 - val_y2_output_root_mean_squared_error: 1.1970\n",
            "Epoch 205/500\n",
            "62/62 [==============================] - 0s 3ms/step - loss: 0.6680 - y1_output_loss: 0.1784 - y2_output_loss: 0.4896 - y1_output_root_mean_squared_error: 0.4217 - y2_output_root_mean_squared_error: 0.6880 - val_loss: 2.1213 - val_y1_output_loss: 0.4094 - val_y2_output_loss: 1.7119 - val_y1_output_root_mean_squared_error: 0.6398 - val_y2_output_root_mean_squared_error: 1.3084\n",
            "Epoch 206/500\n",
            "62/62 [==============================] - 0s 2ms/step - loss: 1.1269 - y1_output_loss: 0.2177 - y2_output_loss: 0.9091 - y1_output_root_mean_squared_error: 0.4655 - y2_output_root_mean_squared_error: 0.9509 - val_loss: 2.1268 - val_y1_output_loss: 0.2922 - val_y2_output_loss: 1.8346 - val_y1_output_root_mean_squared_error: 0.5405 - val_y2_output_root_mean_squared_error: 1.3545\n",
            "Epoch 207/500\n",
            "62/62 [==============================] - 0s 2ms/step - loss: 0.8342 - y1_output_loss: 0.2269 - y2_output_loss: 0.6072 - y1_output_root_mean_squared_error: 0.4747 - y2_output_root_mean_squared_error: 0.7762 - val_loss: 1.9679 - val_y1_output_loss: 0.2652 - val_y2_output_loss: 1.7027 - val_y1_output_root_mean_squared_error: 0.5150 - val_y2_output_root_mean_squared_error: 1.3049\n",
            "Epoch 208/500\n",
            "62/62 [==============================] - 0s 3ms/step - loss: 0.9790 - y1_output_loss: 0.2039 - y2_output_loss: 0.7751 - y1_output_root_mean_squared_error: 0.4499 - y2_output_root_mean_squared_error: 0.8781 - val_loss: 1.7051 - val_y1_output_loss: 0.2381 - val_y2_output_loss: 1.4671 - val_y1_output_root_mean_squared_error: 0.4879 - val_y2_output_root_mean_squared_error: 1.2112\n",
            "Epoch 209/500\n",
            "62/62 [==============================] - 0s 2ms/step - loss: 0.9790 - y1_output_loss: 0.2568 - y2_output_loss: 0.7222 - y1_output_root_mean_squared_error: 0.5004 - y2_output_root_mean_squared_error: 0.8452 - val_loss: 1.8633 - val_y1_output_loss: 0.3492 - val_y2_output_loss: 1.5141 - val_y1_output_root_mean_squared_error: 0.5910 - val_y2_output_root_mean_squared_error: 1.2305\n",
            "Epoch 210/500\n",
            "62/62 [==============================] - 0s 2ms/step - loss: 1.1090 - y1_output_loss: 0.2300 - y2_output_loss: 0.8790 - y1_output_root_mean_squared_error: 0.4789 - y2_output_root_mean_squared_error: 0.9312 - val_loss: 1.5803 - val_y1_output_loss: 0.2229 - val_y2_output_loss: 1.3574 - val_y1_output_root_mean_squared_error: 0.4721 - val_y2_output_root_mean_squared_error: 1.1651\n",
            "Epoch 211/500\n",
            "62/62 [==============================] - 0s 2ms/step - loss: 1.0436 - y1_output_loss: 0.2238 - y2_output_loss: 0.8197 - y1_output_root_mean_squared_error: 0.4715 - y2_output_root_mean_squared_error: 0.8994 - val_loss: 2.0152 - val_y1_output_loss: 0.3818 - val_y2_output_loss: 1.6334 - val_y1_output_root_mean_squared_error: 0.6179 - val_y2_output_root_mean_squared_error: 1.2780\n",
            "Epoch 212/500\n",
            "62/62 [==============================] - 0s 3ms/step - loss: 2.1324 - y1_output_loss: 0.3814 - y2_output_loss: 1.7509 - y1_output_root_mean_squared_error: 0.6139 - y2_output_root_mean_squared_error: 1.3057 - val_loss: 1.6893 - val_y1_output_loss: 0.2805 - val_y2_output_loss: 1.4088 - val_y1_output_root_mean_squared_error: 0.5296 - val_y2_output_root_mean_squared_error: 1.1869\n",
            "Epoch 213/500\n",
            "62/62 [==============================] - 0s 2ms/step - loss: 0.7982 - y1_output_loss: 0.1840 - y2_output_loss: 0.6142 - y1_output_root_mean_squared_error: 0.4285 - y2_output_root_mean_squared_error: 0.7820 - val_loss: 2.0296 - val_y1_output_loss: 0.2578 - val_y2_output_loss: 1.7718 - val_y1_output_root_mean_squared_error: 0.5077 - val_y2_output_root_mean_squared_error: 1.3311\n",
            "Epoch 214/500\n",
            "62/62 [==============================] - 0s 2ms/step - loss: 1.7380 - y1_output_loss: 0.3574 - y2_output_loss: 1.3806 - y1_output_root_mean_squared_error: 0.5911 - y2_output_root_mean_squared_error: 1.1495 - val_loss: 1.7830 - val_y1_output_loss: 0.2703 - val_y2_output_loss: 1.5127 - val_y1_output_root_mean_squared_error: 0.5199 - val_y2_output_root_mean_squared_error: 1.2299\n",
            "Epoch 215/500\n",
            "62/62 [==============================] - 0s 2ms/step - loss: 0.8107 - y1_output_loss: 0.1987 - y2_output_loss: 0.6120 - y1_output_root_mean_squared_error: 0.4449 - y2_output_root_mean_squared_error: 0.7797 - val_loss: 3.0172 - val_y1_output_loss: 0.8365 - val_y2_output_loss: 2.1806 - val_y1_output_root_mean_squared_error: 0.9146 - val_y2_output_root_mean_squared_error: 1.4767\n",
            "Epoch 216/500\n",
            "62/62 [==============================] - 0s 3ms/step - loss: 1.5416 - y1_output_loss: 0.3937 - y2_output_loss: 1.1479 - y1_output_root_mean_squared_error: 0.6191 - y2_output_root_mean_squared_error: 1.0613 - val_loss: 2.5695 - val_y1_output_loss: 0.3985 - val_y2_output_loss: 2.1710 - val_y1_output_root_mean_squared_error: 0.6313 - val_y2_output_root_mean_squared_error: 1.4734\n",
            "Epoch 217/500\n",
            "62/62 [==============================] - 0s 2ms/step - loss: 1.7239 - y1_output_loss: 0.4258 - y2_output_loss: 1.2981 - y1_output_root_mean_squared_error: 0.6490 - y2_output_root_mean_squared_error: 1.1321 - val_loss: 2.2333 - val_y1_output_loss: 0.5196 - val_y2_output_loss: 1.7137 - val_y1_output_root_mean_squared_error: 0.7208 - val_y2_output_root_mean_squared_error: 1.3091\n",
            "Epoch 218/500\n",
            "62/62 [==============================] - 0s 3ms/step - loss: 0.9936 - y1_output_loss: 0.2068 - y2_output_loss: 0.7869 - y1_output_root_mean_squared_error: 0.4538 - y2_output_root_mean_squared_error: 0.8844 - val_loss: 1.7017 - val_y1_output_loss: 0.2393 - val_y2_output_loss: 1.4624 - val_y1_output_root_mean_squared_error: 0.4892 - val_y2_output_root_mean_squared_error: 1.2093\n",
            "Epoch 219/500\n",
            "62/62 [==============================] - 0s 2ms/step - loss: 1.1165 - y1_output_loss: 0.2479 - y2_output_loss: 0.8687 - y1_output_root_mean_squared_error: 0.4959 - y2_output_root_mean_squared_error: 0.9270 - val_loss: 2.6162 - val_y1_output_loss: 0.5115 - val_y2_output_loss: 2.1047 - val_y1_output_root_mean_squared_error: 0.7152 - val_y2_output_root_mean_squared_error: 1.4508\n",
            "Epoch 220/500\n",
            "62/62 [==============================] - 0s 3ms/step - loss: 0.7278 - y1_output_loss: 0.1737 - y2_output_loss: 0.5542 - y1_output_root_mean_squared_error: 0.4163 - y2_output_root_mean_squared_error: 0.7428 - val_loss: 3.9344 - val_y1_output_loss: 0.3905 - val_y2_output_loss: 3.5439 - val_y1_output_root_mean_squared_error: 0.6249 - val_y2_output_root_mean_squared_error: 1.8825\n",
            "Epoch 221/500\n",
            "62/62 [==============================] - 0s 2ms/step - loss: 1.2679 - y1_output_loss: 0.2636 - y2_output_loss: 1.0043 - y1_output_root_mean_squared_error: 0.5122 - y2_output_root_mean_squared_error: 0.9894 - val_loss: 2.0917 - val_y1_output_loss: 0.2699 - val_y2_output_loss: 1.8218 - val_y1_output_root_mean_squared_error: 0.5195 - val_y2_output_root_mean_squared_error: 1.3497\n",
            "Epoch 222/500\n",
            "62/62 [==============================] - 0s 3ms/step - loss: 1.2267 - y1_output_loss: 0.2375 - y2_output_loss: 0.9892 - y1_output_root_mean_squared_error: 0.4869 - y2_output_root_mean_squared_error: 0.9817 - val_loss: 1.8305 - val_y1_output_loss: 0.2512 - val_y2_output_loss: 1.5792 - val_y1_output_root_mean_squared_error: 0.5012 - val_y2_output_root_mean_squared_error: 1.2567\n",
            "Epoch 223/500\n",
            "62/62 [==============================] - 0s 2ms/step - loss: 1.2605 - y1_output_loss: 0.2222 - y2_output_loss: 1.0383 - y1_output_root_mean_squared_error: 0.4646 - y2_output_root_mean_squared_error: 1.0038 - val_loss: 1.9224 - val_y1_output_loss: 0.2847 - val_y2_output_loss: 1.6377 - val_y1_output_root_mean_squared_error: 0.5336 - val_y2_output_root_mean_squared_error: 1.2797\n",
            "Epoch 224/500\n",
            "62/62 [==============================] - 0s 3ms/step - loss: 0.7377 - y1_output_loss: 0.1857 - y2_output_loss: 0.5521 - y1_output_root_mean_squared_error: 0.4300 - y2_output_root_mean_squared_error: 0.7405 - val_loss: 1.8550 - val_y1_output_loss: 0.2326 - val_y2_output_loss: 1.6223 - val_y1_output_root_mean_squared_error: 0.4823 - val_y2_output_root_mean_squared_error: 1.2737\n",
            "Epoch 225/500\n",
            "62/62 [==============================] - 0s 2ms/step - loss: 0.8679 - y1_output_loss: 0.1772 - y2_output_loss: 0.6907 - y1_output_root_mean_squared_error: 0.4139 - y2_output_root_mean_squared_error: 0.8236 - val_loss: 1.9322 - val_y1_output_loss: 0.2720 - val_y2_output_loss: 1.6602 - val_y1_output_root_mean_squared_error: 0.5215 - val_y2_output_root_mean_squared_error: 1.2885\n",
            "Epoch 226/500\n",
            "62/62 [==============================] - 0s 2ms/step - loss: 0.8759 - y1_output_loss: 0.2214 - y2_output_loss: 0.6545 - y1_output_root_mean_squared_error: 0.4686 - y2_output_root_mean_squared_error: 0.8074 - val_loss: 1.7741 - val_y1_output_loss: 0.2599 - val_y2_output_loss: 1.5142 - val_y1_output_root_mean_squared_error: 0.5098 - val_y2_output_root_mean_squared_error: 1.2305\n",
            "Epoch 227/500\n",
            "62/62 [==============================] - 0s 2ms/step - loss: 0.8004 - y1_output_loss: 0.1920 - y2_output_loss: 0.6084 - y1_output_root_mean_squared_error: 0.4356 - y2_output_root_mean_squared_error: 0.7740 - val_loss: 5.9297 - val_y1_output_loss: 0.2993 - val_y2_output_loss: 5.6304 - val_y1_output_root_mean_squared_error: 0.5471 - val_y2_output_root_mean_squared_error: 2.3728\n",
            "Epoch 228/500\n",
            "62/62 [==============================] - 0s 5ms/step - loss: 1.2720 - y1_output_loss: 0.2165 - y2_output_loss: 1.0554 - y1_output_root_mean_squared_error: 0.4606 - y2_output_root_mean_squared_error: 0.9973 - val_loss: 1.7744 - val_y1_output_loss: 0.2629 - val_y2_output_loss: 1.5115 - val_y1_output_root_mean_squared_error: 0.5127 - val_y2_output_root_mean_squared_error: 1.2294\n",
            "Epoch 229/500\n",
            "62/62 [==============================] - 0s 2ms/step - loss: 0.7493 - y1_output_loss: 0.1610 - y2_output_loss: 0.5883 - y1_output_root_mean_squared_error: 0.4005 - y2_output_root_mean_squared_error: 0.7610 - val_loss: 1.5764 - val_y1_output_loss: 0.2132 - val_y2_output_loss: 1.3632 - val_y1_output_root_mean_squared_error: 0.4617 - val_y2_output_root_mean_squared_error: 1.1676\n",
            "Epoch 230/500\n",
            "62/62 [==============================] - 0s 3ms/step - loss: 0.7887 - y1_output_loss: 0.1813 - y2_output_loss: 0.6074 - y1_output_root_mean_squared_error: 0.4246 - y2_output_root_mean_squared_error: 0.7747 - val_loss: 2.0766 - val_y1_output_loss: 0.3158 - val_y2_output_loss: 1.7608 - val_y1_output_root_mean_squared_error: 0.5619 - val_y2_output_root_mean_squared_error: 1.3269\n",
            "Epoch 231/500\n",
            "62/62 [==============================] - 0s 3ms/step - loss: 0.7282 - y1_output_loss: 0.2115 - y2_output_loss: 0.5168 - y1_output_root_mean_squared_error: 0.4593 - y2_output_root_mean_squared_error: 0.7147 - val_loss: 1.8148 - val_y1_output_loss: 0.2337 - val_y2_output_loss: 1.5811 - val_y1_output_root_mean_squared_error: 0.4835 - val_y2_output_root_mean_squared_error: 1.2574\n",
            "Epoch 232/500\n",
            "62/62 [==============================] - 0s 2ms/step - loss: 0.9087 - y1_output_loss: 0.2469 - y2_output_loss: 0.6618 - y1_output_root_mean_squared_error: 0.4963 - y2_output_root_mean_squared_error: 0.8122 - val_loss: 1.7136 - val_y1_output_loss: 0.2744 - val_y2_output_loss: 1.4391 - val_y1_output_root_mean_squared_error: 0.5239 - val_y2_output_root_mean_squared_error: 1.1996\n",
            "Epoch 233/500\n",
            "62/62 [==============================] - 0s 3ms/step - loss: 0.8349 - y1_output_loss: 0.2019 - y2_output_loss: 0.6330 - y1_output_root_mean_squared_error: 0.4477 - y2_output_root_mean_squared_error: 0.7812 - val_loss: 2.1840 - val_y1_output_loss: 0.5194 - val_y2_output_loss: 1.6646 - val_y1_output_root_mean_squared_error: 0.7207 - val_y2_output_root_mean_squared_error: 1.2902\n",
            "Epoch 234/500\n",
            "62/62 [==============================] - 0s 3ms/step - loss: 0.6823 - y1_output_loss: 0.2009 - y2_output_loss: 0.4813 - y1_output_root_mean_squared_error: 0.4472 - y2_output_root_mean_squared_error: 0.6918 - val_loss: 1.9153 - val_y1_output_loss: 0.2062 - val_y2_output_loss: 1.7091 - val_y1_output_root_mean_squared_error: 0.4541 - val_y2_output_root_mean_squared_error: 1.3073\n",
            "Epoch 235/500\n",
            "62/62 [==============================] - 0s 3ms/step - loss: 0.6419 - y1_output_loss: 0.1456 - y2_output_loss: 0.4962 - y1_output_root_mean_squared_error: 0.3806 - y2_output_root_mean_squared_error: 0.7038 - val_loss: 1.7832 - val_y1_output_loss: 0.2836 - val_y2_output_loss: 1.4996 - val_y1_output_root_mean_squared_error: 0.5325 - val_y2_output_root_mean_squared_error: 1.2246\n",
            "Epoch 236/500\n",
            "62/62 [==============================] - 0s 3ms/step - loss: 0.7813 - y1_output_loss: 0.1880 - y2_output_loss: 0.5933 - y1_output_root_mean_squared_error: 0.4333 - y2_output_root_mean_squared_error: 0.7659 - val_loss: 1.6162 - val_y1_output_loss: 0.2357 - val_y2_output_loss: 1.3805 - val_y1_output_root_mean_squared_error: 0.4855 - val_y2_output_root_mean_squared_error: 1.1749\n",
            "Epoch 237/500\n",
            "62/62 [==============================] - 0s 3ms/step - loss: 0.8245 - y1_output_loss: 0.1833 - y2_output_loss: 0.6412 - y1_output_root_mean_squared_error: 0.4262 - y2_output_root_mean_squared_error: 0.7971 - val_loss: 1.5666 - val_y1_output_loss: 0.2252 - val_y2_output_loss: 1.3414 - val_y1_output_root_mean_squared_error: 0.4746 - val_y2_output_root_mean_squared_error: 1.1582\n",
            "Epoch 238/500\n",
            "62/62 [==============================] - 0s 3ms/step - loss: 0.6943 - y1_output_loss: 0.1541 - y2_output_loss: 0.5402 - y1_output_root_mean_squared_error: 0.3910 - y2_output_root_mean_squared_error: 0.7318 - val_loss: 1.7457 - val_y1_output_loss: 0.2237 - val_y2_output_loss: 1.5220 - val_y1_output_root_mean_squared_error: 0.4729 - val_y2_output_root_mean_squared_error: 1.2337\n",
            "Epoch 239/500\n",
            "62/62 [==============================] - 0s 2ms/step - loss: 0.9590 - y1_output_loss: 0.1839 - y2_output_loss: 0.7751 - y1_output_root_mean_squared_error: 0.4284 - y2_output_root_mean_squared_error: 0.8767 - val_loss: 1.5519 - val_y1_output_loss: 0.2051 - val_y2_output_loss: 1.3468 - val_y1_output_root_mean_squared_error: 0.4529 - val_y2_output_root_mean_squared_error: 1.1605\n",
            "Epoch 240/500\n",
            "62/62 [==============================] - 0s 2ms/step - loss: 1.0569 - y1_output_loss: 0.2395 - y2_output_loss: 0.8175 - y1_output_root_mean_squared_error: 0.4870 - y2_output_root_mean_squared_error: 0.9019 - val_loss: 2.2425 - val_y1_output_loss: 0.5222 - val_y2_output_loss: 1.7203 - val_y1_output_root_mean_squared_error: 0.7226 - val_y2_output_root_mean_squared_error: 1.3116\n",
            "Epoch 241/500\n",
            "62/62 [==============================] - 0s 3ms/step - loss: 0.9866 - y1_output_loss: 0.2402 - y2_output_loss: 0.7464 - y1_output_root_mean_squared_error: 0.4890 - y2_output_root_mean_squared_error: 0.8620 - val_loss: 2.2418 - val_y1_output_loss: 0.3602 - val_y2_output_loss: 1.8816 - val_y1_output_root_mean_squared_error: 0.6002 - val_y2_output_root_mean_squared_error: 1.3717\n",
            "Epoch 242/500\n",
            "62/62 [==============================] - 0s 3ms/step - loss: 0.7384 - y1_output_loss: 0.1843 - y2_output_loss: 0.5541 - y1_output_root_mean_squared_error: 0.4260 - y2_output_root_mean_squared_error: 0.7405 - val_loss: 2.4010 - val_y1_output_loss: 0.3791 - val_y2_output_loss: 2.0218 - val_y1_output_root_mean_squared_error: 0.6158 - val_y2_output_root_mean_squared_error: 1.4219\n",
            "Epoch 243/500\n",
            "62/62 [==============================] - 0s 3ms/step - loss: 1.8478 - y1_output_loss: 0.3164 - y2_output_loss: 1.5314 - y1_output_root_mean_squared_error: 0.5592 - y2_output_root_mean_squared_error: 1.2179 - val_loss: 7.0041 - val_y1_output_loss: 1.7479 - val_y2_output_loss: 5.2562 - val_y1_output_root_mean_squared_error: 1.3221 - val_y2_output_root_mean_squared_error: 2.2926\n",
            "Epoch 244/500\n",
            "62/62 [==============================] - 0s 3ms/step - loss: 1.2261 - y1_output_loss: 0.3863 - y2_output_loss: 0.8397 - y1_output_root_mean_squared_error: 0.5978 - y2_output_root_mean_squared_error: 0.8944 - val_loss: 2.3706 - val_y1_output_loss: 0.3906 - val_y2_output_loss: 1.9800 - val_y1_output_root_mean_squared_error: 0.6250 - val_y2_output_root_mean_squared_error: 1.4071\n",
            "Epoch 245/500\n",
            "62/62 [==============================] - 0s 2ms/step - loss: 0.9672 - y1_output_loss: 0.2453 - y2_output_loss: 0.7219 - y1_output_root_mean_squared_error: 0.4890 - y2_output_root_mean_squared_error: 0.8443 - val_loss: 2.7525 - val_y1_output_loss: 0.4988 - val_y2_output_loss: 2.2536 - val_y1_output_root_mean_squared_error: 0.7063 - val_y2_output_root_mean_squared_error: 1.5012\n",
            "Epoch 246/500\n",
            "62/62 [==============================] - 0s 3ms/step - loss: 0.9097 - y1_output_loss: 0.2381 - y2_output_loss: 0.6715 - y1_output_root_mean_squared_error: 0.4858 - y2_output_root_mean_squared_error: 0.8157 - val_loss: 1.6155 - val_y1_output_loss: 0.2404 - val_y2_output_loss: 1.3750 - val_y1_output_root_mean_squared_error: 0.4903 - val_y2_output_root_mean_squared_error: 1.1726\n",
            "Epoch 247/500\n",
            "62/62 [==============================] - 0s 3ms/step - loss: 0.7364 - y1_output_loss: 0.1880 - y2_output_loss: 0.5484 - y1_output_root_mean_squared_error: 0.4324 - y2_output_root_mean_squared_error: 0.7370 - val_loss: 1.7710 - val_y1_output_loss: 0.2604 - val_y2_output_loss: 1.5105 - val_y1_output_root_mean_squared_error: 0.5103 - val_y2_output_root_mean_squared_error: 1.2290\n",
            "Epoch 248/500\n",
            "62/62 [==============================] - 0s 3ms/step - loss: 0.7232 - y1_output_loss: 0.1833 - y2_output_loss: 0.5400 - y1_output_root_mean_squared_error: 0.4272 - y2_output_root_mean_squared_error: 0.7320 - val_loss: 1.8360 - val_y1_output_loss: 0.2426 - val_y2_output_loss: 1.5934 - val_y1_output_root_mean_squared_error: 0.4926 - val_y2_output_root_mean_squared_error: 1.2623\n",
            "Epoch 249/500\n",
            "62/62 [==============================] - 0s 3ms/step - loss: 0.6536 - y1_output_loss: 0.1649 - y2_output_loss: 0.4887 - y1_output_root_mean_squared_error: 0.4045 - y2_output_root_mean_squared_error: 0.6974 - val_loss: 2.6615 - val_y1_output_loss: 0.3883 - val_y2_output_loss: 2.2732 - val_y1_output_root_mean_squared_error: 0.6231 - val_y2_output_root_mean_squared_error: 1.5077\n",
            "Epoch 250/500\n",
            "62/62 [==============================] - 0s 3ms/step - loss: 0.8598 - y1_output_loss: 0.1929 - y2_output_loss: 0.6669 - y1_output_root_mean_squared_error: 0.4372 - y2_output_root_mean_squared_error: 0.8044 - val_loss: 1.9548 - val_y1_output_loss: 0.2974 - val_y2_output_loss: 1.6574 - val_y1_output_root_mean_squared_error: 0.5454 - val_y2_output_root_mean_squared_error: 1.2874\n",
            "Epoch 251/500\n",
            "62/62 [==============================] - 0s 3ms/step - loss: 0.7656 - y1_output_loss: 0.2103 - y2_output_loss: 0.5553 - y1_output_root_mean_squared_error: 0.4553 - y2_output_root_mean_squared_error: 0.7426 - val_loss: 1.6089 - val_y1_output_loss: 0.2271 - val_y2_output_loss: 1.3818 - val_y1_output_root_mean_squared_error: 0.4766 - val_y2_output_root_mean_squared_error: 1.1755\n",
            "Epoch 252/500\n",
            "62/62 [==============================] - 0s 2ms/step - loss: 0.6464 - y1_output_loss: 0.1446 - y2_output_loss: 0.5019 - y1_output_root_mean_squared_error: 0.3794 - y2_output_root_mean_squared_error: 0.7065 - val_loss: 5.8667 - val_y1_output_loss: 1.0074 - val_y2_output_loss: 4.8593 - val_y1_output_root_mean_squared_error: 1.0037 - val_y2_output_root_mean_squared_error: 2.2044\n",
            "Epoch 253/500\n",
            "62/62 [==============================] - 0s 3ms/step - loss: 2.3112 - y1_output_loss: 0.5111 - y2_output_loss: 1.8001 - y1_output_root_mean_squared_error: 0.6906 - y2_output_root_mean_squared_error: 1.3042 - val_loss: 2.2410 - val_y1_output_loss: 0.3253 - val_y2_output_loss: 1.9157 - val_y1_output_root_mean_squared_error: 0.5703 - val_y2_output_root_mean_squared_error: 1.3841\n",
            "Epoch 254/500\n",
            "62/62 [==============================] - 0s 2ms/step - loss: 1.0288 - y1_output_loss: 0.2124 - y2_output_loss: 0.8164 - y1_output_root_mean_squared_error: 0.4556 - y2_output_root_mean_squared_error: 0.9018 - val_loss: 1.7251 - val_y1_output_loss: 0.2280 - val_y2_output_loss: 1.4971 - val_y1_output_root_mean_squared_error: 0.4775 - val_y2_output_root_mean_squared_error: 1.2236\n",
            "Epoch 255/500\n",
            "62/62 [==============================] - 0s 2ms/step - loss: 0.8879 - y1_output_loss: 0.1886 - y2_output_loss: 0.6993 - y1_output_root_mean_squared_error: 0.4326 - y2_output_root_mean_squared_error: 0.8289 - val_loss: 2.1693 - val_y1_output_loss: 0.4376 - val_y2_output_loss: 1.7317 - val_y1_output_root_mean_squared_error: 0.6615 - val_y2_output_root_mean_squared_error: 1.3159\n",
            "Epoch 256/500\n",
            "62/62 [==============================] - 0s 3ms/step - loss: 0.8964 - y1_output_loss: 0.2051 - y2_output_loss: 0.6913 - y1_output_root_mean_squared_error: 0.4473 - y2_output_root_mean_squared_error: 0.8284 - val_loss: 1.8005 - val_y1_output_loss: 0.2267 - val_y2_output_loss: 1.5738 - val_y1_output_root_mean_squared_error: 0.4762 - val_y2_output_root_mean_squared_error: 1.2545\n",
            "Epoch 257/500\n",
            "62/62 [==============================] - 0s 3ms/step - loss: 0.6898 - y1_output_loss: 0.1745 - y2_output_loss: 0.5153 - y1_output_root_mean_squared_error: 0.4167 - y2_output_root_mean_squared_error: 0.7159 - val_loss: 1.6431 - val_y1_output_loss: 0.1893 - val_y2_output_loss: 1.4538 - val_y1_output_root_mean_squared_error: 0.4351 - val_y2_output_root_mean_squared_error: 1.2057\n",
            "Epoch 258/500\n",
            "62/62 [==============================] - 0s 3ms/step - loss: 0.5842 - y1_output_loss: 0.1588 - y2_output_loss: 0.4253 - y1_output_root_mean_squared_error: 0.3978 - y2_output_root_mean_squared_error: 0.6496 - val_loss: 1.9411 - val_y1_output_loss: 0.2815 - val_y2_output_loss: 1.6596 - val_y1_output_root_mean_squared_error: 0.5306 - val_y2_output_root_mean_squared_error: 1.2882\n",
            "Epoch 259/500\n",
            "62/62 [==============================] - 0s 3ms/step - loss: 0.6872 - y1_output_loss: 0.1726 - y2_output_loss: 0.5146 - y1_output_root_mean_squared_error: 0.4149 - y2_output_root_mean_squared_error: 0.7154 - val_loss: 1.5269 - val_y1_output_loss: 0.2025 - val_y2_output_loss: 1.3244 - val_y1_output_root_mean_squared_error: 0.4500 - val_y2_output_root_mean_squared_error: 1.1508\n",
            "Epoch 260/500\n",
            "62/62 [==============================] - 0s 3ms/step - loss: 0.5981 - y1_output_loss: 0.1419 - y2_output_loss: 0.4562 - y1_output_root_mean_squared_error: 0.3746 - y2_output_root_mean_squared_error: 0.6718 - val_loss: 2.0214 - val_y1_output_loss: 0.2863 - val_y2_output_loss: 1.7351 - val_y1_output_root_mean_squared_error: 0.5351 - val_y2_output_root_mean_squared_error: 1.3172\n",
            "Epoch 261/500\n",
            "62/62 [==============================] - 0s 3ms/step - loss: 0.6476 - y1_output_loss: 0.1701 - y2_output_loss: 0.4775 - y1_output_root_mean_squared_error: 0.4116 - y2_output_root_mean_squared_error: 0.6875 - val_loss: 1.7999 - val_y1_output_loss: 0.3143 - val_y2_output_loss: 1.4856 - val_y1_output_root_mean_squared_error: 0.5607 - val_y2_output_root_mean_squared_error: 1.2188\n",
            "Epoch 262/500\n",
            "62/62 [==============================] - 0s 3ms/step - loss: 0.8671 - y1_output_loss: 0.1544 - y2_output_loss: 0.7127 - y1_output_root_mean_squared_error: 0.3921 - y2_output_root_mean_squared_error: 0.8365 - val_loss: 1.8414 - val_y1_output_loss: 0.2806 - val_y2_output_loss: 1.5608 - val_y1_output_root_mean_squared_error: 0.5297 - val_y2_output_root_mean_squared_error: 1.2493\n",
            "Epoch 263/500\n",
            "62/62 [==============================] - 0s 2ms/step - loss: 0.7650 - y1_output_loss: 0.1951 - y2_output_loss: 0.5699 - y1_output_root_mean_squared_error: 0.4406 - y2_output_root_mean_squared_error: 0.7534 - val_loss: 1.6689 - val_y1_output_loss: 0.2064 - val_y2_output_loss: 1.4625 - val_y1_output_root_mean_squared_error: 0.4544 - val_y2_output_root_mean_squared_error: 1.2093\n",
            "Epoch 264/500\n",
            "62/62 [==============================] - 0s 3ms/step - loss: 0.7892 - y1_output_loss: 0.2132 - y2_output_loss: 0.5761 - y1_output_root_mean_squared_error: 0.4609 - y2_output_root_mean_squared_error: 0.7528 - val_loss: 1.6075 - val_y1_output_loss: 0.2526 - val_y2_output_loss: 1.3549 - val_y1_output_root_mean_squared_error: 0.5026 - val_y2_output_root_mean_squared_error: 1.1640\n",
            "Epoch 265/500\n",
            "62/62 [==============================] - 0s 3ms/step - loss: 0.5942 - y1_output_loss: 0.1615 - y2_output_loss: 0.4327 - y1_output_root_mean_squared_error: 0.4015 - y2_output_root_mean_squared_error: 0.6562 - val_loss: 3.2929 - val_y1_output_loss: 0.2928 - val_y2_output_loss: 3.0001 - val_y1_output_root_mean_squared_error: 0.5411 - val_y2_output_root_mean_squared_error: 1.7321\n",
            "Epoch 266/500\n",
            "62/62 [==============================] - 0s 3ms/step - loss: 0.9843 - y1_output_loss: 0.1554 - y2_output_loss: 0.8289 - y1_output_root_mean_squared_error: 0.3940 - y2_output_root_mean_squared_error: 0.9015 - val_loss: 1.6509 - val_y1_output_loss: 0.2898 - val_y2_output_loss: 1.3611 - val_y1_output_root_mean_squared_error: 0.5384 - val_y2_output_root_mean_squared_error: 1.1667\n",
            "Epoch 267/500\n",
            "62/62 [==============================] - 0s 3ms/step - loss: 0.8821 - y1_output_loss: 0.1994 - y2_output_loss: 0.6827 - y1_output_root_mean_squared_error: 0.4459 - y2_output_root_mean_squared_error: 0.8218 - val_loss: 2.7536 - val_y1_output_loss: 0.6850 - val_y2_output_loss: 2.0686 - val_y1_output_root_mean_squared_error: 0.8276 - val_y2_output_root_mean_squared_error: 1.4383\n",
            "Epoch 268/500\n",
            "62/62 [==============================] - 0s 3ms/step - loss: 0.9536 - y1_output_loss: 0.2539 - y2_output_loss: 0.6997 - y1_output_root_mean_squared_error: 0.5005 - y2_output_root_mean_squared_error: 0.8318 - val_loss: 1.4600 - val_y1_output_loss: 0.2061 - val_y2_output_loss: 1.2539 - val_y1_output_root_mean_squared_error: 0.4540 - val_y2_output_root_mean_squared_error: 1.1198\n",
            "Epoch 269/500\n",
            "62/62 [==============================] - 0s 3ms/step - loss: 1.0261 - y1_output_loss: 0.2434 - y2_output_loss: 0.7827 - y1_output_root_mean_squared_error: 0.4908 - y2_output_root_mean_squared_error: 0.8757 - val_loss: 2.2036 - val_y1_output_loss: 0.2921 - val_y2_output_loss: 1.9114 - val_y1_output_root_mean_squared_error: 0.5405 - val_y2_output_root_mean_squared_error: 1.3826\n",
            "Epoch 270/500\n",
            "62/62 [==============================] - 0s 3ms/step - loss: 0.8088 - y1_output_loss: 0.1817 - y2_output_loss: 0.6271 - y1_output_root_mean_squared_error: 0.4252 - y2_output_root_mean_squared_error: 0.7890 - val_loss: 1.6415 - val_y1_output_loss: 0.1966 - val_y2_output_loss: 1.4448 - val_y1_output_root_mean_squared_error: 0.4435 - val_y2_output_root_mean_squared_error: 1.2020\n",
            "Epoch 271/500\n",
            "62/62 [==============================] - 0s 3ms/step - loss: 0.6974 - y1_output_loss: 0.1673 - y2_output_loss: 0.5301 - y1_output_root_mean_squared_error: 0.4083 - y2_output_root_mean_squared_error: 0.7203 - val_loss: 1.5062 - val_y1_output_loss: 0.1831 - val_y2_output_loss: 1.3231 - val_y1_output_root_mean_squared_error: 0.4279 - val_y2_output_root_mean_squared_error: 1.1503\n",
            "Epoch 272/500\n",
            "62/62 [==============================] - 0s 5ms/step - loss: 1.1888 - y1_output_loss: 0.2062 - y2_output_loss: 0.9826 - y1_output_root_mean_squared_error: 0.4482 - y2_output_root_mean_squared_error: 0.9740 - val_loss: 1.7862 - val_y1_output_loss: 0.3627 - val_y2_output_loss: 1.4235 - val_y1_output_root_mean_squared_error: 0.6022 - val_y2_output_root_mean_squared_error: 1.1931\n",
            "Epoch 273/500\n",
            "62/62 [==============================] - 0s 3ms/step - loss: 0.7987 - y1_output_loss: 0.2499 - y2_output_loss: 0.5488 - y1_output_root_mean_squared_error: 0.4981 - y2_output_root_mean_squared_error: 0.7323 - val_loss: 1.7306 - val_y1_output_loss: 0.2334 - val_y2_output_loss: 1.4971 - val_y1_output_root_mean_squared_error: 0.4832 - val_y2_output_root_mean_squared_error: 1.2236\n",
            "Epoch 274/500\n",
            "62/62 [==============================] - 0s 3ms/step - loss: 0.6681 - y1_output_loss: 0.1932 - y2_output_loss: 0.4750 - y1_output_root_mean_squared_error: 0.4386 - y2_output_root_mean_squared_error: 0.6837 - val_loss: 1.7583 - val_y1_output_loss: 0.2377 - val_y2_output_loss: 1.5206 - val_y1_output_root_mean_squared_error: 0.4875 - val_y2_output_root_mean_squared_error: 1.2331\n",
            "Epoch 275/500\n",
            "62/62 [==============================] - 0s 3ms/step - loss: 0.5669 - y1_output_loss: 0.1661 - y2_output_loss: 0.4008 - y1_output_root_mean_squared_error: 0.4068 - y2_output_root_mean_squared_error: 0.6324 - val_loss: 1.9406 - val_y1_output_loss: 0.3326 - val_y2_output_loss: 1.6079 - val_y1_output_root_mean_squared_error: 0.5768 - val_y2_output_root_mean_squared_error: 1.2680\n",
            "Epoch 276/500\n",
            "62/62 [==============================] - 0s 3ms/step - loss: 0.7486 - y1_output_loss: 0.1752 - y2_output_loss: 0.5733 - y1_output_root_mean_squared_error: 0.4176 - y2_output_root_mean_squared_error: 0.7556 - val_loss: 1.7007 - val_y1_output_loss: 0.1770 - val_y2_output_loss: 1.5237 - val_y1_output_root_mean_squared_error: 0.4207 - val_y2_output_root_mean_squared_error: 1.2344\n",
            "Epoch 277/500\n",
            "62/62 [==============================] - 0s 2ms/step - loss: 0.8005 - y1_output_loss: 0.1569 - y2_output_loss: 0.6436 - y1_output_root_mean_squared_error: 0.3955 - y2_output_root_mean_squared_error: 0.7996 - val_loss: 1.6193 - val_y1_output_loss: 0.2133 - val_y2_output_loss: 1.4060 - val_y1_output_root_mean_squared_error: 0.4619 - val_y2_output_root_mean_squared_error: 1.1857\n",
            "Epoch 278/500\n",
            "62/62 [==============================] - 0s 3ms/step - loss: 0.6769 - y1_output_loss: 0.1714 - y2_output_loss: 0.5055 - y1_output_root_mean_squared_error: 0.4136 - y2_output_root_mean_squared_error: 0.7053 - val_loss: 2.2620 - val_y1_output_loss: 0.4588 - val_y2_output_loss: 1.8032 - val_y1_output_root_mean_squared_error: 0.6773 - val_y2_output_root_mean_squared_error: 1.3428\n",
            "Epoch 279/500\n",
            "62/62 [==============================] - 0s 3ms/step - loss: 0.7188 - y1_output_loss: 0.2166 - y2_output_loss: 0.5022 - y1_output_root_mean_squared_error: 0.4593 - y2_output_root_mean_squared_error: 0.7058 - val_loss: 1.6802 - val_y1_output_loss: 0.2136 - val_y2_output_loss: 1.4667 - val_y1_output_root_mean_squared_error: 0.4621 - val_y2_output_root_mean_squared_error: 1.2111\n",
            "Epoch 280/500\n",
            "62/62 [==============================] - 0s 2ms/step - loss: 0.4159 - y1_output_loss: 0.1279 - y2_output_loss: 0.2880 - y1_output_root_mean_squared_error: 0.3557 - y2_output_root_mean_squared_error: 0.5341 - val_loss: 6.5012 - val_y1_output_loss: 1.5688 - val_y2_output_loss: 4.9324 - val_y1_output_root_mean_squared_error: 1.2525 - val_y2_output_root_mean_squared_error: 2.2209\n",
            "Epoch 281/500\n",
            "62/62 [==============================] - 0s 3ms/step - loss: 2.0999 - y1_output_loss: 0.7293 - y2_output_loss: 1.3706 - y1_output_root_mean_squared_error: 0.8030 - y2_output_root_mean_squared_error: 1.1355 - val_loss: 2.0280 - val_y1_output_loss: 0.2239 - val_y2_output_loss: 1.8041 - val_y1_output_root_mean_squared_error: 0.4732 - val_y2_output_root_mean_squared_error: 1.3432\n",
            "Epoch 282/500\n",
            "62/62 [==============================] - 0s 3ms/step - loss: 0.6069 - y1_output_loss: 0.1581 - y2_output_loss: 0.4489 - y1_output_root_mean_squared_error: 0.3967 - y2_output_root_mean_squared_error: 0.6681 - val_loss: 10.1550 - val_y1_output_loss: 2.0349 - val_y2_output_loss: 8.1201 - val_y1_output_root_mean_squared_error: 1.4265 - val_y2_output_root_mean_squared_error: 2.8496\n",
            "Epoch 283/500\n",
            "62/62 [==============================] - 0s 2ms/step - loss: 1.7682 - y1_output_loss: 0.3281 - y2_output_loss: 1.4400 - y1_output_root_mean_squared_error: 0.5560 - y2_output_root_mean_squared_error: 1.1508 - val_loss: 1.6653 - val_y1_output_loss: 0.2786 - val_y2_output_loss: 1.3867 - val_y1_output_root_mean_squared_error: 0.5278 - val_y2_output_root_mean_squared_error: 1.1776\n",
            "Epoch 284/500\n",
            "62/62 [==============================] - 0s 2ms/step - loss: 0.7477 - y1_output_loss: 0.1721 - y2_output_loss: 0.5756 - y1_output_root_mean_squared_error: 0.4107 - y2_output_root_mean_squared_error: 0.7578 - val_loss: 1.6321 - val_y1_output_loss: 0.2761 - val_y2_output_loss: 1.3560 - val_y1_output_root_mean_squared_error: 0.5255 - val_y2_output_root_mean_squared_error: 1.1645\n",
            "Epoch 285/500\n",
            "62/62 [==============================] - 0s 3ms/step - loss: 0.8400 - y1_output_loss: 0.1775 - y2_output_loss: 0.6625 - y1_output_root_mean_squared_error: 0.4210 - y2_output_root_mean_squared_error: 0.8107 - val_loss: 1.5380 - val_y1_output_loss: 0.2077 - val_y2_output_loss: 1.3303 - val_y1_output_root_mean_squared_error: 0.4558 - val_y2_output_root_mean_squared_error: 1.1534\n",
            "Epoch 286/500\n",
            "62/62 [==============================] - 0s 3ms/step - loss: 0.9745 - y1_output_loss: 0.1986 - y2_output_loss: 0.7759 - y1_output_root_mean_squared_error: 0.4423 - y2_output_root_mean_squared_error: 0.8766 - val_loss: 1.6849 - val_y1_output_loss: 0.2544 - val_y2_output_loss: 1.4305 - val_y1_output_root_mean_squared_error: 0.5044 - val_y2_output_root_mean_squared_error: 1.1960\n",
            "Epoch 287/500\n",
            "62/62 [==============================] - 0s 3ms/step - loss: 0.5433 - y1_output_loss: 0.1553 - y2_output_loss: 0.3880 - y1_output_root_mean_squared_error: 0.3936 - y2_output_root_mean_squared_error: 0.6209 - val_loss: 1.7737 - val_y1_output_loss: 0.3515 - val_y2_output_loss: 1.4222 - val_y1_output_root_mean_squared_error: 0.5928 - val_y2_output_root_mean_squared_error: 1.1926\n",
            "Epoch 288/500\n",
            "62/62 [==============================] - 0s 2ms/step - loss: 1.1133 - y1_output_loss: 0.2795 - y2_output_loss: 0.8339 - y1_output_root_mean_squared_error: 0.5257 - y2_output_root_mean_squared_error: 0.9077 - val_loss: 2.7297 - val_y1_output_loss: 0.2295 - val_y2_output_loss: 2.5002 - val_y1_output_root_mean_squared_error: 0.4791 - val_y2_output_root_mean_squared_error: 1.5812\n",
            "Epoch 289/500\n",
            "62/62 [==============================] - 0s 2ms/step - loss: 0.5901 - y1_output_loss: 0.1575 - y2_output_loss: 0.4325 - y1_output_root_mean_squared_error: 0.3963 - y2_output_root_mean_squared_error: 0.6557 - val_loss: 1.8886 - val_y1_output_loss: 0.2318 - val_y2_output_loss: 1.6567 - val_y1_output_root_mean_squared_error: 0.4815 - val_y2_output_root_mean_squared_error: 1.2871\n",
            "Epoch 290/500\n",
            "62/62 [==============================] - 0s 2ms/step - loss: 0.6198 - y1_output_loss: 0.1353 - y2_output_loss: 0.4845 - y1_output_root_mean_squared_error: 0.3668 - y2_output_root_mean_squared_error: 0.6944 - val_loss: 6.1880 - val_y1_output_loss: 0.5360 - val_y2_output_loss: 5.6520 - val_y1_output_root_mean_squared_error: 0.7321 - val_y2_output_root_mean_squared_error: 2.3774\n",
            "Epoch 291/500\n",
            "62/62 [==============================] - 0s 3ms/step - loss: 1.5640 - y1_output_loss: 0.3109 - y2_output_loss: 1.2531 - y1_output_root_mean_squared_error: 0.5442 - y2_output_root_mean_squared_error: 1.0621 - val_loss: 1.5435 - val_y1_output_loss: 0.2062 - val_y2_output_loss: 1.3374 - val_y1_output_root_mean_squared_error: 0.4540 - val_y2_output_root_mean_squared_error: 1.1565\n",
            "Epoch 292/500\n",
            "62/62 [==============================] - 0s 3ms/step - loss: 0.8876 - y1_output_loss: 0.2183 - y2_output_loss: 0.6693 - y1_output_root_mean_squared_error: 0.4646 - y2_output_root_mean_squared_error: 0.8140 - val_loss: 1.6846 - val_y1_output_loss: 0.2586 - val_y2_output_loss: 1.4260 - val_y1_output_root_mean_squared_error: 0.5086 - val_y2_output_root_mean_squared_error: 1.1941\n",
            "Epoch 293/500\n",
            "62/62 [==============================] - 0s 3ms/step - loss: 0.6690 - y1_output_loss: 0.2098 - y2_output_loss: 0.4592 - y1_output_root_mean_squared_error: 0.4573 - y2_output_root_mean_squared_error: 0.6762 - val_loss: 1.4963 - val_y1_output_loss: 0.2325 - val_y2_output_loss: 1.2638 - val_y1_output_root_mean_squared_error: 0.4822 - val_y2_output_root_mean_squared_error: 1.1242\n",
            "Epoch 294/500\n",
            "62/62 [==============================] - 0s 3ms/step - loss: 1.3582 - y1_output_loss: 0.3308 - y2_output_loss: 1.0275 - y1_output_root_mean_squared_error: 0.5718 - y2_output_root_mean_squared_error: 1.0018 - val_loss: 2.6685 - val_y1_output_loss: 0.5180 - val_y2_output_loss: 2.1505 - val_y1_output_root_mean_squared_error: 0.7197 - val_y2_output_root_mean_squared_error: 1.4665\n",
            "Epoch 295/500\n",
            "62/62 [==============================] - 0s 3ms/step - loss: 0.5741 - y1_output_loss: 0.1724 - y2_output_loss: 0.4017 - y1_output_root_mean_squared_error: 0.4136 - y2_output_root_mean_squared_error: 0.6320 - val_loss: 1.3852 - val_y1_output_loss: 0.1847 - val_y2_output_loss: 1.2005 - val_y1_output_root_mean_squared_error: 0.4298 - val_y2_output_root_mean_squared_error: 1.0957\n",
            "Epoch 296/500\n",
            "62/62 [==============================] - 0s 3ms/step - loss: 0.5992 - y1_output_loss: 0.1515 - y2_output_loss: 0.4477 - y1_output_root_mean_squared_error: 0.3879 - y2_output_root_mean_squared_error: 0.6673 - val_loss: 1.4991 - val_y1_output_loss: 0.2165 - val_y2_output_loss: 1.2826 - val_y1_output_root_mean_squared_error: 0.4653 - val_y2_output_root_mean_squared_error: 1.1325\n",
            "Epoch 297/500\n",
            "62/62 [==============================] - 0s 3ms/step - loss: 0.8906 - y1_output_loss: 0.2228 - y2_output_loss: 0.6679 - y1_output_root_mean_squared_error: 0.4695 - y2_output_root_mean_squared_error: 0.8141 - val_loss: 2.0387 - val_y1_output_loss: 0.3417 - val_y2_output_loss: 1.6970 - val_y1_output_root_mean_squared_error: 0.5846 - val_y2_output_root_mean_squared_error: 1.3027\n",
            "Epoch 298/500\n",
            "62/62 [==============================] - 0s 3ms/step - loss: 0.9449 - y1_output_loss: 0.2089 - y2_output_loss: 0.7360 - y1_output_root_mean_squared_error: 0.4548 - y2_output_root_mean_squared_error: 0.8507 - val_loss: 1.7937 - val_y1_output_loss: 0.3098 - val_y2_output_loss: 1.4839 - val_y1_output_root_mean_squared_error: 0.5566 - val_y2_output_root_mean_squared_error: 1.2182\n",
            "Epoch 299/500\n",
            "62/62 [==============================] - 0s 3ms/step - loss: 0.9681 - y1_output_loss: 0.2196 - y2_output_loss: 0.7485 - y1_output_root_mean_squared_error: 0.4642 - y2_output_root_mean_squared_error: 0.8402 - val_loss: 1.4930 - val_y1_output_loss: 0.2021 - val_y2_output_loss: 1.2908 - val_y1_output_root_mean_squared_error: 0.4496 - val_y2_output_root_mean_squared_error: 1.1361\n",
            "Epoch 300/500\n",
            "62/62 [==============================] - 0s 3ms/step - loss: 0.7069 - y1_output_loss: 0.1506 - y2_output_loss: 0.5562 - y1_output_root_mean_squared_error: 0.3865 - y2_output_root_mean_squared_error: 0.7424 - val_loss: 1.5668 - val_y1_output_loss: 0.1963 - val_y2_output_loss: 1.3705 - val_y1_output_root_mean_squared_error: 0.4430 - val_y2_output_root_mean_squared_error: 1.1707\n",
            "Epoch 301/500\n",
            "62/62 [==============================] - 0s 3ms/step - loss: 0.4888 - y1_output_loss: 0.1456 - y2_output_loss: 0.3432 - y1_output_root_mean_squared_error: 0.3810 - y2_output_root_mean_squared_error: 0.5825 - val_loss: 1.6284 - val_y1_output_loss: 0.2574 - val_y2_output_loss: 1.3710 - val_y1_output_root_mean_squared_error: 0.5074 - val_y2_output_root_mean_squared_error: 1.1709\n",
            "Epoch 302/500\n",
            "62/62 [==============================] - 0s 3ms/step - loss: 0.6038 - y1_output_loss: 0.1323 - y2_output_loss: 0.4715 - y1_output_root_mean_squared_error: 0.3635 - y2_output_root_mean_squared_error: 0.6854 - val_loss: 1.5691 - val_y1_output_loss: 0.2387 - val_y2_output_loss: 1.3304 - val_y1_output_root_mean_squared_error: 0.4886 - val_y2_output_root_mean_squared_error: 1.1534\n",
            "Epoch 303/500\n",
            "62/62 [==============================] - 0s 2ms/step - loss: 0.8601 - y1_output_loss: 0.2121 - y2_output_loss: 0.6480 - y1_output_root_mean_squared_error: 0.4579 - y2_output_root_mean_squared_error: 0.7894 - val_loss: 2.0227 - val_y1_output_loss: 0.3300 - val_y2_output_loss: 1.6927 - val_y1_output_root_mean_squared_error: 0.5744 - val_y2_output_root_mean_squared_error: 1.3010\n",
            "Epoch 304/500\n",
            "62/62 [==============================] - 0s 3ms/step - loss: 0.6551 - y1_output_loss: 0.1852 - y2_output_loss: 0.4699 - y1_output_root_mean_squared_error: 0.4288 - y2_output_root_mean_squared_error: 0.6801 - val_loss: 1.5716 - val_y1_output_loss: 0.2688 - val_y2_output_loss: 1.3029 - val_y1_output_root_mean_squared_error: 0.5184 - val_y2_output_root_mean_squared_error: 1.1414\n",
            "Epoch 305/500\n",
            "62/62 [==============================] - 0s 3ms/step - loss: 0.4474 - y1_output_loss: 0.1340 - y2_output_loss: 0.3134 - y1_output_root_mean_squared_error: 0.3653 - y2_output_root_mean_squared_error: 0.5509 - val_loss: 1.5540 - val_y1_output_loss: 0.1891 - val_y2_output_loss: 1.3648 - val_y1_output_root_mean_squared_error: 0.4349 - val_y2_output_root_mean_squared_error: 1.1683\n",
            "Epoch 306/500\n",
            "62/62 [==============================] - 0s 3ms/step - loss: 0.8125 - y1_output_loss: 0.2051 - y2_output_loss: 0.6075 - y1_output_root_mean_squared_error: 0.4472 - y2_output_root_mean_squared_error: 0.7740 - val_loss: 1.4524 - val_y1_output_loss: 0.1992 - val_y2_output_loss: 1.2531 - val_y1_output_root_mean_squared_error: 0.4464 - val_y2_output_root_mean_squared_error: 1.1194\n",
            "Epoch 307/500\n",
            "62/62 [==============================] - 0s 3ms/step - loss: 0.7155 - y1_output_loss: 0.1771 - y2_output_loss: 0.5384 - y1_output_root_mean_squared_error: 0.4204 - y2_output_root_mean_squared_error: 0.7278 - val_loss: 1.5745 - val_y1_output_loss: 0.2507 - val_y2_output_loss: 1.3238 - val_y1_output_root_mean_squared_error: 0.5007 - val_y2_output_root_mean_squared_error: 1.1506\n",
            "Epoch 308/500\n",
            "62/62 [==============================] - 0s 3ms/step - loss: 0.5689 - y1_output_loss: 0.1618 - y2_output_loss: 0.4072 - y1_output_root_mean_squared_error: 0.4020 - y2_output_root_mean_squared_error: 0.6378 - val_loss: 1.8384 - val_y1_output_loss: 0.2836 - val_y2_output_loss: 1.5548 - val_y1_output_root_mean_squared_error: 0.5326 - val_y2_output_root_mean_squared_error: 1.2469\n",
            "Epoch 309/500\n",
            "62/62 [==============================] - 0s 2ms/step - loss: 0.6934 - y1_output_loss: 0.1463 - y2_output_loss: 0.5471 - y1_output_root_mean_squared_error: 0.3795 - y2_output_root_mean_squared_error: 0.7371 - val_loss: 1.5622 - val_y1_output_loss: 0.2663 - val_y2_output_loss: 1.2960 - val_y1_output_root_mean_squared_error: 0.5160 - val_y2_output_root_mean_squared_error: 1.1384\n",
            "Epoch 310/500\n",
            "62/62 [==============================] - 0s 3ms/step - loss: 0.4527 - y1_output_loss: 0.1451 - y2_output_loss: 0.3076 - y1_output_root_mean_squared_error: 0.3801 - y2_output_root_mean_squared_error: 0.5535 - val_loss: 1.8404 - val_y1_output_loss: 0.2166 - val_y2_output_loss: 1.6239 - val_y1_output_root_mean_squared_error: 0.4654 - val_y2_output_root_mean_squared_error: 1.2743\n",
            "Epoch 311/500\n",
            "62/62 [==============================] - 0s 3ms/step - loss: 0.5334 - y1_output_loss: 0.1440 - y2_output_loss: 0.3894 - y1_output_root_mean_squared_error: 0.3783 - y2_output_root_mean_squared_error: 0.6214 - val_loss: 2.0772 - val_y1_output_loss: 0.2972 - val_y2_output_loss: 1.7800 - val_y1_output_root_mean_squared_error: 0.5452 - val_y2_output_root_mean_squared_error: 1.3341\n",
            "Epoch 312/500\n",
            "62/62 [==============================] - 0s 2ms/step - loss: 0.6870 - y1_output_loss: 0.1430 - y2_output_loss: 0.5440 - y1_output_root_mean_squared_error: 0.3778 - y2_output_root_mean_squared_error: 0.7361 - val_loss: 1.5878 - val_y1_output_loss: 0.1917 - val_y2_output_loss: 1.3961 - val_y1_output_root_mean_squared_error: 0.4379 - val_y2_output_root_mean_squared_error: 1.1816\n",
            "Epoch 313/500\n",
            "62/62 [==============================] - 0s 3ms/step - loss: 0.7803 - y1_output_loss: 0.1647 - y2_output_loss: 0.6156 - y1_output_root_mean_squared_error: 0.4046 - y2_output_root_mean_squared_error: 0.7825 - val_loss: 1.4754 - val_y1_output_loss: 0.2311 - val_y2_output_loss: 1.2443 - val_y1_output_root_mean_squared_error: 0.4807 - val_y2_output_root_mean_squared_error: 1.1155\n",
            "Epoch 314/500\n",
            "62/62 [==============================] - 0s 3ms/step - loss: 0.6331 - y1_output_loss: 0.1707 - y2_output_loss: 0.4624 - y1_output_root_mean_squared_error: 0.4084 - y2_output_root_mean_squared_error: 0.6766 - val_loss: 1.3676 - val_y1_output_loss: 0.1856 - val_y2_output_loss: 1.1820 - val_y1_output_root_mean_squared_error: 0.4308 - val_y2_output_root_mean_squared_error: 1.0872\n",
            "Epoch 315/500\n",
            "62/62 [==============================] - 0s 3ms/step - loss: 0.4965 - y1_output_loss: 0.1415 - y2_output_loss: 0.3550 - y1_output_root_mean_squared_error: 0.3754 - y2_output_root_mean_squared_error: 0.5931 - val_loss: 1.5055 - val_y1_output_loss: 0.1993 - val_y2_output_loss: 1.3063 - val_y1_output_root_mean_squared_error: 0.4464 - val_y2_output_root_mean_squared_error: 1.1429\n",
            "Epoch 316/500\n",
            "62/62 [==============================] - 0s 5ms/step - loss: 0.5819 - y1_output_loss: 0.1586 - y2_output_loss: 0.4234 - y1_output_root_mean_squared_error: 0.3973 - y2_output_root_mean_squared_error: 0.6455 - val_loss: 1.4321 - val_y1_output_loss: 0.1786 - val_y2_output_loss: 1.2535 - val_y1_output_root_mean_squared_error: 0.4226 - val_y2_output_root_mean_squared_error: 1.1196\n",
            "Epoch 317/500\n",
            "62/62 [==============================] - 0s 3ms/step - loss: 0.5033 - y1_output_loss: 0.1494 - y2_output_loss: 0.3539 - y1_output_root_mean_squared_error: 0.3829 - y2_output_root_mean_squared_error: 0.5871 - val_loss: 4.7888 - val_y1_output_loss: 1.4548 - val_y2_output_loss: 3.3341 - val_y1_output_root_mean_squared_error: 1.2061 - val_y2_output_root_mean_squared_error: 1.8259\n",
            "Epoch 318/500\n",
            "62/62 [==============================] - 0s 3ms/step - loss: 3.9062 - y1_output_loss: 0.9724 - y2_output_loss: 2.9338 - y1_output_root_mean_squared_error: 0.9297 - y2_output_root_mean_squared_error: 1.6315 - val_loss: 1.5325 - val_y1_output_loss: 0.1812 - val_y2_output_loss: 1.3513 - val_y1_output_root_mean_squared_error: 0.4257 - val_y2_output_root_mean_squared_error: 1.1624\n",
            "Epoch 319/500\n",
            "62/62 [==============================] - 0s 3ms/step - loss: 0.6608 - y1_output_loss: 0.1566 - y2_output_loss: 0.5042 - y1_output_root_mean_squared_error: 0.3941 - y2_output_root_mean_squared_error: 0.7035 - val_loss: 3.0630 - val_y1_output_loss: 0.7014 - val_y2_output_loss: 2.3616 - val_y1_output_root_mean_squared_error: 0.8375 - val_y2_output_root_mean_squared_error: 1.5368\n",
            "Epoch 320/500\n",
            "62/62 [==============================] - 0s 3ms/step - loss: 0.8914 - y1_output_loss: 0.2279 - y2_output_loss: 0.6635 - y1_output_root_mean_squared_error: 0.4711 - y2_output_root_mean_squared_error: 0.8033 - val_loss: 1.8018 - val_y1_output_loss: 0.2648 - val_y2_output_loss: 1.5370 - val_y1_output_root_mean_squared_error: 0.5146 - val_y2_output_root_mean_squared_error: 1.2397\n",
            "Epoch 321/500\n",
            "62/62 [==============================] - 0s 3ms/step - loss: 0.4694 - y1_output_loss: 0.1444 - y2_output_loss: 0.3250 - y1_output_root_mean_squared_error: 0.3789 - y2_output_root_mean_squared_error: 0.5672 - val_loss: 1.6082 - val_y1_output_loss: 0.1952 - val_y2_output_loss: 1.4130 - val_y1_output_root_mean_squared_error: 0.4418 - val_y2_output_root_mean_squared_error: 1.1887\n",
            "Epoch 322/500\n",
            "62/62 [==============================] - 0s 3ms/step - loss: 0.7442 - y1_output_loss: 0.1947 - y2_output_loss: 0.5495 - y1_output_root_mean_squared_error: 0.4388 - y2_output_root_mean_squared_error: 0.7341 - val_loss: 1.5611 - val_y1_output_loss: 0.2005 - val_y2_output_loss: 1.3606 - val_y1_output_root_mean_squared_error: 0.4478 - val_y2_output_root_mean_squared_error: 1.1664\n",
            "Epoch 323/500\n",
            "62/62 [==============================] - 0s 3ms/step - loss: 0.4728 - y1_output_loss: 0.1352 - y2_output_loss: 0.3377 - y1_output_root_mean_squared_error: 0.3672 - y2_output_root_mean_squared_error: 0.5791 - val_loss: 1.7014 - val_y1_output_loss: 0.3358 - val_y2_output_loss: 1.3656 - val_y1_output_root_mean_squared_error: 0.5795 - val_y2_output_root_mean_squared_error: 1.1686\n",
            "Epoch 324/500\n",
            "62/62 [==============================] - 0s 2ms/step - loss: 0.5941 - y1_output_loss: 0.1409 - y2_output_loss: 0.4531 - y1_output_root_mean_squared_error: 0.3745 - y2_output_root_mean_squared_error: 0.6711 - val_loss: 1.4640 - val_y1_output_loss: 0.2107 - val_y2_output_loss: 1.2534 - val_y1_output_root_mean_squared_error: 0.4590 - val_y2_output_root_mean_squared_error: 1.1195\n",
            "Epoch 325/500\n",
            "62/62 [==============================] - 0s 3ms/step - loss: 0.6065 - y1_output_loss: 0.1430 - y2_output_loss: 0.4635 - y1_output_root_mean_squared_error: 0.3778 - y2_output_root_mean_squared_error: 0.6788 - val_loss: 5.8050 - val_y1_output_loss: 1.1648 - val_y2_output_loss: 4.6403 - val_y1_output_root_mean_squared_error: 1.0792 - val_y2_output_root_mean_squared_error: 2.1541\n",
            "Epoch 326/500\n",
            "62/62 [==============================] - 0s 3ms/step - loss: 0.9269 - y1_output_loss: 0.2582 - y2_output_loss: 0.6687 - y1_output_root_mean_squared_error: 0.4997 - y2_output_root_mean_squared_error: 0.7967 - val_loss: 1.4639 - val_y1_output_loss: 0.1960 - val_y2_output_loss: 1.2679 - val_y1_output_root_mean_squared_error: 0.4427 - val_y2_output_root_mean_squared_error: 1.1260\n",
            "Epoch 327/500\n",
            "62/62 [==============================] - 0s 3ms/step - loss: 0.5159 - y1_output_loss: 0.1395 - y2_output_loss: 0.3763 - y1_output_root_mean_squared_error: 0.3726 - y2_output_root_mean_squared_error: 0.6128 - val_loss: 1.4203 - val_y1_output_loss: 0.2348 - val_y2_output_loss: 1.1854 - val_y1_output_root_mean_squared_error: 0.4846 - val_y2_output_root_mean_squared_error: 1.0888\n",
            "Epoch 328/500\n",
            "62/62 [==============================] - 0s 3ms/step - loss: 0.6056 - y1_output_loss: 0.1444 - y2_output_loss: 0.4611 - y1_output_root_mean_squared_error: 0.3795 - y2_output_root_mean_squared_error: 0.6756 - val_loss: 1.8472 - val_y1_output_loss: 0.2644 - val_y2_output_loss: 1.5827 - val_y1_output_root_mean_squared_error: 0.5142 - val_y2_output_root_mean_squared_error: 1.2581\n",
            "Epoch 329/500\n",
            "62/62 [==============================] - 0s 3ms/step - loss: 0.7504 - y1_output_loss: 0.1923 - y2_output_loss: 0.5580 - y1_output_root_mean_squared_error: 0.4378 - y2_output_root_mean_squared_error: 0.7450 - val_loss: 1.4415 - val_y1_output_loss: 0.1788 - val_y2_output_loss: 1.2627 - val_y1_output_root_mean_squared_error: 0.4228 - val_y2_output_root_mean_squared_error: 1.1237\n",
            "Epoch 330/500\n",
            "62/62 [==============================] - 0s 3ms/step - loss: 0.6325 - y1_output_loss: 0.1813 - y2_output_loss: 0.4512 - y1_output_root_mean_squared_error: 0.4238 - y2_output_root_mean_squared_error: 0.6606 - val_loss: 1.4595 - val_y1_output_loss: 0.1847 - val_y2_output_loss: 1.2748 - val_y1_output_root_mean_squared_error: 0.4297 - val_y2_output_root_mean_squared_error: 1.1291\n",
            "Epoch 331/500\n",
            "62/62 [==============================] - 0s 3ms/step - loss: 0.6933 - y1_output_loss: 0.1845 - y2_output_loss: 0.5087 - y1_output_root_mean_squared_error: 0.4283 - y2_output_root_mean_squared_error: 0.7055 - val_loss: 2.6396 - val_y1_output_loss: 0.2037 - val_y2_output_loss: 2.4359 - val_y1_output_root_mean_squared_error: 0.4513 - val_y2_output_root_mean_squared_error: 1.5607\n",
            "Epoch 332/500\n",
            "62/62 [==============================] - 0s 3ms/step - loss: 0.9371 - y1_output_loss: 0.2221 - y2_output_loss: 0.7150 - y1_output_root_mean_squared_error: 0.4680 - y2_output_root_mean_squared_error: 0.8354 - val_loss: 1.5898 - val_y1_output_loss: 0.2142 - val_y2_output_loss: 1.3757 - val_y1_output_root_mean_squared_error: 0.4628 - val_y2_output_root_mean_squared_error: 1.1729\n",
            "Epoch 333/500\n",
            "62/62 [==============================] - 0s 3ms/step - loss: 0.5850 - y1_output_loss: 0.1618 - y2_output_loss: 0.4232 - y1_output_root_mean_squared_error: 0.3998 - y2_output_root_mean_squared_error: 0.6480 - val_loss: 1.4646 - val_y1_output_loss: 0.1702 - val_y2_output_loss: 1.2944 - val_y1_output_root_mean_squared_error: 0.4126 - val_y2_output_root_mean_squared_error: 1.1377\n",
            "Epoch 334/500\n",
            "62/62 [==============================] - 0s 2ms/step - loss: 0.6788 - y1_output_loss: 0.1631 - y2_output_loss: 0.5157 - y1_output_root_mean_squared_error: 0.4018 - y2_output_root_mean_squared_error: 0.7043 - val_loss: 1.3938 - val_y1_output_loss: 0.1807 - val_y2_output_loss: 1.2132 - val_y1_output_root_mean_squared_error: 0.4250 - val_y2_output_root_mean_squared_error: 1.1014\n",
            "Epoch 335/500\n",
            "62/62 [==============================] - 0s 3ms/step - loss: 1.5371 - y1_output_loss: 0.2894 - y2_output_loss: 1.2477 - y1_output_root_mean_squared_error: 0.5285 - y2_output_root_mean_squared_error: 1.0842 - val_loss: 1.4990 - val_y1_output_loss: 0.2330 - val_y2_output_loss: 1.2661 - val_y1_output_root_mean_squared_error: 0.4827 - val_y2_output_root_mean_squared_error: 1.1252\n",
            "Epoch 336/500\n",
            "62/62 [==============================] - 0s 3ms/step - loss: 0.5395 - y1_output_loss: 0.1311 - y2_output_loss: 0.4084 - y1_output_root_mean_squared_error: 0.3608 - y2_output_root_mean_squared_error: 0.6307 - val_loss: 1.7839 - val_y1_output_loss: 0.2370 - val_y2_output_loss: 1.5470 - val_y1_output_root_mean_squared_error: 0.4868 - val_y2_output_root_mean_squared_error: 1.2438\n",
            "Epoch 337/500\n",
            "62/62 [==============================] - 0s 3ms/step - loss: 0.5018 - y1_output_loss: 0.1274 - y2_output_loss: 0.3744 - y1_output_root_mean_squared_error: 0.3564 - y2_output_root_mean_squared_error: 0.6091 - val_loss: 1.6189 - val_y1_output_loss: 0.3121 - val_y2_output_loss: 1.3068 - val_y1_output_root_mean_squared_error: 0.5587 - val_y2_output_root_mean_squared_error: 1.1431\n",
            "Epoch 338/500\n",
            "62/62 [==============================] - 0s 3ms/step - loss: 0.5639 - y1_output_loss: 0.1448 - y2_output_loss: 0.4191 - y1_output_root_mean_squared_error: 0.3790 - y2_output_root_mean_squared_error: 0.6422 - val_loss: 1.4106 - val_y1_output_loss: 0.1824 - val_y2_output_loss: 1.2282 - val_y1_output_root_mean_squared_error: 0.4271 - val_y2_output_root_mean_squared_error: 1.1082\n",
            "Epoch 339/500\n",
            "62/62 [==============================] - 0s 3ms/step - loss: 0.4037 - y1_output_loss: 0.1047 - y2_output_loss: 0.2990 - y1_output_root_mean_squared_error: 0.3208 - y2_output_root_mean_squared_error: 0.5444 - val_loss: 1.4254 - val_y1_output_loss: 0.1784 - val_y2_output_loss: 1.2470 - val_y1_output_root_mean_squared_error: 0.4224 - val_y2_output_root_mean_squared_error: 1.1167\n",
            "Epoch 340/500\n",
            "62/62 [==============================] - 0s 3ms/step - loss: 0.5624 - y1_output_loss: 0.1355 - y2_output_loss: 0.4269 - y1_output_root_mean_squared_error: 0.3678 - y2_output_root_mean_squared_error: 0.6507 - val_loss: 1.5644 - val_y1_output_loss: 0.2347 - val_y2_output_loss: 1.3297 - val_y1_output_root_mean_squared_error: 0.4844 - val_y2_output_root_mean_squared_error: 1.1531\n",
            "Epoch 341/500\n",
            "62/62 [==============================] - 0s 3ms/step - loss: 0.5079 - y1_output_loss: 0.1291 - y2_output_loss: 0.3788 - y1_output_root_mean_squared_error: 0.3589 - y2_output_root_mean_squared_error: 0.6144 - val_loss: 1.5721 - val_y1_output_loss: 0.1973 - val_y2_output_loss: 1.3748 - val_y1_output_root_mean_squared_error: 0.4442 - val_y2_output_root_mean_squared_error: 1.1725\n",
            "Epoch 342/500\n",
            "62/62 [==============================] - 0s 3ms/step - loss: 0.6659 - y1_output_loss: 0.1605 - y2_output_loss: 0.5054 - y1_output_root_mean_squared_error: 0.4001 - y2_output_root_mean_squared_error: 0.7030 - val_loss: 1.4671 - val_y1_output_loss: 0.2648 - val_y2_output_loss: 1.2023 - val_y1_output_root_mean_squared_error: 0.5146 - val_y2_output_root_mean_squared_error: 1.0965\n",
            "Epoch 343/500\n",
            "62/62 [==============================] - 0s 3ms/step - loss: 0.4208 - y1_output_loss: 0.1257 - y2_output_loss: 0.2951 - y1_output_root_mean_squared_error: 0.3533 - y2_output_root_mean_squared_error: 0.5412 - val_loss: 2.9818 - val_y1_output_loss: 0.3677 - val_y2_output_loss: 2.6141 - val_y1_output_root_mean_squared_error: 0.6064 - val_y2_output_root_mean_squared_error: 1.6168\n",
            "Epoch 344/500\n",
            "62/62 [==============================] - 0s 3ms/step - loss: 0.8089 - y1_output_loss: 0.1785 - y2_output_loss: 0.6304 - y1_output_root_mean_squared_error: 0.4214 - y2_output_root_mean_squared_error: 0.7816 - val_loss: 2.8022 - val_y1_output_loss: 0.6987 - val_y2_output_loss: 2.1035 - val_y1_output_root_mean_squared_error: 0.8359 - val_y2_output_root_mean_squared_error: 1.4503\n",
            "Epoch 345/500\n",
            "62/62 [==============================] - 0s 3ms/step - loss: 0.6630 - y1_output_loss: 0.1845 - y2_output_loss: 0.4786 - y1_output_root_mean_squared_error: 0.4239 - y2_output_root_mean_squared_error: 0.6788 - val_loss: 1.7163 - val_y1_output_loss: 0.2744 - val_y2_output_loss: 1.4419 - val_y1_output_root_mean_squared_error: 0.5239 - val_y2_output_root_mean_squared_error: 1.2008\n",
            "Epoch 346/500\n",
            "62/62 [==============================] - 0s 3ms/step - loss: 0.8749 - y1_output_loss: 0.1739 - y2_output_loss: 0.7011 - y1_output_root_mean_squared_error: 0.4153 - y2_output_root_mean_squared_error: 0.8258 - val_loss: 2.6861 - val_y1_output_loss: 0.3976 - val_y2_output_loss: 2.2884 - val_y1_output_root_mean_squared_error: 0.6306 - val_y2_output_root_mean_squared_error: 1.5128\n",
            "Epoch 347/500\n",
            "62/62 [==============================] - 0s 3ms/step - loss: 0.6541 - y1_output_loss: 0.1940 - y2_output_loss: 0.4601 - y1_output_root_mean_squared_error: 0.4347 - y2_output_root_mean_squared_error: 0.6615 - val_loss: 2.0005 - val_y1_output_loss: 0.2962 - val_y2_output_loss: 1.7042 - val_y1_output_root_mean_squared_error: 0.5443 - val_y2_output_root_mean_squared_error: 1.3055\n",
            "Epoch 348/500\n",
            "62/62 [==============================] - 0s 3ms/step - loss: 0.9132 - y1_output_loss: 0.2507 - y2_output_loss: 0.6625 - y1_output_root_mean_squared_error: 0.4923 - y2_output_root_mean_squared_error: 0.8039 - val_loss: 1.6207 - val_y1_output_loss: 0.2302 - val_y2_output_loss: 1.3905 - val_y1_output_root_mean_squared_error: 0.4798 - val_y2_output_root_mean_squared_error: 1.1792\n",
            "Epoch 349/500\n",
            "62/62 [==============================] - 0s 3ms/step - loss: 0.5700 - y1_output_loss: 0.1517 - y2_output_loss: 0.4183 - y1_output_root_mean_squared_error: 0.3878 - y2_output_root_mean_squared_error: 0.6454 - val_loss: 1.3638 - val_y1_output_loss: 0.1698 - val_y2_output_loss: 1.1940 - val_y1_output_root_mean_squared_error: 0.4121 - val_y2_output_root_mean_squared_error: 1.0927\n",
            "Epoch 350/500\n",
            "62/62 [==============================] - 0s 3ms/step - loss: 0.5520 - y1_output_loss: 0.1259 - y2_output_loss: 0.4261 - y1_output_root_mean_squared_error: 0.3545 - y2_output_root_mean_squared_error: 0.6497 - val_loss: 1.5663 - val_y1_output_loss: 0.1813 - val_y2_output_loss: 1.3850 - val_y1_output_root_mean_squared_error: 0.4258 - val_y2_output_root_mean_squared_error: 1.1769\n",
            "Epoch 351/500\n",
            "62/62 [==============================] - 0s 3ms/step - loss: 0.3779 - y1_output_loss: 0.1159 - y2_output_loss: 0.2620 - y1_output_root_mean_squared_error: 0.3396 - y2_output_root_mean_squared_error: 0.5103 - val_loss: 1.4522 - val_y1_output_loss: 0.2430 - val_y2_output_loss: 1.2092 - val_y1_output_root_mean_squared_error: 0.4930 - val_y2_output_root_mean_squared_error: 1.0996\n",
            "Epoch 352/500\n",
            "62/62 [==============================] - 0s 3ms/step - loss: 0.4443 - y1_output_loss: 0.1576 - y2_output_loss: 0.2866 - y1_output_root_mean_squared_error: 0.3955 - y2_output_root_mean_squared_error: 0.5318 - val_loss: 1.3439 - val_y1_output_loss: 0.1937 - val_y2_output_loss: 1.1503 - val_y1_output_root_mean_squared_error: 0.4401 - val_y2_output_root_mean_squared_error: 1.0725\n",
            "Epoch 353/500\n",
            "62/62 [==============================] - 0s 3ms/step - loss: 0.8125 - y1_output_loss: 0.2038 - y2_output_loss: 0.6088 - y1_output_root_mean_squared_error: 0.4489 - y2_output_root_mean_squared_error: 0.7715 - val_loss: 1.3671 - val_y1_output_loss: 0.1841 - val_y2_output_loss: 1.1830 - val_y1_output_root_mean_squared_error: 0.4291 - val_y2_output_root_mean_squared_error: 1.0877\n",
            "Epoch 354/500\n",
            "62/62 [==============================] - 0s 3ms/step - loss: 0.4739 - y1_output_loss: 0.1184 - y2_output_loss: 0.3555 - y1_output_root_mean_squared_error: 0.3433 - y2_output_root_mean_squared_error: 0.5929 - val_loss: 2.3922 - val_y1_output_loss: 0.3416 - val_y2_output_loss: 2.0507 - val_y1_output_root_mean_squared_error: 0.5844 - val_y2_output_root_mean_squared_error: 1.4320\n",
            "Epoch 355/500\n",
            "62/62 [==============================] - 0s 3ms/step - loss: 0.5266 - y1_output_loss: 0.1165 - y2_output_loss: 0.4101 - y1_output_root_mean_squared_error: 0.3397 - y2_output_root_mean_squared_error: 0.6361 - val_loss: 3.5779 - val_y1_output_loss: 0.3415 - val_y2_output_loss: 3.2364 - val_y1_output_root_mean_squared_error: 0.5844 - val_y2_output_root_mean_squared_error: 1.7990\n",
            "Epoch 356/500\n",
            "62/62 [==============================] - 0s 3ms/step - loss: 0.5555 - y1_output_loss: 0.1463 - y2_output_loss: 0.4092 - y1_output_root_mean_squared_error: 0.3817 - y2_output_root_mean_squared_error: 0.6284 - val_loss: 1.9183 - val_y1_output_loss: 0.3972 - val_y2_output_loss: 1.5210 - val_y1_output_root_mean_squared_error: 0.6303 - val_y2_output_root_mean_squared_error: 1.2333\n",
            "Epoch 357/500\n",
            "62/62 [==============================] - 0s 3ms/step - loss: 0.5787 - y1_output_loss: 0.1760 - y2_output_loss: 0.4027 - y1_output_root_mean_squared_error: 0.4130 - y2_output_root_mean_squared_error: 0.6326 - val_loss: 1.3129 - val_y1_output_loss: 0.1735 - val_y2_output_loss: 1.1395 - val_y1_output_root_mean_squared_error: 0.4165 - val_y2_output_root_mean_squared_error: 1.0675\n",
            "Epoch 358/500\n",
            "62/62 [==============================] - 0s 2ms/step - loss: 0.4447 - y1_output_loss: 0.1249 - y2_output_loss: 0.3198 - y1_output_root_mean_squared_error: 0.3521 - y2_output_root_mean_squared_error: 0.5577 - val_loss: 1.7470 - val_y1_output_loss: 0.2159 - val_y2_output_loss: 1.5311 - val_y1_output_root_mean_squared_error: 0.4647 - val_y2_output_root_mean_squared_error: 1.2374\n",
            "Epoch 359/500\n",
            "62/62 [==============================] - 0s 3ms/step - loss: 0.5696 - y1_output_loss: 0.1372 - y2_output_loss: 0.4324 - y1_output_root_mean_squared_error: 0.3699 - y2_output_root_mean_squared_error: 0.6556 - val_loss: 2.2517 - val_y1_output_loss: 0.4203 - val_y2_output_loss: 1.8313 - val_y1_output_root_mean_squared_error: 0.6483 - val_y2_output_root_mean_squared_error: 1.3533\n",
            "Epoch 360/500\n",
            "62/62 [==============================] - 0s 5ms/step - loss: 0.7596 - y1_output_loss: 0.2279 - y2_output_loss: 0.5317 - y1_output_root_mean_squared_error: 0.4691 - y2_output_root_mean_squared_error: 0.7217 - val_loss: 1.5371 - val_y1_output_loss: 0.2403 - val_y2_output_loss: 1.2968 - val_y1_output_root_mean_squared_error: 0.4902 - val_y2_output_root_mean_squared_error: 1.1388\n",
            "Epoch 361/500\n",
            "62/62 [==============================] - 0s 3ms/step - loss: 0.6316 - y1_output_loss: 0.1765 - y2_output_loss: 0.4551 - y1_output_root_mean_squared_error: 0.4187 - y2_output_root_mean_squared_error: 0.6707 - val_loss: 1.5212 - val_y1_output_loss: 0.2025 - val_y2_output_loss: 1.3187 - val_y1_output_root_mean_squared_error: 0.4500 - val_y2_output_root_mean_squared_error: 1.1484\n",
            "Epoch 362/500\n",
            "62/62 [==============================] - 0s 3ms/step - loss: 0.5962 - y1_output_loss: 0.1491 - y2_output_loss: 0.4471 - y1_output_root_mean_squared_error: 0.3848 - y2_output_root_mean_squared_error: 0.6673 - val_loss: 1.3840 - val_y1_output_loss: 0.2026 - val_y2_output_loss: 1.1814 - val_y1_output_root_mean_squared_error: 0.4501 - val_y2_output_root_mean_squared_error: 1.0869\n",
            "Epoch 363/500\n",
            "62/62 [==============================] - 0s 3ms/step - loss: 0.3969 - y1_output_loss: 0.1038 - y2_output_loss: 0.2931 - y1_output_root_mean_squared_error: 0.3213 - y2_output_root_mean_squared_error: 0.5374 - val_loss: 1.5139 - val_y1_output_loss: 0.1831 - val_y2_output_loss: 1.3309 - val_y1_output_root_mean_squared_error: 0.4278 - val_y2_output_root_mean_squared_error: 1.1536\n",
            "Epoch 364/500\n",
            "62/62 [==============================] - 0s 3ms/step - loss: 0.6271 - y1_output_loss: 0.1548 - y2_output_loss: 0.4723 - y1_output_root_mean_squared_error: 0.3925 - y2_output_root_mean_squared_error: 0.6852 - val_loss: 1.3252 - val_y1_output_loss: 0.1726 - val_y2_output_loss: 1.1526 - val_y1_output_root_mean_squared_error: 0.4154 - val_y2_output_root_mean_squared_error: 1.0736\n",
            "Epoch 365/500\n",
            "62/62 [==============================] - 0s 3ms/step - loss: 0.5572 - y1_output_loss: 0.1469 - y2_output_loss: 0.4103 - y1_output_root_mean_squared_error: 0.3831 - y2_output_root_mean_squared_error: 0.6381 - val_loss: 1.6037 - val_y1_output_loss: 0.2341 - val_y2_output_loss: 1.3696 - val_y1_output_root_mean_squared_error: 0.4839 - val_y2_output_root_mean_squared_error: 1.1703\n",
            "Epoch 366/500\n",
            "62/62 [==============================] - 0s 3ms/step - loss: 0.5701 - y1_output_loss: 0.1341 - y2_output_loss: 0.4361 - y1_output_root_mean_squared_error: 0.3659 - y2_output_root_mean_squared_error: 0.6535 - val_loss: 1.8228 - val_y1_output_loss: 0.2705 - val_y2_output_loss: 1.5523 - val_y1_output_root_mean_squared_error: 0.5201 - val_y2_output_root_mean_squared_error: 1.2459\n",
            "Epoch 367/500\n",
            "62/62 [==============================] - 0s 3ms/step - loss: 0.4907 - y1_output_loss: 0.1730 - y2_output_loss: 0.3178 - y1_output_root_mean_squared_error: 0.4149 - y2_output_root_mean_squared_error: 0.5622 - val_loss: 1.7996 - val_y1_output_loss: 0.2621 - val_y2_output_loss: 1.5374 - val_y1_output_root_mean_squared_error: 0.5120 - val_y2_output_root_mean_squared_error: 1.2399\n",
            "Epoch 368/500\n",
            "62/62 [==============================] - 0s 3ms/step - loss: 0.5555 - y1_output_loss: 0.1656 - y2_output_loss: 0.3898 - y1_output_root_mean_squared_error: 0.4059 - y2_output_root_mean_squared_error: 0.6239 - val_loss: 1.7594 - val_y1_output_loss: 0.2039 - val_y2_output_loss: 1.5555 - val_y1_output_root_mean_squared_error: 0.4515 - val_y2_output_root_mean_squared_error: 1.2472\n",
            "Epoch 369/500\n",
            "62/62 [==============================] - 0s 3ms/step - loss: 0.5523 - y1_output_loss: 0.1501 - y2_output_loss: 0.4022 - y1_output_root_mean_squared_error: 0.3868 - y2_output_root_mean_squared_error: 0.6272 - val_loss: 1.5051 - val_y1_output_loss: 0.2657 - val_y2_output_loss: 1.2394 - val_y1_output_root_mean_squared_error: 0.5155 - val_y2_output_root_mean_squared_error: 1.1133\n",
            "Epoch 370/500\n",
            "62/62 [==============================] - 0s 3ms/step - loss: 0.4568 - y1_output_loss: 0.1274 - y2_output_loss: 0.3294 - y1_output_root_mean_squared_error: 0.3530 - y2_output_root_mean_squared_error: 0.5709 - val_loss: 1.5393 - val_y1_output_loss: 0.1796 - val_y2_output_loss: 1.3598 - val_y1_output_root_mean_squared_error: 0.4237 - val_y2_output_root_mean_squared_error: 1.1661\n",
            "Epoch 371/500\n",
            "62/62 [==============================] - 0s 3ms/step - loss: 0.7452 - y1_output_loss: 0.1453 - y2_output_loss: 0.5999 - y1_output_root_mean_squared_error: 0.3791 - y2_output_root_mean_squared_error: 0.7590 - val_loss: 1.6262 - val_y1_output_loss: 0.1694 - val_y2_output_loss: 1.4568 - val_y1_output_root_mean_squared_error: 0.4115 - val_y2_output_root_mean_squared_error: 1.2070\n",
            "Epoch 372/500\n",
            "62/62 [==============================] - 0s 3ms/step - loss: 0.4994 - y1_output_loss: 0.1326 - y2_output_loss: 0.3668 - y1_output_root_mean_squared_error: 0.3636 - y2_output_root_mean_squared_error: 0.6007 - val_loss: 1.5769 - val_y1_output_loss: 0.1880 - val_y2_output_loss: 1.3889 - val_y1_output_root_mean_squared_error: 0.4335 - val_y2_output_root_mean_squared_error: 1.1785\n",
            "Epoch 373/500\n",
            "62/62 [==============================] - 0s 3ms/step - loss: 0.6863 - y1_output_loss: 0.1552 - y2_output_loss: 0.5311 - y1_output_root_mean_squared_error: 0.3917 - y2_output_root_mean_squared_error: 0.7272 - val_loss: 2.0212 - val_y1_output_loss: 0.3853 - val_y2_output_loss: 1.6358 - val_y1_output_root_mean_squared_error: 0.6208 - val_y2_output_root_mean_squared_error: 1.2790\n",
            "Epoch 374/500\n",
            "62/62 [==============================] - 0s 3ms/step - loss: 0.6281 - y1_output_loss: 0.1654 - y2_output_loss: 0.4627 - y1_output_root_mean_squared_error: 0.4043 - y2_output_root_mean_squared_error: 0.6786 - val_loss: 1.9135 - val_y1_output_loss: 0.3747 - val_y2_output_loss: 1.5388 - val_y1_output_root_mean_squared_error: 0.6121 - val_y2_output_root_mean_squared_error: 1.2405\n",
            "Epoch 375/500\n",
            "62/62 [==============================] - 0s 3ms/step - loss: 0.5445 - y1_output_loss: 0.1595 - y2_output_loss: 0.3849 - y1_output_root_mean_squared_error: 0.3962 - y2_output_root_mean_squared_error: 0.6189 - val_loss: 1.3894 - val_y1_output_loss: 0.2146 - val_y2_output_loss: 1.1748 - val_y1_output_root_mean_squared_error: 0.4633 - val_y2_output_root_mean_squared_error: 1.0839\n",
            "Epoch 376/500\n",
            "62/62 [==============================] - 0s 3ms/step - loss: 0.5335 - y1_output_loss: 0.1330 - y2_output_loss: 0.4005 - y1_output_root_mean_squared_error: 0.3634 - y2_output_root_mean_squared_error: 0.6204 - val_loss: 1.3854 - val_y1_output_loss: 0.1716 - val_y2_output_loss: 1.2138 - val_y1_output_root_mean_squared_error: 0.4143 - val_y2_output_root_mean_squared_error: 1.1017\n",
            "Epoch 377/500\n",
            "62/62 [==============================] - 0s 3ms/step - loss: 0.5798 - y1_output_loss: 0.1750 - y2_output_loss: 0.4049 - y1_output_root_mean_squared_error: 0.4133 - y2_output_root_mean_squared_error: 0.6305 - val_loss: 1.6675 - val_y1_output_loss: 0.2652 - val_y2_output_loss: 1.4023 - val_y1_output_root_mean_squared_error: 0.5150 - val_y2_output_root_mean_squared_error: 1.1842\n",
            "Epoch 378/500\n",
            "62/62 [==============================] - 0s 3ms/step - loss: 0.4568 - y1_output_loss: 0.1295 - y2_output_loss: 0.3273 - y1_output_root_mean_squared_error: 0.3591 - y2_output_root_mean_squared_error: 0.5717 - val_loss: 1.3078 - val_y1_output_loss: 0.1874 - val_y2_output_loss: 1.1205 - val_y1_output_root_mean_squared_error: 0.4329 - val_y2_output_root_mean_squared_error: 1.0585\n",
            "Epoch 379/500\n",
            "62/62 [==============================] - 0s 3ms/step - loss: 0.4307 - y1_output_loss: 0.1162 - y2_output_loss: 0.3145 - y1_output_root_mean_squared_error: 0.3388 - y2_output_root_mean_squared_error: 0.5555 - val_loss: 1.2852 - val_y1_output_loss: 0.1770 - val_y2_output_loss: 1.1082 - val_y1_output_root_mean_squared_error: 0.4207 - val_y2_output_root_mean_squared_error: 1.0527\n",
            "Epoch 380/500\n",
            "62/62 [==============================] - 0s 3ms/step - loss: 0.4125 - y1_output_loss: 0.1334 - y2_output_loss: 0.2791 - y1_output_root_mean_squared_error: 0.3634 - y2_output_root_mean_squared_error: 0.5270 - val_loss: 1.4550 - val_y1_output_loss: 0.1777 - val_y2_output_loss: 1.2773 - val_y1_output_root_mean_squared_error: 0.4215 - val_y2_output_root_mean_squared_error: 1.1302\n",
            "Epoch 381/500\n",
            "62/62 [==============================] - 0s 3ms/step - loss: 0.5672 - y1_output_loss: 0.1371 - y2_output_loss: 0.4301 - y1_output_root_mean_squared_error: 0.3687 - y2_output_root_mean_squared_error: 0.6482 - val_loss: 1.4568 - val_y1_output_loss: 0.1977 - val_y2_output_loss: 1.2591 - val_y1_output_root_mean_squared_error: 0.4446 - val_y2_output_root_mean_squared_error: 1.1221\n",
            "Epoch 382/500\n",
            "62/62 [==============================] - 0s 3ms/step - loss: 0.4860 - y1_output_loss: 0.1297 - y2_output_loss: 0.3563 - y1_output_root_mean_squared_error: 0.3595 - y2_output_root_mean_squared_error: 0.5943 - val_loss: 1.8222 - val_y1_output_loss: 0.1833 - val_y2_output_loss: 1.6389 - val_y1_output_root_mean_squared_error: 0.4281 - val_y2_output_root_mean_squared_error: 1.2802\n",
            "Epoch 383/500\n",
            "62/62 [==============================] - 0s 3ms/step - loss: 0.7103 - y1_output_loss: 0.2369 - y2_output_loss: 0.4733 - y1_output_root_mean_squared_error: 0.4831 - y2_output_root_mean_squared_error: 0.6852 - val_loss: 1.8740 - val_y1_output_loss: 0.3945 - val_y2_output_loss: 1.4795 - val_y1_output_root_mean_squared_error: 0.6281 - val_y2_output_root_mean_squared_error: 1.2163\n",
            "Epoch 384/500\n",
            "62/62 [==============================] - 0s 3ms/step - loss: 0.5418 - y1_output_loss: 0.1499 - y2_output_loss: 0.3919 - y1_output_root_mean_squared_error: 0.3868 - y2_output_root_mean_squared_error: 0.6237 - val_loss: 1.9168 - val_y1_output_loss: 0.3476 - val_y2_output_loss: 1.5692 - val_y1_output_root_mean_squared_error: 0.5896 - val_y2_output_root_mean_squared_error: 1.2527\n",
            "Epoch 385/500\n",
            "62/62 [==============================] - 0s 3ms/step - loss: 0.3780 - y1_output_loss: 0.1001 - y2_output_loss: 0.2779 - y1_output_root_mean_squared_error: 0.3158 - y2_output_root_mean_squared_error: 0.5261 - val_loss: 1.5228 - val_y1_output_loss: 0.2064 - val_y2_output_loss: 1.3164 - val_y1_output_root_mean_squared_error: 0.4543 - val_y2_output_root_mean_squared_error: 1.1473\n",
            "Epoch 386/500\n",
            "62/62 [==============================] - 0s 3ms/step - loss: 0.5537 - y1_output_loss: 0.1177 - y2_output_loss: 0.4360 - y1_output_root_mean_squared_error: 0.3428 - y2_output_root_mean_squared_error: 0.6560 - val_loss: 1.3662 - val_y1_output_loss: 0.2431 - val_y2_output_loss: 1.1232 - val_y1_output_root_mean_squared_error: 0.4930 - val_y2_output_root_mean_squared_error: 1.0598\n",
            "Epoch 387/500\n",
            "62/62 [==============================] - 0s 3ms/step - loss: 0.5614 - y1_output_loss: 0.1283 - y2_output_loss: 0.4331 - y1_output_root_mean_squared_error: 0.3576 - y2_output_root_mean_squared_error: 0.6556 - val_loss: 1.4346 - val_y1_output_loss: 0.2497 - val_y2_output_loss: 1.1850 - val_y1_output_root_mean_squared_error: 0.4997 - val_y2_output_root_mean_squared_error: 1.0886\n",
            "Epoch 388/500\n",
            "62/62 [==============================] - 0s 3ms/step - loss: 0.4308 - y1_output_loss: 0.1471 - y2_output_loss: 0.2837 - y1_output_root_mean_squared_error: 0.3790 - y2_output_root_mean_squared_error: 0.5315 - val_loss: 1.3466 - val_y1_output_loss: 0.1775 - val_y2_output_loss: 1.1691 - val_y1_output_root_mean_squared_error: 0.4214 - val_y2_output_root_mean_squared_error: 1.0813\n",
            "Epoch 389/500\n",
            "62/62 [==============================] - 0s 3ms/step - loss: 0.5586 - y1_output_loss: 0.1318 - y2_output_loss: 0.4269 - y1_output_root_mean_squared_error: 0.3621 - y2_output_root_mean_squared_error: 0.6494 - val_loss: 3.2788 - val_y1_output_loss: 0.4029 - val_y2_output_loss: 2.8759 - val_y1_output_root_mean_squared_error: 0.6347 - val_y2_output_root_mean_squared_error: 1.6959\n",
            "Epoch 390/500\n",
            "62/62 [==============================] - 0s 3ms/step - loss: 0.6819 - y1_output_loss: 0.1312 - y2_output_loss: 0.5507 - y1_output_root_mean_squared_error: 0.3618 - y2_output_root_mean_squared_error: 0.7325 - val_loss: 1.4128 - val_y1_output_loss: 0.1754 - val_y2_output_loss: 1.2374 - val_y1_output_root_mean_squared_error: 0.4189 - val_y2_output_root_mean_squared_error: 1.1124\n",
            "Epoch 391/500\n",
            "62/62 [==============================] - 0s 3ms/step - loss: 0.3966 - y1_output_loss: 0.1329 - y2_output_loss: 0.2637 - y1_output_root_mean_squared_error: 0.3630 - y2_output_root_mean_squared_error: 0.5120 - val_loss: 4.4539 - val_y1_output_loss: 1.1627 - val_y2_output_loss: 3.2912 - val_y1_output_root_mean_squared_error: 1.0783 - val_y2_output_root_mean_squared_error: 1.8142\n",
            "Epoch 392/500\n",
            "62/62 [==============================] - 0s 3ms/step - loss: 0.8303 - y1_output_loss: 0.2194 - y2_output_loss: 0.6109 - y1_output_root_mean_squared_error: 0.4647 - y2_output_root_mean_squared_error: 0.7712 - val_loss: 1.4743 - val_y1_output_loss: 0.2051 - val_y2_output_loss: 1.2692 - val_y1_output_root_mean_squared_error: 0.4529 - val_y2_output_root_mean_squared_error: 1.1266\n",
            "Epoch 393/500\n",
            "62/62 [==============================] - 0s 3ms/step - loss: 0.6331 - y1_output_loss: 0.1564 - y2_output_loss: 0.4767 - y1_output_root_mean_squared_error: 0.3950 - y2_output_root_mean_squared_error: 0.6871 - val_loss: 1.2527 - val_y1_output_loss: 0.1703 - val_y2_output_loss: 1.0824 - val_y1_output_root_mean_squared_error: 0.4127 - val_y2_output_root_mean_squared_error: 1.0404\n",
            "Epoch 394/500\n",
            "62/62 [==============================] - 0s 3ms/step - loss: 0.6222 - y1_output_loss: 0.1513 - y2_output_loss: 0.4708 - y1_output_root_mean_squared_error: 0.3837 - y2_output_root_mean_squared_error: 0.6799 - val_loss: 1.3646 - val_y1_output_loss: 0.1683 - val_y2_output_loss: 1.1963 - val_y1_output_root_mean_squared_error: 0.4102 - val_y2_output_root_mean_squared_error: 1.0937\n",
            "Epoch 395/500\n",
            "62/62 [==============================] - 0s 3ms/step - loss: 0.5376 - y1_output_loss: 0.1629 - y2_output_loss: 0.3747 - y1_output_root_mean_squared_error: 0.3983 - y2_output_root_mean_squared_error: 0.6114 - val_loss: 1.2712 - val_y1_output_loss: 0.1975 - val_y2_output_loss: 1.0737 - val_y1_output_root_mean_squared_error: 0.4444 - val_y2_output_root_mean_squared_error: 1.0362\n",
            "Epoch 396/500\n",
            "62/62 [==============================] - 0s 3ms/step - loss: 0.3542 - y1_output_loss: 0.1065 - y2_output_loss: 0.2478 - y1_output_root_mean_squared_error: 0.3251 - y2_output_root_mean_squared_error: 0.4947 - val_loss: 1.6737 - val_y1_output_loss: 0.2989 - val_y2_output_loss: 1.3748 - val_y1_output_root_mean_squared_error: 0.5467 - val_y2_output_root_mean_squared_error: 1.1725\n",
            "Epoch 397/500\n",
            "62/62 [==============================] - 0s 3ms/step - loss: 0.7658 - y1_output_loss: 0.2103 - y2_output_loss: 0.5555 - y1_output_root_mean_squared_error: 0.4558 - y2_output_root_mean_squared_error: 0.7404 - val_loss: 1.4029 - val_y1_output_loss: 0.1761 - val_y2_output_loss: 1.2268 - val_y1_output_root_mean_squared_error: 0.4197 - val_y2_output_root_mean_squared_error: 1.1076\n",
            "Epoch 398/500\n",
            "62/62 [==============================] - 0s 3ms/step - loss: 0.3654 - y1_output_loss: 0.1073 - y2_output_loss: 0.2580 - y1_output_root_mean_squared_error: 0.3270 - y2_output_root_mean_squared_error: 0.5044 - val_loss: 1.5968 - val_y1_output_loss: 0.2841 - val_y2_output_loss: 1.3127 - val_y1_output_root_mean_squared_error: 0.5330 - val_y2_output_root_mean_squared_error: 1.1457\n",
            "Epoch 399/500\n",
            "62/62 [==============================] - 0s 3ms/step - loss: 0.4063 - y1_output_loss: 0.1131 - y2_output_loss: 0.2932 - y1_output_root_mean_squared_error: 0.3343 - y2_output_root_mean_squared_error: 0.5367 - val_loss: 1.4664 - val_y1_output_loss: 0.2467 - val_y2_output_loss: 1.2196 - val_y1_output_root_mean_squared_error: 0.4967 - val_y2_output_root_mean_squared_error: 1.1044\n",
            "Epoch 400/500\n",
            "62/62 [==============================] - 0s 3ms/step - loss: 0.5672 - y1_output_loss: 0.1357 - y2_output_loss: 0.4314 - y1_output_root_mean_squared_error: 0.3674 - y2_output_root_mean_squared_error: 0.6541 - val_loss: 1.6058 - val_y1_output_loss: 0.2247 - val_y2_output_loss: 1.3811 - val_y1_output_root_mean_squared_error: 0.4740 - val_y2_output_root_mean_squared_error: 1.1752\n",
            "Epoch 401/500\n",
            "62/62 [==============================] - 0s 3ms/step - loss: 0.4195 - y1_output_loss: 0.1072 - y2_output_loss: 0.3124 - y1_output_root_mean_squared_error: 0.3267 - y2_output_root_mean_squared_error: 0.5576 - val_loss: 2.2172 - val_y1_output_loss: 0.6392 - val_y2_output_loss: 1.5781 - val_y1_output_root_mean_squared_error: 0.7995 - val_y2_output_root_mean_squared_error: 1.2562\n",
            "Epoch 402/500\n",
            "62/62 [==============================] - 0s 3ms/step - loss: 0.6842 - y1_output_loss: 0.2027 - y2_output_loss: 0.4814 - y1_output_root_mean_squared_error: 0.4441 - y2_output_root_mean_squared_error: 0.6866 - val_loss: 1.3815 - val_y1_output_loss: 0.1717 - val_y2_output_loss: 1.2098 - val_y1_output_root_mean_squared_error: 0.4144 - val_y2_output_root_mean_squared_error: 1.0999\n",
            "Epoch 403/500\n",
            "62/62 [==============================] - 0s 3ms/step - loss: 0.4350 - y1_output_loss: 0.1128 - y2_output_loss: 0.3222 - y1_output_root_mean_squared_error: 0.3352 - y2_output_root_mean_squared_error: 0.5665 - val_loss: 1.2974 - val_y1_output_loss: 0.1751 - val_y2_output_loss: 1.1223 - val_y1_output_root_mean_squared_error: 0.4185 - val_y2_output_root_mean_squared_error: 1.0594\n",
            "Epoch 404/500\n",
            "62/62 [==============================] - 0s 5ms/step - loss: 0.4549 - y1_output_loss: 0.1103 - y2_output_loss: 0.3446 - y1_output_root_mean_squared_error: 0.3306 - y2_output_root_mean_squared_error: 0.5843 - val_loss: 1.9661 - val_y1_output_loss: 0.1990 - val_y2_output_loss: 1.7671 - val_y1_output_root_mean_squared_error: 0.4461 - val_y2_output_root_mean_squared_error: 1.3293\n",
            "Epoch 405/500\n",
            "62/62 [==============================] - 0s 3ms/step - loss: 1.0283 - y1_output_loss: 0.1642 - y2_output_loss: 0.8641 - y1_output_root_mean_squared_error: 0.4024 - y2_output_root_mean_squared_error: 0.8951 - val_loss: 1.5626 - val_y1_output_loss: 0.2765 - val_y2_output_loss: 1.2861 - val_y1_output_root_mean_squared_error: 0.5258 - val_y2_output_root_mean_squared_error: 1.1341\n",
            "Epoch 406/500\n",
            "62/62 [==============================] - 0s 3ms/step - loss: 0.4271 - y1_output_loss: 0.1417 - y2_output_loss: 0.2854 - y1_output_root_mean_squared_error: 0.3754 - y2_output_root_mean_squared_error: 0.5310 - val_loss: 1.2586 - val_y1_output_loss: 0.2346 - val_y2_output_loss: 1.0240 - val_y1_output_root_mean_squared_error: 0.4843 - val_y2_output_root_mean_squared_error: 1.0120\n",
            "Epoch 407/500\n",
            "62/62 [==============================] - 0s 3ms/step - loss: 0.3618 - y1_output_loss: 0.1172 - y2_output_loss: 0.2445 - y1_output_root_mean_squared_error: 0.3418 - y2_output_root_mean_squared_error: 0.4918 - val_loss: 6.0334 - val_y1_output_loss: 1.3624 - val_y2_output_loss: 4.6710 - val_y1_output_root_mean_squared_error: 1.1672 - val_y2_output_root_mean_squared_error: 2.1612\n",
            "Epoch 408/500\n",
            "62/62 [==============================] - 0s 3ms/step - loss: 1.3171 - y1_output_loss: 0.3462 - y2_output_loss: 0.9709 - y1_output_root_mean_squared_error: 0.5787 - y2_output_root_mean_squared_error: 0.9636 - val_loss: 1.3758 - val_y1_output_loss: 0.1893 - val_y2_output_loss: 1.1865 - val_y1_output_root_mean_squared_error: 0.4351 - val_y2_output_root_mean_squared_error: 1.0892\n",
            "Epoch 409/500\n",
            "62/62 [==============================] - 0s 3ms/step - loss: 0.3646 - y1_output_loss: 0.1293 - y2_output_loss: 0.2353 - y1_output_root_mean_squared_error: 0.3586 - y2_output_root_mean_squared_error: 0.4829 - val_loss: 1.3329 - val_y1_output_loss: 0.1588 - val_y2_output_loss: 1.1741 - val_y1_output_root_mean_squared_error: 0.3986 - val_y2_output_root_mean_squared_error: 1.0836\n",
            "Epoch 410/500\n",
            "62/62 [==============================] - 0s 3ms/step - loss: 0.6518 - y1_output_loss: 0.1620 - y2_output_loss: 0.4898 - y1_output_root_mean_squared_error: 0.3927 - y2_output_root_mean_squared_error: 0.6841 - val_loss: 1.4077 - val_y1_output_loss: 0.2276 - val_y2_output_loss: 1.1801 - val_y1_output_root_mean_squared_error: 0.4771 - val_y2_output_root_mean_squared_error: 1.0863\n",
            "Epoch 411/500\n",
            "62/62 [==============================] - 0s 3ms/step - loss: 0.3845 - y1_output_loss: 0.1115 - y2_output_loss: 0.2730 - y1_output_root_mean_squared_error: 0.3330 - y2_output_root_mean_squared_error: 0.5215 - val_loss: 4.0057 - val_y1_output_loss: 0.8761 - val_y2_output_loss: 3.1296 - val_y1_output_root_mean_squared_error: 0.9360 - val_y2_output_root_mean_squared_error: 1.7691\n",
            "Epoch 412/500\n",
            "62/62 [==============================] - 0s 3ms/step - loss: 1.1348 - y1_output_loss: 0.3378 - y2_output_loss: 0.7970 - y1_output_root_mean_squared_error: 0.5619 - y2_output_root_mean_squared_error: 0.8592 - val_loss: 1.3842 - val_y1_output_loss: 0.2193 - val_y2_output_loss: 1.1650 - val_y1_output_root_mean_squared_error: 0.4682 - val_y2_output_root_mean_squared_error: 1.0793\n",
            "Epoch 413/500\n",
            "62/62 [==============================] - 0s 3ms/step - loss: 0.4012 - y1_output_loss: 0.1044 - y2_output_loss: 0.2968 - y1_output_root_mean_squared_error: 0.3217 - y2_output_root_mean_squared_error: 0.5433 - val_loss: 1.2794 - val_y1_output_loss: 0.2107 - val_y2_output_loss: 1.0686 - val_y1_output_root_mean_squared_error: 0.4591 - val_y2_output_root_mean_squared_error: 1.0337\n",
            "Epoch 414/500\n",
            "62/62 [==============================] - 0s 3ms/step - loss: 0.4722 - y1_output_loss: 0.1396 - y2_output_loss: 0.3326 - y1_output_root_mean_squared_error: 0.3728 - y2_output_root_mean_squared_error: 0.5732 - val_loss: 1.2466 - val_y1_output_loss: 0.1679 - val_y2_output_loss: 1.0787 - val_y1_output_root_mean_squared_error: 0.4098 - val_y2_output_root_mean_squared_error: 1.0386\n",
            "Epoch 415/500\n",
            "62/62 [==============================] - 0s 3ms/step - loss: 0.5342 - y1_output_loss: 0.1188 - y2_output_loss: 0.4154 - y1_output_root_mean_squared_error: 0.3431 - y2_output_root_mean_squared_error: 0.6333 - val_loss: 1.3429 - val_y1_output_loss: 0.1813 - val_y2_output_loss: 1.1616 - val_y1_output_root_mean_squared_error: 0.4258 - val_y2_output_root_mean_squared_error: 1.0778\n",
            "Epoch 416/500\n",
            "62/62 [==============================] - 0s 3ms/step - loss: 0.4076 - y1_output_loss: 0.1193 - y2_output_loss: 0.2883 - y1_output_root_mean_squared_error: 0.3440 - y2_output_root_mean_squared_error: 0.5352 - val_loss: 1.2564 - val_y1_output_loss: 0.1709 - val_y2_output_loss: 1.0855 - val_y1_output_root_mean_squared_error: 0.4134 - val_y2_output_root_mean_squared_error: 1.0419\n",
            "Epoch 417/500\n",
            "62/62 [==============================] - 0s 3ms/step - loss: 0.2911 - y1_output_loss: 0.0919 - y2_output_loss: 0.1992 - y1_output_root_mean_squared_error: 0.3010 - y2_output_root_mean_squared_error: 0.4419 - val_loss: 1.2696 - val_y1_output_loss: 0.1787 - val_y2_output_loss: 1.0910 - val_y1_output_root_mean_squared_error: 0.4227 - val_y2_output_root_mean_squared_error: 1.0445\n",
            "Epoch 418/500\n",
            "62/62 [==============================] - 0s 3ms/step - loss: 0.4274 - y1_output_loss: 0.1219 - y2_output_loss: 0.3054 - y1_output_root_mean_squared_error: 0.3435 - y2_output_root_mean_squared_error: 0.5494 - val_loss: 1.2312 - val_y1_output_loss: 0.2026 - val_y2_output_loss: 1.0286 - val_y1_output_root_mean_squared_error: 0.4501 - val_y2_output_root_mean_squared_error: 1.0142\n",
            "Epoch 419/500\n",
            "62/62 [==============================] - 0s 3ms/step - loss: 0.3810 - y1_output_loss: 0.1239 - y2_output_loss: 0.2572 - y1_output_root_mean_squared_error: 0.3497 - y2_output_root_mean_squared_error: 0.5064 - val_loss: 1.2992 - val_y1_output_loss: 0.1868 - val_y2_output_loss: 1.1124 - val_y1_output_root_mean_squared_error: 0.4321 - val_y2_output_root_mean_squared_error: 1.0547\n",
            "Epoch 420/500\n",
            "62/62 [==============================] - 0s 3ms/step - loss: 0.6203 - y1_output_loss: 0.1663 - y2_output_loss: 0.4540 - y1_output_root_mean_squared_error: 0.4026 - y2_output_root_mean_squared_error: 0.6649 - val_loss: 1.5323 - val_y1_output_loss: 0.2672 - val_y2_output_loss: 1.2651 - val_y1_output_root_mean_squared_error: 0.5169 - val_y2_output_root_mean_squared_error: 1.1247\n",
            "Epoch 421/500\n",
            "62/62 [==============================] - 0s 3ms/step - loss: 0.5374 - y1_output_loss: 0.1602 - y2_output_loss: 0.3772 - y1_output_root_mean_squared_error: 0.3983 - y2_output_root_mean_squared_error: 0.6097 - val_loss: 1.2375 - val_y1_output_loss: 0.1948 - val_y2_output_loss: 1.0427 - val_y1_output_root_mean_squared_error: 0.4413 - val_y2_output_root_mean_squared_error: 1.0211\n",
            "Epoch 422/500\n",
            "62/62 [==============================] - 0s 3ms/step - loss: 0.5096 - y1_output_loss: 0.1382 - y2_output_loss: 0.3714 - y1_output_root_mean_squared_error: 0.3714 - y2_output_root_mean_squared_error: 0.6082 - val_loss: 1.4585 - val_y1_output_loss: 0.1870 - val_y2_output_loss: 1.2715 - val_y1_output_root_mean_squared_error: 0.4324 - val_y2_output_root_mean_squared_error: 1.1276\n",
            "Epoch 423/500\n",
            "62/62 [==============================] - 0s 3ms/step - loss: 0.3397 - y1_output_loss: 0.1263 - y2_output_loss: 0.2134 - y1_output_root_mean_squared_error: 0.3544 - y2_output_root_mean_squared_error: 0.4608 - val_loss: 4.2739 - val_y1_output_loss: 1.2272 - val_y2_output_loss: 3.0467 - val_y1_output_root_mean_squared_error: 1.1078 - val_y2_output_root_mean_squared_error: 1.7455\n",
            "Epoch 424/500\n",
            "62/62 [==============================] - 0s 3ms/step - loss: 1.8381 - y1_output_loss: 0.3871 - y2_output_loss: 1.4510 - y1_output_root_mean_squared_error: 0.6038 - y2_output_root_mean_squared_error: 1.1485 - val_loss: 2.1587 - val_y1_output_loss: 0.5043 - val_y2_output_loss: 1.6544 - val_y1_output_root_mean_squared_error: 0.7101 - val_y2_output_root_mean_squared_error: 1.2862\n",
            "Epoch 425/500\n",
            "62/62 [==============================] - 0s 3ms/step - loss: 1.0041 - y1_output_loss: 0.2446 - y2_output_loss: 0.7594 - y1_output_root_mean_squared_error: 0.4918 - y2_output_root_mean_squared_error: 0.8651 - val_loss: 1.2649 - val_y1_output_loss: 0.1736 - val_y2_output_loss: 1.0913 - val_y1_output_root_mean_squared_error: 0.4166 - val_y2_output_root_mean_squared_error: 1.0446\n",
            "Epoch 426/500\n",
            "62/62 [==============================] - 0s 3ms/step - loss: 0.5025 - y1_output_loss: 0.1460 - y2_output_loss: 0.3566 - y1_output_root_mean_squared_error: 0.3786 - y2_output_root_mean_squared_error: 0.5917 - val_loss: 1.3087 - val_y1_output_loss: 0.1794 - val_y2_output_loss: 1.1294 - val_y1_output_root_mean_squared_error: 0.4235 - val_y2_output_root_mean_squared_error: 1.0627\n",
            "Epoch 427/500\n",
            "62/62 [==============================] - 0s 3ms/step - loss: 0.4073 - y1_output_loss: 0.1109 - y2_output_loss: 0.2964 - y1_output_root_mean_squared_error: 0.3318 - y2_output_root_mean_squared_error: 0.5400 - val_loss: 1.2006 - val_y1_output_loss: 0.1726 - val_y2_output_loss: 1.0280 - val_y1_output_root_mean_squared_error: 0.4155 - val_y2_output_root_mean_squared_error: 1.0139\n",
            "Epoch 428/500\n",
            "62/62 [==============================] - 0s 3ms/step - loss: 0.4816 - y1_output_loss: 0.1170 - y2_output_loss: 0.3646 - y1_output_root_mean_squared_error: 0.3409 - y2_output_root_mean_squared_error: 0.6007 - val_loss: 1.2819 - val_y1_output_loss: 0.2142 - val_y2_output_loss: 1.0677 - val_y1_output_root_mean_squared_error: 0.4628 - val_y2_output_root_mean_squared_error: 1.0333\n",
            "Epoch 429/500\n",
            "62/62 [==============================] - 0s 3ms/step - loss: 0.2844 - y1_output_loss: 0.0965 - y2_output_loss: 0.1880 - y1_output_root_mean_squared_error: 0.3100 - y2_output_root_mean_squared_error: 0.4296 - val_loss: 1.3398 - val_y1_output_loss: 0.2363 - val_y2_output_loss: 1.1034 - val_y1_output_root_mean_squared_error: 0.4861 - val_y2_output_root_mean_squared_error: 1.0504\n",
            "Epoch 430/500\n",
            "62/62 [==============================] - 0s 3ms/step - loss: 0.3679 - y1_output_loss: 0.1438 - y2_output_loss: 0.2241 - y1_output_root_mean_squared_error: 0.3784 - y2_output_root_mean_squared_error: 0.4697 - val_loss: 1.4649 - val_y1_output_loss: 0.2413 - val_y2_output_loss: 1.2236 - val_y1_output_root_mean_squared_error: 0.4912 - val_y2_output_root_mean_squared_error: 1.1062\n",
            "Epoch 431/500\n",
            "62/62 [==============================] - 0s 3ms/step - loss: 0.4378 - y1_output_loss: 0.1516 - y2_output_loss: 0.2863 - y1_output_root_mean_squared_error: 0.3891 - y2_output_root_mean_squared_error: 0.5333 - val_loss: 1.4207 - val_y1_output_loss: 0.2864 - val_y2_output_loss: 1.1343 - val_y1_output_root_mean_squared_error: 0.5351 - val_y2_output_root_mean_squared_error: 1.0650\n",
            "Epoch 432/500\n",
            "62/62 [==============================] - 0s 3ms/step - loss: 0.4268 - y1_output_loss: 0.1232 - y2_output_loss: 0.3036 - y1_output_root_mean_squared_error: 0.3503 - y2_output_root_mean_squared_error: 0.5489 - val_loss: 1.3158 - val_y1_output_loss: 0.2349 - val_y2_output_loss: 1.0809 - val_y1_output_root_mean_squared_error: 0.4847 - val_y2_output_root_mean_squared_error: 1.0397\n",
            "Epoch 433/500\n",
            "62/62 [==============================] - 0s 3ms/step - loss: 0.3990 - y1_output_loss: 0.1303 - y2_output_loss: 0.2686 - y1_output_root_mean_squared_error: 0.3608 - y2_output_root_mean_squared_error: 0.5141 - val_loss: 1.5710 - val_y1_output_loss: 0.1705 - val_y2_output_loss: 1.4005 - val_y1_output_root_mean_squared_error: 0.4130 - val_y2_output_root_mean_squared_error: 1.1834\n",
            "Epoch 434/500\n",
            "62/62 [==============================] - 0s 3ms/step - loss: 0.4049 - y1_output_loss: 0.1199 - y2_output_loss: 0.2849 - y1_output_root_mean_squared_error: 0.3447 - y2_output_root_mean_squared_error: 0.5285 - val_loss: 1.4390 - val_y1_output_loss: 0.2240 - val_y2_output_loss: 1.2150 - val_y1_output_root_mean_squared_error: 0.4733 - val_y2_output_root_mean_squared_error: 1.1023\n",
            "Epoch 435/500\n",
            "62/62 [==============================] - 0s 3ms/step - loss: 0.4072 - y1_output_loss: 0.1140 - y2_output_loss: 0.2932 - y1_output_root_mean_squared_error: 0.3368 - y2_output_root_mean_squared_error: 0.5377 - val_loss: 1.3013 - val_y1_output_loss: 0.1959 - val_y2_output_loss: 1.1055 - val_y1_output_root_mean_squared_error: 0.4426 - val_y2_output_root_mean_squared_error: 1.0514\n",
            "Epoch 436/500\n",
            "62/62 [==============================] - 0s 3ms/step - loss: 0.4203 - y1_output_loss: 0.1520 - y2_output_loss: 0.2682 - y1_output_root_mean_squared_error: 0.3892 - y2_output_root_mean_squared_error: 0.5157 - val_loss: 1.3805 - val_y1_output_loss: 0.2010 - val_y2_output_loss: 1.1795 - val_y1_output_root_mean_squared_error: 0.4483 - val_y2_output_root_mean_squared_error: 1.0861\n",
            "Epoch 437/500\n",
            "62/62 [==============================] - 0s 3ms/step - loss: 0.4385 - y1_output_loss: 0.1234 - y2_output_loss: 0.3150 - y1_output_root_mean_squared_error: 0.3495 - y2_output_root_mean_squared_error: 0.5567 - val_loss: 2.0155 - val_y1_output_loss: 0.4758 - val_y2_output_loss: 1.5397 - val_y1_output_root_mean_squared_error: 0.6898 - val_y2_output_root_mean_squared_error: 1.2408\n",
            "Epoch 438/500\n",
            "62/62 [==============================] - 0s 3ms/step - loss: 0.5528 - y1_output_loss: 0.1302 - y2_output_loss: 0.4225 - y1_output_root_mean_squared_error: 0.3601 - y2_output_root_mean_squared_error: 0.6472 - val_loss: 1.3518 - val_y1_output_loss: 0.2894 - val_y2_output_loss: 1.0624 - val_y1_output_root_mean_squared_error: 0.5379 - val_y2_output_root_mean_squared_error: 1.0307\n",
            "Epoch 439/500\n",
            "62/62 [==============================] - 0s 3ms/step - loss: 0.3971 - y1_output_loss: 0.1279 - y2_output_loss: 0.2693 - y1_output_root_mean_squared_error: 0.3572 - y2_output_root_mean_squared_error: 0.5174 - val_loss: 1.2581 - val_y1_output_loss: 0.1935 - val_y2_output_loss: 1.0646 - val_y1_output_root_mean_squared_error: 0.4399 - val_y2_output_root_mean_squared_error: 1.0318\n",
            "Epoch 440/500\n",
            "62/62 [==============================] - 0s 3ms/step - loss: 0.4244 - y1_output_loss: 0.1314 - y2_output_loss: 0.2930 - y1_output_root_mean_squared_error: 0.3606 - y2_output_root_mean_squared_error: 0.5356 - val_loss: 1.4904 - val_y1_output_loss: 0.1914 - val_y2_output_loss: 1.2991 - val_y1_output_root_mean_squared_error: 0.4375 - val_y2_output_root_mean_squared_error: 1.1398\n",
            "Epoch 441/500\n",
            "62/62 [==============================] - 0s 3ms/step - loss: 0.3269 - y1_output_loss: 0.1160 - y2_output_loss: 0.2109 - y1_output_root_mean_squared_error: 0.3390 - y2_output_root_mean_squared_error: 0.4556 - val_loss: 1.7116 - val_y1_output_loss: 0.3133 - val_y2_output_loss: 1.3983 - val_y1_output_root_mean_squared_error: 0.5597 - val_y2_output_root_mean_squared_error: 1.1825\n",
            "Epoch 442/500\n",
            "62/62 [==============================] - 0s 3ms/step - loss: 0.4508 - y1_output_loss: 0.1227 - y2_output_loss: 0.3281 - y1_output_root_mean_squared_error: 0.3497 - y2_output_root_mean_squared_error: 0.5693 - val_loss: 2.2854 - val_y1_output_loss: 0.3558 - val_y2_output_loss: 1.9295 - val_y1_output_root_mean_squared_error: 0.5965 - val_y2_output_root_mean_squared_error: 1.3891\n",
            "Epoch 443/500\n",
            "62/62 [==============================] - 0s 4ms/step - loss: 0.6391 - y1_output_loss: 0.1771 - y2_output_loss: 0.4620 - y1_output_root_mean_squared_error: 0.4189 - y2_output_root_mean_squared_error: 0.6724 - val_loss: 1.4352 - val_y1_output_loss: 0.1973 - val_y2_output_loss: 1.2379 - val_y1_output_root_mean_squared_error: 0.4442 - val_y2_output_root_mean_squared_error: 1.1126\n",
            "Epoch 444/500\n",
            "62/62 [==============================] - 0s 3ms/step - loss: 0.4172 - y1_output_loss: 0.1119 - y2_output_loss: 0.3053 - y1_output_root_mean_squared_error: 0.3335 - y2_output_root_mean_squared_error: 0.5505 - val_loss: 1.3144 - val_y1_output_loss: 0.2130 - val_y2_output_loss: 1.1014 - val_y1_output_root_mean_squared_error: 0.4615 - val_y2_output_root_mean_squared_error: 1.0495\n",
            "Epoch 445/500\n",
            "62/62 [==============================] - 0s 3ms/step - loss: 0.4340 - y1_output_loss: 0.1452 - y2_output_loss: 0.2888 - y1_output_root_mean_squared_error: 0.3803 - y2_output_root_mean_squared_error: 0.5330 - val_loss: 1.2555 - val_y1_output_loss: 0.1854 - val_y2_output_loss: 1.0701 - val_y1_output_root_mean_squared_error: 0.4306 - val_y2_output_root_mean_squared_error: 1.0345\n",
            "Epoch 446/500\n",
            "62/62 [==============================] - 0s 3ms/step - loss: 0.3917 - y1_output_loss: 0.1263 - y2_output_loss: 0.2653 - y1_output_root_mean_squared_error: 0.3545 - y2_output_root_mean_squared_error: 0.5137 - val_loss: 1.4178 - val_y1_output_loss: 0.1640 - val_y2_output_loss: 1.2538 - val_y1_output_root_mean_squared_error: 0.4050 - val_y2_output_root_mean_squared_error: 1.1197\n",
            "Epoch 447/500\n",
            "62/62 [==============================] - 0s 3ms/step - loss: 0.4007 - y1_output_loss: 0.1298 - y2_output_loss: 0.2709 - y1_output_root_mean_squared_error: 0.3572 - y2_output_root_mean_squared_error: 0.5192 - val_loss: 1.6855 - val_y1_output_loss: 0.1864 - val_y2_output_loss: 1.4991 - val_y1_output_root_mean_squared_error: 0.4318 - val_y2_output_root_mean_squared_error: 1.2244\n",
            "Epoch 448/500\n",
            "62/62 [==============================] - 0s 5ms/step - loss: 0.5712 - y1_output_loss: 0.1352 - y2_output_loss: 0.4360 - y1_output_root_mean_squared_error: 0.3668 - y2_output_root_mean_squared_error: 0.6530 - val_loss: 1.2055 - val_y1_output_loss: 0.1898 - val_y2_output_loss: 1.0158 - val_y1_output_root_mean_squared_error: 0.4356 - val_y2_output_root_mean_squared_error: 1.0079\n",
            "Epoch 449/500\n",
            "62/62 [==============================] - 0s 3ms/step - loss: 0.3939 - y1_output_loss: 0.1154 - y2_output_loss: 0.2785 - y1_output_root_mean_squared_error: 0.3378 - y2_output_root_mean_squared_error: 0.5267 - val_loss: 1.2939 - val_y1_output_loss: 0.2023 - val_y2_output_loss: 1.0915 - val_y1_output_root_mean_squared_error: 0.4498 - val_y2_output_root_mean_squared_error: 1.0448\n",
            "Epoch 450/500\n",
            "62/62 [==============================] - 0s 3ms/step - loss: 0.3646 - y1_output_loss: 0.1020 - y2_output_loss: 0.2626 - y1_output_root_mean_squared_error: 0.3182 - y2_output_root_mean_squared_error: 0.5116 - val_loss: 1.3588 - val_y1_output_loss: 0.1705 - val_y2_output_loss: 1.1883 - val_y1_output_root_mean_squared_error: 0.4129 - val_y2_output_root_mean_squared_error: 1.0901\n",
            "Epoch 451/500\n",
            "62/62 [==============================] - 0s 3ms/step - loss: 0.5982 - y1_output_loss: 0.1506 - y2_output_loss: 0.4476 - y1_output_root_mean_squared_error: 0.3861 - y2_output_root_mean_squared_error: 0.6624 - val_loss: 1.3824 - val_y1_output_loss: 0.3135 - val_y2_output_loss: 1.0688 - val_y1_output_root_mean_squared_error: 0.5600 - val_y2_output_root_mean_squared_error: 1.0338\n",
            "Epoch 452/500\n",
            "62/62 [==============================] - 0s 3ms/step - loss: 0.4690 - y1_output_loss: 0.1518 - y2_output_loss: 0.3172 - y1_output_root_mean_squared_error: 0.3858 - y2_output_root_mean_squared_error: 0.5588 - val_loss: 1.3395 - val_y1_output_loss: 0.2299 - val_y2_output_loss: 1.1097 - val_y1_output_root_mean_squared_error: 0.4794 - val_y2_output_root_mean_squared_error: 1.0534\n",
            "Epoch 453/500\n",
            "62/62 [==============================] - 0s 3ms/step - loss: 0.4777 - y1_output_loss: 0.1265 - y2_output_loss: 0.3512 - y1_output_root_mean_squared_error: 0.3541 - y2_output_root_mean_squared_error: 0.5892 - val_loss: 1.9040 - val_y1_output_loss: 0.1734 - val_y2_output_loss: 1.7306 - val_y1_output_root_mean_squared_error: 0.4164 - val_y2_output_root_mean_squared_error: 1.3155\n",
            "Epoch 454/500\n",
            "62/62 [==============================] - 0s 3ms/step - loss: 0.4492 - y1_output_loss: 0.1371 - y2_output_loss: 0.3121 - y1_output_root_mean_squared_error: 0.3697 - y2_output_root_mean_squared_error: 0.5569 - val_loss: 1.2786 - val_y1_output_loss: 0.1705 - val_y2_output_loss: 1.1081 - val_y1_output_root_mean_squared_error: 0.4129 - val_y2_output_root_mean_squared_error: 1.0526\n",
            "Epoch 455/500\n",
            "62/62 [==============================] - 0s 3ms/step - loss: 0.6881 - y1_output_loss: 0.1539 - y2_output_loss: 0.5342 - y1_output_root_mean_squared_error: 0.3889 - y2_output_root_mean_squared_error: 0.7163 - val_loss: 1.1795 - val_y1_output_loss: 0.1740 - val_y2_output_loss: 1.0056 - val_y1_output_root_mean_squared_error: 0.4171 - val_y2_output_root_mean_squared_error: 1.0028\n",
            "Epoch 456/500\n",
            "62/62 [==============================] - 0s 3ms/step - loss: 0.4075 - y1_output_loss: 0.1473 - y2_output_loss: 0.2602 - y1_output_root_mean_squared_error: 0.3803 - y2_output_root_mean_squared_error: 0.5065 - val_loss: 1.5162 - val_y1_output_loss: 0.2857 - val_y2_output_loss: 1.2305 - val_y1_output_root_mean_squared_error: 0.5345 - val_y2_output_root_mean_squared_error: 1.1093\n",
            "Epoch 457/500\n",
            "62/62 [==============================] - 0s 3ms/step - loss: 0.3985 - y1_output_loss: 0.1287 - y2_output_loss: 0.2699 - y1_output_root_mean_squared_error: 0.3577 - y2_output_root_mean_squared_error: 0.5181 - val_loss: 2.0397 - val_y1_output_loss: 0.2965 - val_y2_output_loss: 1.7431 - val_y1_output_root_mean_squared_error: 0.5445 - val_y2_output_root_mean_squared_error: 1.3203\n",
            "Epoch 458/500\n",
            "62/62 [==============================] - 0s 3ms/step - loss: 0.4156 - y1_output_loss: 0.1350 - y2_output_loss: 0.2806 - y1_output_root_mean_squared_error: 0.3657 - y2_output_root_mean_squared_error: 0.5283 - val_loss: 1.5035 - val_y1_output_loss: 0.2005 - val_y2_output_loss: 1.3031 - val_y1_output_root_mean_squared_error: 0.4477 - val_y2_output_root_mean_squared_error: 1.1415\n",
            "Epoch 459/500\n",
            "62/62 [==============================] - 0s 3ms/step - loss: 0.3358 - y1_output_loss: 0.1103 - y2_output_loss: 0.2255 - y1_output_root_mean_squared_error: 0.3313 - y2_output_root_mean_squared_error: 0.4736 - val_loss: 1.6271 - val_y1_output_loss: 0.3294 - val_y2_output_loss: 1.2976 - val_y1_output_root_mean_squared_error: 0.5740 - val_y2_output_root_mean_squared_error: 1.1391\n",
            "Epoch 460/500\n",
            "62/62 [==============================] - 0s 3ms/step - loss: 0.4649 - y1_output_loss: 0.1314 - y2_output_loss: 0.3334 - y1_output_root_mean_squared_error: 0.3613 - y2_output_root_mean_squared_error: 0.5758 - val_loss: 1.3228 - val_y1_output_loss: 0.2216 - val_y2_output_loss: 1.1012 - val_y1_output_root_mean_squared_error: 0.4707 - val_y2_output_root_mean_squared_error: 1.0494\n",
            "Epoch 461/500\n",
            "62/62 [==============================] - 0s 3ms/step - loss: 0.7207 - y1_output_loss: 0.1650 - y2_output_loss: 0.5557 - y1_output_root_mean_squared_error: 0.4045 - y2_output_root_mean_squared_error: 0.7346 - val_loss: 1.2676 - val_y1_output_loss: 0.1886 - val_y2_output_loss: 1.0790 - val_y1_output_root_mean_squared_error: 0.4343 - val_y2_output_root_mean_squared_error: 1.0387\n",
            "Epoch 462/500\n",
            "62/62 [==============================] - 0s 3ms/step - loss: 0.3536 - y1_output_loss: 0.1398 - y2_output_loss: 0.2139 - y1_output_root_mean_squared_error: 0.3717 - y2_output_root_mean_squared_error: 0.4607 - val_loss: 1.5123 - val_y1_output_loss: 0.2750 - val_y2_output_loss: 1.2373 - val_y1_output_root_mean_squared_error: 0.5244 - val_y2_output_root_mean_squared_error: 1.1123\n",
            "Epoch 463/500\n",
            "62/62 [==============================] - 0s 3ms/step - loss: 0.3401 - y1_output_loss: 0.1086 - y2_output_loss: 0.2315 - y1_output_root_mean_squared_error: 0.3290 - y2_output_root_mean_squared_error: 0.4791 - val_loss: 1.4881 - val_y1_output_loss: 0.1869 - val_y2_output_loss: 1.3012 - val_y1_output_root_mean_squared_error: 0.4323 - val_y2_output_root_mean_squared_error: 1.1407\n",
            "Epoch 464/500\n",
            "62/62 [==============================] - 0s 3ms/step - loss: 0.3912 - y1_output_loss: 0.1249 - y2_output_loss: 0.2663 - y1_output_root_mean_squared_error: 0.3509 - y2_output_root_mean_squared_error: 0.5130 - val_loss: 1.2744 - val_y1_output_loss: 0.1904 - val_y2_output_loss: 1.0840 - val_y1_output_root_mean_squared_error: 0.4364 - val_y2_output_root_mean_squared_error: 1.0411\n",
            "Epoch 465/500\n",
            "62/62 [==============================] - 0s 3ms/step - loss: 0.3299 - y1_output_loss: 0.0978 - y2_output_loss: 0.2321 - y1_output_root_mean_squared_error: 0.3123 - y2_output_root_mean_squared_error: 0.4756 - val_loss: 1.1484 - val_y1_output_loss: 0.1775 - val_y2_output_loss: 0.9709 - val_y1_output_root_mean_squared_error: 0.4213 - val_y2_output_root_mean_squared_error: 0.9854\n",
            "Epoch 466/500\n",
            "62/62 [==============================] - 0s 3ms/step - loss: 0.3656 - y1_output_loss: 0.1085 - y2_output_loss: 0.2571 - y1_output_root_mean_squared_error: 0.3285 - y2_output_root_mean_squared_error: 0.5059 - val_loss: 1.2336 - val_y1_output_loss: 0.1844 - val_y2_output_loss: 1.0492 - val_y1_output_root_mean_squared_error: 0.4294 - val_y2_output_root_mean_squared_error: 1.0243\n",
            "Epoch 467/500\n",
            "62/62 [==============================] - 0s 3ms/step - loss: 0.5391 - y1_output_loss: 0.1436 - y2_output_loss: 0.3955 - y1_output_root_mean_squared_error: 0.3778 - y2_output_root_mean_squared_error: 0.6232 - val_loss: 1.2457 - val_y1_output_loss: 0.1860 - val_y2_output_loss: 1.0596 - val_y1_output_root_mean_squared_error: 0.4313 - val_y2_output_root_mean_squared_error: 1.0294\n",
            "Epoch 468/500\n",
            "62/62 [==============================] - 0s 3ms/step - loss: 0.3473 - y1_output_loss: 0.1191 - y2_output_loss: 0.2282 - y1_output_root_mean_squared_error: 0.3434 - y2_output_root_mean_squared_error: 0.4754 - val_loss: 1.8112 - val_y1_output_loss: 0.2036 - val_y2_output_loss: 1.6077 - val_y1_output_root_mean_squared_error: 0.4512 - val_y2_output_root_mean_squared_error: 1.2679\n",
            "Epoch 469/500\n",
            "62/62 [==============================] - 0s 4ms/step - loss: 0.4561 - y1_output_loss: 0.1028 - y2_output_loss: 0.3533 - y1_output_root_mean_squared_error: 0.3199 - y2_output_root_mean_squared_error: 0.5877 - val_loss: 1.8222 - val_y1_output_loss: 0.2115 - val_y2_output_loss: 1.6106 - val_y1_output_root_mean_squared_error: 0.4599 - val_y2_output_root_mean_squared_error: 1.2691\n",
            "Epoch 470/500\n",
            "62/62 [==============================] - 0s 3ms/step - loss: 0.3508 - y1_output_loss: 0.0958 - y2_output_loss: 0.2550 - y1_output_root_mean_squared_error: 0.3093 - y2_output_root_mean_squared_error: 0.5034 - val_loss: 1.3421 - val_y1_output_loss: 0.2009 - val_y2_output_loss: 1.1412 - val_y1_output_root_mean_squared_error: 0.4482 - val_y2_output_root_mean_squared_error: 1.0683\n",
            "Epoch 471/500\n",
            "62/62 [==============================] - 0s 3ms/step - loss: 0.3883 - y1_output_loss: 0.1186 - y2_output_loss: 0.2698 - y1_output_root_mean_squared_error: 0.3430 - y2_output_root_mean_squared_error: 0.5162 - val_loss: 1.3930 - val_y1_output_loss: 0.3030 - val_y2_output_loss: 1.0900 - val_y1_output_root_mean_squared_error: 0.5505 - val_y2_output_root_mean_squared_error: 1.0440\n",
            "Epoch 472/500\n",
            "62/62 [==============================] - 0s 3ms/step - loss: 0.5647 - y1_output_loss: 0.1537 - y2_output_loss: 0.4110 - y1_output_root_mean_squared_error: 0.3903 - y2_output_root_mean_squared_error: 0.6374 - val_loss: 2.9872 - val_y1_output_loss: 0.5626 - val_y2_output_loss: 2.4246 - val_y1_output_root_mean_squared_error: 0.7501 - val_y2_output_root_mean_squared_error: 1.5571\n",
            "Epoch 473/500\n",
            "62/62 [==============================] - 0s 3ms/step - loss: 1.0392 - y1_output_loss: 0.2731 - y2_output_loss: 0.7661 - y1_output_root_mean_squared_error: 0.5155 - y2_output_root_mean_squared_error: 0.8635 - val_loss: 1.3332 - val_y1_output_loss: 0.1919 - val_y2_output_loss: 1.1413 - val_y1_output_root_mean_squared_error: 0.4381 - val_y2_output_root_mean_squared_error: 1.0683\n",
            "Epoch 474/500\n",
            "62/62 [==============================] - 0s 3ms/step - loss: 0.7009 - y1_output_loss: 0.1778 - y2_output_loss: 0.5231 - y1_output_root_mean_squared_error: 0.4204 - y2_output_root_mean_squared_error: 0.7172 - val_loss: 1.2344 - val_y1_output_loss: 0.1800 - val_y2_output_loss: 1.0545 - val_y1_output_root_mean_squared_error: 0.4242 - val_y2_output_root_mean_squared_error: 1.0269\n",
            "Epoch 475/500\n",
            "62/62 [==============================] - 0s 3ms/step - loss: 0.3774 - y1_output_loss: 0.1197 - y2_output_loss: 0.2577 - y1_output_root_mean_squared_error: 0.3448 - y2_output_root_mean_squared_error: 0.5054 - val_loss: 1.4263 - val_y1_output_loss: 0.2042 - val_y2_output_loss: 1.2221 - val_y1_output_root_mean_squared_error: 0.4519 - val_y2_output_root_mean_squared_error: 1.1055\n",
            "Epoch 476/500\n",
            "62/62 [==============================] - 0s 3ms/step - loss: 0.4109 - y1_output_loss: 0.1201 - y2_output_loss: 0.2908 - y1_output_root_mean_squared_error: 0.3444 - y2_output_root_mean_squared_error: 0.5349 - val_loss: 1.5889 - val_y1_output_loss: 0.2510 - val_y2_output_loss: 1.3378 - val_y1_output_root_mean_squared_error: 0.5010 - val_y2_output_root_mean_squared_error: 1.1566\n",
            "Epoch 477/500\n",
            "62/62 [==============================] - 0s 3ms/step - loss: 0.3560 - y1_output_loss: 0.1099 - y2_output_loss: 0.2461 - y1_output_root_mean_squared_error: 0.3312 - y2_output_root_mean_squared_error: 0.4946 - val_loss: 1.2332 - val_y1_output_loss: 0.2215 - val_y2_output_loss: 1.0117 - val_y1_output_root_mean_squared_error: 0.4706 - val_y2_output_root_mean_squared_error: 1.0059\n",
            "Epoch 478/500\n",
            "62/62 [==============================] - 0s 3ms/step - loss: 0.4449 - y1_output_loss: 0.1468 - y2_output_loss: 0.2981 - y1_output_root_mean_squared_error: 0.3817 - y2_output_root_mean_squared_error: 0.5431 - val_loss: 1.3007 - val_y1_output_loss: 0.1892 - val_y2_output_loss: 1.1115 - val_y1_output_root_mean_squared_error: 0.4349 - val_y2_output_root_mean_squared_error: 1.0543\n",
            "Epoch 479/500\n",
            "62/62 [==============================] - 0s 3ms/step - loss: 0.3799 - y1_output_loss: 0.1112 - y2_output_loss: 0.2687 - y1_output_root_mean_squared_error: 0.3321 - y2_output_root_mean_squared_error: 0.5079 - val_loss: 1.2211 - val_y1_output_loss: 0.2038 - val_y2_output_loss: 1.0173 - val_y1_output_root_mean_squared_error: 0.4515 - val_y2_output_root_mean_squared_error: 1.0086\n",
            "Epoch 480/500\n",
            "62/62 [==============================] - 0s 3ms/step - loss: 0.2976 - y1_output_loss: 0.1025 - y2_output_loss: 0.1952 - y1_output_root_mean_squared_error: 0.3196 - y2_output_root_mean_squared_error: 0.4403 - val_loss: 3.1907 - val_y1_output_loss: 0.1808 - val_y2_output_loss: 3.0098 - val_y1_output_root_mean_squared_error: 0.4252 - val_y2_output_root_mean_squared_error: 1.7349\n",
            "Epoch 481/500\n",
            "62/62 [==============================] - 0s 3ms/step - loss: 1.2035 - y1_output_loss: 0.1729 - y2_output_loss: 1.0307 - y1_output_root_mean_squared_error: 0.4127 - y2_output_root_mean_squared_error: 0.9624 - val_loss: 2.1758 - val_y1_output_loss: 0.2710 - val_y2_output_loss: 1.9048 - val_y1_output_root_mean_squared_error: 0.5206 - val_y2_output_root_mean_squared_error: 1.3802\n",
            "Epoch 482/500\n",
            "62/62 [==============================] - 0s 3ms/step - loss: 0.4300 - y1_output_loss: 0.1058 - y2_output_loss: 0.3242 - y1_output_root_mean_squared_error: 0.3245 - y2_output_root_mean_squared_error: 0.5531 - val_loss: 1.1735 - val_y1_output_loss: 0.1781 - val_y2_output_loss: 0.9954 - val_y1_output_root_mean_squared_error: 0.4221 - val_y2_output_root_mean_squared_error: 0.9977\n",
            "Epoch 483/500\n",
            "62/62 [==============================] - 0s 3ms/step - loss: 0.3700 - y1_output_loss: 0.1300 - y2_output_loss: 0.2400 - y1_output_root_mean_squared_error: 0.3602 - y2_output_root_mean_squared_error: 0.4883 - val_loss: 1.2342 - val_y1_output_loss: 0.2014 - val_y2_output_loss: 1.0328 - val_y1_output_root_mean_squared_error: 0.4488 - val_y2_output_root_mean_squared_error: 1.0163\n",
            "Epoch 484/500\n",
            "62/62 [==============================] - 0s 3ms/step - loss: 0.2838 - y1_output_loss: 0.0866 - y2_output_loss: 0.1972 - y1_output_root_mean_squared_error: 0.2927 - y2_output_root_mean_squared_error: 0.4433 - val_loss: 1.3501 - val_y1_output_loss: 0.2806 - val_y2_output_loss: 1.0695 - val_y1_output_root_mean_squared_error: 0.5297 - val_y2_output_root_mean_squared_error: 1.0342\n",
            "Epoch 485/500\n",
            "62/62 [==============================] - 0s 3ms/step - loss: 0.3649 - y1_output_loss: 0.1089 - y2_output_loss: 0.2560 - y1_output_root_mean_squared_error: 0.3295 - y2_output_root_mean_squared_error: 0.5036 - val_loss: 1.4360 - val_y1_output_loss: 0.2839 - val_y2_output_loss: 1.1521 - val_y1_output_root_mean_squared_error: 0.5328 - val_y2_output_root_mean_squared_error: 1.0733\n",
            "Epoch 486/500\n",
            "62/62 [==============================] - 0s 3ms/step - loss: 0.4193 - y1_output_loss: 0.1434 - y2_output_loss: 0.2759 - y1_output_root_mean_squared_error: 0.3778 - y2_output_root_mean_squared_error: 0.5247 - val_loss: 1.2035 - val_y1_output_loss: 0.1845 - val_y2_output_loss: 1.0190 - val_y1_output_root_mean_squared_error: 0.4295 - val_y2_output_root_mean_squared_error: 1.0094\n",
            "Epoch 487/500\n",
            "62/62 [==============================] - 0s 3ms/step - loss: 0.6625 - y1_output_loss: 0.1691 - y2_output_loss: 0.4934 - y1_output_root_mean_squared_error: 0.4064 - y2_output_root_mean_squared_error: 0.6905 - val_loss: 1.1133 - val_y1_output_loss: 0.1920 - val_y2_output_loss: 0.9212 - val_y1_output_root_mean_squared_error: 0.4382 - val_y2_output_root_mean_squared_error: 0.9598\n",
            "Epoch 488/500\n",
            "62/62 [==============================] - 0s 3ms/step - loss: 0.3805 - y1_output_loss: 0.1138 - y2_output_loss: 0.2667 - y1_output_root_mean_squared_error: 0.3370 - y2_output_root_mean_squared_error: 0.5099 - val_loss: 1.1624 - val_y1_output_loss: 0.1821 - val_y2_output_loss: 0.9803 - val_y1_output_root_mean_squared_error: 0.4267 - val_y2_output_root_mean_squared_error: 0.9901\n",
            "Epoch 489/500\n",
            "62/62 [==============================] - 0s 3ms/step - loss: 0.3599 - y1_output_loss: 0.1015 - y2_output_loss: 0.2584 - y1_output_root_mean_squared_error: 0.3176 - y2_output_root_mean_squared_error: 0.5029 - val_loss: 1.5551 - val_y1_output_loss: 0.2873 - val_y2_output_loss: 1.2678 - val_y1_output_root_mean_squared_error: 0.5360 - val_y2_output_root_mean_squared_error: 1.1260\n",
            "Epoch 490/500\n",
            "62/62 [==============================] - 0s 3ms/step - loss: 0.4258 - y1_output_loss: 0.1233 - y2_output_loss: 0.3025 - y1_output_root_mean_squared_error: 0.3494 - y2_output_root_mean_squared_error: 0.5453 - val_loss: 1.2354 - val_y1_output_loss: 0.1840 - val_y2_output_loss: 1.0514 - val_y1_output_root_mean_squared_error: 0.4289 - val_y2_output_root_mean_squared_error: 1.0254\n",
            "Epoch 491/500\n",
            "62/62 [==============================] - 0s 3ms/step - loss: 0.4171 - y1_output_loss: 0.1195 - y2_output_loss: 0.2976 - y1_output_root_mean_squared_error: 0.3447 - y2_output_root_mean_squared_error: 0.5415 - val_loss: 1.2231 - val_y1_output_loss: 0.1650 - val_y2_output_loss: 1.0581 - val_y1_output_root_mean_squared_error: 0.4062 - val_y2_output_root_mean_squared_error: 1.0287\n",
            "Epoch 492/500\n",
            "62/62 [==============================] - 0s 5ms/step - loss: 0.2758 - y1_output_loss: 0.0968 - y2_output_loss: 0.1790 - y1_output_root_mean_squared_error: 0.3097 - y2_output_root_mean_squared_error: 0.4193 - val_loss: 2.6042 - val_y1_output_loss: 0.1681 - val_y2_output_loss: 2.4362 - val_y1_output_root_mean_squared_error: 0.4099 - val_y2_output_root_mean_squared_error: 1.5608\n",
            "Epoch 493/500\n",
            "62/62 [==============================] - 0s 3ms/step - loss: 1.1428 - y1_output_loss: 0.2593 - y2_output_loss: 0.8835 - y1_output_root_mean_squared_error: 0.4988 - y2_output_root_mean_squared_error: 0.8991 - val_loss: 1.2822 - val_y1_output_loss: 0.1832 - val_y2_output_loss: 1.0991 - val_y1_output_root_mean_squared_error: 0.4280 - val_y2_output_root_mean_squared_error: 1.0484\n",
            "Epoch 494/500\n",
            "62/62 [==============================] - 0s 3ms/step - loss: 0.5044 - y1_output_loss: 0.1285 - y2_output_loss: 0.3759 - y1_output_root_mean_squared_error: 0.3560 - y2_output_root_mean_squared_error: 0.6010 - val_loss: 1.2955 - val_y1_output_loss: 0.2584 - val_y2_output_loss: 1.0371 - val_y1_output_root_mean_squared_error: 0.5083 - val_y2_output_root_mean_squared_error: 1.0184\n",
            "Epoch 495/500\n",
            "62/62 [==============================] - 0s 3ms/step - loss: 0.3604 - y1_output_loss: 0.1254 - y2_output_loss: 0.2349 - y1_output_root_mean_squared_error: 0.3531 - y2_output_root_mean_squared_error: 0.4834 - val_loss: 1.2154 - val_y1_output_loss: 0.2249 - val_y2_output_loss: 0.9905 - val_y1_output_root_mean_squared_error: 0.4743 - val_y2_output_root_mean_squared_error: 0.9952\n",
            "Epoch 496/500\n",
            "62/62 [==============================] - 0s 3ms/step - loss: 0.4395 - y1_output_loss: 0.1215 - y2_output_loss: 0.3179 - y1_output_root_mean_squared_error: 0.3471 - y2_output_root_mean_squared_error: 0.5589 - val_loss: 1.2058 - val_y1_output_loss: 0.1591 - val_y2_output_loss: 1.0467 - val_y1_output_root_mean_squared_error: 0.3989 - val_y2_output_root_mean_squared_error: 1.0231\n",
            "Epoch 497/500\n",
            "62/62 [==============================] - 0s 3ms/step - loss: 0.3156 - y1_output_loss: 0.1004 - y2_output_loss: 0.2152 - y1_output_root_mean_squared_error: 0.3163 - y2_output_root_mean_squared_error: 0.4572 - val_loss: 1.2017 - val_y1_output_loss: 0.2448 - val_y2_output_loss: 0.9569 - val_y1_output_root_mean_squared_error: 0.4948 - val_y2_output_root_mean_squared_error: 0.9782\n",
            "Epoch 498/500\n",
            "62/62 [==============================] - 0s 3ms/step - loss: 0.4703 - y1_output_loss: 0.1243 - y2_output_loss: 0.3460 - y1_output_root_mean_squared_error: 0.3519 - y2_output_root_mean_squared_error: 0.5838 - val_loss: 1.2102 - val_y1_output_loss: 0.1823 - val_y2_output_loss: 1.0279 - val_y1_output_root_mean_squared_error: 0.4270 - val_y2_output_root_mean_squared_error: 1.0139\n",
            "Epoch 499/500\n",
            "62/62 [==============================] - 0s 3ms/step - loss: 0.2757 - y1_output_loss: 0.0972 - y2_output_loss: 0.1785 - y1_output_root_mean_squared_error: 0.3107 - y2_output_root_mean_squared_error: 0.4186 - val_loss: 1.5679 - val_y1_output_loss: 0.2319 - val_y2_output_loss: 1.3360 - val_y1_output_root_mean_squared_error: 0.4816 - val_y2_output_root_mean_squared_error: 1.1558\n",
            "Epoch 500/500\n",
            "62/62 [==============================] - 0s 3ms/step - loss: 0.3088 - y1_output_loss: 0.1141 - y2_output_loss: 0.1947 - y1_output_root_mean_squared_error: 0.3364 - y2_output_root_mean_squared_error: 0.4397 - val_loss: 1.1513 - val_y1_output_loss: 0.1700 - val_y2_output_loss: 0.9814 - val_y1_output_root_mean_squared_error: 0.4123 - val_y2_output_root_mean_squared_error: 0.9906\n"
          ],
          "name": "stdout"
        }
      ]
    },
    {
      "cell_type": "code",
      "metadata": {
        "colab": {
          "base_uri": "https://localhost:8080/"
        },
        "id": "v-8lUbXPxjr2",
        "outputId": "44ceacd7-df0b-4c2d-e891-c489377ae7a6"
      },
      "source": [
        "loss,y1_output_loss,y2_output_loss,y1_output_root_mean_squared_error,y2_output_root_mean_squared_error = model.evaluate(norm_test_x,test_y)"
      ],
      "execution_count": null,
      "outputs": [
        {
          "output_type": "stream",
          "text": [
            "5/5 [==============================] - 0s 3ms/step - loss: 1.1513 - y1_output_loss: 0.1700 - y2_output_loss: 0.9814 - y1_output_root_mean_squared_error: 0.4123 - y2_output_root_mean_squared_error: 0.9906\n"
          ],
          "name": "stdout"
        }
      ]
    },
    {
      "cell_type": "code",
      "metadata": {
        "colab": {
          "base_uri": "https://localhost:8080/",
          "height": 1000
        },
        "id": "yE_mf4gZzgFm",
        "outputId": "6e5f0e8f-7986-45c7-d85e-4ef3a3b4ff57"
      },
      "source": [
        "import matplotlib.pyplot as plt\r\n",
        "y_pred = model.predict(norm_test_x)\r\n",
        "plot_diff(test_y[0],y_pred[0],title='y1')\r\n",
        "plot_diff(test_y[1],y_pred[1],title='y2')\r\n",
        "plot_metrics(metrics_name='y1_output_root_mean_squared_error',title='y1_rmse',ylim=6)\r\n",
        "plot_metrics(metrics_name='y2_output_root_mean_squared_error',title='y2_rmse',ylim=7)"
      ],
      "execution_count": null,
      "outputs": [
        {
          "output_type": "display_data",
          "data": {
            "image/png": "[encoded data removed]",
            "text/plain": [
              "<Figure size 432x288 with 1 Axes>"
            ]
          },
          "metadata": {
            "tags": [],
            "needs_background": "light"
          }
        },
        {
          "output_type": "display_data",
          "data": {
            "image/png": "[encoded data removed]",
            "text/plain": [
              "<Figure size 432x288 with 1 Axes>"
            ]
          },
          "metadata": {
            "tags": [],
            "needs_background": "light"
          }
        },
        {
          "output_type": "display_data",
          "data": {
            "image/png": "[encoded data removed]",
            "text/plain": [
              "<Figure size 432x288 with 1 Axes>"
            ]
          },
          "metadata": {
            "tags": [],
            "needs_background": "light"
          }
        },
        {
          "output_type": "display_data",
          "data": {
            "image/png": "[encoded data removed]",
            "text/plain": [
              "<Figure size 432x288 with 1 Axes>"
            ]
          },
          "metadata": {
            "tags": [],
            "needs_background": "light"
          }
        }
      ]
    },
    {
      "cell_type": "code",
      "metadata": {
        "id": "vLDvJ6630NKY"
      },
      "source": [
        "import tensorflow as tf\r\n",
        "import matplotlib.pyplot as plt\r\n",
        "import numpy as np\r\n",
        "import pandas as pd\r\n",
        "from tensorflow.keras.models import Model\r\n",
        "from tensorflow.keras.layers import Dense,Flatten,Dropout,Lambda,Input\r\n",
        "from tensorflow.keras.datasets import fashion_mnist\r\n",
        "from tensorflow.python.keras.utils.vis_utils import plot_model\r\n",
        "from tensorflow.keras import backend as K\r\n",
        "from PIL import Image,ImageFont,ImageDraw\r\n",
        "import  random"
      ],
      "execution_count": null,
      "outputs": []
    },
    {
      "cell_type": "code",
      "metadata": {
        "id": "kOfodUNGIyhC"
      },
      "source": [
        "def create_pairs(x,digit_indices):\r\n",
        "  pairs =[]\r\n",
        "  labels=[]\r\n",
        "  n = min([len(digit_indices[d]) for d in range(10)] )-1\r\n",
        "  for d in range(10):\r\n",
        "    for i in range(n):\r\n",
        "      z1,z2 = digit_indices[d][i],digit_indices[d][i+1]\r\n",
        "      pairs += [[x[z1],x[z2]]]\r\n",
        "      inc = random.randrange(1,10)\r\n",
        "      dn = (d+inc)%10\r\n",
        "      z1,z2  = digit_indices[d][i],digit_indices[dn][i]\r\n",
        "      pairs += [[x[z1],x[z2]]]\r\n",
        "      labels += [1,0]\r\n",
        "  return np.array(pairs),np.array(labels)"
      ],
      "execution_count": null,
      "outputs": []
    },
    {
      "cell_type": "code",
      "metadata": {
        "id": "uTnCwRxeLntR"
      },
      "source": [
        "def create_pairs_on_set(images,labels):\r\n",
        "  digit_indices =[np.where(labels == i )[0] for i in range(10)]\r\n",
        "  pairs,y = create_pairs(images,digit_indices)\r\n",
        "  y = y.astype('float32')\r\n",
        "  return pairs,y"
      ],
      "execution_count": null,
      "outputs": []
    },
    {
      "cell_type": "code",
      "metadata": {
        "id": "GE8vIHJUPI-M"
      },
      "source": [
        "def show_image(image):\r\n",
        "  plt.figure()\r\n",
        "  plt.imshow(image)\r\n",
        "  plt.colorbar()\r\n",
        "  plt.grid(False)\r\n",
        "  plt.show()\r\n"
      ],
      "execution_count": null,
      "outputs": []
    },
    {
      "cell_type": "code",
      "metadata": {
        "id": "XYQ9Xm-HPdV8"
      },
      "source": [
        "(train_images, train_labels), (test_images, test_labels) = fashion_mnist.load_data()\r\n",
        "\r\n",
        "# prepare train and test sets\r\n",
        "train_images = train_images.astype('float32')\r\n",
        "test_images = test_images.astype('float32')\r\n",
        "\r\n",
        "# normalize values\r\n",
        "train_images = train_images / 255.0\r\n",
        "test_images = test_images / 255.0\r\n",
        "\r\n",
        "# create pairs on train and test sets\r\n",
        "tr_pairs, tr_y = create_pairs_on_set(train_images, train_labels)\r\n",
        "ts_pairs, ts_y = create_pairs_on_set(test_images, test_labels)"
      ],
      "execution_count": null,
      "outputs": []
    },
    {
      "cell_type": "code",
      "metadata": {
        "colab": {
          "base_uri": "https://localhost:8080/",
          "height": 534
        },
        "id": "tp8VM_R2QTNX",
        "outputId": "a26a9bb7-b299-43bc-c934-3d7244dd3042"
      },
      "source": [
        "this_image= 8\r\n",
        "show_image(tr_pairs[this_image][0])\r\n",
        "show_image(tr_pairs[this_image][1])\r\n",
        "print(tr_y[this_image])"
      ],
      "execution_count": null,
      "outputs": [
        {
          "output_type": "display_data",
          "data": {
            "image/png": "[encoded data removed]",
            "text/plain": [
              "<Figure size 432x288 with 2 Axes>"
            ]
          },
          "metadata": {
            "tags": [],
            "needs_background": "light"
          }
        },
        {
          "output_type": "display_data",
          "data": {
            "image/png": "[encoded data removed]",
            "text/plain": [
              "<Figure size 432x288 with 2 Axes>"
            ]
          },
          "metadata": {
            "tags": [],
            "needs_background": "light"
          }
        },
        {
          "output_type": "stream",
          "text": [
            "1.0\n"
          ],
          "name": "stdout"
        }
      ]
    },
    {
      "cell_type": "code",
      "metadata": {
        "id": "2boe_QoBQxPv",
        "colab": {
          "base_uri": "https://localhost:8080/",
          "height": 754
        },
        "outputId": "5b593829-9427-4ae5-ecbf-cdff0760c1bc"
      },
      "source": [
        "\r\n",
        "def initialize_base_network():\r\n",
        "    input = Input(shape=(28,28,), name=\"base_input\")\r\n",
        "    x = Flatten(name=\"flatten_input\")(input)\r\n",
        "    x = Dense(128, activation='relu', name=\"first_base_dense\")(x)\r\n",
        "    x = Dropout(0.1, name=\"first_dropout\")(x)\r\n",
        "    x = Dense(128, activation='relu', name=\"second_base_dense\")(x)\r\n",
        "    x = Dropout(0.1, name=\"second_dropout\")(x)\r\n",
        "    x = Dense(128, activation='relu', name=\"third_base_dense\")(x)\r\n",
        "\r\n",
        "    return Model(inputs=input, outputs=x)\r\n",
        "\r\n",
        "\r\n",
        "def euclidean_distance(vects):\r\n",
        "    x, y = vects\r\n",
        "    sum_square = K.sum(K.square(x - y), axis=1, keepdims=True)\r\n",
        "    return K.sqrt(K.maximum(sum_square, K.epsilon()))\r\n",
        "\r\n",
        "\r\n",
        "def eucl_dist_output_shape(shapes):\r\n",
        "    shape1, shape2 = shapes\r\n",
        "    return (shape1[0], 1)\r\n",
        "\r\n",
        "base_network = initialize_base_network()\r\n",
        "plot_model(base_network, show_shapes=True, show_layer_names=True, to_file='base-model.png')"
      ],
      "execution_count": null,
      "outputs": [
        {
          "output_type": "execute_result",
          "data": {
            "image/png": "[encoded data removed]",
            "text/plain": [
              "<IPython.core.display.Image object>"
            ]
          },
          "metadata": {
            "tags": []
          },
          "execution_count": 26
        }
      ]
    },
    {
      "cell_type": "code",
      "metadata": {
        "id": "bHuol2_ESDGJ"
      },
      "source": [
        "def euclidean_distance(vects):\r\n",
        "  x,y = vects\r\n",
        "  sum_square = K.sum(K.square(x-y),axis=1,keepdims=True)\r\n",
        "  return K.sqrt(K.maximum(sum_square,K.epsilon()))"
      ],
      "execution_count": null,
      "outputs": []
    },
    {
      "cell_type": "code",
      "metadata": {
        "id": "_F1ubb7_S6ow"
      },
      "source": [
        "def euclidean_dist_output_shape(shapes):\r\n",
        "  shape1,shape2 = shapes\r\n",
        "  return (shape1[0],1)"
      ],
      "execution_count": null,
      "outputs": []
    },
    {
      "cell_type": "code",
      "metadata": {
        "id": "WcPCeC4jTJcL"
      },
      "source": [
        "base_network = initialize_base_network()"
      ],
      "execution_count": null,
      "outputs": []
    },
    {
      "cell_type": "code",
      "metadata": {
        "colab": {
          "base_uri": "https://localhost:8080/",
          "height": 754
        },
        "id": "jSxso2WdTNvf",
        "outputId": "d8009dce-44b6-474f-ae70-554ad50a98cc"
      },
      "source": [
        "plot_model(base_network,show_layer_names=True,show_shapes=True,to_file='base-model.png')"
      ],
      "execution_count": null,
      "outputs": [
        {
          "output_type": "execute_result",
          "data": {
            "image/png": "[encoded data removed]",
            "text/plain": [
              "<IPython.core.display.Image object>"
            ]
          },
          "metadata": {
            "tags": []
          },
          "execution_count": 30
        }
      ]
    },
    {
      "cell_type": "code",
      "metadata": {
        "id": "nKXkq8y6XFO1",
        "colab": {
          "base_uri": "https://localhost:8080/",
          "height": 312
        },
        "outputId": "32071166-ee87-4096-a888-ce3a8086bcba"
      },
      "source": [
        "input_a = Input(shape=(28,28,), name=\"left_input\")\r\n",
        "vect_output_a = base_network(input_a)\r\n",
        "\r\n",
        "# create the right input and point to the base network\r\n",
        "input_b = Input(shape=(28,28,), name=\"right_input\")\r\n",
        "vect_output_b = base_network(input_b)\r\n",
        "\r\n",
        "# measure the similarity of the two vector outputs\r\n",
        "output = Lambda(euclidean_distance, name=\"output_layer\", output_shape=euclidean_dist_output_shape)([vect_output_a, vect_output_b])\r\n",
        "\r\n",
        "# specify the inputs and output of the model\r\n",
        "model = Model([input_a, input_b], output)\r\n",
        "\r\n",
        "# plot model graph\r\n",
        "plot_model(model, show_shapes=True, show_layer_names=True, to_file='outer-model.png')"
      ],
      "execution_count": null,
      "outputs": [
        {
          "output_type": "execute_result",
          "data": {
            "image/png": "[encoded data removed]",
            "text/plain": [
              "<IPython.core.display.Image object>"
            ]
          },
          "metadata": {
            "tags": []
          },
          "execution_count": 31
        }
      ]
    },
    {
      "cell_type": "code",
      "metadata": {
        "id": "2b6ImXZMXFMZ"
      },
      "source": [
        "def contrastive_loss_with_margin(margin):\r\n",
        "  def contrastive_loss(y_true,y_pred):\r\n",
        "    square_pred = K.square(y_pred)\r\n",
        "    square_margin = K.square(K.maximum(margin-y_pred,0))\r\n",
        "    return K.mean(y_true*square_pred+(1-y_true)*(square_margin))\r\n",
        "  return contrastive_loss"
      ],
      "execution_count": null,
      "outputs": []
    },
    {
      "cell_type": "code",
      "metadata": {
        "id": "RDCdUgNTY-Ln"
      },
      "source": [
        "model.compile(optimizer= tf.keras.optimizers.RMSprop(),metrics=['accuracy'],loss= contrastive_loss_with_margin(margin = 1))"
      ],
      "execution_count": null,
      "outputs": []
    },
    {
      "cell_type": "code",
      "metadata": {
        "colab": {
          "base_uri": "https://localhost:8080/"
        },
        "id": "oajUZenEc85z",
        "outputId": "fcc50ea5-104c-4eec-97e5-a9a786dda699"
      },
      "source": [
        "\r\n",
        "history = model.fit([tr_pairs[:,0], tr_pairs[:,1]], tr_y, epochs=20, batch_size=128, validation_data=([ts_pairs[:,0], ts_pairs[:,1]], ts_y))"
      ],
      "execution_count": null,
      "outputs": [
        {
          "output_type": "stream",
          "text": [
            "Epoch 1/20\n",
            "938/938 [==============================] - 9s 9ms/step - loss: 0.1568 - accuracy: 0.1924 - val_loss: 0.0813 - val_accuracy: 0.1001\n",
            "Epoch 2/20\n",
            "938/938 [==============================] - 8s 8ms/step - loss: 0.0815 - accuracy: 0.1024 - val_loss: 0.0726 - val_accuracy: 0.0994\n",
            "Epoch 3/20\n",
            "938/938 [==============================] - 8s 8ms/step - loss: 0.0702 - accuracy: 0.0881 - val_loss: 0.0744 - val_accuracy: 0.0953\n",
            "Epoch 4/20\n",
            "938/938 [==============================] - 8s 8ms/step - loss: 0.0655 - accuracy: 0.0842 - val_loss: 0.0681 - val_accuracy: 0.0915\n",
            "Epoch 5/20\n",
            "938/938 [==============================] - 8s 8ms/step - loss: 0.0639 - accuracy: 0.0831 - val_loss: 0.0634 - val_accuracy: 0.0859\n",
            "Epoch 6/20\n",
            "938/938 [==============================] - 8s 8ms/step - loss: 0.0612 - accuracy: 0.0802 - val_loss: 0.0631 - val_accuracy: 0.0856\n",
            "Epoch 7/20\n",
            "938/938 [==============================] - 8s 8ms/step - loss: 0.0590 - accuracy: 0.0775 - val_loss: 0.0640 - val_accuracy: 0.0843\n",
            "Epoch 8/20\n",
            "938/938 [==============================] - 8s 8ms/step - loss: 0.0574 - accuracy: 0.0748 - val_loss: 0.0664 - val_accuracy: 0.0906\n",
            "Epoch 9/20\n",
            "938/938 [==============================] - 8s 8ms/step - loss: 0.0564 - accuracy: 0.0744 - val_loss: 0.0630 - val_accuracy: 0.0855\n",
            "Epoch 10/20\n",
            "938/938 [==============================] - 8s 8ms/step - loss: 0.0562 - accuracy: 0.0744 - val_loss: 0.0636 - val_accuracy: 0.0871\n",
            "Epoch 11/20\n",
            "938/938 [==============================] - 8s 8ms/step - loss: 0.0555 - accuracy: 0.0747 - val_loss: 0.0616 - val_accuracy: 0.0859\n",
            "Epoch 12/20\n",
            "938/938 [==============================] - 8s 8ms/step - loss: 0.0542 - accuracy: 0.0705 - val_loss: 0.0667 - val_accuracy: 0.0906\n",
            "Epoch 13/20\n",
            "938/938 [==============================] - 8s 8ms/step - loss: 0.0536 - accuracy: 0.0706 - val_loss: 0.0643 - val_accuracy: 0.0897\n",
            "Epoch 14/20\n",
            "938/938 [==============================] - 8s 8ms/step - loss: 0.0536 - accuracy: 0.0703 - val_loss: 0.0627 - val_accuracy: 0.0847\n",
            "Epoch 15/20\n",
            "938/938 [==============================] - 8s 8ms/step - loss: 0.0528 - accuracy: 0.0699 - val_loss: 0.0634 - val_accuracy: 0.0877\n",
            "Epoch 16/20\n",
            "938/938 [==============================] - 8s 8ms/step - loss: 0.0512 - accuracy: 0.0669 - val_loss: 0.0636 - val_accuracy: 0.0875\n",
            "Epoch 17/20\n",
            "938/938 [==============================] - 8s 9ms/step - loss: 0.0509 - accuracy: 0.0672 - val_loss: 0.0611 - val_accuracy: 0.0806\n",
            "Epoch 18/20\n",
            "938/938 [==============================] - 8s 8ms/step - loss: 0.0519 - accuracy: 0.0688 - val_loss: 0.0638 - val_accuracy: 0.0860\n",
            "Epoch 19/20\n",
            "938/938 [==============================] - 8s 9ms/step - loss: 0.0505 - accuracy: 0.0670 - val_loss: 0.0623 - val_accuracy: 0.0852\n",
            "Epoch 20/20\n",
            "938/938 [==============================] - 8s 8ms/step - loss: 0.0509 - accuracy: 0.0676 - val_loss: 0.0638 - val_accuracy: 0.0857\n"
          ],
          "name": "stdout"
        }
      ]
    },
    {
      "cell_type": "code",
      "metadata": {
        "id": "qvF9nKjSdew2"
      },
      "source": [
        "def compute_accuracy(y_true,y_pred):\r\n",
        "  pred = y_pred.ravel()>0.5\r\n",
        "  return np.mean(pred==y_true)"
      ],
      "execution_count": null,
      "outputs": []
    },
    {
      "cell_type": "code",
      "metadata": {
        "colab": {
          "base_uri": "https://localhost:8080/"
        },
        "id": "J6-AK7I1z4t7",
        "outputId": "89ce1a87-7fe6-448a-e3db-b6a46388e99d"
      },
      "source": [
        "loss_object = model.evaluate(x=[ts_pairs[:,0],ts_pairs[:,1]],y=ts_y)"
      ],
      "execution_count": null,
      "outputs": [
        {
          "output_type": "stream",
          "text": [
            "625/625 [==============================] - 1s 1ms/step - loss: 0.0638 - accuracy: 0.0857\n"
          ],
          "name": "stdout"
        }
      ]
    },
    {
      "cell_type": "code",
      "metadata": {
        "id": "Ix22e9ex0d9T"
      },
      "source": [
        "y_pred_train = model.predict([tr_pairs[:,0],tr_pairs[:,1]])"
      ],
      "execution_count": null,
      "outputs": []
    },
    {
      "cell_type": "code",
      "metadata": {
        "id": "AcGiu1hE0xIl"
      },
      "source": [
        "train_accuracy = compute_accuracy(tr_y,y_pred_train)"
      ],
      "execution_count": null,
      "outputs": []
    },
    {
      "cell_type": "code",
      "metadata": {
        "id": "0GHXCfz41I4m"
      },
      "source": [
        "y_pred_test= model.predict(x=[ts_pairs[:,0],ts_pairs[:,1]])"
      ],
      "execution_count": null,
      "outputs": []
    },
    {
      "cell_type": "code",
      "metadata": {
        "id": "gMzhgyzv1UJr"
      },
      "source": [
        "test_accuracy = compute_accuracy(ts_y,y_pred_test)"
      ],
      "execution_count": null,
      "outputs": []
    },
    {
      "cell_type": "code",
      "metadata": {
        "colab": {
          "base_uri": "https://localhost:8080/"
        },
        "id": "jdxvgTo61bsA",
        "outputId": "5c638afb-98a9-449d-f94f-6474a4347535"
      },
      "source": [
        "\r\n",
        "print(\"Loss = {}, Train Accuracy = {} Test Accuracy = {}\".format(loss, train_accuracy, test_accuracy))"
      ],
      "execution_count": null,
      "outputs": [
        {
          "output_type": "stream",
          "text": [
            "Loss = 1.1513197422027588, Train Accuracy = 0.06013502250375063 Test Accuracy = 0.08568568568568569\n"
          ],
          "name": "stdout"
        }
      ]
    },
    {
      "cell_type": "code",
      "metadata": {
        "id": "vo6V1POC1cwb"
      },
      "source": [
        "def plot_metrics(metrics_name,title,y_lim=5):\r\n",
        "  plt.title(title)\r\n",
        "  plt.ylim(0,y_lim)\r\n",
        "  plt.plot(history.history[metrics_name],label = metrics_name,color='blue')\r\n",
        "  plt.plot(history.history['val_'+metrics_name],label= 'val_'+metrics_name,color='green')"
      ],
      "execution_count": null,
      "outputs": []
    },
    {
      "cell_type": "code",
      "metadata": {
        "colab": {
          "base_uri": "https://localhost:8080/",
          "height": 281
        },
        "id": "MhzEmVUV2Wox",
        "outputId": "deac69c0-695e-4a0c-8927-41665403c455"
      },
      "source": [
        "plot_metrics(metrics_name= 'loss',title='loss',y_lim=0.2)"
      ],
      "execution_count": null,
      "outputs": [
        {
          "output_type": "display_data",
          "data": {
            "image/png": "[encoded data removed]",
            "text/plain": [
              "<Figure size 432x288 with 1 Axes>"
            ]
          },
          "metadata": {
            "tags": [],
            "needs_background": "light"
          }
        }
      ]
    },
    {
      "cell_type": "code",
      "metadata": {
        "id": "uzzO7G8c2e8U"
      },
      "source": [
        "def visualize_images():\r\n",
        "  plt.rc('image',cmap='gray_r')\r\n",
        "  plt.rc('grid',linewidth=0)\r\n",
        "  plt.rc('xtick',top=False,bottom=False,labelsize='large')\r\n",
        "  plt.rc('ytick',left=False,right=False,labelsize='large')\r\n",
        "  plt.rc('axes',facecolor = 'F8F8F8',titlesize='large',edgecolor='white')\r\n",
        "  plt.rc('text',color='a8151a')\r\n",
        "  plt.rc('figure',facecolor= 'F0F0F0')"
      ],
      "execution_count": null,
      "outputs": []
    },
    {
      "cell_type": "code",
      "metadata": {
        "id": "SneuM-qF49L9"
      },
      "source": [
        "def display_image(left,right,predictions,labels,title,n):\r\n",
        "  plt.figure(figsize=(17,3))\r\n",
        "  plt.title(title)\r\n",
        "  plt.yticks([])\r\n",
        "  plt.xticks([])\r\n",
        "  plt.grid(None)\r\n",
        "  left = np.reshape(left,[n,28,28])\r\n",
        "  left = np.swapaxes(left,0,1)\r\n",
        "  left = np.reshape(left,[28,28*n])\r\n",
        "  plt.imshow(left)\r\n",
        "  plt.figure(figsize=(17,3))\r\n",
        "  plt.yticks([])\r\n",
        "  plt.xticks([28*x+14 for x in range(n)],predictions)\r\n",
        "  for i,t in enumerate(plt.gca().xaxis.get_ticklabels()):\r\n",
        "    if predictions[i]>0.5 :\r\n",
        "      t.set_color('red')\r\n",
        "  plt.grid(None)\r\n",
        "  right= np.reshape(right,[n,28,28])\r\n",
        "  right =np.swapaxes(right,0,1)\r\n",
        "  right = np.reshape(right,[28,28*n])\r\n",
        "  plt.imshow(right)"
      ],
      "execution_count": null,
      "outputs": []
    },
    {
      "cell_type": "code",
      "metadata": {
        "colab": {
          "base_uri": "https://localhost:8080/",
          "height": 271
        },
        "id": "pU2zG2yR_ZlG",
        "outputId": "465f1398-961f-4bfe-b517-ceb97eaae004"
      },
      "source": [
        "y_pred_train = np.squeeze(y_pred_train)\r\n",
        "indexes = np.random.choice(len(y_pred_train),size=10)\r\n",
        "display_image(tr_pairs[:,0][indexes],tr_pairs[:,1][indexes],y_pred_train[indexes],tr_y[indexes],'clothes and their dissimilarity',10)"
      ],
      "execution_count": null,
      "outputs": [
        {
          "output_type": "display_data",
          "data": {
            "image/png": "[encoded data removed]",
            "text/plain": [
              "<Figure size 1224x216 with 1 Axes>"
            ]
          },
          "metadata": {
            "tags": []
          }
        },
        {
          "output_type": "display_data",
          "data": {
            "image/png": "[encoded data removed]",
            "text/plain": [
              "<Figure size 1224x216 with 1 Axes>"
            ]
          },
          "metadata": {
            "tags": [],
            "needs_background": "light"
          }
        }
      ]
    },
    {
      "cell_type": "code",
      "metadata": {
        "id": "TyrspSceDNuZ"
      },
      "source": [
        "import tensorflow as tf\r\n",
        "import numpy as np\r\n",
        "import matplotlib.pyplot as plt\r\n",
        "from tensorflow.keras.models import Model\r\n",
        "from tensorflow.keras.layers import Input,Dense\r\n",
        "from sklearn.model_selection import train_test_split\r\n",
        "from sklearn.metrics import confusion_matrix\r\n",
        "import pandas as pd\r\n",
        "import itertools"
      ],
      "execution_count": null,
      "outputs": []
    },
    {
      "cell_type": "code",
      "metadata": {
        "colab": {
          "base_uri": "https://localhost:8080/",
          "height": 204
        },
        "id": "021ELi_cjfd7",
        "outputId": "c5dd8915-ecaa-4a9c-bdef-7050179b5165"
      },
      "source": [
        "url = 'http://archive.ics.uci.edu/ml/machine-learning-databases/wine-quality/winequality-white.csv'\r\n",
        "white_df = pd.read_csv(url,sep=';')\r\n",
        "white_df.head()"
      ],
      "execution_count": null,
      "outputs": [
        {
          "output_type": "execute_result",
          "data": {
            "text/html": [
              "<div>\n",
              "<style scoped>\n",
              "    .dataframe tbody tr th:only-of-type {\n",
              "        vertical-align: middle;\n",
              "    }\n",
              "\n",
              "    .dataframe tbody tr th {\n",
              "        vertical-align: top;\n",
              "    }\n",
              "\n",
              "    .dataframe thead th {\n",
              "        text-align: right;\n",
              "    }\n",
              "</style>\n",
              "<table border=\"1\" class=\"dataframe\">\n",
              "  <thead>\n",
              "    <tr style=\"text-align: right;\">\n",
              "      <th></th>\n",
              "      <th>fixed acidity</th>\n",
              "      <th>volatile acidity</th>\n",
              "      <th>citric acid</th>\n",
              "      <th>residual sugar</th>\n",
              "      <th>chlorides</th>\n",
              "      <th>free sulfur dioxide</th>\n",
              "      <th>total sulfur dioxide</th>\n",
              "      <th>density</th>\n",
              "      <th>pH</th>\n",
              "      <th>sulphates</th>\n",
              "      <th>alcohol</th>\n",
              "      <th>quality</th>\n",
              "    </tr>\n",
              "  </thead>\n",
              "  <tbody>\n",
              "    <tr>\n",
              "      <th>0</th>\n",
              "      <td>7.0</td>\n",
              "      <td>0.27</td>\n",
              "      <td>0.36</td>\n",
              "      <td>20.7</td>\n",
              "      <td>0.045</td>\n",
              "      <td>45.0</td>\n",
              "      <td>170.0</td>\n",
              "      <td>1.0010</td>\n",
              "      <td>3.00</td>\n",
              "      <td>0.45</td>\n",
              "      <td>8.8</td>\n",
              "      <td>6</td>\n",
              "    </tr>\n",
              "    <tr>\n",
              "      <th>1</th>\n",
              "      <td>6.3</td>\n",
              "      <td>0.30</td>\n",
              "      <td>0.34</td>\n",
              "      <td>1.6</td>\n",
              "      <td>0.049</td>\n",
              "      <td>14.0</td>\n",
              "      <td>132.0</td>\n",
              "      <td>0.9940</td>\n",
              "      <td>3.30</td>\n",
              "      <td>0.49</td>\n",
              "      <td>9.5</td>\n",
              "      <td>6</td>\n",
              "    </tr>\n",
              "    <tr>\n",
              "      <th>2</th>\n",
              "      <td>8.1</td>\n",
              "      <td>0.28</td>\n",
              "      <td>0.40</td>\n",
              "      <td>6.9</td>\n",
              "      <td>0.050</td>\n",
              "      <td>30.0</td>\n",
              "      <td>97.0</td>\n",
              "      <td>0.9951</td>\n",
              "      <td>3.26</td>\n",
              "      <td>0.44</td>\n",
              "      <td>10.1</td>\n",
              "      <td>6</td>\n",
              "    </tr>\n",
              "    <tr>\n",
              "      <th>3</th>\n",
              "      <td>7.2</td>\n",
              "      <td>0.23</td>\n",
              "      <td>0.32</td>\n",
              "      <td>8.5</td>\n",
              "      <td>0.058</td>\n",
              "      <td>47.0</td>\n",
              "      <td>186.0</td>\n",
              "      <td>0.9956</td>\n",
              "      <td>3.19</td>\n",
              "      <td>0.40</td>\n",
              "      <td>9.9</td>\n",
              "      <td>6</td>\n",
              "    </tr>\n",
              "    <tr>\n",
              "      <th>4</th>\n",
              "      <td>7.2</td>\n",
              "      <td>0.23</td>\n",
              "      <td>0.32</td>\n",
              "      <td>8.5</td>\n",
              "      <td>0.058</td>\n",
              "      <td>47.0</td>\n",
              "      <td>186.0</td>\n",
              "      <td>0.9956</td>\n",
              "      <td>3.19</td>\n",
              "      <td>0.40</td>\n",
              "      <td>9.9</td>\n",
              "      <td>6</td>\n",
              "    </tr>\n",
              "  </tbody>\n",
              "</table>\n",
              "</div>"
            ],
            "text/plain": [
              "   fixed acidity  volatile acidity  citric acid  ...  sulphates  alcohol  quality\n",
              "0            7.0              0.27         0.36  ...       0.45      8.8        6\n",
              "1            6.3              0.30         0.34  ...       0.49      9.5        6\n",
              "2            8.1              0.28         0.40  ...       0.44     10.1        6\n",
              "3            7.2              0.23         0.32  ...       0.40      9.9        6\n",
              "4            7.2              0.23         0.32  ...       0.40      9.9        6\n",
              "\n",
              "[5 rows x 12 columns]"
            ]
          },
          "metadata": {
            "tags": []
          },
          "execution_count": 48
        }
      ]
    },
    {
      "cell_type": "code",
      "metadata": {
        "id": "Rd88RORApN9o"
      },
      "source": [
        "white_df['is_red']=0\r\n",
        "white_df = white_df.drop_duplicates(keep='first')"
      ],
      "execution_count": null,
      "outputs": []
    },
    {
      "cell_type": "code",
      "metadata": {
        "colab": {
          "base_uri": "https://localhost:8080/"
        },
        "id": "fRzo36CWqGR_",
        "outputId": "cf1e8cf7-b1e3-441f-d9fe-f6445ba0892d"
      },
      "source": [
        "white_df.isnull().sum()"
      ],
      "execution_count": null,
      "outputs": [
        {
          "output_type": "execute_result",
          "data": {
            "text/plain": [
              "fixed acidity           0\n",
              "volatile acidity        0\n",
              "citric acid             0\n",
              "residual sugar          0\n",
              "chlorides               0\n",
              "free sulfur dioxide     0\n",
              "total sulfur dioxide    0\n",
              "density                 0\n",
              "pH                      0\n",
              "sulphates               0\n",
              "alcohol                 0\n",
              "quality                 0\n",
              "is_red                  0\n",
              "dtype: int64"
            ]
          },
          "metadata": {
            "tags": []
          },
          "execution_count": 50
        }
      ]
    },
    {
      "cell_type": "code",
      "metadata": {
        "colab": {
          "base_uri": "https://localhost:8080/"
        },
        "id": "-iw8Z2KzqJkg",
        "outputId": "5f51340d-eb63-4405-936c-02f723915493"
      },
      "source": [
        "print(white_df.alcohol[0])\r\n",
        "print(white_df.alcohol[100])\r\n"
      ],
      "execution_count": null,
      "outputs": [
        {
          "output_type": "stream",
          "text": [
            "8.8\n",
            "9.1\n"
          ],
          "name": "stdout"
        }
      ]
    },
    {
      "cell_type": "code",
      "metadata": {
        "colab": {
          "base_uri": "https://localhost:8080/",
          "height": 204
        },
        "id": "4Xd7bRyuqWCo",
        "outputId": "0d4b37fe-369f-4b76-ffc4-5c7a946d5a60"
      },
      "source": [
        "url = 'http://archive.ics.uci.edu/ml/machine-learning-databases/wine-quality/winequality-red.csv'\r\n",
        "red_df = pd.read_csv(url,sep=';')\r\n",
        "red_df['is_red']=1\r\n",
        "red_df = red_df.drop_duplicates(keep='first')\r\n",
        "red_df.head()"
      ],
      "execution_count": null,
      "outputs": [
        {
          "output_type": "execute_result",
          "data": {
            "text/html": [
              "<div>\n",
              "<style scoped>\n",
              "    .dataframe tbody tr th:only-of-type {\n",
              "        vertical-align: middle;\n",
              "    }\n",
              "\n",
              "    .dataframe tbody tr th {\n",
              "        vertical-align: top;\n",
              "    }\n",
              "\n",
              "    .dataframe thead th {\n",
              "        text-align: right;\n",
              "    }\n",
              "</style>\n",
              "<table border=\"1\" class=\"dataframe\">\n",
              "  <thead>\n",
              "    <tr style=\"text-align: right;\">\n",
              "      <th></th>\n",
              "      <th>fixed acidity</th>\n",
              "      <th>volatile acidity</th>\n",
              "      <th>citric acid</th>\n",
              "      <th>residual sugar</th>\n",
              "      <th>chlorides</th>\n",
              "      <th>free sulfur dioxide</th>\n",
              "      <th>total sulfur dioxide</th>\n",
              "      <th>density</th>\n",
              "      <th>pH</th>\n",
              "      <th>sulphates</th>\n",
              "      <th>alcohol</th>\n",
              "      <th>quality</th>\n",
              "      <th>is_red</th>\n",
              "    </tr>\n",
              "  </thead>\n",
              "  <tbody>\n",
              "    <tr>\n",
              "      <th>0</th>\n",
              "      <td>7.4</td>\n",
              "      <td>0.70</td>\n",
              "      <td>0.00</td>\n",
              "      <td>1.9</td>\n",
              "      <td>0.076</td>\n",
              "      <td>11.0</td>\n",
              "      <td>34.0</td>\n",
              "      <td>0.9978</td>\n",
              "      <td>3.51</td>\n",
              "      <td>0.56</td>\n",
              "      <td>9.4</td>\n",
              "      <td>5</td>\n",
              "      <td>1</td>\n",
              "    </tr>\n",
              "    <tr>\n",
              "      <th>1</th>\n",
              "      <td>7.8</td>\n",
              "      <td>0.88</td>\n",
              "      <td>0.00</td>\n",
              "      <td>2.6</td>\n",
              "      <td>0.098</td>\n",
              "      <td>25.0</td>\n",
              "      <td>67.0</td>\n",
              "      <td>0.9968</td>\n",
              "      <td>3.20</td>\n",
              "      <td>0.68</td>\n",
              "      <td>9.8</td>\n",
              "      <td>5</td>\n",
              "      <td>1</td>\n",
              "    </tr>\n",
              "    <tr>\n",
              "      <th>2</th>\n",
              "      <td>7.8</td>\n",
              "      <td>0.76</td>\n",
              "      <td>0.04</td>\n",
              "      <td>2.3</td>\n",
              "      <td>0.092</td>\n",
              "      <td>15.0</td>\n",
              "      <td>54.0</td>\n",
              "      <td>0.9970</td>\n",
              "      <td>3.26</td>\n",
              "      <td>0.65</td>\n",
              "      <td>9.8</td>\n",
              "      <td>5</td>\n",
              "      <td>1</td>\n",
              "    </tr>\n",
              "    <tr>\n",
              "      <th>3</th>\n",
              "      <td>11.2</td>\n",
              "      <td>0.28</td>\n",
              "      <td>0.56</td>\n",
              "      <td>1.9</td>\n",
              "      <td>0.075</td>\n",
              "      <td>17.0</td>\n",
              "      <td>60.0</td>\n",
              "      <td>0.9980</td>\n",
              "      <td>3.16</td>\n",
              "      <td>0.58</td>\n",
              "      <td>9.8</td>\n",
              "      <td>6</td>\n",
              "      <td>1</td>\n",
              "    </tr>\n",
              "    <tr>\n",
              "      <th>5</th>\n",
              "      <td>7.4</td>\n",
              "      <td>0.66</td>\n",
              "      <td>0.00</td>\n",
              "      <td>1.8</td>\n",
              "      <td>0.075</td>\n",
              "      <td>13.0</td>\n",
              "      <td>40.0</td>\n",
              "      <td>0.9978</td>\n",
              "      <td>3.51</td>\n",
              "      <td>0.56</td>\n",
              "      <td>9.4</td>\n",
              "      <td>5</td>\n",
              "      <td>1</td>\n",
              "    </tr>\n",
              "  </tbody>\n",
              "</table>\n",
              "</div>"
            ],
            "text/plain": [
              "   fixed acidity  volatile acidity  citric acid  ...  alcohol  quality  is_red\n",
              "0            7.4              0.70         0.00  ...      9.4        5       1\n",
              "1            7.8              0.88         0.00  ...      9.8        5       1\n",
              "2            7.8              0.76         0.04  ...      9.8        5       1\n",
              "3           11.2              0.28         0.56  ...      9.8        6       1\n",
              "5            7.4              0.66         0.00  ...      9.4        5       1\n",
              "\n",
              "[5 rows x 13 columns]"
            ]
          },
          "metadata": {
            "tags": []
          },
          "execution_count": 52
        }
      ]
    },
    {
      "cell_type": "code",
      "metadata": {
        "colab": {
          "base_uri": "https://localhost:8080/"
        },
        "id": "UtP9QykPq8zs",
        "outputId": "3014d3b9-ca62-4f32-b4a3-a9da4a2aa41c"
      },
      "source": [
        "print(red_df.alcohol[0])\r\n",
        "print(red_df.alcohol[100])"
      ],
      "execution_count": null,
      "outputs": [
        {
          "output_type": "stream",
          "text": [
            "9.4\n",
            "10.2\n"
          ],
          "name": "stdout"
        }
      ]
    },
    {
      "cell_type": "code",
      "metadata": {
        "colab": {
          "base_uri": "https://localhost:8080/"
        },
        "id": "uFuJu5-urGVG",
        "outputId": "f9c43b8e-4313-4f5d-8f65-56a3d461d9f6"
      },
      "source": [
        "df = pd.concat([white_df,red_df],ignore_index=True)\r\n",
        "print(df.alcohol[0])\r\n",
        "print(df.alcohol[100])"
      ],
      "execution_count": null,
      "outputs": [
        {
          "output_type": "stream",
          "text": [
            "8.8\n",
            "10.2\n"
          ],
          "name": "stdout"
        }
      ]
    },
    {
      "cell_type": "code",
      "metadata": {
        "colab": {
          "base_uri": "https://localhost:8080/",
          "height": 282
        },
        "id": "wrETie4TtwWb",
        "outputId": "51d514c9-e2ac-4e38-b9c5-57ea1e616447"
      },
      "source": [
        "df['quality'].hist(bins=20)"
      ],
      "execution_count": null,
      "outputs": [
        {
          "output_type": "execute_result",
          "data": {
            "text/plain": [
              "<matplotlib.axes._subplots.AxesSubplot at 0x7f47aff42240>"
            ]
          },
          "metadata": {
            "tags": []
          },
          "execution_count": 55
        },
        {
          "output_type": "display_data",
          "data": {
            "image/png": "[encoded data removed]",
            "text/plain": [
              "<Figure size 432x288 with 1 Axes>"
            ]
          },
          "metadata": {
            "tags": [],
            "needs_background": "light"
          }
        }
      ]
    },
    {
      "cell_type": "code",
      "metadata": {
        "id": "2ctOgPthuarr"
      },
      "source": [
        "df = df[(df['quality']>4)&(df['quality']<8)]"
      ],
      "execution_count": null,
      "outputs": []
    },
    {
      "cell_type": "code",
      "metadata": {
        "colab": {
          "base_uri": "https://localhost:8080/",
          "height": 204
        },
        "id": "hDzbbd-uu2HA",
        "outputId": "088ef7c1-1f86-48d3-c862-60a74c224fae"
      },
      "source": [
        "df.head()"
      ],
      "execution_count": null,
      "outputs": [
        {
          "output_type": "execute_result",
          "data": {
            "text/html": [
              "<div>\n",
              "<style scoped>\n",
              "    .dataframe tbody tr th:only-of-type {\n",
              "        vertical-align: middle;\n",
              "    }\n",
              "\n",
              "    .dataframe tbody tr th {\n",
              "        vertical-align: top;\n",
              "    }\n",
              "\n",
              "    .dataframe thead th {\n",
              "        text-align: right;\n",
              "    }\n",
              "</style>\n",
              "<table border=\"1\" class=\"dataframe\">\n",
              "  <thead>\n",
              "    <tr style=\"text-align: right;\">\n",
              "      <th></th>\n",
              "      <th>fixed acidity</th>\n",
              "      <th>volatile acidity</th>\n",
              "      <th>citric acid</th>\n",
              "      <th>residual sugar</th>\n",
              "      <th>chlorides</th>\n",
              "      <th>free sulfur dioxide</th>\n",
              "      <th>total sulfur dioxide</th>\n",
              "      <th>density</th>\n",
              "      <th>pH</th>\n",
              "      <th>sulphates</th>\n",
              "      <th>alcohol</th>\n",
              "      <th>quality</th>\n",
              "      <th>is_red</th>\n",
              "    </tr>\n",
              "  </thead>\n",
              "  <tbody>\n",
              "    <tr>\n",
              "      <th>0</th>\n",
              "      <td>7.0</td>\n",
              "      <td>0.27</td>\n",
              "      <td>0.36</td>\n",
              "      <td>20.7</td>\n",
              "      <td>0.045</td>\n",
              "      <td>45.0</td>\n",
              "      <td>170.0</td>\n",
              "      <td>1.0010</td>\n",
              "      <td>3.00</td>\n",
              "      <td>0.45</td>\n",
              "      <td>8.8</td>\n",
              "      <td>6</td>\n",
              "      <td>0</td>\n",
              "    </tr>\n",
              "    <tr>\n",
              "      <th>1</th>\n",
              "      <td>6.3</td>\n",
              "      <td>0.30</td>\n",
              "      <td>0.34</td>\n",
              "      <td>1.6</td>\n",
              "      <td>0.049</td>\n",
              "      <td>14.0</td>\n",
              "      <td>132.0</td>\n",
              "      <td>0.9940</td>\n",
              "      <td>3.30</td>\n",
              "      <td>0.49</td>\n",
              "      <td>9.5</td>\n",
              "      <td>6</td>\n",
              "      <td>0</td>\n",
              "    </tr>\n",
              "    <tr>\n",
              "      <th>2</th>\n",
              "      <td>8.1</td>\n",
              "      <td>0.28</td>\n",
              "      <td>0.40</td>\n",
              "      <td>6.9</td>\n",
              "      <td>0.050</td>\n",
              "      <td>30.0</td>\n",
              "      <td>97.0</td>\n",
              "      <td>0.9951</td>\n",
              "      <td>3.26</td>\n",
              "      <td>0.44</td>\n",
              "      <td>10.1</td>\n",
              "      <td>6</td>\n",
              "      <td>0</td>\n",
              "    </tr>\n",
              "    <tr>\n",
              "      <th>3</th>\n",
              "      <td>7.2</td>\n",
              "      <td>0.23</td>\n",
              "      <td>0.32</td>\n",
              "      <td>8.5</td>\n",
              "      <td>0.058</td>\n",
              "      <td>47.0</td>\n",
              "      <td>186.0</td>\n",
              "      <td>0.9956</td>\n",
              "      <td>3.19</td>\n",
              "      <td>0.40</td>\n",
              "      <td>9.9</td>\n",
              "      <td>6</td>\n",
              "      <td>0</td>\n",
              "    </tr>\n",
              "    <tr>\n",
              "      <th>4</th>\n",
              "      <td>6.2</td>\n",
              "      <td>0.32</td>\n",
              "      <td>0.16</td>\n",
              "      <td>7.0</td>\n",
              "      <td>0.045</td>\n",
              "      <td>30.0</td>\n",
              "      <td>136.0</td>\n",
              "      <td>0.9949</td>\n",
              "      <td>3.18</td>\n",
              "      <td>0.47</td>\n",
              "      <td>9.6</td>\n",
              "      <td>6</td>\n",
              "      <td>0</td>\n",
              "    </tr>\n",
              "  </tbody>\n",
              "</table>\n",
              "</div>"
            ],
            "text/plain": [
              "   fixed acidity  volatile acidity  citric acid  ...  alcohol  quality  is_red\n",
              "0            7.0              0.27         0.36  ...      8.8        6       0\n",
              "1            6.3              0.30         0.34  ...      9.5        6       0\n",
              "2            8.1              0.28         0.40  ...     10.1        6       0\n",
              "3            7.2              0.23         0.32  ...      9.9        6       0\n",
              "4            6.2              0.32         0.16  ...      9.6        6       0\n",
              "\n",
              "[5 rows x 13 columns]"
            ]
          },
          "metadata": {
            "tags": []
          },
          "execution_count": 57
        }
      ]
    },
    {
      "cell_type": "code",
      "metadata": {
        "id": "gIBjBU4Zu6IT"
      },
      "source": [
        "df = df.reset_index(drop=True)"
      ],
      "execution_count": null,
      "outputs": []
    },
    {
      "cell_type": "code",
      "metadata": {
        "colab": {
          "base_uri": "https://localhost:8080/"
        },
        "id": "R7kUyWyVvDVM",
        "outputId": "4bfd1046-3d77-40ba-a2d3-5f2e146c53c2"
      },
      "source": [
        "print(df.alcohol[0])\r\n",
        "print(df.alcohol[100])"
      ],
      "execution_count": null,
      "outputs": [
        {
          "output_type": "stream",
          "text": [
            "8.8\n",
            "10.5\n"
          ],
          "name": "stdout"
        }
      ]
    },
    {
      "cell_type": "code",
      "metadata": {
        "colab": {
          "base_uri": "https://localhost:8080/",
          "height": 282
        },
        "id": "XRCVcoLXvJEJ",
        "outputId": "d9bc7395-b984-4d90-8c62-10b892d7fdd5"
      },
      "source": [
        "df['quality'].hist(bins=20)"
      ],
      "execution_count": null,
      "outputs": [
        {
          "output_type": "execute_result",
          "data": {
            "text/plain": [
              "<matplotlib.axes._subplots.AxesSubplot at 0x7f47afe48550>"
            ]
          },
          "metadata": {
            "tags": []
          },
          "execution_count": 60
        },
        {
          "output_type": "display_data",
          "data": {
            "image/png": "[encoded data removed]",
            "text/plain": [
              "<Figure size 432x288 with 1 Axes>"
            ]
          },
          "metadata": {
            "tags": [],
            "needs_background": "light"
          }
        }
      ]
    },
    {
      "cell_type": "code",
      "metadata": {
        "id": "1d9zGHEJvQs9"
      },
      "source": [
        "train,test = train_test_split(df,test_size=0.2,random_state=1)\r\n",
        "train,val = train_test_split(train,test_size=0.2,random_state=1)"
      ],
      "execution_count": null,
      "outputs": []
    },
    {
      "cell_type": "code",
      "metadata": {
        "colab": {
          "base_uri": "https://localhost:8080/",
          "height": 297
        },
        "id": "fJzdHSC21OML",
        "outputId": "a524d858-5205-436c-c8c7-99bfbbf989b2"
      },
      "source": [
        "train.describe()"
      ],
      "execution_count": null,
      "outputs": [
        {
          "output_type": "execute_result",
          "data": {
            "text/html": [
              "<div>\n",
              "<style scoped>\n",
              "    .dataframe tbody tr th:only-of-type {\n",
              "        vertical-align: middle;\n",
              "    }\n",
              "\n",
              "    .dataframe tbody tr th {\n",
              "        vertical-align: top;\n",
              "    }\n",
              "\n",
              "    .dataframe thead th {\n",
              "        text-align: right;\n",
              "    }\n",
              "</style>\n",
              "<table border=\"1\" class=\"dataframe\">\n",
              "  <thead>\n",
              "    <tr style=\"text-align: right;\">\n",
              "      <th></th>\n",
              "      <th>fixed acidity</th>\n",
              "      <th>volatile acidity</th>\n",
              "      <th>citric acid</th>\n",
              "      <th>residual sugar</th>\n",
              "      <th>chlorides</th>\n",
              "      <th>free sulfur dioxide</th>\n",
              "      <th>total sulfur dioxide</th>\n",
              "      <th>density</th>\n",
              "      <th>pH</th>\n",
              "      <th>sulphates</th>\n",
              "      <th>alcohol</th>\n",
              "      <th>quality</th>\n",
              "      <th>is_red</th>\n",
              "    </tr>\n",
              "  </thead>\n",
              "  <tbody>\n",
              "    <tr>\n",
              "      <th>count</th>\n",
              "      <td>3155.000000</td>\n",
              "      <td>3155.000000</td>\n",
              "      <td>3155.000000</td>\n",
              "      <td>3155.000000</td>\n",
              "      <td>3155.000000</td>\n",
              "      <td>3155.000000</td>\n",
              "      <td>3155.000000</td>\n",
              "      <td>3155.000000</td>\n",
              "      <td>3155.000000</td>\n",
              "      <td>3155.000000</td>\n",
              "      <td>3155.000000</td>\n",
              "      <td>3155.000000</td>\n",
              "      <td>3155.000000</td>\n",
              "    </tr>\n",
              "    <tr>\n",
              "      <th>mean</th>\n",
              "      <td>7.218558</td>\n",
              "      <td>0.339976</td>\n",
              "      <td>0.321062</td>\n",
              "      <td>5.128241</td>\n",
              "      <td>0.056971</td>\n",
              "      <td>30.413946</td>\n",
              "      <td>114.707132</td>\n",
              "      <td>0.994580</td>\n",
              "      <td>3.221300</td>\n",
              "      <td>0.536662</td>\n",
              "      <td>10.536750</td>\n",
              "      <td>5.817116</td>\n",
              "      <td>0.257052</td>\n",
              "    </tr>\n",
              "    <tr>\n",
              "      <th>std</th>\n",
              "      <td>1.298609</td>\n",
              "      <td>0.164326</td>\n",
              "      <td>0.148083</td>\n",
              "      <td>4.570110</td>\n",
              "      <td>0.037610</td>\n",
              "      <td>17.179817</td>\n",
              "      <td>56.189167</td>\n",
              "      <td>0.002988</td>\n",
              "      <td>0.158116</td>\n",
              "      <td>0.150296</td>\n",
              "      <td>1.173571</td>\n",
              "      <td>0.701361</td>\n",
              "      <td>0.437078</td>\n",
              "    </tr>\n",
              "    <tr>\n",
              "      <th>min</th>\n",
              "      <td>3.800000</td>\n",
              "      <td>0.080000</td>\n",
              "      <td>0.000000</td>\n",
              "      <td>0.600000</td>\n",
              "      <td>0.014000</td>\n",
              "      <td>1.000000</td>\n",
              "      <td>6.000000</td>\n",
              "      <td>0.987220</td>\n",
              "      <td>2.720000</td>\n",
              "      <td>0.220000</td>\n",
              "      <td>8.000000</td>\n",
              "      <td>5.000000</td>\n",
              "      <td>0.000000</td>\n",
              "    </tr>\n",
              "    <tr>\n",
              "      <th>25%</th>\n",
              "      <td>6.400000</td>\n",
              "      <td>0.230000</td>\n",
              "      <td>0.250000</td>\n",
              "      <td>1.800000</td>\n",
              "      <td>0.038000</td>\n",
              "      <td>17.000000</td>\n",
              "      <td>75.000000</td>\n",
              "      <td>0.992200</td>\n",
              "      <td>3.110000</td>\n",
              "      <td>0.440000</td>\n",
              "      <td>9.500000</td>\n",
              "      <td>5.000000</td>\n",
              "      <td>0.000000</td>\n",
              "    </tr>\n",
              "    <tr>\n",
              "      <th>50%</th>\n",
              "      <td>7.000000</td>\n",
              "      <td>0.290000</td>\n",
              "      <td>0.310000</td>\n",
              "      <td>2.800000</td>\n",
              "      <td>0.047000</td>\n",
              "      <td>29.000000</td>\n",
              "      <td>117.000000</td>\n",
              "      <td>0.994800</td>\n",
              "      <td>3.210000</td>\n",
              "      <td>0.510000</td>\n",
              "      <td>10.400000</td>\n",
              "      <td>6.000000</td>\n",
              "      <td>0.000000</td>\n",
              "    </tr>\n",
              "    <tr>\n",
              "      <th>75%</th>\n",
              "      <td>7.700000</td>\n",
              "      <td>0.410000</td>\n",
              "      <td>0.400000</td>\n",
              "      <td>7.700000</td>\n",
              "      <td>0.067000</td>\n",
              "      <td>41.000000</td>\n",
              "      <td>153.000000</td>\n",
              "      <td>0.996800</td>\n",
              "      <td>3.320000</td>\n",
              "      <td>0.600000</td>\n",
              "      <td>11.300000</td>\n",
              "      <td>6.000000</td>\n",
              "      <td>1.000000</td>\n",
              "    </tr>\n",
              "    <tr>\n",
              "      <th>max</th>\n",
              "      <td>15.600000</td>\n",
              "      <td>1.330000</td>\n",
              "      <td>1.660000</td>\n",
              "      <td>65.800000</td>\n",
              "      <td>0.611000</td>\n",
              "      <td>128.000000</td>\n",
              "      <td>344.000000</td>\n",
              "      <td>1.038980</td>\n",
              "      <td>3.900000</td>\n",
              "      <td>1.980000</td>\n",
              "      <td>14.200000</td>\n",
              "      <td>7.000000</td>\n",
              "      <td>1.000000</td>\n",
              "    </tr>\n",
              "  </tbody>\n",
              "</table>\n",
              "</div>"
            ],
            "text/plain": [
              "       fixed acidity  volatile acidity  ...      quality       is_red\n",
              "count    3155.000000       3155.000000  ...  3155.000000  3155.000000\n",
              "mean        7.218558          0.339976  ...     5.817116     0.257052\n",
              "std         1.298609          0.164326  ...     0.701361     0.437078\n",
              "min         3.800000          0.080000  ...     5.000000     0.000000\n",
              "25%         6.400000          0.230000  ...     5.000000     0.000000\n",
              "50%         7.000000          0.290000  ...     6.000000     0.000000\n",
              "75%         7.700000          0.410000  ...     6.000000     1.000000\n",
              "max        15.600000          1.330000  ...     7.000000     1.000000\n",
              "\n",
              "[8 rows x 13 columns]"
            ]
          },
          "metadata": {
            "tags": []
          },
          "execution_count": 62
        }
      ]
    },
    {
      "cell_type": "code",
      "metadata": {
        "id": "nrtU569u1ihq"
      },
      "source": [
        "train_stats = train.describe()\r\n",
        "train_stats.pop('is_red')\r\n",
        "train_stats.pop('quality')\r\n",
        "train_stats=train_stats.transpose()"
      ],
      "execution_count": null,
      "outputs": []
    },
    {
      "cell_type": "code",
      "metadata": {
        "id": "EYFKMsQt1y6S"
      },
      "source": [
        "def format_output(data):\r\n",
        "  is_red = data.pop('is_red')\r\n",
        "  is_red = np.array(is_red)\r\n",
        "  quality = data.pop('quality')\r\n",
        "  quality = np.array(quality)\r\n",
        "  return (is_red,quality)"
      ],
      "execution_count": null,
      "outputs": []
    },
    {
      "cell_type": "code",
      "metadata": {
        "id": "i_s3JhQl3p3V"
      },
      "source": [
        "train_y = format_output(train)\r\n",
        "test_y = format_output(test)\r\n",
        "val_y = format_output(val)"
      ],
      "execution_count": null,
      "outputs": []
    },
    {
      "cell_type": "code",
      "metadata": {
        "id": "bZYo5ZKQ4ZoS"
      },
      "source": [
        "def norm(x):\r\n",
        "  return (x-train_stats['mean'])/train_stats['std']"
      ],
      "execution_count": null,
      "outputs": []
    },
    {
      "cell_type": "code",
      "metadata": {
        "id": "a2f_K0o14nkb"
      },
      "source": [
        "norm_train_x = norm(train)\r\n",
        "norm_val_x = norm(val)\r\n",
        "norm_test_x = norm(test)"
      ],
      "execution_count": null,
      "outputs": []
    },
    {
      "cell_type": "code",
      "metadata": {
        "id": "C4VqlUg94x_9"
      },
      "source": [
        "def base_model(inputs):\r\n",
        "  x= Dense(128,activation=tf.nn.relu)(inputs)\r\n",
        "  x = Dense(128,activation = tf.nn.relu)(x)\r\n",
        "  return x\r\n",
        "  "
      ],
      "execution_count": null,
      "outputs": []
    },
    {
      "cell_type": "code",
      "metadata": {
        "id": "TWXG0hy87xKY"
      },
      "source": [
        "def final_model(inputs):\r\n",
        "  x= base_model(inputs)\r\n",
        "  wine_quality = Dense(units='1',name='wine_quality')(x)\r\n",
        "  wine_type= Dense(units='1',activation='sigmoid',name='wine_type')(x)\r\n",
        "  \r\n",
        "  model = Model(inputs=inputs,outputs=[wine_quality,wine_type])\r\n",
        "  return model"
      ],
      "execution_count": null,
      "outputs": []
    },
    {
      "cell_type": "code",
      "metadata": {
        "id": "pxQxg6Fz8VOF"
      },
      "source": [
        "\r\n",
        "inputs = tf.keras.layers.Input(shape=(11,))\r\n",
        "rms = tf.keras.optimizers.RMSprop(lr=0.0001)\r\n",
        "model = final_model(inputs)\r\n",
        "\r\n",
        "model.compile(optimizer=rms, \r\n",
        "              loss = {'wine_type' : 'binary_crossentropy',\r\n",
        "                      'wine_quality' : 'mse'\r\n",
        "                     },\r\n",
        "              metrics = {'wine_type' : 'accuracy',\r\n",
        "                         'wine_quality': tf.keras.metrics.RootMeanSquaredError()\r\n",
        "                       })"
      ],
      "execution_count": null,
      "outputs": []
    },
    {
      "cell_type": "code",
      "metadata": {
        "colab": {
          "base_uri": "https://localhost:8080/"
        },
        "id": "jhWfYI3H9Jw1",
        "outputId": "392127f9-9a8d-4085-a51a-1bf7e69b47d0"
      },
      "source": [
        "model.fit(norm_train_x,train_y,epochs=180,validation_data=(norm_val_x,val_y))"
      ],
      "execution_count": null,
      "outputs": [
        {
          "output_type": "stream",
          "text": [
            "Epoch 1/180\n",
            "99/99 [==============================] - 1s 4ms/step - loss: 0.6520 - wine_quality_loss: 0.3599 - wine_type_loss: 0.2921 - wine_quality_root_mean_squared_error: 0.5985 - wine_type_accuracy: 0.0000e+00 - val_loss: -5.9878 - val_wine_quality_loss: 0.1905 - val_wine_type_loss: -6.1783 - val_wine_quality_root_mean_squared_error: 0.4365 - val_wine_type_accuracy: 0.0000e+00\n",
            "Epoch 2/180\n",
            "99/99 [==============================] - 0s 2ms/step - loss: -8.3419 - wine_quality_loss: 0.1655 - wine_type_loss: -8.5074 - wine_quality_root_mean_squared_error: 0.4059 - wine_type_accuracy: 0.0000e+00 - val_loss: -15.3373 - val_wine_quality_loss: 0.1026 - val_wine_type_loss: -15.4400 - val_wine_quality_root_mean_squared_error: 0.3204 - val_wine_type_accuracy: 0.0000e+00\n",
            "Epoch 3/180\n",
            "99/99 [==============================] - 0s 2ms/step - loss: -17.9994 - wine_quality_loss: 0.0964 - wine_type_loss: -18.0958 - wine_quality_root_mean_squared_error: 0.3103 - wine_type_accuracy: 0.0000e+00 - val_loss: -27.0551 - val_wine_quality_loss: 0.0757 - val_wine_type_loss: -27.1308 - val_wine_quality_root_mean_squared_error: 0.2752 - val_wine_type_accuracy: 0.0000e+00\n",
            "Epoch 4/180\n",
            "99/99 [==============================] - 0s 2ms/step - loss: -30.7297 - wine_quality_loss: 0.0694 - wine_type_loss: -30.7991 - wine_quality_root_mean_squared_error: 0.2634 - wine_type_accuracy: 0.0000e+00 - val_loss: -41.9061 - val_wine_quality_loss: 0.0580 - val_wine_type_loss: -41.9641 - val_wine_quality_root_mean_squared_error: 0.2409 - val_wine_type_accuracy: 0.0000e+00\n",
            "Epoch 5/180\n",
            "99/99 [==============================] - 0s 2ms/step - loss: -46.9164 - wine_quality_loss: 0.0581 - wine_type_loss: -46.9745 - wine_quality_root_mean_squared_error: 0.2409 - wine_type_accuracy: 0.0000e+00 - val_loss: -60.4653 - val_wine_quality_loss: 0.0526 - val_wine_type_loss: -60.5179 - val_wine_quality_root_mean_squared_error: 0.2294 - val_wine_type_accuracy: 0.0000e+00\n",
            "Epoch 6/180\n",
            "99/99 [==============================] - 0s 2ms/step - loss: -65.7873 - wine_quality_loss: 0.0544 - wine_type_loss: -65.8417 - wine_quality_root_mean_squared_error: 0.2331 - wine_type_accuracy: 0.0000e+00 - val_loss: -83.0900 - val_wine_quality_loss: 0.0553 - val_wine_type_loss: -83.1453 - val_wine_quality_root_mean_squared_error: 0.2351 - val_wine_type_accuracy: 0.0000e+00\n",
            "Epoch 7/180\n",
            "99/99 [==============================] - 0s 2ms/step - loss: -89.4975 - wine_quality_loss: 0.0575 - wine_type_loss: -89.5550 - wine_quality_root_mean_squared_error: 0.2396 - wine_type_accuracy: 0.0000e+00 - val_loss: -110.3469 - val_wine_quality_loss: 0.0628 - val_wine_type_loss: -110.4097 - val_wine_quality_root_mean_squared_error: 0.2506 - val_wine_type_accuracy: 0.0000e+00\n",
            "Epoch 8/180\n",
            "99/99 [==============================] - 0s 2ms/step - loss: -118.2935 - wine_quality_loss: 0.0643 - wine_type_loss: -118.3578 - wine_quality_root_mean_squared_error: 0.2534 - wine_type_accuracy: 0.0000e+00 - val_loss: -142.5051 - val_wine_quality_loss: 0.0724 - val_wine_type_loss: -142.5775 - val_wine_quality_root_mean_squared_error: 0.2691 - val_wine_type_accuracy: 0.0000e+00\n",
            "Epoch 9/180\n",
            "99/99 [==============================] - 0s 2ms/step - loss: -150.9389 - wine_quality_loss: 0.0713 - wine_type_loss: -151.0102 - wine_quality_root_mean_squared_error: 0.2668 - wine_type_accuracy: 0.0000e+00 - val_loss: -180.3249 - val_wine_quality_loss: 0.0839 - val_wine_type_loss: -180.4088 - val_wine_quality_root_mean_squared_error: 0.2896 - val_wine_type_accuracy: 0.0000e+00\n",
            "Epoch 10/180\n",
            "99/99 [==============================] - 0s 2ms/step - loss: -189.4955 - wine_quality_loss: 0.0787 - wine_type_loss: -189.5741 - wine_quality_root_mean_squared_error: 0.2799 - wine_type_accuracy: 0.0000e+00 - val_loss: -223.8815 - val_wine_quality_loss: 0.0967 - val_wine_type_loss: -223.9782 - val_wine_quality_root_mean_squared_error: 0.3110 - val_wine_type_accuracy: 0.0000e+00\n",
            "Epoch 11/180\n",
            "99/99 [==============================] - 0s 2ms/step - loss: -237.5738 - wine_quality_loss: 0.0961 - wine_type_loss: -237.6699 - wine_quality_root_mean_squared_error: 0.3098 - wine_type_accuracy: 0.0000e+00 - val_loss: -274.0432 - val_wine_quality_loss: 0.1070 - val_wine_type_loss: -274.1502 - val_wine_quality_root_mean_squared_error: 0.3270 - val_wine_type_accuracy: 0.0000e+00\n",
            "Epoch 12/180\n",
            "99/99 [==============================] - 0s 2ms/step - loss: -288.1154 - wine_quality_loss: 0.1100 - wine_type_loss: -288.2253 - wine_quality_root_mean_squared_error: 0.3314 - wine_type_accuracy: 0.0000e+00 - val_loss: -330.9590 - val_wine_quality_loss: 0.1170 - val_wine_type_loss: -331.0760 - val_wine_quality_root_mean_squared_error: 0.3421 - val_wine_type_accuracy: 0.0000e+00\n",
            "Epoch 13/180\n",
            "99/99 [==============================] - 0s 2ms/step - loss: -343.6101 - wine_quality_loss: 0.1166 - wine_type_loss: -343.7267 - wine_quality_root_mean_squared_error: 0.3412 - wine_type_accuracy: 0.0000e+00 - val_loss: -395.4254 - val_wine_quality_loss: 0.1168 - val_wine_type_loss: -395.5422 - val_wine_quality_root_mean_squared_error: 0.3418 - val_wine_type_accuracy: 0.0000e+00\n",
            "Epoch 14/180\n",
            "99/99 [==============================] - 0s 2ms/step - loss: -413.2696 - wine_quality_loss: 0.1189 - wine_type_loss: -413.3886 - wine_quality_root_mean_squared_error: 0.3446 - wine_type_accuracy: 0.0000e+00 - val_loss: -467.7345 - val_wine_quality_loss: 0.1230 - val_wine_type_loss: -467.8575 - val_wine_quality_root_mean_squared_error: 0.3508 - val_wine_type_accuracy: 0.0000e+00\n",
            "Epoch 15/180\n",
            "99/99 [==============================] - 0s 2ms/step - loss: -480.9727 - wine_quality_loss: 0.1179 - wine_type_loss: -481.0906 - wine_quality_root_mean_squared_error: 0.3433 - wine_type_accuracy: 0.0000e+00 - val_loss: -548.2263 - val_wine_quality_loss: 0.1244 - val_wine_type_loss: -548.3506 - val_wine_quality_root_mean_squared_error: 0.3527 - val_wine_type_accuracy: 0.0000e+00\n",
            "Epoch 16/180\n",
            "99/99 [==============================] - 0s 2ms/step - loss: -569.0106 - wine_quality_loss: 0.1170 - wine_type_loss: -569.1276 - wine_quality_root_mean_squared_error: 0.3417 - wine_type_accuracy: 0.0000e+00 - val_loss: -637.5873 - val_wine_quality_loss: 0.1295 - val_wine_type_loss: -637.7169 - val_wine_quality_root_mean_squared_error: 0.3599 - val_wine_type_accuracy: 0.0000e+00\n",
            "Epoch 17/180\n",
            "99/99 [==============================] - 0s 2ms/step - loss: -653.8798 - wine_quality_loss: 0.1161 - wine_type_loss: -653.9957 - wine_quality_root_mean_squared_error: 0.3405 - wine_type_accuracy: 0.0000e+00 - val_loss: -736.3837 - val_wine_quality_loss: 0.1233 - val_wine_type_loss: -736.5069 - val_wine_quality_root_mean_squared_error: 0.3511 - val_wine_type_accuracy: 0.0000e+00\n",
            "Epoch 18/180\n",
            "99/99 [==============================] - 0s 2ms/step - loss: -755.2612 - wine_quality_loss: 0.1096 - wine_type_loss: -755.3708 - wine_quality_root_mean_squared_error: 0.3308 - wine_type_accuracy: 0.0000e+00 - val_loss: -844.2531 - val_wine_quality_loss: 0.1232 - val_wine_type_loss: -844.3763 - val_wine_quality_root_mean_squared_error: 0.3510 - val_wine_type_accuracy: 0.0000e+00\n",
            "Epoch 19/180\n",
            "99/99 [==============================] - 0s 2ms/step - loss: -873.1684 - wine_quality_loss: 0.1232 - wine_type_loss: -873.2916 - wine_quality_root_mean_squared_error: 0.3509 - wine_type_accuracy: 0.0000e+00 - val_loss: -962.2155 - val_wine_quality_loss: 0.1252 - val_wine_type_loss: -962.3406 - val_wine_quality_root_mean_squared_error: 0.3538 - val_wine_type_accuracy: 0.0000e+00\n",
            "Epoch 20/180\n",
            "99/99 [==============================] - 0s 2ms/step - loss: -994.6512 - wine_quality_loss: 0.1250 - wine_type_loss: -994.7764 - wine_quality_root_mean_squared_error: 0.3534 - wine_type_accuracy: 0.0000e+00 - val_loss: -1090.5531 - val_wine_quality_loss: 0.1274 - val_wine_type_loss: -1090.6803 - val_wine_quality_root_mean_squared_error: 0.3570 - val_wine_type_accuracy: 0.0000e+00\n",
            "Epoch 21/180\n",
            "99/99 [==============================] - 0s 2ms/step - loss: -1114.4055 - wine_quality_loss: 0.1276 - wine_type_loss: -1114.5333 - wine_quality_root_mean_squared_error: 0.3572 - wine_type_accuracy: 0.0000e+00 - val_loss: -1230.3690 - val_wine_quality_loss: 0.1322 - val_wine_type_loss: -1230.5012 - val_wine_quality_root_mean_squared_error: 0.3636 - val_wine_type_accuracy: 0.0000e+00\n",
            "Epoch 22/180\n",
            "99/99 [==============================] - 0s 2ms/step - loss: -1268.7963 - wine_quality_loss: 0.1311 - wine_type_loss: -1268.9275 - wine_quality_root_mean_squared_error: 0.3619 - wine_type_accuracy: 0.0000e+00 - val_loss: -1381.5863 - val_wine_quality_loss: 0.1734 - val_wine_type_loss: -1381.7595 - val_wine_quality_root_mean_squared_error: 0.4164 - val_wine_type_accuracy: 0.0000e+00\n",
            "Epoch 23/180\n",
            "99/99 [==============================] - 0s 2ms/step - loss: -1416.8145 - wine_quality_loss: 0.1386 - wine_type_loss: -1416.9533 - wine_quality_root_mean_squared_error: 0.3722 - wine_type_accuracy: 0.0000e+00 - val_loss: -1545.4032 - val_wine_quality_loss: 0.1389 - val_wine_type_loss: -1545.5424 - val_wine_quality_root_mean_squared_error: 0.3727 - val_wine_type_accuracy: 0.0000e+00\n",
            "Epoch 24/180\n",
            "99/99 [==============================] - 0s 2ms/step - loss: -1577.1038 - wine_quality_loss: 0.1337 - wine_type_loss: -1577.2378 - wine_quality_root_mean_squared_error: 0.3656 - wine_type_accuracy: 0.0000e+00 - val_loss: -1720.7036 - val_wine_quality_loss: 0.1474 - val_wine_type_loss: -1720.8512 - val_wine_quality_root_mean_squared_error: 0.3840 - val_wine_type_accuracy: 0.0000e+00\n",
            "Epoch 25/180\n",
            "99/99 [==============================] - 0s 2ms/step - loss: -1761.2917 - wine_quality_loss: 0.1444 - wine_type_loss: -1761.4361 - wine_quality_root_mean_squared_error: 0.3799 - wine_type_accuracy: 0.0000e+00 - val_loss: -1908.6897 - val_wine_quality_loss: 0.1395 - val_wine_type_loss: -1908.8291 - val_wine_quality_root_mean_squared_error: 0.3734 - val_wine_type_accuracy: 0.0000e+00\n",
            "Epoch 26/180\n",
            "99/99 [==============================] - 0s 2ms/step - loss: -1931.6541 - wine_quality_loss: 0.1391 - wine_type_loss: -1931.7927 - wine_quality_root_mean_squared_error: 0.3728 - wine_type_accuracy: 0.0000e+00 - val_loss: -2110.8713 - val_wine_quality_loss: 0.1491 - val_wine_type_loss: -2111.0205 - val_wine_quality_root_mean_squared_error: 0.3861 - val_wine_type_accuracy: 0.0000e+00\n",
            "Epoch 27/180\n",
            "99/99 [==============================] - 0s 2ms/step - loss: -2161.6196 - wine_quality_loss: 0.1493 - wine_type_loss: -2161.7685 - wine_quality_root_mean_squared_error: 0.3863 - wine_type_accuracy: 0.0000e+00 - val_loss: -2325.9875 - val_wine_quality_loss: 0.1470 - val_wine_type_loss: -2326.1343 - val_wine_quality_root_mean_squared_error: 0.3834 - val_wine_type_accuracy: 0.0000e+00\n",
            "Epoch 28/180\n",
            "99/99 [==============================] - 0s 2ms/step - loss: -2379.6375 - wine_quality_loss: 0.1600 - wine_type_loss: -2379.7973 - wine_quality_root_mean_squared_error: 0.3995 - wine_type_accuracy: 0.0000e+00 - val_loss: -2554.9409 - val_wine_quality_loss: 0.2463 - val_wine_type_loss: -2555.1873 - val_wine_quality_root_mean_squared_error: 0.4963 - val_wine_type_accuracy: 0.0000e+00\n",
            "Epoch 29/180\n",
            "99/99 [==============================] - 0s 2ms/step - loss: -2619.3333 - wine_quality_loss: 0.1644 - wine_type_loss: -2619.4978 - wine_quality_root_mean_squared_error: 0.4054 - wine_type_accuracy: 0.0000e+00 - val_loss: -2798.8918 - val_wine_quality_loss: 0.1546 - val_wine_type_loss: -2799.0461 - val_wine_quality_root_mean_squared_error: 0.3932 - val_wine_type_accuracy: 0.0000e+00\n",
            "Epoch 30/180\n",
            "99/99 [==============================] - 0s 2ms/step - loss: -2842.9553 - wine_quality_loss: 0.1551 - wine_type_loss: -2843.1105 - wine_quality_root_mean_squared_error: 0.3936 - wine_type_accuracy: 0.0000e+00 - val_loss: -3059.0432 - val_wine_quality_loss: 0.2675 - val_wine_type_loss: -3059.3108 - val_wine_quality_root_mean_squared_error: 0.5172 - val_wine_type_accuracy: 0.0000e+00\n",
            "Epoch 31/180\n",
            "99/99 [==============================] - 0s 2ms/step - loss: -3081.6178 - wine_quality_loss: 0.1587 - wine_type_loss: -3081.7768 - wine_quality_root_mean_squared_error: 0.3982 - wine_type_accuracy: 0.0000e+00 - val_loss: -3334.6255 - val_wine_quality_loss: 0.1628 - val_wine_type_loss: -3334.7886 - val_wine_quality_root_mean_squared_error: 0.4035 - val_wine_type_accuracy: 0.0000e+00\n",
            "Epoch 32/180\n",
            "99/99 [==============================] - 0s 2ms/step - loss: -3378.8034 - wine_quality_loss: 0.1479 - wine_type_loss: -3378.9516 - wine_quality_root_mean_squared_error: 0.3842 - wine_type_accuracy: 0.0000e+00 - val_loss: -3626.1309 - val_wine_quality_loss: 0.1655 - val_wine_type_loss: -3626.2969 - val_wine_quality_root_mean_squared_error: 0.4068 - val_wine_type_accuracy: 0.0000e+00\n",
            "Epoch 33/180\n",
            "99/99 [==============================] - 0s 2ms/step - loss: -3698.3703 - wine_quality_loss: 0.1838 - wine_type_loss: -3698.5546 - wine_quality_root_mean_squared_error: 0.4281 - wine_type_accuracy: 0.0000e+00 - val_loss: -3933.8201 - val_wine_quality_loss: 0.1770 - val_wine_type_loss: -3933.9968 - val_wine_quality_root_mean_squared_error: 0.4207 - val_wine_type_accuracy: 0.0000e+00\n",
            "Epoch 34/180\n",
            "99/99 [==============================] - 0s 3ms/step - loss: -4033.8324 - wine_quality_loss: 0.1813 - wine_type_loss: -4034.0137 - wine_quality_root_mean_squared_error: 0.4257 - wine_type_accuracy: 0.0000e+00 - val_loss: -4259.0088 - val_wine_quality_loss: 0.1649 - val_wine_type_loss: -4259.1743 - val_wine_quality_root_mean_squared_error: 0.4061 - val_wine_type_accuracy: 0.0000e+00\n",
            "Epoch 35/180\n",
            "99/99 [==============================] - 0s 2ms/step - loss: -4361.6745 - wine_quality_loss: 0.1790 - wine_type_loss: -4361.8539 - wine_quality_root_mean_squared_error: 0.4230 - wine_type_accuracy: 0.0000e+00 - val_loss: -4602.7422 - val_wine_quality_loss: 0.1918 - val_wine_type_loss: -4602.9336 - val_wine_quality_root_mean_squared_error: 0.4379 - val_wine_type_accuracy: 0.0000e+00\n",
            "Epoch 36/180\n",
            "99/99 [==============================] - 0s 2ms/step - loss: -4613.1421 - wine_quality_loss: 0.1785 - wine_type_loss: -4613.3210 - wine_quality_root_mean_squared_error: 0.4222 - wine_type_accuracy: 0.0000e+00 - val_loss: -4964.2695 - val_wine_quality_loss: 0.1762 - val_wine_type_loss: -4964.4463 - val_wine_quality_root_mean_squared_error: 0.4198 - val_wine_type_accuracy: 0.0000e+00\n",
            "Epoch 37/180\n",
            "99/99 [==============================] - 0s 2ms/step - loss: -4976.0372 - wine_quality_loss: 0.1910 - wine_type_loss: -4976.2288 - wine_quality_root_mean_squared_error: 0.4368 - wine_type_accuracy: 0.0000e+00 - val_loss: -5344.2822 - val_wine_quality_loss: 0.1849 - val_wine_type_loss: -5344.4678 - val_wine_quality_root_mean_squared_error: 0.4300 - val_wine_type_accuracy: 0.0000e+00\n",
            "Epoch 38/180\n",
            "99/99 [==============================] - 0s 2ms/step - loss: -5424.9530 - wine_quality_loss: 0.1951 - wine_type_loss: -5425.1477 - wine_quality_root_mean_squared_error: 0.4412 - wine_type_accuracy: 0.0000e+00 - val_loss: -5741.7964 - val_wine_quality_loss: 0.1874 - val_wine_type_loss: -5741.9844 - val_wine_quality_root_mean_squared_error: 0.4329 - val_wine_type_accuracy: 0.0000e+00\n",
            "Epoch 39/180\n",
            "99/99 [==============================] - 0s 2ms/step - loss: -5824.9042 - wine_quality_loss: 0.2163 - wine_type_loss: -5825.1201 - wine_quality_root_mean_squared_error: 0.4646 - wine_type_accuracy: 0.0000e+00 - val_loss: -6158.2153 - val_wine_quality_loss: 0.1932 - val_wine_type_loss: -6158.4087 - val_wine_quality_root_mean_squared_error: 0.4395 - val_wine_type_accuracy: 0.0000e+00\n",
            "Epoch 40/180\n",
            "99/99 [==============================] - 0s 3ms/step - loss: -6295.6885 - wine_quality_loss: 0.2194 - wine_type_loss: -6295.9091 - wine_quality_root_mean_squared_error: 0.4682 - wine_type_accuracy: 0.0000e+00 - val_loss: -6593.7290 - val_wine_quality_loss: 0.2065 - val_wine_type_loss: -6593.9355 - val_wine_quality_root_mean_squared_error: 0.4544 - val_wine_type_accuracy: 0.0000e+00\n",
            "Epoch 41/180\n",
            "99/99 [==============================] - 0s 2ms/step - loss: -6711.0270 - wine_quality_loss: 0.2059 - wine_type_loss: -6711.2335 - wine_quality_root_mean_squared_error: 0.4537 - wine_type_accuracy: 0.0000e+00 - val_loss: -7050.2412 - val_wine_quality_loss: 0.2279 - val_wine_type_loss: -7050.4688 - val_wine_quality_root_mean_squared_error: 0.4774 - val_wine_type_accuracy: 0.0000e+00\n",
            "Epoch 42/180\n",
            "99/99 [==============================] - 0s 2ms/step - loss: -7014.6548 - wine_quality_loss: 0.2140 - wine_type_loss: -7014.8684 - wine_quality_root_mean_squared_error: 0.4623 - wine_type_accuracy: 0.0000e+00 - val_loss: -7531.1895 - val_wine_quality_loss: 0.3057 - val_wine_type_loss: -7531.4956 - val_wine_quality_root_mean_squared_error: 0.5529 - val_wine_type_accuracy: 0.0000e+00\n",
            "Epoch 43/180\n",
            "99/99 [==============================] - 0s 3ms/step - loss: -7560.2567 - wine_quality_loss: 0.2123 - wine_type_loss: -7560.4689 - wine_quality_root_mean_squared_error: 0.4601 - wine_type_accuracy: 0.0000e+00 - val_loss: -8029.1826 - val_wine_quality_loss: 0.5605 - val_wine_type_loss: -8029.7432 - val_wine_quality_root_mean_squared_error: 0.7486 - val_wine_type_accuracy: 0.0000e+00\n",
            "Epoch 44/180\n",
            "99/99 [==============================] - 0s 3ms/step - loss: -8215.7140 - wine_quality_loss: 0.2360 - wine_type_loss: -8215.9505 - wine_quality_root_mean_squared_error: 0.4848 - wine_type_accuracy: 0.0000e+00 - val_loss: -8549.1533 - val_wine_quality_loss: 0.2086 - val_wine_type_loss: -8549.3633 - val_wine_quality_root_mean_squared_error: 0.4567 - val_wine_type_accuracy: 0.0000e+00\n",
            "Epoch 45/180\n",
            "99/99 [==============================] - 0s 2ms/step - loss: -8678.0240 - wine_quality_loss: 0.2287 - wine_type_loss: -8678.2519 - wine_quality_root_mean_squared_error: 0.4781 - wine_type_accuracy: 0.0000e+00 - val_loss: -9091.2881 - val_wine_quality_loss: 0.2060 - val_wine_type_loss: -9091.4951 - val_wine_quality_root_mean_squared_error: 0.4539 - val_wine_type_accuracy: 0.0000e+00\n",
            "Epoch 46/180\n",
            "99/99 [==============================] - 0s 3ms/step - loss: -9187.3025 - wine_quality_loss: 0.2391 - wine_type_loss: -9187.5419 - wine_quality_root_mean_squared_error: 0.4887 - wine_type_accuracy: 0.0000e+00 - val_loss: -9657.0342 - val_wine_quality_loss: 0.3140 - val_wine_type_loss: -9657.3467 - val_wine_quality_root_mean_squared_error: 0.5604 - val_wine_type_accuracy: 0.0000e+00\n",
            "Epoch 47/180\n",
            "99/99 [==============================] - 0s 3ms/step - loss: -9736.8630 - wine_quality_loss: 0.2489 - wine_type_loss: -9737.1117 - wine_quality_root_mean_squared_error: 0.4977 - wine_type_accuracy: 0.0000e+00 - val_loss: -10246.7646 - val_wine_quality_loss: 0.2156 - val_wine_type_loss: -10246.9795 - val_wine_quality_root_mean_squared_error: 0.4644 - val_wine_type_accuracy: 0.0000e+00\n",
            "Epoch 48/180\n",
            "99/99 [==============================] - 0s 3ms/step - loss: -10355.5667 - wine_quality_loss: 0.2533 - wine_type_loss: -10355.8190 - wine_quality_root_mean_squared_error: 0.5031 - wine_type_accuracy: 0.0000e+00 - val_loss: -10858.9531 - val_wine_quality_loss: 0.2483 - val_wine_type_loss: -10859.2012 - val_wine_quality_root_mean_squared_error: 0.4983 - val_wine_type_accuracy: 0.0000e+00\n",
            "Epoch 49/180\n",
            "99/99 [==============================] - 0s 3ms/step - loss: -11032.1020 - wine_quality_loss: 0.2574 - wine_type_loss: -11032.3583 - wine_quality_root_mean_squared_error: 0.5071 - wine_type_accuracy: 0.0000e+00 - val_loss: -11497.4453 - val_wine_quality_loss: 0.2544 - val_wine_type_loss: -11497.6992 - val_wine_quality_root_mean_squared_error: 0.5043 - val_wine_type_accuracy: 0.0000e+00\n",
            "Epoch 50/180\n",
            "99/99 [==============================] - 0s 2ms/step - loss: -11678.5152 - wine_quality_loss: 0.2843 - wine_type_loss: -11678.7977 - wine_quality_root_mean_squared_error: 0.5330 - wine_type_accuracy: 0.0000e+00 - val_loss: -12153.4180 - val_wine_quality_loss: 0.2526 - val_wine_type_loss: -12153.6719 - val_wine_quality_root_mean_squared_error: 0.5026 - val_wine_type_accuracy: 0.0000e+00\n",
            "Epoch 51/180\n",
            "99/99 [==============================] - 0s 3ms/step - loss: -12277.7877 - wine_quality_loss: 0.2799 - wine_type_loss: -12278.0679 - wine_quality_root_mean_squared_error: 0.5288 - wine_type_accuracy: 0.0000e+00 - val_loss: -12839.6240 - val_wine_quality_loss: 0.3515 - val_wine_type_loss: -12839.9756 - val_wine_quality_root_mean_squared_error: 0.5929 - val_wine_type_accuracy: 0.0000e+00\n",
            "Epoch 52/180\n",
            "99/99 [==============================] - 0s 3ms/step - loss: -12927.3812 - wine_quality_loss: 0.2910 - wine_type_loss: -12927.6705 - wine_quality_root_mean_squared_error: 0.5393 - wine_type_accuracy: 0.0000e+00 - val_loss: -13549.8691 - val_wine_quality_loss: 0.3440 - val_wine_type_loss: -13550.2129 - val_wine_quality_root_mean_squared_error: 0.5865 - val_wine_type_accuracy: 0.0000e+00\n",
            "Epoch 53/180\n",
            "99/99 [==============================] - 0s 3ms/step - loss: -13688.5197 - wine_quality_loss: 0.2956 - wine_type_loss: -13688.8162 - wine_quality_root_mean_squared_error: 0.5434 - wine_type_accuracy: 0.0000e+00 - val_loss: -14287.7666 - val_wine_quality_loss: 0.3466 - val_wine_type_loss: -14288.1143 - val_wine_quality_root_mean_squared_error: 0.5887 - val_wine_type_accuracy: 0.0000e+00\n",
            "Epoch 54/180\n",
            "99/99 [==============================] - 0s 3ms/step - loss: -14480.0576 - wine_quality_loss: 0.3111 - wine_type_loss: -14480.3697 - wine_quality_root_mean_squared_error: 0.5574 - wine_type_accuracy: 0.0000e+00 - val_loss: -15051.6299 - val_wine_quality_loss: 0.2598 - val_wine_type_loss: -15051.8887 - val_wine_quality_root_mean_squared_error: 0.5097 - val_wine_type_accuracy: 0.0000e+00\n",
            "Epoch 55/180\n",
            "99/99 [==============================] - 0s 3ms/step - loss: -15039.0335 - wine_quality_loss: 0.3156 - wine_type_loss: -15039.3481 - wine_quality_root_mean_squared_error: 0.5615 - wine_type_accuracy: 0.0000e+00 - val_loss: -15841.8721 - val_wine_quality_loss: 0.2811 - val_wine_type_loss: -15842.1533 - val_wine_quality_root_mean_squared_error: 0.5302 - val_wine_type_accuracy: 0.0000e+00\n",
            "Epoch 56/180\n",
            "99/99 [==============================] - 0s 3ms/step - loss: -16098.8456 - wine_quality_loss: 0.3484 - wine_type_loss: -16099.1966 - wine_quality_root_mean_squared_error: 0.5892 - wine_type_accuracy: 0.0000e+00 - val_loss: -16659.0820 - val_wine_quality_loss: 0.2829 - val_wine_type_loss: -16659.3672 - val_wine_quality_root_mean_squared_error: 0.5319 - val_wine_type_accuracy: 0.0000e+00\n",
            "Epoch 57/180\n",
            "99/99 [==============================] - 0s 2ms/step - loss: -16763.1932 - wine_quality_loss: 0.3703 - wine_type_loss: -16763.5653 - wine_quality_root_mean_squared_error: 0.6080 - wine_type_accuracy: 0.0000e+00 - val_loss: -17504.7988 - val_wine_quality_loss: 0.5841 - val_wine_type_loss: -17505.3848 - val_wine_quality_root_mean_squared_error: 0.7642 - val_wine_type_accuracy: 0.0000e+00\n",
            "Epoch 58/180\n",
            "99/99 [==============================] - 0s 2ms/step - loss: -17632.7535 - wine_quality_loss: 0.3424 - wine_type_loss: -17633.0969 - wine_quality_root_mean_squared_error: 0.5848 - wine_type_accuracy: 0.0000e+00 - val_loss: -18379.1250 - val_wine_quality_loss: 0.3771 - val_wine_type_loss: -18379.5039 - val_wine_quality_root_mean_squared_error: 0.6141 - val_wine_type_accuracy: 0.0000e+00\n",
            "Epoch 59/180\n",
            "99/99 [==============================] - 0s 3ms/step - loss: -18590.2758 - wine_quality_loss: 0.3362 - wine_type_loss: -18590.6114 - wine_quality_root_mean_squared_error: 0.5796 - wine_type_accuracy: 0.0000e+00 - val_loss: -19282.9121 - val_wine_quality_loss: 0.3005 - val_wine_type_loss: -19283.2148 - val_wine_quality_root_mean_squared_error: 0.5482 - val_wine_type_accuracy: 0.0000e+00\n",
            "Epoch 60/180\n",
            "99/99 [==============================] - 0s 3ms/step - loss: -19240.0347 - wine_quality_loss: 0.3499 - wine_type_loss: -19240.3840 - wine_quality_root_mean_squared_error: 0.5911 - wine_type_accuracy: 0.0000e+00 - val_loss: -20212.6875 - val_wine_quality_loss: 0.4024 - val_wine_type_loss: -20213.0898 - val_wine_quality_root_mean_squared_error: 0.6343 - val_wine_type_accuracy: 0.0000e+00\n",
            "Epoch 61/180\n",
            "99/99 [==============================] - 0s 3ms/step - loss: -20389.3569 - wine_quality_loss: 0.3929 - wine_type_loss: -20389.7494 - wine_quality_root_mean_squared_error: 0.6264 - wine_type_accuracy: 0.0000e+00 - val_loss: -21175.1680 - val_wine_quality_loss: 0.5592 - val_wine_type_loss: -21175.7266 - val_wine_quality_root_mean_squared_error: 0.7478 - val_wine_type_accuracy: 0.0000e+00\n",
            "Epoch 62/180\n",
            "99/99 [==============================] - 0s 3ms/step - loss: -21210.9222 - wine_quality_loss: 0.3853 - wine_type_loss: -21211.3102 - wine_quality_root_mean_squared_error: 0.6202 - wine_type_accuracy: 0.0000e+00 - val_loss: -22162.2402 - val_wine_quality_loss: 0.6009 - val_wine_type_loss: -22162.8418 - val_wine_quality_root_mean_squared_error: 0.7752 - val_wine_type_accuracy: 0.0000e+00\n",
            "Epoch 63/180\n",
            "99/99 [==============================] - 0s 3ms/step - loss: -22196.3754 - wine_quality_loss: 0.4045 - wine_type_loss: -22196.7770 - wine_quality_root_mean_squared_error: 0.6355 - wine_type_accuracy: 0.0000e+00 - val_loss: -23188.5938 - val_wine_quality_loss: 0.4734 - val_wine_type_loss: -23189.0625 - val_wine_quality_root_mean_squared_error: 0.6880 - val_wine_type_accuracy: 0.0000e+00\n",
            "Epoch 64/180\n",
            "99/99 [==============================] - 0s 3ms/step - loss: -23331.1981 - wine_quality_loss: 0.4313 - wine_type_loss: -23331.6297 - wine_quality_root_mean_squared_error: 0.6559 - wine_type_accuracy: 0.0000e+00 - val_loss: -24243.1934 - val_wine_quality_loss: 0.5901 - val_wine_type_loss: -24243.7793 - val_wine_quality_root_mean_squared_error: 0.7682 - val_wine_type_accuracy: 0.0000e+00\n",
            "Epoch 65/180\n",
            "99/99 [==============================] - 0s 3ms/step - loss: -24202.7214 - wine_quality_loss: 0.4502 - wine_type_loss: -24203.1698 - wine_quality_root_mean_squared_error: 0.6706 - wine_type_accuracy: 0.0000e+00 - val_loss: -25328.6191 - val_wine_quality_loss: 0.3898 - val_wine_type_loss: -25329.0059 - val_wine_quality_root_mean_squared_error: 0.6244 - val_wine_type_accuracy: 0.0000e+00\n",
            "Epoch 66/180\n",
            "99/99 [==============================] - 0s 2ms/step - loss: -25550.9632 - wine_quality_loss: 0.4616 - wine_type_loss: -25551.4293 - wine_quality_root_mean_squared_error: 0.6786 - wine_type_accuracy: 0.0000e+00 - val_loss: -26444.0488 - val_wine_quality_loss: 0.6504 - val_wine_type_loss: -26444.7031 - val_wine_quality_root_mean_squared_error: 0.8065 - val_wine_type_accuracy: 0.0000e+00\n",
            "Epoch 67/180\n",
            "99/99 [==============================] - 0s 3ms/step - loss: -26554.8443 - wine_quality_loss: 0.4273 - wine_type_loss: -26555.2744 - wine_quality_root_mean_squared_error: 0.6528 - wine_type_accuracy: 0.0000e+00 - val_loss: -27596.9414 - val_wine_quality_loss: 0.3326 - val_wine_type_loss: -27597.2754 - val_wine_quality_root_mean_squared_error: 0.5767 - val_wine_type_accuracy: 0.0000e+00\n",
            "Epoch 68/180\n",
            "99/99 [==============================] - 0s 2ms/step - loss: -27765.8512 - wine_quality_loss: 0.4393 - wine_type_loss: -27766.2918 - wine_quality_root_mean_squared_error: 0.6624 - wine_type_accuracy: 0.0000e+00 - val_loss: -28776.7051 - val_wine_quality_loss: 0.4075 - val_wine_type_loss: -28777.1094 - val_wine_quality_root_mean_squared_error: 0.6384 - val_wine_type_accuracy: 0.0000e+00\n",
            "Epoch 69/180\n",
            "99/99 [==============================] - 0s 2ms/step - loss: -28756.7486 - wine_quality_loss: 0.4805 - wine_type_loss: -28757.2341 - wine_quality_root_mean_squared_error: 0.6914 - wine_type_accuracy: 0.0000e+00 - val_loss: -29997.1973 - val_wine_quality_loss: 0.4559 - val_wine_type_loss: -29997.6523 - val_wine_quality_root_mean_squared_error: 0.6752 - val_wine_type_accuracy: 0.0000e+00\n",
            "Epoch 70/180\n",
            "99/99 [==============================] - 0s 3ms/step - loss: -30628.1335 - wine_quality_loss: 0.5482 - wine_type_loss: -30628.6779 - wine_quality_root_mean_squared_error: 0.7398 - wine_type_accuracy: 0.0000e+00 - val_loss: -31238.8223 - val_wine_quality_loss: 0.4921 - val_wine_type_loss: -31239.3125 - val_wine_quality_root_mean_squared_error: 0.7015 - val_wine_type_accuracy: 0.0000e+00\n",
            "Epoch 71/180\n",
            "99/99 [==============================] - 0s 2ms/step - loss: -31266.2822 - wine_quality_loss: 0.5343 - wine_type_loss: -31266.8153 - wine_quality_root_mean_squared_error: 0.7305 - wine_type_accuracy: 0.0000e+00 - val_loss: -32528.5586 - val_wine_quality_loss: 0.3711 - val_wine_type_loss: -32528.9297 - val_wine_quality_root_mean_squared_error: 0.6092 - val_wine_type_accuracy: 0.0000e+00\n",
            "Epoch 72/180\n",
            "99/99 [==============================] - 0s 3ms/step - loss: -32909.2079 - wine_quality_loss: 0.5503 - wine_type_loss: -32909.7575 - wine_quality_root_mean_squared_error: 0.7412 - wine_type_accuracy: 0.0000e+00 - val_loss: -33843.6953 - val_wine_quality_loss: 0.4500 - val_wine_type_loss: -33844.1445 - val_wine_quality_root_mean_squared_error: 0.6708 - val_wine_type_accuracy: 0.0000e+00\n",
            "Epoch 73/180\n",
            "99/99 [==============================] - 0s 2ms/step - loss: -33943.0183 - wine_quality_loss: 0.5569 - wine_type_loss: -33943.5727 - wine_quality_root_mean_squared_error: 0.7456 - wine_type_accuracy: 0.0000e+00 - val_loss: -35197.5820 - val_wine_quality_loss: 0.4431 - val_wine_type_loss: -35198.0234 - val_wine_quality_root_mean_squared_error: 0.6656 - val_wine_type_accuracy: 0.0000e+00\n",
            "Epoch 74/180\n",
            "99/99 [==============================] - 0s 3ms/step - loss: -35444.8002 - wine_quality_loss: 0.5723 - wine_type_loss: -35445.3711 - wine_quality_root_mean_squared_error: 0.7550 - wine_type_accuracy: 0.0000e+00 - val_loss: -36588.1133 - val_wine_quality_loss: 1.3023 - val_wine_type_loss: -36589.4141 - val_wine_quality_root_mean_squared_error: 1.1412 - val_wine_type_accuracy: 0.0000e+00\n",
            "Epoch 75/180\n",
            "99/99 [==============================] - 0s 2ms/step - loss: -36806.0595 - wine_quality_loss: 0.6575 - wine_type_loss: -36806.7125 - wine_quality_root_mean_squared_error: 0.8092 - wine_type_accuracy: 0.0000e+00 - val_loss: -38019.0508 - val_wine_quality_loss: 0.3974 - val_wine_type_loss: -38019.4453 - val_wine_quality_root_mean_squared_error: 0.6304 - val_wine_type_accuracy: 0.0000e+00\n",
            "Epoch 76/180\n",
            "99/99 [==============================] - 0s 2ms/step - loss: -38010.5038 - wine_quality_loss: 0.5693 - wine_type_loss: -38011.0629 - wine_quality_root_mean_squared_error: 0.7529 - wine_type_accuracy: 0.0000e+00 - val_loss: -39479.7383 - val_wine_quality_loss: 0.4037 - val_wine_type_loss: -39480.1367 - val_wine_quality_root_mean_squared_error: 0.6353 - val_wine_type_accuracy: 0.0000e+00\n",
            "Epoch 77/180\n",
            "99/99 [==============================] - 0s 3ms/step - loss: -39189.9109 - wine_quality_loss: 0.6293 - wine_type_loss: -39190.5372 - wine_quality_root_mean_squared_error: 0.7920 - wine_type_accuracy: 0.0000e+00 - val_loss: -40984.7188 - val_wine_quality_loss: 0.4393 - val_wine_type_loss: -40985.1562 - val_wine_quality_root_mean_squared_error: 0.6628 - val_wine_type_accuracy: 0.0000e+00\n",
            "Epoch 78/180\n",
            "99/99 [==============================] - 0s 3ms/step - loss: -41614.0148 - wine_quality_loss: 0.6119 - wine_type_loss: -41614.6308 - wine_quality_root_mean_squared_error: 0.7805 - wine_type_accuracy: 0.0000e+00 - val_loss: -42517.4531 - val_wine_quality_loss: 0.4823 - val_wine_type_loss: -42517.9297 - val_wine_quality_root_mean_squared_error: 0.6945 - val_wine_type_accuracy: 0.0000e+00\n",
            "Epoch 79/180\n",
            "99/99 [==============================] - 0s 2ms/step - loss: -42351.2395 - wine_quality_loss: 0.6867 - wine_type_loss: -42351.9270 - wine_quality_root_mean_squared_error: 0.8280 - wine_type_accuracy: 0.0000e+00 - val_loss: -44092.3281 - val_wine_quality_loss: 0.4217 - val_wine_type_loss: -44092.7500 - val_wine_quality_root_mean_squared_error: 0.6493 - val_wine_type_accuracy: 0.0000e+00\n",
            "Epoch 80/180\n",
            "99/99 [==============================] - 0s 2ms/step - loss: -44032.5559 - wine_quality_loss: 0.6631 - wine_type_loss: -44033.2184 - wine_quality_root_mean_squared_error: 0.8124 - wine_type_accuracy: 0.0000e+00 - val_loss: -45704.1406 - val_wine_quality_loss: 0.5088 - val_wine_type_loss: -45704.6523 - val_wine_quality_root_mean_squared_error: 0.7133 - val_wine_type_accuracy: 0.0000e+00\n",
            "Epoch 81/180\n",
            "99/99 [==============================] - 0s 4ms/step - loss: -46169.8732 - wine_quality_loss: 0.7823 - wine_type_loss: -46170.6522 - wine_quality_root_mean_squared_error: 0.8829 - wine_type_accuracy: 0.0000e+00 - val_loss: -47351.8516 - val_wine_quality_loss: 0.6510 - val_wine_type_loss: -47352.5117 - val_wine_quality_root_mean_squared_error: 0.8069 - val_wine_type_accuracy: 0.0000e+00\n",
            "Epoch 82/180\n",
            "99/99 [==============================] - 0s 2ms/step - loss: -47715.3485 - wine_quality_loss: 0.8276 - wine_type_loss: -47716.1817 - wine_quality_root_mean_squared_error: 0.9080 - wine_type_accuracy: 0.0000e+00 - val_loss: -49041.5352 - val_wine_quality_loss: 0.9354 - val_wine_type_loss: -49042.4805 - val_wine_quality_root_mean_squared_error: 0.9671 - val_wine_type_accuracy: 0.0000e+00\n",
            "Epoch 83/180\n",
            "99/99 [==============================] - 0s 2ms/step - loss: -48790.9318 - wine_quality_loss: 0.7974 - wine_type_loss: -48791.7334 - wine_quality_root_mean_squared_error: 0.8928 - wine_type_accuracy: 0.0000e+00 - val_loss: -50777.7383 - val_wine_quality_loss: 1.4370 - val_wine_type_loss: -50779.1953 - val_wine_quality_root_mean_squared_error: 1.1988 - val_wine_type_accuracy: 0.0000e+00\n",
            "Epoch 84/180\n",
            "99/99 [==============================] - 0s 2ms/step - loss: -51297.5685 - wine_quality_loss: 0.8614 - wine_type_loss: -51298.4294 - wine_quality_root_mean_squared_error: 0.9261 - wine_type_accuracy: 0.0000e+00 - val_loss: -52547.5859 - val_wine_quality_loss: 1.2445 - val_wine_type_loss: -52548.8320 - val_wine_quality_root_mean_squared_error: 1.1156 - val_wine_type_accuracy: 0.0000e+00\n",
            "Epoch 85/180\n",
            "99/99 [==============================] - 0s 2ms/step - loss: -52570.5304 - wine_quality_loss: 0.8597 - wine_type_loss: -52571.3948 - wine_quality_root_mean_squared_error: 0.9263 - wine_type_accuracy: 0.0000e+00 - val_loss: -54361.5547 - val_wine_quality_loss: 0.6504 - val_wine_type_loss: -54362.2109 - val_wine_quality_root_mean_squared_error: 0.8065 - val_wine_type_accuracy: 0.0000e+00\n",
            "Epoch 86/180\n",
            "99/99 [==============================] - 0s 2ms/step - loss: -54900.9809 - wine_quality_loss: 0.8248 - wine_type_loss: -54901.8120 - wine_quality_root_mean_squared_error: 0.9077 - wine_type_accuracy: 0.0000e+00 - val_loss: -56210.1602 - val_wine_quality_loss: 0.5332 - val_wine_type_loss: -56210.6875 - val_wine_quality_root_mean_squared_error: 0.7302 - val_wine_type_accuracy: 0.0000e+00\n",
            "Epoch 87/180\n",
            "99/99 [==============================] - 0s 2ms/step - loss: -56283.3104 - wine_quality_loss: 0.8826 - wine_type_loss: -56284.1924 - wine_quality_root_mean_squared_error: 0.9382 - wine_type_accuracy: 0.0000e+00 - val_loss: -58108.1875 - val_wine_quality_loss: 0.5160 - val_wine_type_loss: -58108.7109 - val_wine_quality_root_mean_squared_error: 0.7183 - val_wine_type_accuracy: 0.0000e+00\n",
            "Epoch 88/180\n",
            "99/99 [==============================] - 0s 2ms/step - loss: -58659.0186 - wine_quality_loss: 1.0213 - wine_type_loss: -58660.0315 - wine_quality_root_mean_squared_error: 1.0059 - wine_type_accuracy: 0.0000e+00 - val_loss: -60042.0430 - val_wine_quality_loss: 1.5655 - val_wine_type_loss: -60043.6133 - val_wine_quality_root_mean_squared_error: 1.2512 - val_wine_type_accuracy: 0.0000e+00\n",
            "Epoch 89/180\n",
            "99/99 [==============================] - 0s 2ms/step - loss: -59872.2215 - wine_quality_loss: 1.0319 - wine_type_loss: -59873.2630 - wine_quality_root_mean_squared_error: 1.0142 - wine_type_accuracy: 0.0000e+00 - val_loss: -62027.4492 - val_wine_quality_loss: 1.0714 - val_wine_type_loss: -62028.5156 - val_wine_quality_root_mean_squared_error: 1.0351 - val_wine_type_accuracy: 0.0000e+00\n",
            "Epoch 90/180\n",
            "99/99 [==============================] - 0s 2ms/step - loss: -62279.2211 - wine_quality_loss: 0.9782 - wine_type_loss: -62280.1980 - wine_quality_root_mean_squared_error: 0.9872 - wine_type_accuracy: 0.0000e+00 - val_loss: -64050.8828 - val_wine_quality_loss: 0.6717 - val_wine_type_loss: -64051.5469 - val_wine_quality_root_mean_squared_error: 0.8196 - val_wine_type_accuracy: 0.0000e+00\n",
            "Epoch 91/180\n",
            "99/99 [==============================] - 0s 2ms/step - loss: -64038.3783 - wine_quality_loss: 1.0815 - wine_type_loss: -64039.4559 - wine_quality_root_mean_squared_error: 1.0386 - wine_type_accuracy: 0.0000e+00 - val_loss: -66113.4922 - val_wine_quality_loss: 1.3355 - val_wine_type_loss: -66114.8359 - val_wine_quality_root_mean_squared_error: 1.1556 - val_wine_type_accuracy: 0.0000e+00\n",
            "Epoch 92/180\n",
            "99/99 [==============================] - 0s 2ms/step - loss: -66519.6001 - wine_quality_loss: 1.1514 - wine_type_loss: -66520.7481 - wine_quality_root_mean_squared_error: 1.0717 - wine_type_accuracy: 0.0000e+00 - val_loss: -68220.0938 - val_wine_quality_loss: 1.1802 - val_wine_type_loss: -68221.2656 - val_wine_quality_root_mean_squared_error: 1.0864 - val_wine_type_accuracy: 0.0000e+00\n",
            "Epoch 93/180\n",
            "99/99 [==============================] - 0s 2ms/step - loss: -68048.9989 - wine_quality_loss: 1.0072 - wine_type_loss: -68050.0104 - wine_quality_root_mean_squared_error: 1.0008 - wine_type_accuracy: 0.0000e+00 - val_loss: -70377.5938 - val_wine_quality_loss: 0.7378 - val_wine_type_loss: -70378.3203 - val_wine_quality_root_mean_squared_error: 0.8589 - val_wine_type_accuracy: 0.0000e+00\n",
            "Epoch 94/180\n",
            "99/99 [==============================] - 0s 2ms/step - loss: -70736.9394 - wine_quality_loss: 1.1496 - wine_type_loss: -70738.0802 - wine_quality_root_mean_squared_error: 1.0705 - wine_type_accuracy: 0.0000e+00 - val_loss: -72573.3906 - val_wine_quality_loss: 0.6038 - val_wine_type_loss: -72574.0000 - val_wine_quality_root_mean_squared_error: 0.7770 - val_wine_type_accuracy: 0.0000e+00\n",
            "Epoch 95/180\n",
            "99/99 [==============================] - 0s 2ms/step - loss: -72482.9516 - wine_quality_loss: 1.2559 - wine_type_loss: -72484.2065 - wine_quality_root_mean_squared_error: 1.1183 - wine_type_accuracy: 0.0000e+00 - val_loss: -74823.5000 - val_wine_quality_loss: 1.3603 - val_wine_type_loss: -74824.8594 - val_wine_quality_root_mean_squared_error: 1.1663 - val_wine_type_accuracy: 0.0000e+00\n",
            "Epoch 96/180\n",
            "99/99 [==============================] - 0s 2ms/step - loss: -74374.1895 - wine_quality_loss: 1.2417 - wine_type_loss: -74375.4363 - wine_quality_root_mean_squared_error: 1.1135 - wine_type_accuracy: 0.0000e+00 - val_loss: -77121.8594 - val_wine_quality_loss: 0.6319 - val_wine_type_loss: -77122.4922 - val_wine_quality_root_mean_squared_error: 0.7949 - val_wine_type_accuracy: 0.0000e+00\n",
            "Epoch 97/180\n",
            "99/99 [==============================] - 0s 2ms/step - loss: -77494.8670 - wine_quality_loss: 1.1530 - wine_type_loss: -77496.0147 - wine_quality_root_mean_squared_error: 1.0702 - wine_type_accuracy: 0.0000e+00 - val_loss: -79458.2500 - val_wine_quality_loss: 0.7719 - val_wine_type_loss: -79459.0234 - val_wine_quality_root_mean_squared_error: 0.8786 - val_wine_type_accuracy: 0.0000e+00\n",
            "Epoch 98/180\n",
            "99/99 [==============================] - 0s 2ms/step - loss: -80582.5870 - wine_quality_loss: 1.2450 - wine_type_loss: -80583.8305 - wine_quality_root_mean_squared_error: 1.1129 - wine_type_accuracy: 0.0000e+00 - val_loss: -81837.5547 - val_wine_quality_loss: 1.5567 - val_wine_type_loss: -81839.1250 - val_wine_quality_root_mean_squared_error: 1.2477 - val_wine_type_accuracy: 0.0000e+00\n",
            "Epoch 99/180\n",
            "99/99 [==============================] - 0s 2ms/step - loss: -81752.9005 - wine_quality_loss: 1.3314 - wine_type_loss: -81754.2390 - wine_quality_root_mean_squared_error: 1.1536 - wine_type_accuracy: 0.0000e+00 - val_loss: -84278.3203 - val_wine_quality_loss: 1.0140 - val_wine_type_loss: -84279.3281 - val_wine_quality_root_mean_squared_error: 1.0070 - val_wine_type_accuracy: 0.0000e+00\n",
            "Epoch 100/180\n",
            "99/99 [==============================] - 0s 2ms/step - loss: -85234.0632 - wine_quality_loss: 1.4500 - wine_type_loss: -85235.5114 - wine_quality_root_mean_squared_error: 1.2033 - wine_type_accuracy: 0.0000e+00 - val_loss: -86757.3672 - val_wine_quality_loss: 0.8105 - val_wine_type_loss: -86758.1641 - val_wine_quality_root_mean_squared_error: 0.9003 - val_wine_type_accuracy: 0.0000e+00\n",
            "Epoch 101/180\n",
            "99/99 [==============================] - 0s 2ms/step - loss: -87361.3823 - wine_quality_loss: 1.4104 - wine_type_loss: -87362.7805 - wine_quality_root_mean_squared_error: 1.1830 - wine_type_accuracy: 0.0000e+00 - val_loss: -89297.3672 - val_wine_quality_loss: 3.6288 - val_wine_type_loss: -89301.0078 - val_wine_quality_root_mean_squared_error: 1.9049 - val_wine_type_accuracy: 0.0000e+00\n",
            "Epoch 102/180\n",
            "99/99 [==============================] - 0s 2ms/step - loss: -89341.6820 - wine_quality_loss: 1.5885 - wine_type_loss: -89343.2760 - wine_quality_root_mean_squared_error: 1.2582 - wine_type_accuracy: 0.0000e+00 - val_loss: -91876.0781 - val_wine_quality_loss: 0.8283 - val_wine_type_loss: -91876.9062 - val_wine_quality_root_mean_squared_error: 0.9101 - val_wine_type_accuracy: 0.0000e+00\n",
            "Epoch 103/180\n",
            "99/99 [==============================] - 0s 2ms/step - loss: -92289.5785 - wine_quality_loss: 1.4496 - wine_type_loss: -92291.0170 - wine_quality_root_mean_squared_error: 1.2017 - wine_type_accuracy: 0.0000e+00 - val_loss: -94505.1328 - val_wine_quality_loss: 0.9523 - val_wine_type_loss: -94506.0781 - val_wine_quality_root_mean_squared_error: 0.9759 - val_wine_type_accuracy: 0.0000e+00\n",
            "Epoch 104/180\n",
            "99/99 [==============================] - 0s 2ms/step - loss: -94981.4996 - wine_quality_loss: 1.4705 - wine_type_loss: -94982.9823 - wine_quality_root_mean_squared_error: 1.2079 - wine_type_accuracy: 0.0000e+00 - val_loss: -97179.1406 - val_wine_quality_loss: 0.7842 - val_wine_type_loss: -97179.9375 - val_wine_quality_root_mean_squared_error: 0.8855 - val_wine_type_accuracy: 0.0000e+00\n",
            "Epoch 105/180\n",
            "99/99 [==============================] - 0s 2ms/step - loss: -96693.2808 - wine_quality_loss: 1.5481 - wine_type_loss: -96694.8285 - wine_quality_root_mean_squared_error: 1.2422 - wine_type_accuracy: 0.0000e+00 - val_loss: -99901.6172 - val_wine_quality_loss: 0.8588 - val_wine_type_loss: -99902.4766 - val_wine_quality_root_mean_squared_error: 0.9267 - val_wine_type_accuracy: 0.0000e+00\n",
            "Epoch 106/180\n",
            "99/99 [==============================] - 0s 2ms/step - loss: -99474.1548 - wine_quality_loss: 1.4854 - wine_type_loss: -99475.6423 - wine_quality_root_mean_squared_error: 1.2148 - wine_type_accuracy: 0.0000e+00 - val_loss: -102686.6719 - val_wine_quality_loss: 1.4320 - val_wine_type_loss: -102688.1250 - val_wine_quality_root_mean_squared_error: 1.1967 - val_wine_type_accuracy: 0.0000e+00\n",
            "Epoch 107/180\n",
            "99/99 [==============================] - 0s 2ms/step - loss: -102285.4689 - wine_quality_loss: 1.7508 - wine_type_loss: -102287.2128 - wine_quality_root_mean_squared_error: 1.3213 - wine_type_accuracy: 0.0000e+00 - val_loss: -105521.5000 - val_wine_quality_loss: 1.2701 - val_wine_type_loss: -105522.7656 - val_wine_quality_root_mean_squared_error: 1.1270 - val_wine_type_accuracy: 0.0000e+00\n",
            "Epoch 108/180\n",
            "99/99 [==============================] - 0s 3ms/step - loss: -105727.5654 - wine_quality_loss: 1.7283 - wine_type_loss: -105729.2787 - wine_quality_root_mean_squared_error: 1.3110 - wine_type_accuracy: 0.0000e+00 - val_loss: -108394.5312 - val_wine_quality_loss: 4.8095 - val_wine_type_loss: -108399.3281 - val_wine_quality_root_mean_squared_error: 2.1931 - val_wine_type_accuracy: 0.0000e+00\n",
            "Epoch 109/180\n",
            "99/99 [==============================] - 0s 2ms/step - loss: -108006.2609 - wine_quality_loss: 1.6549 - wine_type_loss: -108007.9017 - wine_quality_root_mean_squared_error: 1.2827 - wine_type_accuracy: 0.0000e+00 - val_loss: -111316.2109 - val_wine_quality_loss: 1.0734 - val_wine_type_loss: -111317.2734 - val_wine_quality_root_mean_squared_error: 1.0361 - val_wine_type_accuracy: 0.0000e+00\n",
            "Epoch 110/180\n",
            "99/99 [==============================] - 0s 2ms/step - loss: -111894.3985 - wine_quality_loss: 1.7643 - wine_type_loss: -111896.1639 - wine_quality_root_mean_squared_error: 1.3264 - wine_type_accuracy: 0.0000e+00 - val_loss: -114294.5000 - val_wine_quality_loss: 1.9590 - val_wine_type_loss: -114296.4688 - val_wine_quality_root_mean_squared_error: 1.3996 - val_wine_type_accuracy: 0.0000e+00\n",
            "Epoch 111/180\n",
            "99/99 [==============================] - 0s 2ms/step - loss: -113254.3804 - wine_quality_loss: 1.9762 - wine_type_loss: -113256.3434 - wine_quality_root_mean_squared_error: 1.4050 - wine_type_accuracy: 0.0000e+00 - val_loss: -117328.9844 - val_wine_quality_loss: 2.4668 - val_wine_type_loss: -117331.4609 - val_wine_quality_root_mean_squared_error: 1.5706 - val_wine_type_accuracy: 0.0000e+00\n",
            "Epoch 112/180\n",
            "99/99 [==============================] - 0s 2ms/step - loss: -116768.3001 - wine_quality_loss: 1.9683 - wine_type_loss: -116770.2476 - wine_quality_root_mean_squared_error: 1.4006 - wine_type_accuracy: 0.0000e+00 - val_loss: -120419.8438 - val_wine_quality_loss: 3.7362 - val_wine_type_loss: -120423.5859 - val_wine_quality_root_mean_squared_error: 1.9329 - val_wine_type_accuracy: 0.0000e+00\n",
            "Epoch 113/180\n",
            "99/99 [==============================] - 0s 2ms/step - loss: -120867.9046 - wine_quality_loss: 2.0753 - wine_type_loss: -120869.9824 - wine_quality_root_mean_squared_error: 1.4378 - wine_type_accuracy: 0.0000e+00 - val_loss: -123573.2734 - val_wine_quality_loss: 3.1807 - val_wine_type_loss: -123576.4531 - val_wine_quality_root_mean_squared_error: 1.7835 - val_wine_type_accuracy: 0.0000e+00\n",
            "Epoch 114/180\n",
            "99/99 [==============================] - 0s 2ms/step - loss: -123372.5328 - wine_quality_loss: 2.2433 - wine_type_loss: -123374.7504 - wine_quality_root_mean_squared_error: 1.4959 - wine_type_accuracy: 0.0000e+00 - val_loss: -126766.4766 - val_wine_quality_loss: 2.1747 - val_wine_type_loss: -126768.6484 - val_wine_quality_root_mean_squared_error: 1.4747 - val_wine_type_accuracy: 0.0000e+00\n",
            "Epoch 115/180\n",
            "99/99 [==============================] - 0s 2ms/step - loss: -126851.2930 - wine_quality_loss: 2.2809 - wine_type_loss: -126853.5702 - wine_quality_root_mean_squared_error: 1.5090 - wine_type_accuracy: 0.0000e+00 - val_loss: -130013.2812 - val_wine_quality_loss: 1.1106 - val_wine_type_loss: -130014.3906 - val_wine_quality_root_mean_squared_error: 1.0538 - val_wine_type_accuracy: 0.0000e+00\n",
            "Epoch 116/180\n",
            "99/99 [==============================] - 0s 2ms/step - loss: -130470.4245 - wine_quality_loss: 2.1230 - wine_type_loss: -130472.5445 - wine_quality_root_mean_squared_error: 1.4540 - wine_type_accuracy: 0.0000e+00 - val_loss: -133315.2344 - val_wine_quality_loss: 2.7170 - val_wine_type_loss: -133317.9219 - val_wine_quality_root_mean_squared_error: 1.6483 - val_wine_type_accuracy: 0.0000e+00\n",
            "Epoch 117/180\n",
            "99/99 [==============================] - 0s 2ms/step - loss: -133237.7534 - wine_quality_loss: 2.1889 - wine_type_loss: -133239.9502 - wine_quality_root_mean_squared_error: 1.4790 - wine_type_accuracy: 0.0000e+00 - val_loss: -136669.5625 - val_wine_quality_loss: 3.3677 - val_wine_type_loss: -136672.9062 - val_wine_quality_root_mean_squared_error: 1.8351 - val_wine_type_accuracy: 0.0000e+00\n",
            "Epoch 118/180\n",
            "99/99 [==============================] - 0s 2ms/step - loss: -137749.4489 - wine_quality_loss: 2.1523 - wine_type_loss: -137751.6094 - wine_quality_root_mean_squared_error: 1.4656 - wine_type_accuracy: 0.0000e+00 - val_loss: -140097.7500 - val_wine_quality_loss: 1.2584 - val_wine_type_loss: -140099.0156 - val_wine_quality_root_mean_squared_error: 1.1218 - val_wine_type_accuracy: 0.0000e+00\n",
            "Epoch 119/180\n",
            "99/99 [==============================] - 0s 2ms/step - loss: -140284.1833 - wine_quality_loss: 2.3625 - wine_type_loss: -140286.5402 - wine_quality_root_mean_squared_error: 1.5282 - wine_type_accuracy: 0.0000e+00 - val_loss: -143565.0000 - val_wine_quality_loss: 1.0549 - val_wine_type_loss: -143566.0938 - val_wine_quality_root_mean_squared_error: 1.0271 - val_wine_type_accuracy: 0.0000e+00\n",
            "Epoch 120/180\n",
            "99/99 [==============================] - 0s 2ms/step - loss: -142304.1089 - wine_quality_loss: 2.4788 - wine_type_loss: -142306.5875 - wine_quality_root_mean_squared_error: 1.5706 - wine_type_accuracy: 0.0000e+00 - val_loss: -147119.8125 - val_wine_quality_loss: 1.0445 - val_wine_type_loss: -147120.8594 - val_wine_quality_root_mean_squared_error: 1.0220 - val_wine_type_accuracy: 0.0000e+00\n",
            "Epoch 121/180\n",
            "99/99 [==============================] - 0s 2ms/step - loss: -148350.0884 - wine_quality_loss: 2.4944 - wine_type_loss: -148352.5847 - wine_quality_root_mean_squared_error: 1.5723 - wine_type_accuracy: 0.0000e+00 - val_loss: -150699.1406 - val_wine_quality_loss: 1.3188 - val_wine_type_loss: -150700.4688 - val_wine_quality_root_mean_squared_error: 1.1484 - val_wine_type_accuracy: 0.0000e+00\n",
            "Epoch 122/180\n",
            "99/99 [==============================] - 0s 2ms/step - loss: -150324.2203 - wine_quality_loss: 2.5416 - wine_type_loss: -150326.7698 - wine_quality_root_mean_squared_error: 1.5933 - wine_type_accuracy: 0.0000e+00 - val_loss: -154338.0938 - val_wine_quality_loss: 3.1214 - val_wine_type_loss: -154341.2344 - val_wine_quality_root_mean_squared_error: 1.7667 - val_wine_type_accuracy: 0.0000e+00\n",
            "Epoch 123/180\n",
            "99/99 [==============================] - 0s 2ms/step - loss: -153931.2555 - wine_quality_loss: 2.2752 - wine_type_loss: -153933.5338 - wine_quality_root_mean_squared_error: 1.4988 - wine_type_accuracy: 0.0000e+00 - val_loss: -158057.6562 - val_wine_quality_loss: 2.1043 - val_wine_type_loss: -158059.7656 - val_wine_quality_root_mean_squared_error: 1.4506 - val_wine_type_accuracy: 0.0000e+00\n",
            "Epoch 124/180\n",
            "99/99 [==============================] - 0s 3ms/step - loss: -159188.9450 - wine_quality_loss: 3.0010 - wine_type_loss: -159191.9895 - wine_quality_root_mean_squared_error: 1.7284 - wine_type_accuracy: 0.0000e+00 - val_loss: -161812.1250 - val_wine_quality_loss: 1.1747 - val_wine_type_loss: -161813.2969 - val_wine_quality_root_mean_squared_error: 1.0838 - val_wine_type_accuracy: 0.0000e+00\n",
            "Epoch 125/180\n",
            "99/99 [==============================] - 0s 2ms/step - loss: -161755.4972 - wine_quality_loss: 2.6465 - wine_type_loss: -161758.1425 - wine_quality_root_mean_squared_error: 1.6214 - wine_type_accuracy: 0.0000e+00 - val_loss: -165629.9688 - val_wine_quality_loss: 2.7243 - val_wine_type_loss: -165632.6719 - val_wine_quality_root_mean_squared_error: 1.6505 - val_wine_type_accuracy: 0.0000e+00\n",
            "Epoch 126/180\n",
            "99/99 [==============================] - 0s 2ms/step - loss: -165016.4339 - wine_quality_loss: 2.7363 - wine_type_loss: -165019.1608 - wine_quality_root_mean_squared_error: 1.6516 - wine_type_accuracy: 0.0000e+00 - val_loss: -169509.1406 - val_wine_quality_loss: 1.4676 - val_wine_type_loss: -169510.5938 - val_wine_quality_root_mean_squared_error: 1.2114 - val_wine_type_accuracy: 0.0000e+00\n",
            "Epoch 127/180\n",
            "99/99 [==============================] - 0s 2ms/step - loss: -170790.6170 - wine_quality_loss: 2.8287 - wine_type_loss: -170793.4533 - wine_quality_root_mean_squared_error: 1.6790 - wine_type_accuracy: 0.0000e+00 - val_loss: -173459.7500 - val_wine_quality_loss: 1.3163 - val_wine_type_loss: -173461.0625 - val_wine_quality_root_mean_squared_error: 1.1473 - val_wine_type_accuracy: 0.0000e+00\n",
            "Epoch 128/180\n",
            "99/99 [==============================] - 0s 2ms/step - loss: -172624.2086 - wine_quality_loss: 2.6740 - wine_type_loss: -172626.8689 - wine_quality_root_mean_squared_error: 1.6260 - wine_type_accuracy: 0.0000e+00 - val_loss: -177472.5312 - val_wine_quality_loss: 2.9674 - val_wine_type_loss: -177475.5156 - val_wine_quality_root_mean_squared_error: 1.7226 - val_wine_type_accuracy: 0.0000e+00\n",
            "Epoch 129/180\n",
            "99/99 [==============================] - 0s 4ms/step - loss: -177207.9442 - wine_quality_loss: 3.1890 - wine_type_loss: -177211.1325 - wine_quality_root_mean_squared_error: 1.7820 - wine_type_accuracy: 0.0000e+00 - val_loss: -181531.7656 - val_wine_quality_loss: 6.2982 - val_wine_type_loss: -181538.0938 - val_wine_quality_root_mean_squared_error: 2.5096 - val_wine_type_accuracy: 0.0000e+00\n",
            "Epoch 130/180\n",
            "99/99 [==============================] - 0s 2ms/step - loss: -179905.9458 - wine_quality_loss: 3.3034 - wine_type_loss: -179909.2570 - wine_quality_root_mean_squared_error: 1.8121 - wine_type_accuracy: 0.0000e+00 - val_loss: -185672.9375 - val_wine_quality_loss: 4.7786 - val_wine_type_loss: -185677.7031 - val_wine_quality_root_mean_squared_error: 2.1860 - val_wine_type_accuracy: 0.0000e+00\n",
            "Epoch 131/180\n",
            "99/99 [==============================] - 0s 3ms/step - loss: -184124.7269 - wine_quality_loss: 2.9262 - wine_type_loss: -184127.6556 - wine_quality_root_mean_squared_error: 1.7069 - wine_type_accuracy: 0.0000e+00 - val_loss: -189880.9062 - val_wine_quality_loss: 1.7966 - val_wine_type_loss: -189882.7031 - val_wine_quality_root_mean_squared_error: 1.3404 - val_wine_type_accuracy: 0.0000e+00\n",
            "Epoch 132/180\n",
            "99/99 [==============================] - 0s 2ms/step - loss: -190253.4644 - wine_quality_loss: 3.7777 - wine_type_loss: -190257.2578 - wine_quality_root_mean_squared_error: 1.9363 - wine_type_accuracy: 0.0000e+00 - val_loss: -194133.6406 - val_wine_quality_loss: 1.2879 - val_wine_type_loss: -194134.9219 - val_wine_quality_root_mean_squared_error: 1.1349 - val_wine_type_accuracy: 0.0000e+00\n",
            "Epoch 133/180\n",
            "99/99 [==============================] - 0s 2ms/step - loss: -194030.7236 - wine_quality_loss: 3.2302 - wine_type_loss: -194033.9602 - wine_quality_root_mean_squared_error: 1.7871 - wine_type_accuracy: 0.0000e+00 - val_loss: -198443.0156 - val_wine_quality_loss: 16.6387 - val_wine_type_loss: -198459.6562 - val_wine_quality_root_mean_squared_error: 4.0791 - val_wine_type_accuracy: 0.0000e+00\n",
            "Epoch 134/180\n",
            "99/99 [==============================] - 0s 3ms/step - loss: -200432.5825 - wine_quality_loss: 3.9011 - wine_type_loss: -200436.5236 - wine_quality_root_mean_squared_error: 1.9578 - wine_type_accuracy: 0.0000e+00 - val_loss: -202828.2500 - val_wine_quality_loss: 1.4395 - val_wine_type_loss: -202829.6875 - val_wine_quality_root_mean_squared_error: 1.1998 - val_wine_type_accuracy: 0.0000e+00\n",
            "Epoch 135/180\n",
            "99/99 [==============================] - 0s 2ms/step - loss: -202437.9659 - wine_quality_loss: 3.2355 - wine_type_loss: -202441.2239 - wine_quality_root_mean_squared_error: 1.7924 - wine_type_accuracy: 0.0000e+00 - val_loss: -207279.3125 - val_wine_quality_loss: 1.3901 - val_wine_type_loss: -207280.6875 - val_wine_quality_root_mean_squared_error: 1.1790 - val_wine_type_accuracy: 0.0000e+00\n",
            "Epoch 136/180\n",
            "99/99 [==============================] - 0s 3ms/step - loss: -207241.3839 - wine_quality_loss: 3.7060 - wine_type_loss: -207245.0986 - wine_quality_root_mean_squared_error: 1.9186 - wine_type_accuracy: 0.0000e+00 - val_loss: -211797.3281 - val_wine_quality_loss: 3.3183 - val_wine_type_loss: -211800.6562 - val_wine_quality_root_mean_squared_error: 1.8216 - val_wine_type_accuracy: 0.0000e+00\n",
            "Epoch 137/180\n",
            "99/99 [==============================] - 0s 2ms/step - loss: -212501.7586 - wine_quality_loss: 3.6697 - wine_type_loss: -212505.4031 - wine_quality_root_mean_squared_error: 1.9141 - wine_type_accuracy: 0.0000e+00 - val_loss: -216372.1562 - val_wine_quality_loss: 1.4213 - val_wine_type_loss: -216373.5938 - val_wine_quality_root_mean_squared_error: 1.1922 - val_wine_type_accuracy: 0.0000e+00\n",
            "Epoch 138/180\n",
            "99/99 [==============================] - 0s 2ms/step - loss: -216994.3098 - wine_quality_loss: 4.4514 - wine_type_loss: -216998.7497 - wine_quality_root_mean_squared_error: 2.0952 - wine_type_accuracy: 0.0000e+00 - val_loss: -221010.9062 - val_wine_quality_loss: 3.6968 - val_wine_type_loss: -221014.5938 - val_wine_quality_root_mean_squared_error: 1.9227 - val_wine_type_accuracy: 0.0000e+00\n",
            "Epoch 139/180\n",
            "99/99 [==============================] - 0s 2ms/step - loss: -222144.6791 - wine_quality_loss: 4.2008 - wine_type_loss: -222148.8545 - wine_quality_root_mean_squared_error: 2.0481 - wine_type_accuracy: 0.0000e+00 - val_loss: -225709.2188 - val_wine_quality_loss: 4.3473 - val_wine_type_loss: -225713.5469 - val_wine_quality_root_mean_squared_error: 2.0850 - val_wine_type_accuracy: 0.0000e+00\n",
            "Epoch 140/180\n",
            "99/99 [==============================] - 0s 2ms/step - loss: -224923.2414 - wine_quality_loss: 4.7604 - wine_type_loss: -224928.0067 - wine_quality_root_mean_squared_error: 2.1656 - wine_type_accuracy: 0.0000e+00 - val_loss: -230493.2969 - val_wine_quality_loss: 1.7678 - val_wine_type_loss: -230495.1094 - val_wine_quality_root_mean_squared_error: 1.3296 - val_wine_type_accuracy: 0.0000e+00\n",
            "Epoch 141/180\n",
            "99/99 [==============================] - 0s 2ms/step - loss: -227836.6764 - wine_quality_loss: 3.6941 - wine_type_loss: -227840.3266 - wine_quality_root_mean_squared_error: 1.9104 - wine_type_accuracy: 0.0000e+00 - val_loss: -235351.4219 - val_wine_quality_loss: 13.4384 - val_wine_type_loss: -235364.8906 - val_wine_quality_root_mean_squared_error: 3.6658 - val_wine_type_accuracy: 0.0000e+00\n",
            "Epoch 142/180\n",
            "99/99 [==============================] - 0s 3ms/step - loss: -235196.3964 - wine_quality_loss: 4.1906 - wine_type_loss: -235200.5852 - wine_quality_root_mean_squared_error: 2.0395 - wine_type_accuracy: 0.0000e+00 - val_loss: -240277.9062 - val_wine_quality_loss: 7.7984 - val_wine_type_loss: -240285.7344 - val_wine_quality_root_mean_squared_error: 2.7926 - val_wine_type_accuracy: 0.0000e+00\n",
            "Epoch 143/180\n",
            "99/99 [==============================] - 0s 3ms/step - loss: -237993.3062 - wine_quality_loss: 4.4558 - wine_type_loss: -237997.7548 - wine_quality_root_mean_squared_error: 2.1084 - wine_type_accuracy: 0.0000e+00 - val_loss: -245259.7656 - val_wine_quality_loss: 2.8874 - val_wine_type_loss: -245262.5938 - val_wine_quality_root_mean_squared_error: 1.6992 - val_wine_type_accuracy: 0.0000e+00\n",
            "Epoch 144/180\n",
            "99/99 [==============================] - 0s 3ms/step - loss: -246236.5222 - wine_quality_loss: 4.5678 - wine_type_loss: -246241.1031 - wine_quality_root_mean_squared_error: 2.1354 - wine_type_accuracy: 0.0000e+00 - val_loss: -250288.6094 - val_wine_quality_loss: 9.9279 - val_wine_type_loss: -250298.5312 - val_wine_quality_root_mean_squared_error: 3.1509 - val_wine_type_accuracy: 0.0000e+00\n",
            "Epoch 145/180\n",
            "99/99 [==============================] - 0s 2ms/step - loss: -252181.1766 - wine_quality_loss: 4.8867 - wine_type_loss: -252186.0333 - wine_quality_root_mean_squared_error: 2.1964 - wine_type_accuracy: 0.0000e+00 - val_loss: -255410.2656 - val_wine_quality_loss: 4.2507 - val_wine_type_loss: -255414.5469 - val_wine_quality_root_mean_squared_error: 2.0617 - val_wine_type_accuracy: 0.0000e+00\n",
            "Epoch 146/180\n",
            "99/99 [==============================] - 0s 2ms/step - loss: -260673.7403 - wine_quality_loss: 5.4900 - wine_type_loss: -260679.2620 - wine_quality_root_mean_squared_error: 2.3296 - wine_type_accuracy: 0.0000e+00 - val_loss: -260600.7031 - val_wine_quality_loss: 8.2518 - val_wine_type_loss: -260608.9531 - val_wine_quality_root_mean_squared_error: 2.8726 - val_wine_type_accuracy: 0.0000e+00\n",
            "Epoch 147/180\n",
            "99/99 [==============================] - 0s 2ms/step - loss: -263627.2386 - wine_quality_loss: 5.1163 - wine_type_loss: -263632.3648 - wine_quality_root_mean_squared_error: 2.2521 - wine_type_accuracy: 0.0000e+00 - val_loss: -265860.7188 - val_wine_quality_loss: 3.7990 - val_wine_type_loss: -265864.5000 - val_wine_quality_root_mean_squared_error: 1.9491 - val_wine_type_accuracy: 0.0000e+00\n",
            "Epoch 148/180\n",
            "99/99 [==============================] - 0s 2ms/step - loss: -264894.7067 - wine_quality_loss: 4.4259 - wine_type_loss: -264899.1741 - wine_quality_root_mean_squared_error: 2.0925 - wine_type_accuracy: 0.0000e+00 - val_loss: -271181.1250 - val_wine_quality_loss: 4.9213 - val_wine_type_loss: -271186.1250 - val_wine_quality_root_mean_squared_error: 2.2184 - val_wine_type_accuracy: 0.0000e+00\n",
            "Epoch 149/180\n",
            "99/99 [==============================] - 0s 2ms/step - loss: -271088.9191 - wine_quality_loss: 5.4125 - wine_type_loss: -271094.3253 - wine_quality_root_mean_squared_error: 2.3252 - wine_type_accuracy: 0.0000e+00 - val_loss: -276581.6250 - val_wine_quality_loss: 1.7405 - val_wine_type_loss: -276583.3125 - val_wine_quality_root_mean_squared_error: 1.3193 - val_wine_type_accuracy: 0.0000e+00\n",
            "Epoch 150/180\n",
            "99/99 [==============================] - 0s 3ms/step - loss: -275024.4256 - wine_quality_loss: 5.0899 - wine_type_loss: -275029.5381 - wine_quality_root_mean_squared_error: 2.2467 - wine_type_accuracy: 0.0000e+00 - val_loss: -282035.5000 - val_wine_quality_loss: 2.9461 - val_wine_type_loss: -282038.5000 - val_wine_quality_root_mean_squared_error: 1.7164 - val_wine_type_accuracy: 0.0000e+00\n",
            "Epoch 151/180\n",
            "99/99 [==============================] - 0s 2ms/step - loss: -281145.2900 - wine_quality_loss: 5.2570 - wine_type_loss: -281150.5494 - wine_quality_root_mean_squared_error: 2.2873 - wine_type_accuracy: 0.0000e+00 - val_loss: -287590.8438 - val_wine_quality_loss: 2.4172 - val_wine_type_loss: -287593.3125 - val_wine_quality_root_mean_squared_error: 1.5547 - val_wine_type_accuracy: 0.0000e+00\n",
            "Epoch 152/180\n",
            "99/99 [==============================] - 0s 2ms/step - loss: -285789.0644 - wine_quality_loss: 4.6138 - wine_type_loss: -285793.7303 - wine_quality_root_mean_squared_error: 2.1225 - wine_type_accuracy: 0.0000e+00 - val_loss: -293212.4375 - val_wine_quality_loss: 4.2776 - val_wine_type_loss: -293216.7188 - val_wine_quality_root_mean_squared_error: 2.0682 - val_wine_type_accuracy: 0.0000e+00\n",
            "Epoch 153/180\n",
            "99/99 [==============================] - 0s 2ms/step - loss: -295772.8269 - wine_quality_loss: 5.9409 - wine_type_loss: -295778.7728 - wine_quality_root_mean_squared_error: 2.4340 - wine_type_accuracy: 0.0000e+00 - val_loss: -298888.9375 - val_wine_quality_loss: 13.9272 - val_wine_type_loss: -298902.9062 - val_wine_quality_root_mean_squared_error: 3.7319 - val_wine_type_accuracy: 0.0000e+00\n",
            "Epoch 154/180\n",
            "99/99 [==============================] - 0s 2ms/step - loss: -295601.9950 - wine_quality_loss: 6.0147 - wine_type_loss: -295608.0031 - wine_quality_root_mean_squared_error: 2.4453 - wine_type_accuracy: 0.0000e+00 - val_loss: -304675.7188 - val_wine_quality_loss: 2.3294 - val_wine_type_loss: -304678.0938 - val_wine_quality_root_mean_squared_error: 1.5262 - val_wine_type_accuracy: 0.0000e+00\n",
            "Epoch 155/180\n",
            "99/99 [==============================] - 0s 2ms/step - loss: -306996.6450 - wine_quality_loss: 5.1210 - wine_type_loss: -307001.7750 - wine_quality_root_mean_squared_error: 2.2501 - wine_type_accuracy: 0.0000e+00 - val_loss: -310491.7500 - val_wine_quality_loss: 1.9500 - val_wine_type_loss: -310493.7188 - val_wine_quality_root_mean_squared_error: 1.3964 - val_wine_type_accuracy: 0.0000e+00\n",
            "Epoch 156/180\n",
            "99/99 [==============================] - 0s 3ms/step - loss: -307429.2369 - wine_quality_loss: 5.2626 - wine_type_loss: -307434.4809 - wine_quality_root_mean_squared_error: 2.2727 - wine_type_accuracy: 0.0000e+00 - val_loss: -316379.3438 - val_wine_quality_loss: 8.3958 - val_wine_type_loss: -316387.7188 - val_wine_quality_root_mean_squared_error: 2.8975 - val_wine_type_accuracy: 0.0000e+00\n",
            "Epoch 157/180\n",
            "99/99 [==============================] - 0s 2ms/step - loss: -314797.6403 - wine_quality_loss: 6.5608 - wine_type_loss: -314804.2394 - wine_quality_root_mean_squared_error: 2.5572 - wine_type_accuracy: 0.0000e+00 - val_loss: -322376.7812 - val_wine_quality_loss: 2.4390 - val_wine_type_loss: -322379.2500 - val_wine_quality_root_mean_squared_error: 1.5617 - val_wine_type_accuracy: 0.0000e+00\n",
            "Epoch 158/180\n",
            "99/99 [==============================] - 0s 3ms/step - loss: -317532.4462 - wine_quality_loss: 5.4680 - wine_type_loss: -317537.9028 - wine_quality_root_mean_squared_error: 2.3225 - wine_type_accuracy: 0.0000e+00 - val_loss: -328423.1562 - val_wine_quality_loss: 5.4323 - val_wine_type_loss: -328428.5625 - val_wine_quality_root_mean_squared_error: 2.3307 - val_wine_type_accuracy: 0.0000e+00\n",
            "Epoch 159/180\n",
            "99/99 [==============================] - 0s 2ms/step - loss: -329412.9941 - wine_quality_loss: 6.9291 - wine_type_loss: -329419.9481 - wine_quality_root_mean_squared_error: 2.6252 - wine_type_accuracy: 0.0000e+00 - val_loss: -334549.3750 - val_wine_quality_loss: 2.7215 - val_wine_type_loss: -334552.1250 - val_wine_quality_root_mean_squared_error: 1.6497 - val_wine_type_accuracy: 0.0000e+00\n",
            "Epoch 160/180\n",
            "99/99 [==============================] - 0s 2ms/step - loss: -334272.5278 - wine_quality_loss: 5.7390 - wine_type_loss: -334278.2953 - wine_quality_root_mean_squared_error: 2.3837 - wine_type_accuracy: 0.0000e+00 - val_loss: -340731.2188 - val_wine_quality_loss: 3.2930 - val_wine_type_loss: -340734.5938 - val_wine_quality_root_mean_squared_error: 1.8147 - val_wine_type_accuracy: 0.0000e+00\n",
            "Epoch 161/180\n",
            "99/99 [==============================] - 0s 3ms/step - loss: -342710.5938 - wine_quality_loss: 7.0573 - wine_type_loss: -342717.6547 - wine_quality_root_mean_squared_error: 2.6331 - wine_type_accuracy: 0.0000e+00 - val_loss: -347028.5938 - val_wine_quality_loss: 2.0086 - val_wine_type_loss: -347030.6562 - val_wine_quality_root_mean_squared_error: 1.4172 - val_wine_type_accuracy: 0.0000e+00\n",
            "Epoch 162/180\n",
            "99/99 [==============================] - 0s 3ms/step - loss: -343160.4250 - wine_quality_loss: 5.7486 - wine_type_loss: -343166.1600 - wine_quality_root_mean_squared_error: 2.3783 - wine_type_accuracy: 0.0000e+00 - val_loss: -353377.1875 - val_wine_quality_loss: 3.5701 - val_wine_type_loss: -353380.7500 - val_wine_quality_root_mean_squared_error: 1.8895 - val_wine_type_accuracy: 0.0000e+00\n",
            "Epoch 163/180\n",
            "99/99 [==============================] - 0s 3ms/step - loss: -351220.1759 - wine_quality_loss: 6.1681 - wine_type_loss: -351226.3491 - wine_quality_root_mean_squared_error: 2.4662 - wine_type_accuracy: 0.0000e+00 - val_loss: -359818.0312 - val_wine_quality_loss: 1.9531 - val_wine_type_loss: -359820.0312 - val_wine_quality_root_mean_squared_error: 1.3975 - val_wine_type_accuracy: 0.0000e+00\n",
            "Epoch 164/180\n",
            "99/99 [==============================] - 0s 2ms/step - loss: -359660.9953 - wine_quality_loss: 6.7392 - wine_type_loss: -359667.7525 - wine_quality_root_mean_squared_error: 2.5801 - wine_type_accuracy: 0.0000e+00 - val_loss: -366340.6250 - val_wine_quality_loss: 9.3307 - val_wine_type_loss: -366349.9062 - val_wine_quality_root_mean_squared_error: 3.0546 - val_wine_type_accuracy: 0.0000e+00\n",
            "Epoch 165/180\n",
            "99/99 [==============================] - 0s 3ms/step - loss: -364469.5469 - wine_quality_loss: 7.0938 - wine_type_loss: -364476.6341 - wine_quality_root_mean_squared_error: 2.6595 - wine_type_accuracy: 0.0000e+00 - val_loss: -372932.3125 - val_wine_quality_loss: 7.1296 - val_wine_type_loss: -372939.4688 - val_wine_quality_root_mean_squared_error: 2.6701 - val_wine_type_accuracy: 0.0000e+00\n",
            "Epoch 166/180\n",
            "99/99 [==============================] - 0s 3ms/step - loss: -373159.2050 - wine_quality_loss: 7.8055 - wine_type_loss: -373166.9972 - wine_quality_root_mean_squared_error: 2.7902 - wine_type_accuracy: 0.0000e+00 - val_loss: -379605.5312 - val_wine_quality_loss: 6.0542 - val_wine_type_loss: -379611.6250 - val_wine_quality_root_mean_squared_error: 2.4605 - val_wine_type_accuracy: 0.0000e+00\n",
            "Epoch 167/180\n",
            "99/99 [==============================] - 0s 2ms/step - loss: -376753.7338 - wine_quality_loss: 8.1939 - wine_type_loss: -376761.9522 - wine_quality_root_mean_squared_error: 2.8507 - wine_type_accuracy: 0.0000e+00 - val_loss: -386363.5938 - val_wine_quality_loss: 5.3192 - val_wine_type_loss: -386368.9062 - val_wine_quality_root_mean_squared_error: 2.3063 - val_wine_type_accuracy: 0.0000e+00\n",
            "Epoch 168/180\n",
            "99/99 [==============================] - 0s 2ms/step - loss: -382657.7969 - wine_quality_loss: 7.6458 - wine_type_loss: -382665.4938 - wine_quality_root_mean_squared_error: 2.7586 - wine_type_accuracy: 0.0000e+00 - val_loss: -393207.2812 - val_wine_quality_loss: 8.0833 - val_wine_type_loss: -393215.4062 - val_wine_quality_root_mean_squared_error: 2.8431 - val_wine_type_accuracy: 0.0000e+00\n",
            "Epoch 169/180\n",
            "99/99 [==============================] - 0s 3ms/step - loss: -392371.5184 - wine_quality_loss: 8.2958 - wine_type_loss: -392379.8519 - wine_quality_root_mean_squared_error: 2.8756 - wine_type_accuracy: 0.0000e+00 - val_loss: -400098.6250 - val_wine_quality_loss: 5.2319 - val_wine_type_loss: -400103.8125 - val_wine_quality_root_mean_squared_error: 2.2873 - val_wine_type_accuracy: 0.0000e+00\n",
            "Epoch 170/180\n",
            "99/99 [==============================] - 0s 2ms/step - loss: -402237.0137 - wine_quality_loss: 7.5103 - wine_type_loss: -402244.5488 - wine_quality_root_mean_squared_error: 2.7359 - wine_type_accuracy: 0.0000e+00 - val_loss: -407080.4375 - val_wine_quality_loss: 3.1708 - val_wine_type_loss: -407083.6875 - val_wine_quality_root_mean_squared_error: 1.7807 - val_wine_type_accuracy: 0.0000e+00\n",
            "Epoch 171/180\n",
            "99/99 [==============================] - 0s 2ms/step - loss: -404986.8125 - wine_quality_loss: 7.7225 - wine_type_loss: -404994.5737 - wine_quality_root_mean_squared_error: 2.7610 - wine_type_accuracy: 0.0000e+00 - val_loss: -414135.8125 - val_wine_quality_loss: 2.1412 - val_wine_type_loss: -414137.9688 - val_wine_quality_root_mean_squared_error: 1.4633 - val_wine_type_accuracy: 0.0000e+00\n",
            "Epoch 172/180\n",
            "99/99 [==============================] - 0s 3ms/step - loss: -415908.4847 - wine_quality_loss: 7.3166 - wine_type_loss: -415915.7744 - wine_quality_root_mean_squared_error: 2.6821 - wine_type_accuracy: 0.0000e+00 - val_loss: -421282.4062 - val_wine_quality_loss: 2.6815 - val_wine_type_loss: -421285.1250 - val_wine_quality_root_mean_squared_error: 1.6375 - val_wine_type_accuracy: 0.0000e+00\n",
            "Epoch 173/180\n",
            "99/99 [==============================] - 0s 2ms/step - loss: -419774.4994 - wine_quality_loss: 6.8738 - wine_type_loss: -419781.3675 - wine_quality_root_mean_squared_error: 2.5860 - wine_type_accuracy: 0.0000e+00 - val_loss: -428525.0312 - val_wine_quality_loss: 3.9302 - val_wine_type_loss: -428528.8750 - val_wine_quality_root_mean_squared_error: 1.9825 - val_wine_type_accuracy: 0.0000e+00\n",
            "Epoch 174/180\n",
            "99/99 [==============================] - 0s 2ms/step - loss: -427741.5953 - wine_quality_loss: 7.4467 - wine_type_loss: -427749.0984 - wine_quality_root_mean_squared_error: 2.7122 - wine_type_accuracy: 0.0000e+00 - val_loss: -435822.0000 - val_wine_quality_loss: 2.7839 - val_wine_type_loss: -435824.7812 - val_wine_quality_root_mean_squared_error: 1.6685 - val_wine_type_accuracy: 0.0000e+00\n",
            "Epoch 175/180\n",
            "99/99 [==============================] - 0s 2ms/step - loss: -437297.9209 - wine_quality_loss: 8.8846 - wine_type_loss: -437306.7734 - wine_quality_root_mean_squared_error: 2.9671 - wine_type_accuracy: 0.0000e+00 - val_loss: -443218.9062 - val_wine_quality_loss: 20.6991 - val_wine_type_loss: -443239.6250 - val_wine_quality_root_mean_squared_error: 4.5496 - val_wine_type_accuracy: 0.0000e+00\n",
            "Epoch 176/180\n",
            "99/99 [==============================] - 0s 4ms/step - loss: -442890.8322 - wine_quality_loss: 9.4822 - wine_type_loss: -442900.3203 - wine_quality_root_mean_squared_error: 3.0743 - wine_type_accuracy: 0.0000e+00 - val_loss: -450716.5625 - val_wine_quality_loss: 2.4973 - val_wine_type_loss: -450719.0312 - val_wine_quality_root_mean_squared_error: 1.5803 - val_wine_type_accuracy: 0.0000e+00\n",
            "Epoch 177/180\n",
            "99/99 [==============================] - 0s 2ms/step - loss: -449418.4322 - wine_quality_loss: 8.4417 - wine_type_loss: -449426.9022 - wine_quality_root_mean_squared_error: 2.8813 - wine_type_accuracy: 0.0000e+00 - val_loss: -458257.4688 - val_wine_quality_loss: 19.9068 - val_wine_type_loss: -458277.2812 - val_wine_quality_root_mean_squared_error: 4.4617 - val_wine_type_accuracy: 0.0000e+00\n",
            "Epoch 178/180\n",
            "99/99 [==============================] - 0s 3ms/step - loss: -457298.8547 - wine_quality_loss: 8.8940 - wine_type_loss: -457307.7425 - wine_quality_root_mean_squared_error: 2.9715 - wine_type_accuracy: 0.0000e+00 - val_loss: -465923.3750 - val_wine_quality_loss: 2.5511 - val_wine_type_loss: -465925.9062 - val_wine_quality_root_mean_squared_error: 1.5972 - val_wine_type_accuracy: 0.0000e+00\n",
            "Epoch 179/180\n",
            "99/99 [==============================] - 0s 2ms/step - loss: -470068.6709 - wine_quality_loss: 9.7512 - wine_type_loss: -470078.3800 - wine_quality_root_mean_squared_error: 3.1168 - wine_type_accuracy: 0.0000e+00 - val_loss: -473632.1250 - val_wine_quality_loss: 11.5830 - val_wine_type_loss: -473643.7188 - val_wine_quality_root_mean_squared_error: 3.4034 - val_wine_type_accuracy: 0.0000e+00\n",
            "Epoch 180/180\n",
            "99/99 [==============================] - 0s 2ms/step - loss: -474220.8366 - wine_quality_loss: 9.5065 - wine_type_loss: -474230.2484 - wine_quality_root_mean_squared_error: 3.0810 - wine_type_accuracy: 0.0000e+00 - val_loss: -481467.0938 - val_wine_quality_loss: 9.9391 - val_wine_type_loss: -481477.0000 - val_wine_quality_root_mean_squared_error: 3.1526 - val_wine_type_accuracy: 0.0000e+00\n"
          ],
          "name": "stdout"
        },
        {
          "output_type": "execute_result",
          "data": {
            "text/plain": [
              "<tensorflow.python.keras.callbacks.History at 0x7f47b91f09b0>"
            ]
          },
          "metadata": {
            "tags": []
          },
          "execution_count": 71
        }
      ]
    },
    {
      "cell_type": "code",
      "metadata": {
        "colab": {
          "base_uri": "https://localhost:8080/"
        },
        "id": "nLqX59eu9Xeo",
        "outputId": "06d1b062-cb3d-4f42-b6d5-76ffa35e060c"
      },
      "source": [
        "loss, wine_quality_loss, wine_type_loss, wine_quality_rmse, wine_type_accuracy = model.evaluate(x=norm_val_x, y=val_y)\r\n",
        "\r\n",
        "print()\r\n",
        "print(f'loss: {loss}')\r\n",
        "print(f'wine_quality_loss: {wine_quality_loss}')\r\n",
        "print(f'wine_type_loss: {wine_type_loss}')\r\n",
        "print(f'wine_quality_rmse: {wine_quality_rmse}')\r\n",
        "print(f'wine_type_accuracy: {wine_type_accuracy}')"
      ],
      "execution_count": null,
      "outputs": [
        {
          "output_type": "stream",
          "text": [
            "25/25 [==============================] - 0s 1ms/step - loss: -481467.0938 - wine_quality_loss: 9.9391 - wine_type_loss: -481477.0000 - wine_quality_root_mean_squared_error: 3.1526 - wine_type_accuracy: 0.0000e+00\n",
            "\n",
            "loss: -481467.09375\n",
            "wine_quality_loss: 9.939061164855957\n",
            "wine_type_loss: -481477.0\n",
            "wine_quality_rmse: 3.15262770652771\n",
            "wine_type_accuracy: 0.0\n"
          ],
          "name": "stdout"
        }
      ]
    },
    {
      "cell_type": "code",
      "metadata": {
        "id": "neoTp9rT-PIq"
      },
      "source": [
        "xs = np.array([-1.0,  0.0, 1.0, 2.0, 3.0, 4.0], dtype=float)\r\n",
        "\r\n",
        "# labels\r\n",
        "ys = np.array([-3.0, -1.0, 1.0, 3.0, 5.0, 7.0], dtype=float)"
      ],
      "execution_count": null,
      "outputs": []
    },
    {
      "cell_type": "code",
      "metadata": {
        "id": "YgANy9Ae_bMF"
      },
      "source": [
        "def my_huber_loss(y_true,y_pred):\r\n",
        "  error = y_true-y_pred\r\n",
        "  threshold=1\r\n",
        "  is_min_error = tf.abs(error)<=threshold\r\n",
        "  min_error = 0.5*(K.square(error))\r\n",
        "  max_error = threshold*(tf.abs(error)-0.5*(threshold))\r\n",
        "  return tf.where(is_min_error,min_error,max_error)"
      ],
      "execution_count": null,
      "outputs": []
    },
    {
      "cell_type": "code",
      "metadata": {
        "id": "6nDysgX5AkX7"
      },
      "source": [
        "model = tf.keras.models.Sequential([Dense(units='1',input_shape=[1])])"
      ],
      "execution_count": null,
      "outputs": []
    },
    {
      "cell_type": "code",
      "metadata": {
        "colab": {
          "base_uri": "https://localhost:8080/"
        },
        "id": "_PUs5anHBMAi",
        "outputId": "4c4b8528-2103-4909-dc0e-ec7dcafb25dc"
      },
      "source": [
        "model.compile(optimizer='sgd',loss=my_huber_loss)\r\n",
        "model.fit(xs, ys, epochs=500,verbose=0)\r\n",
        "\r\n",
        "print(model.predict([10.0]))"
      ],
      "execution_count": null,
      "outputs": [
        {
          "output_type": "stream",
          "text": [
            "[[18.818243]]\n"
          ],
          "name": "stdout"
        }
      ]
    },
    {
      "cell_type": "code",
      "metadata": {
        "colab": {
          "base_uri": "https://localhost:8080/"
        },
        "id": "rBUHhjURBcpO",
        "outputId": "f81665b1-002a-4680-968e-5809120f1c10"
      },
      "source": [
        "model.compile(optimizer='sgd',loss='mean_squared_error')\r\n",
        "model.fit(xs, ys, epochs=500,verbose=0)\r\n",
        "\r\n",
        "print(model.predict([10.0]))"
      ],
      "execution_count": null,
      "outputs": [
        {
          "output_type": "stream",
          "text": [
            "[[18.998985]]\n"
          ],
          "name": "stdout"
        }
      ]
    },
    {
      "cell_type": "code",
      "metadata": {
        "id": "cgczj8b-CEHZ"
      },
      "source": [
        "xs = np.array([-1.0,  0.0, 1.0, 2.0, 3.0, 4.0], dtype=float)\r\n",
        "\r\n",
        "# labels\r\n",
        "ys = np.array([-3.0, -1.0, 1.0, 3.0, 5.0, 7.0], dtype=float)"
      ],
      "execution_count": null,
      "outputs": []
    },
    {
      "cell_type": "code",
      "metadata": {
        "id": "6YMbF4K1GITO"
      },
      "source": [
        "def huber_loss_with_threshold(threshold):\r\n",
        "  def huber_loss(y_true,y_pred):\r\n",
        "    error = y_true-y_pred\r\n",
        "    is_small_error = tf.abs(error) <= threshold\r\n",
        "    small_error= 0.5*(K.square(error))\r\n",
        "    max_error = threshold*(tf.abs(error)-0.5*(threshold))\r\n",
        "    return tf.where(is_small_error,small_error,max_error)\r\n",
        "  return huber_loss"
      ],
      "execution_count": null,
      "outputs": []
    },
    {
      "cell_type": "code",
      "metadata": {
        "colab": {
          "base_uri": "https://localhost:8080/"
        },
        "id": "45yhn6mHG7RK",
        "outputId": "9779005a-536a-45ae-a198-8b85567e3cae"
      },
      "source": [
        "model = tf.keras.models.Sequential([tf.keras.layers.Dense(units=1,input_shape=[1])])\r\n",
        "model.compile(optimizer='sgd',loss=huber_loss_with_threshold(threshold=1.2))\r\n",
        "model.fit(xs, ys, epochs=500,verbose=0)\r\n",
        "print(model.predict([10.0]))\r\n"
      ],
      "execution_count": null,
      "outputs": [
        {
          "output_type": "stream",
          "text": [
            "[[18.559248]]\n"
          ],
          "name": "stdout"
        }
      ]
    },
    {
      "cell_type": "code",
      "metadata": {
        "id": "vJrAPQwnH1Q0"
      },
      "source": [
        "from tensorflow.keras.losses import Loss\r\n",
        "class my_huber_loss_with_threshold(Loss):\r\n",
        "  threshold=1\r\n",
        "  def __init__(self,threshold):\r\n",
        "    super().__init__()\r\n",
        "    self.threshold= threshold\r\n",
        "  def call(self,y_true,y_pred):\r\n",
        "    error = y_true-y_pred\r\n",
        "    is_min_error = tf.abs(error) <= self.threshold\r\n",
        "    min_error = 0.5*(K.square(error))\r\n",
        "    max_error = self.threshold*(tf.abs(error)-0.5*(self.threshold))\r\n",
        "    return tf.where(is_min_error,min_error,max_error)\r\n",
        "xs = np.array([-1.0,  0.0, 1.0, 2.0, 3.0, 4.0], dtype=float)\r\n",
        "\r\n",
        "# labels. relationship with the inputs above is y=2x-1.\r\n",
        "ys = np.array([-3.0, -1.0, 1.0, 3.0, 5.0, 7.0], dtype=float)\r\n",
        "\r\n"
      ],
      "execution_count": null,
      "outputs": []
    },
    {
      "cell_type": "code",
      "metadata": {
        "colab": {
          "base_uri": "https://localhost:8080/"
        },
        "id": "Vn19muwuLZTl",
        "outputId": "eb5d38c9-69ec-4637-fda6-79f236c49099"
      },
      "source": [
        "model = tf.keras.models.Sequential([tf.keras.layers.Dense(units=1,input_shape=[1])])\r\n",
        "model.compile(optimizer='sgd',loss=my_huber_loss_with_threshold(threshold=1.02))\r\n",
        "model.fit(xs, ys, epochs=500,verbose=0)\r\n",
        "print(model.predict([10.0]))"
      ],
      "execution_count": null,
      "outputs": [
        {
          "output_type": "stream",
          "text": [
            "WARNING:tensorflow:5 out of the last 4379 calls to <function Model.make_predict_function.<locals>.predict_function at 0x7f47a69c9488> triggered tf.function retracing. Tracing is expensive and the excessive number of tracings could be due to (1) creating @tf.function repeatedly in a loop, (2) passing tensors with different shapes, (3) passing Python objects instead of tensors. For (1), please define your @tf.function outside of the loop. For (2), @tf.function has experimental_relax_shapes=True option that relaxes argument shapes that can avoid unnecessary retracing. For (3), please refer to https://www.tensorflow.org/guide/function#controlling_retracing and https://www.tensorflow.org/api_docs/python/tf/function for  more details.\n",
            "[[18.779686]]\n"
          ],
          "name": "stdout"
        }
      ]
    },
    {
      "cell_type": "code",
      "metadata": {
        "id": "aLegK73fLets"
      },
      "source": [
        "\r\n",
        "xs = np.array([-1.0,  0.0, 1.0, 2.0, 3.0, 4.0], dtype=float)\r\n",
        "\r\n",
        "# labels. relationship with the inputs above is y=2x-1.\r\n",
        "ys = np.array([-3.0, -1.0, 1.0, 3.0, 5.0, 7.0], dtype=float)"
      ],
      "execution_count": null,
      "outputs": []
    },
    {
      "cell_type": "code",
      "metadata": {
        "id": "9d-JnyJEMRmH"
      },
      "source": [
        "def rmse(y_true,y_pred):\r\n",
        "  error = K.square(y_true-y_pred)\r\n",
        "  error = K.mean(error)\r\n",
        "  error = K.sqrt(error)\r\n",
        "  return error\r\n"
      ],
      "execution_count": null,
      "outputs": []
    },
    {
      "cell_type": "code",
      "metadata": {
        "colab": {
          "base_uri": "https://localhost:8080/"
        },
        "id": "e0XUCpFDRNHK",
        "outputId": "739479c4-6510-423a-b75e-79dd4028b5da"
      },
      "source": [
        "model= tf.keras.models.Sequential([tf.keras.layers.Dense(units=1,input_shape=[1])])\r\n",
        "model.compile(optimizer='sgd',loss=rmse)\r\n",
        "model.fit(xs,ys,epochs=500,verbose=0)\r\n",
        "print(model.predict([10.0]))"
      ],
      "execution_count": null,
      "outputs": [
        {
          "output_type": "stream",
          "text": [
            "WARNING:tensorflow:6 out of the last 4380 calls to <function Model.make_predict_function.<locals>.predict_function at 0x7f47b16ed9d8> triggered tf.function retracing. Tracing is expensive and the excessive number of tracings could be due to (1) creating @tf.function repeatedly in a loop, (2) passing tensors with different shapes, (3) passing Python objects instead of tensors. For (1), please define your @tf.function outside of the loop. For (2), @tf.function has experimental_relax_shapes=True option that relaxes argument shapes that can avoid unnecessary retracing. For (3), please refer to https://www.tensorflow.org/guide/function#controlling_retracing and https://www.tensorflow.org/api_docs/python/tf/function for  more details.\n",
            "[[18.901253]]\n"
          ],
          "name": "stdout"
        }
      ]
    },
    {
      "cell_type": "code",
      "metadata": {
        "id": "1bq_UcIVRip4"
      },
      "source": [
        "(x_train,y_train),(x_test,y_test) = tf.keras.datasets.mnist.load_data()"
      ],
      "execution_count": null,
      "outputs": []
    },
    {
      "cell_type": "code",
      "metadata": {
        "id": "_0mSOLs1Zw3W"
      },
      "source": [
        "x_train,x_test = x_train/255.0,x_test/255.0"
      ],
      "execution_count": null,
      "outputs": []
    },
    {
      "cell_type": "code",
      "metadata": {
        "id": "1rSnXHyjZ5jg"
      },
      "source": [
        "model = tf.keras.models.Sequential([\r\n",
        "                                    tf.keras.layers.Flatten(input_shape=(28,28)),\r\n",
        "                                    tf.keras.layers.Dense(128),\r\n",
        "                                    tf.keras.layers.Lambda(lambda x: tf.abs(x)),\r\n",
        "                                    tf.keras.layers.Dense(10,activation='softmax')\r\n",
        "])"
      ],
      "execution_count": null,
      "outputs": []
    },
    {
      "cell_type": "code",
      "metadata": {
        "colab": {
          "base_uri": "https://localhost:8080/"
        },
        "id": "A1JXRli5gtul",
        "outputId": "0c1d5e58-bd09-4f9f-a4cd-0feb8e15f90f"
      },
      "source": [
        "model.compile(optimizer=tf.keras.optimizers.Adam(),loss='sparse_categorical_crossentropy',metrics=['accuracy'])\r\n",
        "model.fit(x_train,y_train,epochs=5)\r\n",
        "model.evaluate(x_test,y_test)"
      ],
      "execution_count": null,
      "outputs": [
        {
          "output_type": "stream",
          "text": [
            "Epoch 1/5\n",
            "1875/1875 [==============================] - 4s 2ms/step - loss: 0.3939 - accuracy: 0.8878\n",
            "Epoch 2/5\n",
            "1875/1875 [==============================] - 4s 2ms/step - loss: 0.0939 - accuracy: 0.9719\n",
            "Epoch 3/5\n",
            "1875/1875 [==============================] - 4s 2ms/step - loss: 0.0624 - accuracy: 0.9810\n",
            "Epoch 4/5\n",
            "1875/1875 [==============================] - 4s 2ms/step - loss: 0.0437 - accuracy: 0.9862\n",
            "Epoch 5/5\n",
            "1875/1875 [==============================] - 4s 2ms/step - loss: 0.0363 - accuracy: 0.9881\n",
            "313/313 [==============================] - 0s 1ms/step - loss: 0.0916 - accuracy: 0.9737\n"
          ],
          "name": "stdout"
        },
        {
          "output_type": "execute_result",
          "data": {
            "text/plain": [
              "[0.0915890485048294, 0.9736999869346619]"
            ]
          },
          "metadata": {
            "tags": []
          },
          "execution_count": 89
        }
      ]
    },
    {
      "cell_type": "code",
      "metadata": {
        "id": "PaWgOXd_hF--"
      },
      "source": [
        "def my_relu(x):\r\n",
        "  return K.maximum(0.0,x)\r\n",
        "\r\n",
        "model = tf.keras.models.Sequential([\r\n",
        "                                    tf.keras.layers.Flatten(input_shape=(28,28)),\r\n",
        "                                    tf.keras.layers.Dense(128),\r\n",
        "                                    tf.keras.layers.Lambda(my_relu),\r\n",
        "                                    tf.keras.layers.Dense(10,activation='softmax')\r\n",
        "])"
      ],
      "execution_count": null,
      "outputs": []
    },
    {
      "cell_type": "code",
      "metadata": {
        "id": "ZCNc-AZ0psEx"
      },
      "source": [
        "from tensorflow.keras.layers import Layer\r\n",
        "class SimpleDense(Layer):\r\n",
        "  def __init__(self, units=32):\r\n",
        "        '''Initializes the instance attributes'''\r\n",
        "        super(SimpleDense, self).__init__()\r\n",
        "        self.units = units\r\n",
        "\r\n",
        "  def build(self,input_shape):\r\n",
        "    w_init = tf.random_normal_initializer()\r\n",
        "    self.w= tf.Variable(name='kernel',initial_value=w_init(shape=(input_shape[-1],self.units),dtype='float32'),trainable=True)\r\n",
        "    b_init= tf.zeros_initializer()\r\n",
        "    self.b= tf.Variable(name='bias',initial_value=b_init(shape=(self.units,),dtype='float32'),trainable=True)\r\n",
        "  def call(self,inputs):\r\n",
        "    return tf.matmul(inputs,self.w) + self.b"
      ],
      "execution_count": null,
      "outputs": []
    },
    {
      "cell_type": "code",
      "metadata": {
        "colab": {
          "base_uri": "https://localhost:8080/"
        },
        "id": "X-gHdak8tpGi",
        "outputId": "5e0d2a97-887a-4e10-fb21-587738d910e0"
      },
      "source": [
        "my_layer = SimpleDense(units=1)\r\n",
        "x= tf.ones((1,1))\r\n",
        "y = my_layer(x)\r\n",
        "print(my_layer.variables)"
      ],
      "execution_count": null,
      "outputs": [
        {
          "output_type": "stream",
          "text": [
            "[<tf.Variable 'simple_dense/kernel:0' shape=(1, 1) dtype=float32, numpy=array([[0.04973296]], dtype=float32)>, <tf.Variable 'simple_dense/bias:0' shape=(1,) dtype=float32, numpy=array([0.], dtype=float32)>]\n"
          ],
          "name": "stdout"
        }
      ]
    },
    {
      "cell_type": "code",
      "metadata": {
        "colab": {
          "base_uri": "https://localhost:8080/"
        },
        "id": "fPWXPvuAt0CF",
        "outputId": "ff5d0ab2-7753-47f4-a2ee-8319dedb3acc"
      },
      "source": [
        "\r\n",
        "xs = np.array([-1.0,  0.0, 1.0, 2.0, 3.0, 4.0], dtype=float)\r\n",
        "ys = np.array([-3.0, -1.0, 1.0, 3.0, 5.0, 7.0], dtype=float)\r\n",
        "\r\n",
        "\r\n",
        "# use the Sequential API to build a model with our custom layer\r\n",
        "my_layer = SimpleDense(units=1)\r\n",
        "model = tf.keras.Sequential([my_layer])\r\n",
        "\r\n",
        "# configure and train the model\r\n",
        "model.compile(optimizer='sgd', loss='mean_squared_error')\r\n",
        "model.fit(xs, ys, epochs=500,verbose=0)\r\n",
        "\r\n",
        "# perform inference\r\n",
        "print(model.predict([10.0]))\r\n",
        "\r\n",
        "# see the updated state of the variables\r\n",
        "print(my_layer.variables)"
      ],
      "execution_count": null,
      "outputs": [
        {
          "output_type": "stream",
          "text": [
            "WARNING:tensorflow:7 out of the last 4381 calls to <function Model.make_predict_function.<locals>.predict_function at 0x7f47a29f30d0> triggered tf.function retracing. Tracing is expensive and the excessive number of tracings could be due to (1) creating @tf.function repeatedly in a loop, (2) passing tensors with different shapes, (3) passing Python objects instead of tensors. For (1), please define your @tf.function outside of the loop. For (2), @tf.function has experimental_relax_shapes=True option that relaxes argument shapes that can avoid unnecessary retracing. For (3), please refer to https://www.tensorflow.org/guide/function#controlling_retracing and https://www.tensorflow.org/api_docs/python/tf/function for  more details.\n",
            "[[18.981659]]\n",
            "[<tf.Variable 'simple_dense_1/kernel:0' shape=(1, 1) dtype=float32, numpy=array([[1.9973418]], dtype=float32)>, <tf.Variable 'simple_dense_1/bias:0' shape=(1,) dtype=float32, numpy=array([-0.99175835], dtype=float32)>]\n"
          ],
          "name": "stdout"
        }
      ]
    },
    {
      "cell_type": "code",
      "metadata": {
        "id": "6-ljCnnYummi"
      },
      "source": [
        "class SimpleDense(Layer):\r\n",
        "  def __init__(self,units=32,activation=None):\r\n",
        "    super(SimpleDense,self).__init__()\r\n",
        "    self.units=units\r\n",
        "    self.activation = tf.keras.activations.get(activation)\r\n",
        "  def build(self,input_shape):\r\n",
        "    w_init = tf.random_normal_initializer()\r\n",
        "    self.w = tf.Variable(name='kernel',initial_value=w_init(shape=(input_shape[-1],self.units),dtype='float32'),trainable=True)\r\n",
        "    b_init = tf.zeros_initializer()\r\n",
        "    self.b = tf.Variable(name='bias',initial_value=b_init(shape=(self.units,),dtype='float32'),trainable=True)\r\n",
        "    super().build(input_shape)\r\n",
        "  def call(self,inputs):\r\n",
        "    return self.activation(tf.matmul(inputs,self.w)+self.b)"
      ],
      "execution_count": null,
      "outputs": []
    },
    {
      "cell_type": "code",
      "metadata": {
        "id": "30QDjQA71YlD"
      },
      "source": [
        "(x_train,y_train),(x_test,y_test)= mnist.load_data()\r\n",
        "x_train,x_test =x_train/255.0,x_test/255.0"
      ],
      "execution_count": null,
      "outputs": []
    },
    {
      "cell_type": "code",
      "metadata": {
        "colab": {
          "base_uri": "https://localhost:8080/"
        },
        "id": "MqsXxltX1wfh",
        "outputId": "78ae8d34-8d1e-46a8-8d96-418ea1504216"
      },
      "source": [
        "\r\n",
        "(x_train, y_train),(x_test, y_test) = mnist.load_data()\r\n",
        "x_train, x_test = x_train / 255.0, x_test / 255.0\r\n",
        "\r\n",
        "model = tf.keras.models.Sequential([\r\n",
        "    tf.keras.layers.Flatten(input_shape=(28, 28)),\r\n",
        "    SimpleDense(128, activation='relu'),\r\n",
        "    tf.keras.layers.Dropout(0.2),\r\n",
        "    tf.keras.layers.Dense(10, activation='softmax')\r\n",
        "])\r\n",
        "\r\n",
        "model.compile(optimizer='adam',\r\n",
        "              loss='sparse_categorical_crossentropy',\r\n",
        "              metrics=['accuracy'])\r\n",
        "\r\n",
        "model.fit(x_train, y_train, epochs=5)\r\n",
        "model.evaluate(x_test, y_test)"
      ],
      "execution_count": null,
      "outputs": [
        {
          "output_type": "stream",
          "text": [
            "Epoch 1/5\n",
            "1875/1875 [==============================] - 4s 2ms/step - loss: 0.6816 - accuracy: 0.7589\n",
            "Epoch 2/5\n",
            "1875/1875 [==============================] - 4s 2ms/step - loss: 0.4131 - accuracy: 0.8498\n",
            "Epoch 3/5\n",
            "1875/1875 [==============================] - 4s 2ms/step - loss: 0.3714 - accuracy: 0.8656\n",
            "Epoch 4/5\n",
            "1875/1875 [==============================] - 4s 2ms/step - loss: 0.3465 - accuracy: 0.8737\n",
            "Epoch 5/5\n",
            "1875/1875 [==============================] - 3s 2ms/step - loss: 0.3412 - accuracy: 0.8761\n",
            "313/313 [==============================] - 0s 1ms/step - loss: 0.3737 - accuracy: 0.8606\n"
          ],
          "name": "stdout"
        },
        {
          "output_type": "execute_result",
          "data": {
            "text/plain": [
              "[0.3736531138420105, 0.8605999946594238]"
            ]
          },
          "metadata": {
            "tags": []
          },
          "execution_count": 96
        }
      ]
    },
    {
      "cell_type": "code",
      "metadata": {
        "id": "qdMB_npF2Z-K"
      },
      "source": [
        ""
      ],
      "execution_count": null,
      "outputs": []
    },
    {
      "cell_type": "code",
      "metadata": {
        "id": "dmRZGRu93AdN"
      },
      "source": [
        "from tensorflow.keras.layers import Layer\r\n",
        "\r\n",
        "class SimpleQuadratic(Layer):\r\n",
        "  def __init__(self,units=32,activation=None):\r\n",
        "    super(SimpleQuadratic,self).__init__()\r\n",
        "    self.units = units\r\n",
        "    self.activation= tf.keras.activations.get(activation)\r\n",
        "  def build(self,input_shape):\r\n",
        "    a_init = tf.random_normal_initializer()\r\n",
        "    self.a = tf.Variable(name='a',initial_value=a_init(shape=(input_shape[-1],self.units),dtype='float32'),trainable=True)\r\n",
        "    b_init = tf.random_normal_initializer()\r\n",
        "    self.b = tf.Variable(name='b',initial_value=a_init(shape=(input_shape[-1],self.units),dtype='float32'),trainable=True)\r\n",
        "    c_init = tf.zeros_initializer()\r\n",
        "    self.c = tf.Variable(name='c',initial_value=c_init(shape=(self.units,),dtype='float32'),trainable=True)\r\n",
        "  def call(self,inputs):\r\n",
        "    x_squared = tf.math.square(inputs)\r\n",
        "    ax2 = tf.matmul(x_squared,self.a)\r\n",
        "    bx= tf.matmul(inputs,self.b)\r\n",
        "    c = self.c\r\n",
        "    sum = ax2+bx+c\r\n",
        "    act = self.activation(sum)\r\n",
        "    return act"
      ],
      "execution_count": null,
      "outputs": []
    },
    {
      "cell_type": "code",
      "metadata": {
        "id": "Xhr4HPPuI8PG"
      },
      "source": [
        "(x_train,y_train),(x_test,y_test)=mnist.load_data()\r\n",
        "x_train,x_test = x_train/255.0,x_test/255.0"
      ],
      "execution_count": null,
      "outputs": []
    },
    {
      "cell_type": "code",
      "metadata": {
        "id": "ZqpV8JyTJMZK"
      },
      "source": [
        "model = tf.keras.models.Sequential([\r\n",
        "                                    tf.keras.layers.Flatten(input_shape=(28,28)),\r\n",
        "                                    SimpleQuadratic(units=128,activation='relu'),\r\n",
        "                                    tf.keras.layers.Dropout(0.2),\r\n",
        "                                    tf.keras.layers.Dense(units=10,activation='softmax')\r\n",
        "])"
      ],
      "execution_count": null,
      "outputs": []
    },
    {
      "cell_type": "code",
      "metadata": {
        "colab": {
          "base_uri": "https://localhost:8080/"
        },
        "id": "RsrtyO3rJmeS",
        "outputId": "600d3470-8495-48f1-a4e8-0fa7e5ed5a69"
      },
      "source": [
        "model.compile(optimizer = 'adam',loss = 'sparse_categorical_crossentropy',metrics=['accuracy'])\r\n",
        "model.fit(x_train,y_train,epochs=5,verbose=0)\r\n",
        "model.evaluate(x_test,y_test)"
      ],
      "execution_count": null,
      "outputs": [
        {
          "output_type": "stream",
          "text": [
            "313/313 [==============================] - 0s 1ms/step - loss: 0.3499 - accuracy: 0.8723\n"
          ],
          "name": "stdout"
        },
        {
          "output_type": "execute_result",
          "data": {
            "text/plain": [
              "[0.3498782217502594, 0.8723000288009644]"
            ]
          },
          "metadata": {
            "tags": []
          },
          "execution_count": 100
        }
      ]
    },
    {
      "cell_type": "code",
      "metadata": {
        "id": "5hd3SE01N2Ct"
      },
      "source": [
        "input_1 = tf.keras.layers.Input(shape=[1],name='Wide_Input')\r\n",
        "input_2 = tf.keras.layers.Input(shape=[1],name='Deep_Input')\r\n",
        "first_dense = tf.keras.layers.Dense(30,activation='relu',name= 'dense')(input_2)\r\n",
        "second_dense= tf.keras.layers.Dense(30,activation='relu',name='dense_1')(first_dense)\r\n",
        "concat = tf.keras.layers.concatenate([second_dense,input_1],name='concatenate')\r\n",
        "output1 = tf.keras.layers.Dense(1,name='output')(concat)\r\n",
        "output_2= tf.keras.layers.Dense(1,name='aux_output')(second_dense)\r\n"
      ],
      "execution_count": null,
      "outputs": []
    },
    {
      "cell_type": "code",
      "metadata": {
        "id": "bYrxv3YiRAjl"
      },
      "source": [
        "model = tf.keras.models.Model(inputs =[input_1,input_2],outputs=[output1,output_2])"
      ],
      "execution_count": null,
      "outputs": []
    },
    {
      "cell_type": "code",
      "metadata": {
        "id": "hphI9c0WRJ21"
      },
      "source": [
        "from tensorflow.python.keras.utils.vis_utils import plot_model"
      ],
      "execution_count": null,
      "outputs": []
    },
    {
      "cell_type": "code",
      "metadata": {
        "colab": {
          "base_uri": "https://localhost:8080/",
          "height": 466
        },
        "id": "tnfYhRngRQ_8",
        "outputId": "851bdacc-a444-4cf3-d8c8-b45b53feb045"
      },
      "source": [
        "plot_model(model)"
      ],
      "execution_count": null,
      "outputs": [
        {
          "output_type": "execute_result",
          "data": {
            "image/png": "[encoded data removed]",
            "text/plain": [
              "<IPython.core.display.Image object>"
            ]
          },
          "metadata": {
            "tags": []
          },
          "execution_count": 104
        }
      ]
    },
    {
      "cell_type": "code",
      "metadata": {
        "id": "VVw1sP24RaKj"
      },
      "source": [
        "class myModel(tf.keras.models.Model):\r\n",
        "  def __init__(self,units=30,activation='relu',**kwargs):\r\n",
        "    super(myModel,self).__init__()\r\n",
        "    self.dense_1 = tf.keras.layers.Dense(units,activation=activation,name='dense_1')\r\n",
        "    self.dense_2 = tf.keras.layers.Dense(units,activation=activation,name='dense_1')\r\n",
        "    self.output_1 = tf.keras.layers.Dense(1,name='dense_3')\r\n",
        "    self.output_2 = tf.keras.layers.Dense(1,name='dense4')\r\n",
        "  def call(self,inputs):\r\n",
        "    input_a,input_b = inputs\r\n",
        "    dense_1 = self.dense_1(input_a)\r\n",
        "    dense_2 = self.dense_2(dense_1)\r\n",
        "    output_2 = self.output_2(dense_2)\r\n",
        "    concat = tf.keras.layers.concatenate([dense_2,input_b])\r\n",
        "    output_1 = self.output_1(concat)\r\n",
        "    return output_1,output2"
      ],
      "execution_count": null,
      "outputs": []
    },
    {
      "cell_type": "code",
      "metadata": {
        "id": "snppB-HGWPq3"
      },
      "source": [
        "model = myModel(unit=32,activation='relu')"
      ],
      "execution_count": null,
      "outputs": []
    },
    {
      "cell_type": "code",
      "metadata": {
        "colab": {
          "base_uri": "https://localhost:8080/",
          "height": 77
        },
        "id": "fIv-aV5kWYyu",
        "outputId": "1e479afb-88c8-4b7e-ee7f-0455fa36f20f"
      },
      "source": [
        "plot_model(model,show_layer_names=True,show_shapes=True)"
      ],
      "execution_count": null,
      "outputs": [
        {
          "output_type": "execute_result",
          "data": {
            "image/png": "[encoded data removed]",
            "text/plain": [
              "<IPython.core.display.Image object>"
            ]
          },
          "metadata": {
            "tags": []
          },
          "execution_count": 107
        }
      ]
    },
    {
      "cell_type": "code",
      "metadata": {
        "id": "qT7Yk4_bWaZh"
      },
      "source": [
        "import tensorflow as tf\r\n",
        "import tensorflow_datasets as tfds\r\n",
        "import numpy as np\r\n",
        "import pandas as pd\r\n",
        "from tensorflow.keras.layers import Layer"
      ],
      "execution_count": null,
      "outputs": []
    },
    {
      "cell_type": "code",
      "metadata": {
        "id": "m9t1H2S7ZGIu"
      },
      "source": [
        "class Identity_Block(tf.keras.models.Model):\r\n",
        "  def __init__(self,filters,kernel_size):\r\n",
        "    super(Identity_Block,self).__init__(name='')\r\n",
        "    self.conv1 = tf.keras.layers.Conv2D(filters=filters,kernel_size=kernel_size,padding='same')\r\n",
        "    self.bn1 = tf.keras.layers.BatchNormalization()\r\n",
        "    self.act = tf.keras.layers.Activation('relu')\r\n",
        "    self.add =tf.keras.layers.Add()\r\n",
        "    self.conv2 = tf.keras.layers.Conv2D(filters=filters,kernel_size=kernel_size,padding='same')\r\n",
        "    self.bn2= tf.keras.layers.BatchNormalization()\r\n",
        "  def call(self,input_tensor):\r\n",
        "    x= self.conv1(input_tensor)\r\n",
        "    x = self.bn1(x)\r\n",
        "    x=self.act(x)\r\n",
        "    x= self.conv2(x)\r\n",
        "    x=self.bn2(x)\r\n",
        "    x=self.act(x)\r\n",
        "    x=self.add([x,input_tensor])\r\n",
        "    x=self.act(x)\r\n",
        "    return x"
      ],
      "execution_count": null,
      "outputs": []
    },
    {
      "cell_type": "code",
      "metadata": {
        "id": "5mR8OCAsbo4h"
      },
      "source": [
        "class Resnet(tf.keras.models.Model):\r\n",
        "  def __init__(self,num_classes):\r\n",
        "    super(Resnet,self).__init__()\r\n",
        "    self.conv1 = tf.keras.layers.Conv2D(filters=64,kernel_size=7,padding='same')\r\n",
        "    self.bn1= tf.keras.layers.BatchNormalization()\r\n",
        "    self.act = tf.keras.layers.Activation('relu')\r\n",
        "    self.max_pool = tf.keras.layers.MaxPool2D((3,3))\r\n",
        "    self.gap = tf.keras.layers.GlobalAveragePooling2D()\r\n",
        "    self.id1a = Identity_Block(64,3)\r\n",
        "    self.id1b = Identity_Block(64,3)\r\n",
        "    self.classifier = tf.keras.layers.Dense(num_classes,activation='softmax')\r\n",
        "  def call(self,inputs):\r\n",
        "    x = self.conv1(inputs)\r\n",
        "    x= self.bn1(x)\r\n",
        "    x= self.act(x)\r\n",
        "    x= self.max_pool(x)\r\n",
        "    x = self.id1a(x)\r\n",
        "    x = self.id1b(x)\r\n",
        "    x = self.gap(x)\r\n",
        "    return self.classifier(x)"
      ],
      "execution_count": null,
      "outputs": []
    },
    {
      "cell_type": "code",
      "metadata": {
        "colab": {
          "base_uri": "https://localhost:8080/"
        },
        "id": "RWHrHys9fyh7",
        "outputId": "bcdec22e-5cac-4509-f496-401dd26d4232"
      },
      "source": [
        "def preprocess(features):\r\n",
        "  return tf.cast(features['image'],tf.float32)/255.0,features['label']\r\n",
        "resnet = Resnet(10)\r\n",
        "resnet.compile(optimizer='adam',loss='sparse_categorical_crossentropy',metrics=['accuracy'])\r\n",
        "dataset = tfds.load('mnist',split = tfds.Split.TRAIN,data_dir='./data')\r\n",
        "dataset = dataset.map(preprocess).batch(32)\r\n",
        "resnet.fit(dataset,epochs=1)"
      ],
      "execution_count": null,
      "outputs": [
        {
          "output_type": "stream",
          "text": [
            "1875/1875 [==============================] - 227s 120ms/step - loss: 0.3397 - accuracy: 0.9166\n"
          ],
          "name": "stdout"
        },
        {
          "output_type": "execute_result",
          "data": {
            "text/plain": [
              "<tensorflow.python.keras.callbacks.History at 0x7f47a68f26a0>"
            ]
          },
          "metadata": {
            "tags": []
          },
          "execution_count": 111
        }
      ]
    },
    {
      "cell_type": "code",
      "metadata": {
        "id": "YIiQct1dhQ-V"
      },
      "source": [
        "class Block(tf.keras.Model):\r\n",
        "  def __init__(self,filters,kernel_size,repetitions,pool_size=2,strides=2):\r\n",
        "    super(Block,self).__init__()\r\n",
        "    self.filters = filters\r\n",
        "    self.kernel_size=kernel_size\r\n",
        "    self.repetitions = repetitions\r\n",
        "    for i in range(repetitions):\r\n",
        "      vars(self)[f'conv2D_{i}'] = tf.keras.layers.Conv2D(filters=filters,kernel_size=kernel_size,padding ='same',activation='relu')\r\n",
        "    self.max_pool = tf.keras.layers.MaxPool2D(pool_size=(pool_size,pool_size),strides=(strides,strides))\r\n",
        "  def call(self,inputs):\r\n",
        "    conv2D_0 = vars(self)['conv2D_0']\r\n",
        "    x = conv2D_0(inputs)\r\n",
        "    for i in range(1,self.repetitions):\r\n",
        "      conv2D_i = vars(self)[f'conv2D_{i}']\r\n",
        "      x = conv2D_i(x)\r\n",
        "    max_pool = self.max_pool(x)\r\n",
        "    return max_pool      "
      ],
      "execution_count": null,
      "outputs": []
    },
    {
      "cell_type": "code",
      "metadata": {
        "id": "CQVbHMpQmVff"
      },
      "source": [
        "class CustomVGG(tf.keras.Model):\r\n",
        "  def __init__(self,num_classes):\r\n",
        "    super(CustomVGG,self).__init__()\r\n",
        "    self.block_a = Block(filters=64,kernel_size=3,repetitions=2)\r\n",
        "    self.block_b = Block(filters=128,kernel_size=3,repetitions=2)\r\n",
        "    self.block_c = Block(filters=256,kernel_size=3,repetitions=3)\r\n",
        "    self.block_d = Block(filters=512,kernel_size=3,repetitions=3)\r\n",
        "    self.block_e = Block(filters=512,kernel_size=3,repetitions=3)\r\n",
        "    self.flatten = tf.keras.layers.Flatten()\r\n",
        "    self.fc =tf.keras.layers.Dense(256,activation='relu')\r\n",
        "    self.classifier = tf.keras.layers.Dense(num_classes,activation='softmax')\r\n",
        "  def call(self,inputs):\r\n",
        "    x = self.block_a(inputs)\r\n",
        "    x = self.block_b(x)\r\n",
        "    x = self.block_c(x)\r\n",
        "    x = self.block_d(x)\r\n",
        "    x = self.block_e(x)\r\n",
        "    x = self.flatten(x)\r\n",
        "    x= self.fc(x)\r\n",
        "    x=self.classifier(x)\r\n",
        "    return x"
      ],
      "execution_count": null,
      "outputs": []
    },
    {
      "cell_type": "code",
      "metadata": {
        "colab": {
          "base_uri": "https://localhost:8080/"
        },
        "id": "c6HIF40c2ZZ1",
        "outputId": "b4c0e56d-c322-443a-8fd2-3e3de744b0ef"
      },
      "source": [
        "\r\n",
        "dataset = tfds.load('cats_vs_dogs', split=tfds.Split.TRAIN, data_dir='data/')\r\n",
        "\r\n",
        "# Initialize VGG with the number of classes \r\n",
        "vgg = CustomVGG(num_classes=2)\r\n",
        "\r\n",
        "# Compile with losses and metrics\r\n",
        "vgg.compile(optimizer='adam', loss='sparse_categorical_crossentropy', metrics=['accuracy'])\r\n",
        "\r\n",
        "# Define preprocessing function\r\n",
        "def preprocess(features):\r\n",
        "    # Resize and normalize\r\n",
        "    image = tf.image.resize(features['image'], (224, 224))\r\n",
        "    return tf.cast(image, tf.float32) / 255., features['label']\r\n",
        "\r\n",
        "# Apply transformations to dataset\r\n",
        "dataset = dataset.map(preprocess).batch(32)\r\n",
        "\r\n",
        "# Train the custom VGG model\r\n",
        "vgg.fit(dataset, epochs=10)"
      ],
      "execution_count": null,
      "outputs": [
        {
          "output_type": "stream",
          "text": [
            "Epoch 1/10\n",
            "727/727 [==============================] - 11418s 16s/step - loss: 0.6893 - accuracy: 0.5414\n",
            "Epoch 2/10\n",
            "192/727 [======>.......................] - ETA: 2:19:46 - loss: 0.6610 - accuracy: 0.6111"
          ],
          "name": "stdout"
        }
      ]
    },
    {
      "cell_type": "code",
      "metadata": {
        "id": "zo4eEWxJ3dbl"
      },
      "source": [
        ""
      ],
      "execution_count": null,
      "outputs": []
    }
  ]
}